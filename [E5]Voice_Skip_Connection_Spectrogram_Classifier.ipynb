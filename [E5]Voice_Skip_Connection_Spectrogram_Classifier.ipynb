{
 "cells": [
  {
   "cell_type": "markdown",
   "id": "drawn-nancy",
   "metadata": {},
   "source": [
    "### 루브릭 평가 문항\t상세 기준\n",
    "1. 음성 데이터를 2 차원 스펙트로 그램으로 변환하여 데이터 셋을 구성했습니다.\n",
    "   - 스펙트로 그램 구성 및 train / test 데이터 셋 구성이 정상 진행 예시.   \n",
    "\n",
    "---\n",
    "2. 1,2 차원 데이터를 처리하는 음성 인식 모델이 정상 작동한다.   \n",
    "   - 스펙트로 그램을 입력받은 모델이 학습 과정에서 안정적으로 수렴하며, 평가 / 테스트 단계를 무리없이 진행 가능하다.\n",
    "---\n",
    "3. 테스트 셋 수행 결과 음성 인식 모델의 정확도가 일정 수준에 도달했습니다.\n",
    "   - 평가 결과 75 % 이상의 존재한다."
   ]
  },
  {
   "cell_type": "code",
   "execution_count": 1,
   "id": "complex-seven",
   "metadata": {},
   "outputs": [
    {
     "name": "stdout",
     "output_type": "stream",
     "text": [
      "✅\n"
     ]
    }
   ],
   "source": [
    "import numpy as np\n",
    "import os\n",
    "\n",
    "data_path = os.getenv(\"HOME\")+'/aiffel/speech_recognition/data/speech_wav_8000.npz'\n",
    "speech_data = np.load(data_path)\n",
    "\n",
    "print(\"✅\")"
   ]
  },
  {
   "cell_type": "markdown",
   "id": "through-gnome",
   "metadata": {},
   "source": [
    "## 1. 2차원 Spectrogram 데이터를 처리하는 모델 구성"
   ]
  },
  {
   "cell_type": "code",
   "execution_count": 2,
   "id": "signed-spirit",
   "metadata": {},
   "outputs": [
    {
     "name": "stdout",
     "output_type": "stream",
     "text": [
      "✅\n"
     ]
    }
   ],
   "source": [
    "import librosa\n",
    "\n",
    "def wav2spec(wav, fft_size=258): # spectrogram shape을 맞추기위해서 size 변형\n",
    "    D = np.abs(librosa.stft(wav, n_fft=fft_size))\n",
    "    return D\n",
    "print(\"✅\")"
   ]
  },
  {
   "cell_type": "code",
   "execution_count": 3,
   "id": "detailed-agency",
   "metadata": {
    "scrolled": true
   },
   "outputs": [
    {
     "name": "stdout",
     "output_type": "stream",
     "text": [
      "Wave data shape :  (50620, 8000)\n",
      "✅\n"
     ]
    }
   ],
   "source": [
    "empty_list = []\n",
    "num=0\n",
    "print(\"Wave data shape : \", speech_data[\"wav_vals\"].shape)\n",
    "for i in speech_data[\"wav_vals\"] :\n",
    "    empty_list.append(wav2spec(i))\n",
    "specs = np.array(empty_list)    \n",
    "print(\"✅\")"
   ]
  },
  {
   "cell_type": "code",
   "execution_count": 4,
   "id": "colored-hobby",
   "metadata": {},
   "outputs": [
    {
     "name": "stdout",
     "output_type": "stream",
     "text": [
      "(50620, 130, 126)\n"
     ]
    }
   ],
   "source": [
    "print(specs.shape)"
   ]
  },
  {
   "cell_type": "markdown",
   "id": "formal-suspension",
   "metadata": {},
   "source": [
    "## 2. target list 구성"
   ]
  },
  {
   "cell_type": "code",
   "execution_count": 5,
   "id": "featured-apparel",
   "metadata": {},
   "outputs": [
    {
     "name": "stdout",
     "output_type": "stream",
     "text": [
      "LABEL :  ['yes', 'no', 'up', 'down', 'left', 'right', 'on', 'off', 'stop', 'go', 'unknown', 'silence']\n",
      "Indexed LABEL :  {'yes': 0, 'no': 1, 'up': 2, 'down': 3, 'left': 4, 'right': 5, 'on': 6, 'off': 7, 'stop': 8, 'go': 9, 'unknown': 10, 'silence': 11}\n"
     ]
    }
   ],
   "source": [
    "target_list = ['yes', 'no', 'up', 'down', 'left', 'right', 'on', 'off', 'stop', 'go']\n",
    "\n",
    "label_value = target_list\n",
    "label_value.append('unknown')\n",
    "label_value.append('silence')\n",
    "\n",
    "print('LABEL : ', label_value)\n",
    "\n",
    "new_label_value = dict()\n",
    "for i, l in enumerate(label_value):\n",
    "    new_label_value[l] = i\n",
    "label_value = new_label_value\n",
    "\n",
    "print('Indexed LABEL : ', new_label_value)"
   ]
  },
  {
   "cell_type": "code",
   "execution_count": 6,
   "id": "theoretical-washington",
   "metadata": {},
   "outputs": [
    {
     "data": {
      "text/plain": [
       "array([ 3,  3,  3, ..., 11, 11, 11])"
      ]
     },
     "execution_count": 6,
     "metadata": {},
     "output_type": "execute_result"
    }
   ],
   "source": [
    "temp = []\n",
    "for v in speech_data[\"label_vals\"]:\n",
    "    temp.append(label_value[v[0]])\n",
    "label_data = np.array(temp)\n",
    "\n",
    "label_data"
   ]
  },
  {
   "cell_type": "markdown",
   "id": "separate-accent",
   "metadata": {},
   "source": [
    "## 3. 데이터 처리와 분류\n",
    "### - 라벨 데이터 처리하기\n",
    "### - sklearn의 train_test_split함수를 이용하여 train, test 분리"
   ]
  },
  {
   "cell_type": "code",
   "execution_count": 7,
   "id": "deluxe-contributor",
   "metadata": {},
   "outputs": [
    {
     "name": "stdout",
     "output_type": "stream",
     "text": [
      "✅\n"
     ]
    }
   ],
   "source": [
    "from sklearn.model_selection import train_test_split\n",
    "\n",
    "\n",
    "train_wav, test_wav, train_label, test_label = train_test_split(specs, \n",
    "                                                                label_data, \n",
    "                                                                test_size=0.1,\n",
    "                                                                shuffle=True)\n",
    "\n",
    "\n",
    "train_wav = train_wav.reshape([-1, 130, 126, 1]) # add channel for CNN\n",
    "test_wav = test_wav.reshape([-1, 130, 126, 1])\n",
    "print(\"✅\")"
   ]
  },
  {
   "cell_type": "code",
   "execution_count": 8,
   "id": "prompt-eclipse",
   "metadata": {},
   "outputs": [
    {
     "name": "stdout",
     "output_type": "stream",
     "text": [
      "train data :  (45558, 130, 126, 1)\n",
      "train labels :  (45558,)\n",
      "test data :  (5062, 130, 126, 1)\n",
      "test labels :  (5062,)\n",
      "✅\n"
     ]
    }
   ],
   "source": [
    "print(\"train data : \", train_wav.shape)\n",
    "print(\"train labels : \", train_label.shape)\n",
    "print(\"test data : \", test_wav.shape)\n",
    "print(\"test labels : \", test_label.shape)\n",
    "print(\"✅\")"
   ]
  },
  {
   "cell_type": "markdown",
   "id": "inappropriate-milan",
   "metadata": {},
   "source": [
    "## 3. 학습을 위한 하이퍼 파라미터 설정"
   ]
  },
  {
   "cell_type": "code",
   "execution_count": 9,
   "id": "endless-potter",
   "metadata": {},
   "outputs": [
    {
     "data": {
      "text/plain": [
       "'/home/aiffel-dj17/aiffel/speech_recognition/models/wav'"
      ]
     },
     "execution_count": 9,
     "metadata": {},
     "output_type": "execute_result"
    }
   ],
   "source": [
    "batch_size = 32\n",
    "max_epochs = 10\n",
    "\n",
    "# the save point\n",
    "checkpoint_dir = os.getenv('HOME')+'/aiffel/speech_recognition/models/wav'\n",
    "\n",
    "checkpoint_dir"
   ]
  },
  {
   "cell_type": "markdown",
   "id": "decent-reward",
   "metadata": {},
   "source": [
    "## 4. 데이터셋 구성\n",
    "- from_tensor_slices 함수에 return 받길 원하는 데이터를 튜플 (data, label) 형태로 넣어서 사용\n",
    "- map과 batch를 이용한 데이터 전처리"
   ]
  },
  {
   "cell_type": "code",
   "execution_count": 10,
   "id": "rising-grounds",
   "metadata": {},
   "outputs": [
    {
     "name": "stdout",
     "output_type": "stream",
     "text": [
      "✅\n"
     ]
    }
   ],
   "source": [
    "def one_hot_label(wav, label):\n",
    "    label = tf.one_hot(label, depth=12)\n",
    "    return wav, label\n",
    "print(\"✅\")"
   ]
  },
  {
   "cell_type": "markdown",
   "id": "classical-archive",
   "metadata": {},
   "source": [
    "## 5. tf.data.Dataset 함수를 구성\n",
    "- batch는 dataset에서 제공하는 튜플 형태의 데이터를 얼마나 가져올지 결정하는 함수"
   ]
  },
  {
   "cell_type": "code",
   "execution_count": 11,
   "id": "allied-superintendent",
   "metadata": {},
   "outputs": [
    {
     "name": "stdout",
     "output_type": "stream",
     "text": [
      "<BatchDataset shapes: ((None, 130, 126, 1), (None, 12)), types: (tf.float32, tf.float32)>\n",
      "<BatchDataset shapes: ((None, 130, 126, 1), (None, 12)), types: (tf.float32, tf.float32)>\n",
      "✅\n"
     ]
    }
   ],
   "source": [
    "import tensorflow as tf\n",
    "\n",
    "# for train\n",
    "train_dataset = tf.data.Dataset.from_tensor_slices((train_wav, train_label))\n",
    "train_dataset = train_dataset.map(one_hot_label)\n",
    "train_dataset = train_dataset.repeat().batch(batch_size=batch_size)\n",
    "print(train_dataset)\n",
    "\n",
    "# for test\n",
    "test_dataset = tf.data.Dataset.from_tensor_slices((test_wav, test_label))\n",
    "test_dataset = test_dataset.map(one_hot_label)\n",
    "test_dataset = test_dataset.batch(batch_size=batch_size)\n",
    "print(test_dataset)\n",
    "print(\"✅\")"
   ]
  },
  {
   "cell_type": "markdown",
   "id": "asian-clock",
   "metadata": {},
   "source": [
    "## 6. 메모리 공간 확보하기"
   ]
  },
  {
   "cell_type": "code",
   "execution_count": 12,
   "id": "demonstrated-karaoke",
   "metadata": {},
   "outputs": [],
   "source": [
    "del specs"
   ]
  },
  {
   "cell_type": "code",
   "execution_count": 13,
   "id": "celtic-replacement",
   "metadata": {},
   "outputs": [],
   "source": [
    "del speech_data"
   ]
  },
  {
   "cell_type": "markdown",
   "id": "junior-champion",
   "metadata": {},
   "source": [
    "## 7. Wave classification 모델 구현\n",
    "- Conv2D 사용\n",
    "- Skip-connection 사용"
   ]
  },
  {
   "cell_type": "code",
   "execution_count": 14,
   "id": "fantastic-banking",
   "metadata": {},
   "outputs": [
    {
     "name": "stdout",
     "output_type": "stream",
     "text": [
      "Model: \"model\"\n",
      "__________________________________________________________________________________________________\n",
      "Layer (type)                    Output Shape         Param #     Connected to                     \n",
      "==================================================================================================\n",
      "input_1 (InputLayer)            [(None, 130, 126, 1) 0                                            \n",
      "__________________________________________________________________________________________________\n",
      "conv2d (Conv2D)                 (None, 130, 126, 32) 2624        input_1[0][0]                    \n",
      "__________________________________________________________________________________________________\n",
      "conv2d_1 (Conv2D)               (None, 130, 126, 32) 82976       conv2d[0][0]                     \n",
      "__________________________________________________________________________________________________\n",
      "max_pooling2d (MaxPooling2D)    (None, 65, 63, 32)   0           conv2d_1[0][0]                   \n",
      "__________________________________________________________________________________________________\n",
      "conv2d_2 (Conv2D)               (None, 65, 63, 64)   165952      max_pooling2d[0][0]              \n",
      "__________________________________________________________________________________________________\n",
      "conv2d_3 (Conv2D)               (None, 65, 63, 64)   331840      conv2d_2[0][0]                   \n",
      "__________________________________________________________________________________________________\n",
      "tf_op_layer_concat (TensorFlowO [(None, 65, 63, 96)] 0           conv2d_3[0][0]                   \n",
      "                                                                 max_pooling2d[0][0]              \n",
      "__________________________________________________________________________________________________\n",
      "max_pooling2d_1 (MaxPooling2D)  (None, 32, 31, 96)   0           tf_op_layer_concat[0][0]         \n",
      "__________________________________________________________________________________________________\n",
      "conv2d_4 (Conv2D)               (None, 32, 31, 128)  995456      max_pooling2d_1[0][0]            \n",
      "__________________________________________________________________________________________________\n",
      "conv2d_5 (Conv2D)               (None, 32, 31, 128)  1327232     conv2d_4[0][0]                   \n",
      "__________________________________________________________________________________________________\n",
      "conv2d_6 (Conv2D)               (None, 32, 31, 128)  1327232     conv2d_5[0][0]                   \n",
      "__________________________________________________________________________________________________\n",
      "tf_op_layer_concat_1 (TensorFlo [(None, 32, 31, 224) 0           conv2d_6[0][0]                   \n",
      "                                                                 max_pooling2d_1[0][0]            \n",
      "__________________________________________________________________________________________________\n",
      "max_pooling2d_2 (MaxPooling2D)  (None, 16, 15, 224)  0           tf_op_layer_concat_1[0][0]       \n",
      "__________________________________________________________________________________________________\n",
      "conv2d_7 (Conv2D)               (None, 16, 15, 256)  4645120     max_pooling2d_2[0][0]            \n",
      "__________________________________________________________________________________________________\n",
      "conv2d_8 (Conv2D)               (None, 16, 15, 256)  5308672     conv2d_7[0][0]                   \n",
      "__________________________________________________________________________________________________\n",
      "conv2d_9 (Conv2D)               (None, 16, 15, 256)  5308672     conv2d_8[0][0]                   \n",
      "__________________________________________________________________________________________________\n",
      "tf_op_layer_concat_2 (TensorFlo [(None, 16, 15, 480) 0           conv2d_9[0][0]                   \n",
      "                                                                 max_pooling2d_2[0][0]            \n",
      "__________________________________________________________________________________________________\n",
      "max_pooling2d_3 (MaxPooling2D)  (None, 8, 7, 480)    0           tf_op_layer_concat_2[0][0]       \n",
      "__________________________________________________________________________________________________\n",
      "dropout (Dropout)               (None, 8, 7, 480)    0           max_pooling2d_3[0][0]            \n",
      "__________________________________________________________________________________________________\n",
      "flatten (Flatten)               (None, 26880)        0           dropout[0][0]                    \n",
      "__________________________________________________________________________________________________\n",
      "dense (Dense)                   (None, 256)          6881536     flatten[0][0]                    \n",
      "__________________________________________________________________________________________________\n",
      "batch_normalization (BatchNorma (None, 256)          1024        dense[0][0]                      \n",
      "__________________________________________________________________________________________________\n",
      "activation (Activation)         (None, 256)          0           batch_normalization[0][0]        \n",
      "__________________________________________________________________________________________________\n",
      "dense_1 (Dense)                 (None, 12)           3084        activation[0][0]                 \n",
      "==================================================================================================\n",
      "Total params: 26,381,420\n",
      "Trainable params: 26,380,908\n",
      "Non-trainable params: 512\n",
      "__________________________________________________________________________________________________\n"
     ]
    }
   ],
   "source": [
    "from tensorflow.keras import layers\n",
    "input_tensor = layers.Input(shape=(130,126, 1))\n",
    "\n",
    "x = layers.Conv2D(32, 9, padding='same', activation='relu')(input_tensor)\n",
    "x = layers.Conv2D(32, 9, padding='same', activation='relu')(x)\n",
    "skip_1 = layers.MaxPool2D()(x)\n",
    "\n",
    "x = layers.Conv2D(64, 9, padding='same', activation='relu')(skip_1)\n",
    "x = layers.Conv2D(64, 9, padding='same', activation='relu')(x)\n",
    "x = tf.concat([x, skip_1], -1)\n",
    "skip_2 = layers.MaxPool2D()(x)\n",
    "\n",
    "x = layers.Conv2D(128, 9, padding='same', activation='relu')(skip_2)\n",
    "x = layers.Conv2D(128, 9, padding='same', activation='relu')(x)\n",
    "x = layers.Conv2D(128, 9, padding='same', activation='relu')(x)\n",
    "x = tf.concat([x, skip_2], -1)\n",
    "skip_3 = layers.MaxPool2D()(x)\n",
    "\n",
    "x = layers.Conv2D(256, 9, padding='same', activation='relu')(skip_3)\n",
    "x = layers.Conv2D(256, 9, padding='same', activation='relu')(x)\n",
    "x = layers.Conv2D(256, 9, padding='same', activation='relu')(x)\n",
    "x = tf.concat([x, skip_3], -1)\n",
    "x = layers.MaxPool2D()(x)\n",
    "x = layers.Dropout(0.3)(x)\n",
    "\n",
    "x = layers.Flatten()(x)\n",
    "x = layers.Dense(256)(x)\n",
    "x = layers.BatchNormalization()(x)\n",
    "x = layers.Activation('relu')(x)\n",
    "\n",
    "output_tensor = layers.Dense(12)(x)\n",
    "\n",
    "model_wav_skip = tf.keras.Model(input_tensor, output_tensor)\n",
    "\n",
    "model_wav_skip.summary()"
   ]
  },
  {
   "cell_type": "code",
   "execution_count": 15,
   "id": "trying-marine",
   "metadata": {},
   "outputs": [
    {
     "name": "stdout",
     "output_type": "stream",
     "text": [
      "✅\n"
     ]
    }
   ],
   "source": [
    "optimizer=tf.keras.optimizers.Adam(1e-4)\n",
    "model_wav_skip.compile(loss=tf.keras.losses.CategoricalCrossentropy(from_logits=True),\n",
    "             optimizer=optimizer,\n",
    "             metrics=['accuracy'])\n",
    "print(\"✅\")"
   ]
  },
  {
   "cell_type": "code",
   "execution_count": 16,
   "id": "numeric-postcard",
   "metadata": {},
   "outputs": [
    {
     "name": "stdout",
     "output_type": "stream",
     "text": [
      "✅\n"
     ]
    }
   ],
   "source": [
    "# the save point\n",
    "checkpoint_dir = os.getenv('HOME')+'/aiffel/speech_recognition/models/wav_skip'\n",
    "\n",
    "cp_callback = tf.keras.callbacks.ModelCheckpoint(checkpoint_dir,\n",
    "                                                 save_weights_only=True,\n",
    "                                                 monitor='val_loss',\n",
    "                                                 mode='auto',\n",
    "                                                 save_best_only=True,\n",
    "                                                 verbose=1)\n",
    "print(\"✅\")"
   ]
  },
  {
   "cell_type": "markdown",
   "id": "contemporary-corrections",
   "metadata": {},
   "source": [
    "## 8. 학습\n",
    "- 30분 정도 소요\n",
    "- 메모리 오류로 인해 튕길 위험 있음"
   ]
  },
  {
   "cell_type": "code",
   "execution_count": 17,
   "id": "essential-album",
   "metadata": {},
   "outputs": [
    {
     "name": "stdout",
     "output_type": "stream",
     "text": [
      "Epoch 1/10\n",
      "1423/1423 [==============================] - ETA: 0s - loss: 0.6954 - accuracy: 0.7720\n",
      "Epoch 00001: val_loss improved from inf to 0.27660, saving model to /home/aiffel-dj17/aiffel/speech_recognition/models/wav_skip\n",
      "1423/1423 [==============================] - 236s 166ms/step - loss: 0.6954 - accuracy: 0.7720 - val_loss: 0.2766 - val_accuracy: 0.9094\n",
      "Epoch 2/10\n",
      "1423/1423 [==============================] - ETA: 0s - loss: 0.2028 - accuracy: 0.9349\n",
      "Epoch 00002: val_loss improved from 0.27660 to 0.19225, saving model to /home/aiffel-dj17/aiffel/speech_recognition/models/wav_skip\n",
      "1423/1423 [==============================] - 238s 167ms/step - loss: 0.2028 - accuracy: 0.9349 - val_loss: 0.1923 - val_accuracy: 0.9389\n",
      "Epoch 3/10\n",
      "1423/1423 [==============================] - ETA: 0s - loss: 0.1332 - accuracy: 0.9576\n",
      "Epoch 00003: val_loss improved from 0.19225 to 0.12919, saving model to /home/aiffel-dj17/aiffel/speech_recognition/models/wav_skip\n",
      "1423/1423 [==============================] - 237s 167ms/step - loss: 0.1332 - accuracy: 0.9576 - val_loss: 0.1292 - val_accuracy: 0.9581\n",
      "Epoch 4/10\n",
      "1423/1423 [==============================] - ETA: 0s - loss: 0.1003 - accuracy: 0.9673\n",
      "Epoch 00004: val_loss improved from 0.12919 to 0.11345, saving model to /home/aiffel-dj17/aiffel/speech_recognition/models/wav_skip\n",
      "1423/1423 [==============================] - 237s 167ms/step - loss: 0.1003 - accuracy: 0.9673 - val_loss: 0.1135 - val_accuracy: 0.9634\n",
      "Epoch 5/10\n",
      "1423/1423 [==============================] - ETA: 0s - loss: 0.0841 - accuracy: 0.9722\n",
      "Epoch 00005: val_loss did not improve from 0.11345\n",
      "1423/1423 [==============================] - 235s 165ms/step - loss: 0.0841 - accuracy: 0.9722 - val_loss: 0.1274 - val_accuracy: 0.9614\n",
      "Epoch 6/10\n",
      "1423/1423 [==============================] - ETA: 0s - loss: 0.0725 - accuracy: 0.9752\n",
      "Epoch 00006: val_loss did not improve from 0.11345\n",
      "1423/1423 [==============================] - 236s 166ms/step - loss: 0.0725 - accuracy: 0.9752 - val_loss: 0.1360 - val_accuracy: 0.9535\n",
      "Epoch 7/10\n",
      "1423/1423 [==============================] - ETA: 0s - loss: 0.0656 - accuracy: 0.9783\n",
      "Epoch 00007: val_loss did not improve from 0.11345\n",
      "1423/1423 [==============================] - 237s 167ms/step - loss: 0.0656 - accuracy: 0.9783 - val_loss: 0.1201 - val_accuracy: 0.9624\n",
      "Epoch 8/10\n",
      "1423/1423 [==============================] - ETA: 0s - loss: 0.0579 - accuracy: 0.9807\n",
      "Epoch 00008: val_loss improved from 0.11345 to 0.09104, saving model to /home/aiffel-dj17/aiffel/speech_recognition/models/wav_skip\n",
      "1423/1423 [==============================] - 237s 167ms/step - loss: 0.0579 - accuracy: 0.9807 - val_loss: 0.0910 - val_accuracy: 0.9703\n",
      "Epoch 9/10\n",
      "1423/1423 [==============================] - ETA: 0s - loss: 0.0522 - accuracy: 0.9824\n",
      "Epoch 00009: val_loss did not improve from 0.09104\n",
      "1423/1423 [==============================] - 238s 167ms/step - loss: 0.0522 - accuracy: 0.9824 - val_loss: 0.0998 - val_accuracy: 0.9672\n",
      "Epoch 10/10\n",
      "1423/1423 [==============================] - ETA: 0s - loss: 0.0491 - accuracy: 0.9838\n",
      "Epoch 00010: val_loss did not improve from 0.09104\n",
      "1423/1423 [==============================] - 238s 167ms/step - loss: 0.0491 - accuracy: 0.9838 - val_loss: 0.1031 - val_accuracy: 0.9676\n",
      "✅\n"
     ]
    }
   ],
   "source": [
    "#30분 내외 소요\n",
    "history_wav_skip = model_wav_skip.fit(train_dataset, epochs=max_epochs,\n",
    "                    steps_per_epoch=len(train_wav) // batch_size,\n",
    "                    validation_data=test_dataset,\n",
    "                    validation_steps=len(test_wav) // batch_size,\n",
    "                    callbacks=[cp_callback]\n",
    "                    )\n",
    "print(\"✅\")"
   ]
  },
  {
   "cell_type": "markdown",
   "id": "boring-final",
   "metadata": {},
   "source": [
    "## 9. 학습 후, 학습이 어떻게 진행됐는지 그래프로 출력\n",
    "- Training and Validation loss, accuracy를 그래프로 표현"
   ]
  },
  {
   "cell_type": "code",
   "execution_count": 18,
   "id": "computational-drawing",
   "metadata": {},
   "outputs": [
    {
     "data": {
      "image/png": "[encoded data removed]",
      "text/plain": [
       "<Figure size 576x576 with 2 Axes>"
      ]
     },
     "metadata": {
      "needs_background": "light"
     },
     "output_type": "display_data"
    },
    {
     "name": "stdout",
     "output_type": "stream",
     "text": [
      "✅\n"
     ]
    }
   ],
   "source": [
    "import matplotlib.pyplot as plt\n",
    "\n",
    "acc = history_wav_skip.history['accuracy']\n",
    "val_acc = history_wav_skip.history['val_accuracy']\n",
    "\n",
    "loss=history_wav_skip.history['loss']\n",
    "val_loss=history_wav_skip.history['val_loss']\n",
    "\n",
    "epochs_range = range(len(acc))\n",
    "\n",
    "plt.figure(figsize=(8, 8))\n",
    "plt.subplot(1, 2, 1)\n",
    "plt.plot(epochs_range, acc, label='Training Accuracy')\n",
    "plt.plot(epochs_range, val_acc, label='Validation Accuracy')\n",
    "plt.legend(loc='lower right')\n",
    "plt.title('Training and Validation Accuracy')\n",
    "\n",
    "plt.subplot(1, 2, 2)\n",
    "plt.plot(epochs_range, loss, label='Training Loss')\n",
    "plt.plot(epochs_range, val_loss, label='Validation Loss')\n",
    "plt.legend(loc='upper right')\n",
    "plt.title('Training and Validation Loss')\n",
    "plt.show()\n",
    "print(\"✅\")"
   ]
  },
  {
   "cell_type": "markdown",
   "id": "continental-parcel",
   "metadata": {},
   "source": [
    "## 10. Test dataset을 이용해서 모델의 성능을 평가\n",
    "- 저장한 weight 불러오기\n",
    "- 모델의 예측값과 정답값이 얼마나 일치하는지 확인\n",
    "- accuracy value : 97.0367%\n",
    "- loss value : 0.091"
   ]
  },
  {
   "cell_type": "code",
   "execution_count": 19,
   "id": "adjacent-assignment",
   "metadata": {},
   "outputs": [
    {
     "name": "stdout",
     "output_type": "stream",
     "text": [
      "159/159 [==============================] - 27s 169ms/step - loss: 0.0909 - accuracy: 0.9704\n",
      "loss value: 0.091\n",
      "accuracy value: 97.0367%\n",
      "✅\n"
     ]
    }
   ],
   "source": [
    "# Evaluation \n",
    "\n",
    "model_wav_skip.load_weights(checkpoint_dir)\n",
    "results = model_wav_skip.evaluate(test_dataset)\n",
    "\n",
    "# loss\n",
    "print(\"loss value: {:.3f}\".format(results[0]))\n",
    "# accuracy\n",
    "print(\"accuracy value: {:.4f}%\".format(results[1]*100))\n",
    "print(\"✅\")"
   ]
  },
  {
   "cell_type": "code",
   "execution_count": 20,
   "id": "latest-manual",
   "metadata": {},
   "outputs": [
    {
     "name": "stdout",
     "output_type": "stream",
     "text": [
      "label :  no\n"
     ]
    }
   ],
   "source": [
    "# Test \n",
    "\n",
    "inv_label_value = {v: k for k, v in label_value.items()}\n",
    "batch_index = np.random.choice(len(test_wav), size=1, replace=False)\n",
    "\n",
    "batch_xs = test_wav[batch_index]\n",
    "batch_ys = test_label[batch_index]\n",
    "y_pred_ = model_wav_skip(batch_xs, training=False)\n",
    "\n",
    "print(\"label : \", str(inv_label_value[batch_ys[0]]))\n",
    "\n",
    "#ipd.Audio(batch_xs.reshape(8000,), rate=8000)"
   ]
  },
  {
   "cell_type": "code",
   "execution_count": 21,
   "id": "searching-central",
   "metadata": {},
   "outputs": [
    {
     "name": "stdout",
     "output_type": "stream",
     "text": [
      "y_pred: no(Correct!)\n",
      "✅\n"
     ]
    }
   ],
   "source": [
    "if np.argmax(y_pred_) == batch_ys[0]:\n",
    "    print(\"y_pred: \" + str(inv_label_value[np.argmax(y_pred_)]) + '(Correct!)')\n",
    "else:\n",
    "    print(\"y_pred: \" + str(inv_label_value[np.argmax(y_pred_)]) + '(Incorrect!)')\n",
    "print(\"✅\")"
   ]
  },
  {
   "cell_type": "markdown",
   "id": "affiliated-september",
   "metadata": {},
   "source": [
    "## 마치며...\n",
    "---\n",
    "메모리 부족으로 자꾸 튕기는 일이 많아서 힘들었다. 그래도 2차원으로 변환하는 곳을 바꾸고 batch_size를 낮춰서 테스트하고 재부팅 하고 했더니 다행히 안튕기고 돌아갔다. 돌려놓고 잤는데 일어나서 결과가 나와있으니 행복했다. 그래서 다시 batch_size 올리고 실행해도 잘 돌아가서 다행이었다.\n",
    "\n",
    "---"
   ]
  },
  {
   "cell_type": "markdown",
   "id": "dressed-domestic",
   "metadata": {},
   "source": [
    "### 루브릭 평가 문항\t상세 기준\n",
    "---\n",
    "1. 음성 데이터를 2차원 스펙트로그램으로 변환하여 데이터 셋을 구성했습니다.\n",
    "   - 스펙트로 그램 구성 및 train / test 데이터 셋 구성이 정상 진행 예시.   \n",
    "   ---\n",
    "   - 2차원 스펙트로그램으로 변환하는 과정을 처음에는 [E1]rock_sissor_paper_classifier에 나오는 np.zeros를 생성한 후 np.reshape하는 과정으로 하고 split 함수를 이용하여 train, test 데이터셋을 구성했는데, model.fit 하는 과정에서 자꾸 메모리 문제로 튕겼다. 그래서 list.append로 바꾸고 batch_size를 조절했더니 메모리 문제가 해결되었다.\n",
    "---\n",
    "2. 1,2 차원 데이터를 처리하는 음성 인식 모델이 정상 작동한다.   \n",
    "   - 스펙트로 그램을 입력받은 모델이 학습 과정에서 안정적으로 수렴하며, 평가 / 테스트 단계를 무리없이 진행 가능하다.\n",
    "   ---\n",
    "   - Training and Validation loss, accuracy를 그래프로 출력한 결과 안정적인 모습을 보였으며, 오류가 발생하지 않았다.\n",
    "---\n",
    "3. 테스트 셋 수행 결과 음성 인식 모델의 정확도가 일정 수준에 도달했습니다.\n",
    "   - 평가 결과 75 % 이상의 존재한다.\n",
    "   ---\n",
    "   - 정확도 약 97% 달성했다. "
   ]
  },
  {
   "cell_type": "code",
   "execution_count": null,
   "id": "boolean-factor",
   "metadata": {},
   "outputs": [],
   "source": []
  }
 ],
 "metadata": {
  "kernelspec": {
   "display_name": "aiffel",
   "language": "python",
   "name": "aiffel"
  },
  "language_info": {
   "codemirror_mode": {
    "name": "ipython",
    "version": 3
   },
   "file_extension": ".py",
   "mimetype": "text/x-python",
   "name": "python",
   "nbconvert_exporter": "python",
   "pygments_lexer": "ipython3",
   "version": "3.7.9"
  }
 },
 "nbformat": 4,
 "nbformat_minor": 5
}
