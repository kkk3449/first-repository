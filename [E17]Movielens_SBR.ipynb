{
 "cells": [
  {
   "cell_type": "markdown",
   "id": "trained-inclusion",
   "metadata": {},
   "source": [
    "# Movielens 영화 SBR"
   ]
  },
  {
   "cell_type": "markdown",
   "id": "stuck-walter",
   "metadata": {},
   "source": [
    "* Movielens 1M Dataset을 기반으로, Session based Recommendation 시스템을 제작\n",
    "* ratings.dat에 있는 'UserId', 'ItemId', 'Time' 칼럼만 사용"
   ]
  },
  {
   "cell_type": "markdown",
   "id": "mexican-portugal",
   "metadata": {},
   "source": [
    "## Model\n",
    "## 중요 라이브러리 import"
   ]
  },
  {
   "cell_type": "code",
   "execution_count": 1,
   "id": "executive-conflict",
   "metadata": {},
   "outputs": [],
   "source": [
    "import datetime as dt\n",
    "from pathlib import Path\n",
    "import os\n",
    "\n",
    "import numpy as np\n",
    "import pandas as pd\n",
    "import warnings\n",
    "warnings.filterwarnings('ignore')"
   ]
  },
  {
   "cell_type": "markdown",
   "id": "presidential-lambda",
   "metadata": {},
   "source": [
    "### data load"
   ]
  },
  {
   "cell_type": "code",
   "execution_count": 2,
   "id": "appropriate-allah",
   "metadata": {},
   "outputs": [],
   "source": [
    "data_path = Path(os.getenv('HOME')+'/aiffel/yoochoose-data/ml-1m') \n",
    "train_path = data_path / 'ratings.dat'"
   ]
  },
  {
   "cell_type": "code",
   "execution_count": 3,
   "id": "theoretical-hierarchy",
   "metadata": {},
   "outputs": [],
   "source": [
    "def load_data(data_path: Path, nrows=None):\n",
    "    data = pd.read_csv(data_path, sep='::', header=None, usecols=[0, 1, 2, 3], dtype={0: np.int32, 1: np.int32, 2: np.int32}, nrows=nrows)\n",
    "    data.columns = ['UserId', 'ItemId', 'Rating', 'Time']\n",
    "    return data"
   ]
  },
  {
   "cell_type": "markdown",
   "id": "particular-accident",
   "metadata": {},
   "source": [
    "### data 분석\n",
    "* Time 항목에는 UTC time 가 포함되어, 1970년 1월 1일부터 경과된 초단위 시간이 기재되어 있다.\n",
    "* Rating 은 일단 제외하도록 한다.\n",
    "* userid는 영화 관람객 아이디이고 itemid는 영화 아이디이다.\n",
    "* rating은 관람객이 영화에 별점을 준 수치이다.\n",
    "* userid를 시간 순으로 정렬한다."
   ]
  },
  {
   "cell_type": "code",
   "execution_count": 4,
   "id": "alleged-ancient",
   "metadata": {
    "scrolled": true
   },
   "outputs": [
    {
     "data": {
      "text/html": [
       "<div>\n",
       "<style scoped>\n",
       "    .dataframe tbody tr th:only-of-type {\n",
       "        vertical-align: middle;\n",
       "    }\n",
       "\n",
       "    .dataframe tbody tr th {\n",
       "        vertical-align: top;\n",
       "    }\n",
       "\n",
       "    .dataframe thead th {\n",
       "        text-align: right;\n",
       "    }\n",
       "</style>\n",
       "<table border=\"1\" class=\"dataframe\">\n",
       "  <thead>\n",
       "    <tr style=\"text-align: right;\">\n",
       "      <th></th>\n",
       "      <th>UserId</th>\n",
       "      <th>ItemId</th>\n",
       "      <th>Rating</th>\n",
       "      <th>Time</th>\n",
       "    </tr>\n",
       "  </thead>\n",
       "  <tbody>\n",
       "    <tr>\n",
       "      <th>31</th>\n",
       "      <td>1</td>\n",
       "      <td>3186</td>\n",
       "      <td>4</td>\n",
       "      <td>978300019</td>\n",
       "    </tr>\n",
       "    <tr>\n",
       "      <th>22</th>\n",
       "      <td>1</td>\n",
       "      <td>1270</td>\n",
       "      <td>5</td>\n",
       "      <td>978300055</td>\n",
       "    </tr>\n",
       "    <tr>\n",
       "      <th>27</th>\n",
       "      <td>1</td>\n",
       "      <td>1721</td>\n",
       "      <td>4</td>\n",
       "      <td>978300055</td>\n",
       "    </tr>\n",
       "    <tr>\n",
       "      <th>37</th>\n",
       "      <td>1</td>\n",
       "      <td>1022</td>\n",
       "      <td>5</td>\n",
       "      <td>978300055</td>\n",
       "    </tr>\n",
       "    <tr>\n",
       "      <th>24</th>\n",
       "      <td>1</td>\n",
       "      <td>2340</td>\n",
       "      <td>3</td>\n",
       "      <td>978300103</td>\n",
       "    </tr>\n",
       "    <tr>\n",
       "      <th>...</th>\n",
       "      <td>...</td>\n",
       "      <td>...</td>\n",
       "      <td>...</td>\n",
       "      <td>...</td>\n",
       "    </tr>\n",
       "    <tr>\n",
       "      <th>1000019</th>\n",
       "      <td>6040</td>\n",
       "      <td>2917</td>\n",
       "      <td>4</td>\n",
       "      <td>997454429</td>\n",
       "    </tr>\n",
       "    <tr>\n",
       "      <th>999988</th>\n",
       "      <td>6040</td>\n",
       "      <td>1921</td>\n",
       "      <td>4</td>\n",
       "      <td>997454464</td>\n",
       "    </tr>\n",
       "    <tr>\n",
       "      <th>1000172</th>\n",
       "      <td>6040</td>\n",
       "      <td>1784</td>\n",
       "      <td>3</td>\n",
       "      <td>997454464</td>\n",
       "    </tr>\n",
       "    <tr>\n",
       "      <th>1000167</th>\n",
       "      <td>6040</td>\n",
       "      <td>161</td>\n",
       "      <td>3</td>\n",
       "      <td>997454486</td>\n",
       "    </tr>\n",
       "    <tr>\n",
       "      <th>1000042</th>\n",
       "      <td>6040</td>\n",
       "      <td>1221</td>\n",
       "      <td>4</td>\n",
       "      <td>998315055</td>\n",
       "    </tr>\n",
       "  </tbody>\n",
       "</table>\n",
       "<p>1000209 rows × 4 columns</p>\n",
       "</div>"
      ],
      "text/plain": [
       "         UserId  ItemId  Rating       Time\n",
       "31            1    3186       4  978300019\n",
       "22            1    1270       5  978300055\n",
       "27            1    1721       4  978300055\n",
       "37            1    1022       5  978300055\n",
       "24            1    2340       3  978300103\n",
       "...         ...     ...     ...        ...\n",
       "1000019    6040    2917       4  997454429\n",
       "999988     6040    1921       4  997454464\n",
       "1000172    6040    1784       3  997454464\n",
       "1000167    6040     161       3  997454486\n",
       "1000042    6040    1221       4  998315055\n",
       "\n",
       "[1000209 rows x 4 columns]"
      ]
     },
     "execution_count": 4,
     "metadata": {},
     "output_type": "execute_result"
    }
   ],
   "source": [
    "data = load_data(train_path, None)\n",
    "data.sort_values(['UserId', 'Time'], inplace=True)  # data를 id와 시간 순서로 정렬해줍니다.\n",
    "data"
   ]
  },
  {
   "cell_type": "code",
   "execution_count": 5,
   "id": "breathing-external",
   "metadata": {},
   "outputs": [
    {
     "data": {
      "text/html": [
       "<div>\n",
       "<style scoped>\n",
       "    .dataframe tbody tr th:only-of-type {\n",
       "        vertical-align: middle;\n",
       "    }\n",
       "\n",
       "    .dataframe tbody tr th {\n",
       "        vertical-align: top;\n",
       "    }\n",
       "\n",
       "    .dataframe thead th {\n",
       "        text-align: right;\n",
       "    }\n",
       "</style>\n",
       "<table border=\"1\" class=\"dataframe\">\n",
       "  <thead>\n",
       "    <tr style=\"text-align: right;\">\n",
       "      <th></th>\n",
       "      <th>UserId</th>\n",
       "      <th>ItemId</th>\n",
       "      <th>Time</th>\n",
       "    </tr>\n",
       "  </thead>\n",
       "  <tbody>\n",
       "    <tr>\n",
       "      <th>31</th>\n",
       "      <td>1</td>\n",
       "      <td>3186</td>\n",
       "      <td>978300019</td>\n",
       "    </tr>\n",
       "    <tr>\n",
       "      <th>22</th>\n",
       "      <td>1</td>\n",
       "      <td>1270</td>\n",
       "      <td>978300055</td>\n",
       "    </tr>\n",
       "    <tr>\n",
       "      <th>27</th>\n",
       "      <td>1</td>\n",
       "      <td>1721</td>\n",
       "      <td>978300055</td>\n",
       "    </tr>\n",
       "    <tr>\n",
       "      <th>37</th>\n",
       "      <td>1</td>\n",
       "      <td>1022</td>\n",
       "      <td>978300055</td>\n",
       "    </tr>\n",
       "    <tr>\n",
       "      <th>24</th>\n",
       "      <td>1</td>\n",
       "      <td>2340</td>\n",
       "      <td>978300103</td>\n",
       "    </tr>\n",
       "    <tr>\n",
       "      <th>...</th>\n",
       "      <td>...</td>\n",
       "      <td>...</td>\n",
       "      <td>...</td>\n",
       "    </tr>\n",
       "    <tr>\n",
       "      <th>1000019</th>\n",
       "      <td>6040</td>\n",
       "      <td>2917</td>\n",
       "      <td>997454429</td>\n",
       "    </tr>\n",
       "    <tr>\n",
       "      <th>999988</th>\n",
       "      <td>6040</td>\n",
       "      <td>1921</td>\n",
       "      <td>997454464</td>\n",
       "    </tr>\n",
       "    <tr>\n",
       "      <th>1000172</th>\n",
       "      <td>6040</td>\n",
       "      <td>1784</td>\n",
       "      <td>997454464</td>\n",
       "    </tr>\n",
       "    <tr>\n",
       "      <th>1000167</th>\n",
       "      <td>6040</td>\n",
       "      <td>161</td>\n",
       "      <td>997454486</td>\n",
       "    </tr>\n",
       "    <tr>\n",
       "      <th>1000042</th>\n",
       "      <td>6040</td>\n",
       "      <td>1221</td>\n",
       "      <td>998315055</td>\n",
       "    </tr>\n",
       "  </tbody>\n",
       "</table>\n",
       "<p>1000209 rows × 3 columns</p>\n",
       "</div>"
      ],
      "text/plain": [
       "         UserId  ItemId       Time\n",
       "31            1    3186  978300019\n",
       "22            1    1270  978300055\n",
       "27            1    1721  978300055\n",
       "37            1    1022  978300055\n",
       "24            1    2340  978300103\n",
       "...         ...     ...        ...\n",
       "1000019    6040    2917  997454429\n",
       "999988     6040    1921  997454464\n",
       "1000172    6040    1784  997454464\n",
       "1000167    6040     161  997454486\n",
       "1000042    6040    1221  998315055\n",
       "\n",
       "[1000209 rows x 3 columns]"
      ]
     },
     "execution_count": 5,
     "metadata": {},
     "output_type": "execute_result"
    }
   ],
   "source": [
    "data = data.drop('Rating', axis=1)\n",
    "data"
   ]
  },
  {
   "cell_type": "markdown",
   "id": "tender-kernel",
   "metadata": {},
   "source": [
    "### 데이터의 유니크한 갯수 확인하기"
   ]
  },
  {
   "cell_type": "code",
   "execution_count": 6,
   "id": "guided-teens",
   "metadata": {},
   "outputs": [
    {
     "data": {
      "text/plain": [
       "(6040, 3706)"
      ]
     },
     "execution_count": 6,
     "metadata": {},
     "output_type": "execute_result"
    }
   ],
   "source": [
    "data['UserId'].nunique(), data['ItemId'].nunique()"
   ]
  },
  {
   "cell_type": "markdown",
   "id": "sophisticated-protein",
   "metadata": {},
   "source": [
    "* UserId의 숫자가 6040개, 아이템 숫자는 3706개 이다."
   ]
  },
  {
   "cell_type": "markdown",
   "id": "fabulous-racing",
   "metadata": {},
   "source": [
    "* UserId가 세션의 역할을 한다."
   ]
  },
  {
   "cell_type": "markdown",
   "id": "grand-garage",
   "metadata": {},
   "source": [
    "## Session Length\n",
    "* session_length란 해당 영화 관람객이 그 동안 몇번의 영화후기를 남겼는지의 의미가 된다."
   ]
  },
  {
   "cell_type": "code",
   "execution_count": 7,
   "id": "copyrighted-partition",
   "metadata": {},
   "outputs": [
    {
     "data": {
      "text/plain": [
       "UserId\n",
       "1        53\n",
       "2       129\n",
       "3        51\n",
       "4        21\n",
       "5       198\n",
       "       ... \n",
       "6036    888\n",
       "6037    202\n",
       "6038     20\n",
       "6039    123\n",
       "6040    341\n",
       "Length: 6040, dtype: int64"
      ]
     },
     "execution_count": 7,
     "metadata": {},
     "output_type": "execute_result"
    }
   ],
   "source": [
    "session_length = data.groupby('UserId').size()\n",
    "session_length"
   ]
  },
  {
   "cell_type": "markdown",
   "id": "trained-valley",
   "metadata": {},
   "source": [
    "* 중간값, 평균 출력"
   ]
  },
  {
   "cell_type": "code",
   "execution_count": 8,
   "id": "suspected-legislature",
   "metadata": {},
   "outputs": [
    {
     "data": {
      "text/plain": [
       "(96.0, 165.5975165562914)"
      ]
     },
     "execution_count": 8,
     "metadata": {},
     "output_type": "execute_result"
    }
   ],
   "source": [
    "session_length.median(), session_length.mean()"
   ]
  },
  {
   "cell_type": "code",
   "execution_count": 9,
   "id": "empty-business",
   "metadata": {},
   "outputs": [
    {
     "data": {
      "text/plain": [
       "(20, 2314)"
      ]
     },
     "execution_count": 9,
     "metadata": {},
     "output_type": "execute_result"
    }
   ],
   "source": [
    "session_length.min(), session_length.max()"
   ]
  },
  {
   "cell_type": "code",
   "execution_count": 10,
   "id": "necessary-plumbing",
   "metadata": {},
   "outputs": [
    {
     "data": {
      "text/plain": [
       "1343.181000000005"
      ]
     },
     "execution_count": 10,
     "metadata": {},
     "output_type": "execute_result"
    }
   ],
   "source": [
    "session_length.quantile(0.999)"
   ]
  },
  {
   "cell_type": "markdown",
   "id": "exact-symbol",
   "metadata": {},
   "source": [
    "### 데이터 시각화\n",
    "* 2314라는 값은 너무 큰 값이므로 한번 확인해보기로 했다."
   ]
  },
  {
   "cell_type": "code",
   "execution_count": 11,
   "id": "elementary-modern",
   "metadata": {},
   "outputs": [
    {
     "data": {
      "text/html": [
       "<div>\n",
       "<style scoped>\n",
       "    .dataframe tbody tr th:only-of-type {\n",
       "        vertical-align: middle;\n",
       "    }\n",
       "\n",
       "    .dataframe tbody tr th {\n",
       "        vertical-align: top;\n",
       "    }\n",
       "\n",
       "    .dataframe thead th {\n",
       "        text-align: right;\n",
       "    }\n",
       "</style>\n",
       "<table border=\"1\" class=\"dataframe\">\n",
       "  <thead>\n",
       "    <tr style=\"text-align: right;\">\n",
       "      <th></th>\n",
       "      <th>UserId</th>\n",
       "      <th>ItemId</th>\n",
       "      <th>Time</th>\n",
       "    </tr>\n",
       "  </thead>\n",
       "  <tbody>\n",
       "    <tr>\n",
       "      <th>696969</th>\n",
       "      <td>4169</td>\n",
       "      <td>1268</td>\n",
       "      <td>965333392</td>\n",
       "    </tr>\n",
       "    <tr>\n",
       "      <th>697168</th>\n",
       "      <td>4169</td>\n",
       "      <td>2617</td>\n",
       "      <td>965333392</td>\n",
       "    </tr>\n",
       "    <tr>\n",
       "      <th>697185</th>\n",
       "      <td>4169</td>\n",
       "      <td>2628</td>\n",
       "      <td>965333392</td>\n",
       "    </tr>\n",
       "    <tr>\n",
       "      <th>697219</th>\n",
       "      <td>4169</td>\n",
       "      <td>2653</td>\n",
       "      <td>965333392</td>\n",
       "    </tr>\n",
       "    <tr>\n",
       "      <th>697275</th>\n",
       "      <td>4169</td>\n",
       "      <td>423</td>\n",
       "      <td>965333392</td>\n",
       "    </tr>\n",
       "    <tr>\n",
       "      <th>...</th>\n",
       "      <td>...</td>\n",
       "      <td>...</td>\n",
       "      <td>...</td>\n",
       "    </tr>\n",
       "    <tr>\n",
       "      <th>697882</th>\n",
       "      <td>4169</td>\n",
       "      <td>3754</td>\n",
       "      <td>1024174347</td>\n",
       "    </tr>\n",
       "    <tr>\n",
       "      <th>695702</th>\n",
       "      <td>4169</td>\n",
       "      <td>1413</td>\n",
       "      <td>1024175031</td>\n",
       "    </tr>\n",
       "    <tr>\n",
       "      <th>697358</th>\n",
       "      <td>4169</td>\n",
       "      <td>494</td>\n",
       "      <td>1024175760</td>\n",
       "    </tr>\n",
       "    <tr>\n",
       "      <th>695945</th>\n",
       "      <td>4169</td>\n",
       "      <td>1804</td>\n",
       "      <td>1024175783</td>\n",
       "    </tr>\n",
       "    <tr>\n",
       "      <th>696446</th>\n",
       "      <td>4169</td>\n",
       "      <td>1548</td>\n",
       "      <td>1024176337</td>\n",
       "    </tr>\n",
       "  </tbody>\n",
       "</table>\n",
       "<p>2314 rows × 3 columns</p>\n",
       "</div>"
      ],
      "text/plain": [
       "        UserId  ItemId        Time\n",
       "696969    4169    1268   965333392\n",
       "697168    4169    2617   965333392\n",
       "697185    4169    2628   965333392\n",
       "697219    4169    2653   965333392\n",
       "697275    4169     423   965333392\n",
       "...        ...     ...         ...\n",
       "697882    4169    3754  1024174347\n",
       "695702    4169    1413  1024175031\n",
       "697358    4169     494  1024175760\n",
       "695945    4169    1804  1024175783\n",
       "696446    4169    1548  1024176337\n",
       "\n",
       "[2314 rows x 3 columns]"
      ]
     },
     "execution_count": 11,
     "metadata": {},
     "output_type": "execute_result"
    }
   ],
   "source": [
    "long_session = session_length[session_length==2314].index[0]\n",
    "data[data['UserId']==long_session]"
   ]
  },
  {
   "cell_type": "code",
   "execution_count": 12,
   "id": "amazing-weekly",
   "metadata": {},
   "outputs": [
    {
     "data": {
      "text/plain": [
       "20      0.014238\n",
       "21      0.029305\n",
       "22      0.042053\n",
       "23      0.055464\n",
       "24      0.068874\n",
       "          ...   \n",
       "1271    0.998179\n",
       "1277    0.998344\n",
       "1286    0.998510\n",
       "1302    0.998675\n",
       "1323    0.998841\n",
       "Length: 736, dtype: float64"
      ]
     },
     "execution_count": 12,
     "metadata": {},
     "output_type": "execute_result"
    }
   ],
   "source": [
    "length_count = session_length.groupby(session_length).size()\n",
    "length_percent_cumsum = length_count.cumsum() / length_count.sum()\n",
    "length_percent_cumsum_999 = length_percent_cumsum[length_percent_cumsum < 0.999]\n",
    "\n",
    "length_percent_cumsum_999"
   ]
  },
  {
   "cell_type": "code",
   "execution_count": 13,
   "id": "distinct-vietnamese",
   "metadata": {},
   "outputs": [
    {
     "data": {
      "image/png": "[encoded data removed]",
      "text/plain": [
       "<Figure size 1440x720 with 1 Axes>"
      ]
     },
     "metadata": {
      "needs_background": "light"
     },
     "output_type": "display_data"
    }
   ],
   "source": [
    "import matplotlib.pyplot as plt\n",
    "\n",
    "plt.figure(figsize=(20, 10))\n",
    "plt.bar(x=length_percent_cumsum_999.index,\n",
    "        height=length_percent_cumsum_999, color='red')\n",
    "plt.xticks(length_percent_cumsum_999.index)\n",
    "plt.yticks(np.arange(0, 1.01, 0.05))\n",
    "plt.title('Cumsum Percentage Until 0.999', size=20)\n",
    "plt.show()"
   ]
  },
  {
   "cell_type": "markdown",
   "id": "executed-liquid",
   "metadata": {},
   "source": [
    "## Session Time\n",
    "* 이 숫자가 대략 언제쯤을 나타내는지 확인하기로 했다.\n",
    "* 초, 분 일, 년 단위로 나눠주었다."
   ]
  },
  {
   "cell_type": "code",
   "execution_count": 14,
   "id": "primary-bible",
   "metadata": {},
   "outputs": [
    {
     "name": "stdout",
     "output_type": "stream",
     "text": [
      "956703932\n",
      "1046454590\n"
     ]
    }
   ],
   "source": [
    "oldest, latest = data['Time'].min(), data['Time'].max()\n",
    "print(oldest) \n",
    "print(latest)"
   ]
  },
  {
   "cell_type": "code",
   "execution_count": 15,
   "id": "prepared-independence",
   "metadata": {},
   "outputs": [
    {
     "data": {
      "text/plain": [
       "(15945065, 17440909)"
      ]
     },
     "execution_count": 15,
     "metadata": {},
     "output_type": "execute_result"
    }
   ],
   "source": [
    "# 분단위\n",
    "data['Time'].min()//60, data['Time'].max()//60 "
   ]
  },
  {
   "cell_type": "code",
   "execution_count": 16,
   "id": "precise-engine",
   "metadata": {},
   "outputs": [
    {
     "data": {
      "text/plain": [
       "(30, 33)"
      ]
     },
     "execution_count": 16,
     "metadata": {},
     "output_type": "execute_result"
    }
   ],
   "source": [
    "# 년단위\n",
    "data['Time'].min()//60//60//24//365, data['Time'].max()//60//60//24//365"
   ]
  },
  {
   "cell_type": "markdown",
   "id": "other-montreal",
   "metadata": {},
   "source": [
    "### 시간 데이터 분석\n",
    "* 1970년 1월 1일부터 초단위로 측정한 시간 데이터 이다.\n",
    "* 가장 오래된 데이터는 1970년부터 30년 뒤인 약2000년 데이터고, 가장 최근 데이터는 33년 뒤인 약2003년 데이터 이다.\n",
    "* 먼저 데이터의 최근 1년 데이터만 사용해보기로 했다.\n",
    "* 1년 = 12개월 = 365일 = 31,536,000 초"
   ]
  },
  {
   "cell_type": "code",
   "execution_count": 18,
   "id": "pediatric-brand",
   "metadata": {},
   "outputs": [
    {
     "data": {
      "text/html": [
       "<div>\n",
       "<style scoped>\n",
       "    .dataframe tbody tr th:only-of-type {\n",
       "        vertical-align: middle;\n",
       "    }\n",
       "\n",
       "    .dataframe tbody tr th {\n",
       "        vertical-align: top;\n",
       "    }\n",
       "\n",
       "    .dataframe thead th {\n",
       "        text-align: right;\n",
       "    }\n",
       "</style>\n",
       "<table border=\"1\" class=\"dataframe\">\n",
       "  <thead>\n",
       "    <tr style=\"text-align: right;\">\n",
       "      <th></th>\n",
       "      <th>UserId</th>\n",
       "      <th>ItemId</th>\n",
       "      <th>Time</th>\n",
       "    </tr>\n",
       "  </thead>\n",
       "  <tbody>\n",
       "    <tr>\n",
       "      <th>5170</th>\n",
       "      <td>36</td>\n",
       "      <td>1387</td>\n",
       "      <td>1015904819</td>\n",
       "    </tr>\n",
       "    <tr>\n",
       "      <th>5267</th>\n",
       "      <td>36</td>\n",
       "      <td>1201</td>\n",
       "      <td>1015904819</td>\n",
       "    </tr>\n",
       "    <tr>\n",
       "      <th>5122</th>\n",
       "      <td>36</td>\n",
       "      <td>1291</td>\n",
       "      <td>1015904836</td>\n",
       "    </tr>\n",
       "    <tr>\n",
       "      <th>5123</th>\n",
       "      <td>36</td>\n",
       "      <td>2167</td>\n",
       "      <td>1015904905</td>\n",
       "    </tr>\n",
       "    <tr>\n",
       "      <th>5290</th>\n",
       "      <td>36</td>\n",
       "      <td>2951</td>\n",
       "      <td>1015904905</td>\n",
       "    </tr>\n",
       "    <tr>\n",
       "      <th>...</th>\n",
       "      <td>...</td>\n",
       "      <td>...</td>\n",
       "      <td>...</td>\n",
       "    </tr>\n",
       "    <tr>\n",
       "      <th>992358</th>\n",
       "      <td>5996</td>\n",
       "      <td>3835</td>\n",
       "      <td>1020113184</td>\n",
       "    </tr>\n",
       "    <tr>\n",
       "      <th>992279</th>\n",
       "      <td>5996</td>\n",
       "      <td>2422</td>\n",
       "      <td>1020113225</td>\n",
       "    </tr>\n",
       "    <tr>\n",
       "      <th>992702</th>\n",
       "      <td>5996</td>\n",
       "      <td>168</td>\n",
       "      <td>1031058746</td>\n",
       "    </tr>\n",
       "    <tr>\n",
       "      <th>992459</th>\n",
       "      <td>5996</td>\n",
       "      <td>339</td>\n",
       "      <td>1033997079</td>\n",
       "    </tr>\n",
       "    <tr>\n",
       "      <th>992387</th>\n",
       "      <td>5996</td>\n",
       "      <td>3882</td>\n",
       "      <td>1036428955</td>\n",
       "    </tr>\n",
       "  </tbody>\n",
       "</table>\n",
       "<p>21704 rows × 3 columns</p>\n",
       "</div>"
      ],
      "text/plain": [
       "        UserId  ItemId        Time\n",
       "5170        36    1387  1015904819\n",
       "5267        36    1201  1015904819\n",
       "5122        36    1291  1015904836\n",
       "5123        36    2167  1015904905\n",
       "5290        36    2951  1015904905\n",
       "...        ...     ...         ...\n",
       "992358    5996    3835  1020113184\n",
       "992279    5996    2422  1020113225\n",
       "992702    5996     168  1031058746\n",
       "992459    5996     339  1033997079\n",
       "992387    5996    3882  1036428955\n",
       "\n",
       "[21704 rows x 3 columns]"
      ]
     },
     "execution_count": 18,
     "metadata": {},
     "output_type": "execute_result"
    }
   ],
   "source": [
    "one_year = 31536000   \n",
    "year_ago = latest - one_year    # 최종 날짜로부터 1년 이전 날짜를 구한다.  \n",
    "data = data[data['Time'] > year_ago]   # 방금 구한 날짜 이후의 데이터만 모은다. \n",
    "data"
   ]
  },
  {
   "cell_type": "markdown",
   "id": "geological-efficiency",
   "metadata": {},
   "source": [
    "## Data Cleansing\n",
    "* userid의 min()을 확인했을 때 가장 길이가 작은 세션은 20 이였다. 이번 테스트는 20인 세션은 제거하고 21 이상 세션부터 사용하기로 한다.\n",
    "* 위에서 userid 값만 확인했으므로 Itemid 값도 확인해본다."
   ]
  },
  {
   "cell_type": "code",
   "execution_count": 19,
   "id": "congressional-bishop",
   "metadata": {},
   "outputs": [
    {
     "data": {
      "text/plain": [
       "ItemId\n",
       "1       16\n",
       "2       17\n",
       "3        9\n",
       "4        6\n",
       "5        7\n",
       "        ..\n",
       "3948    49\n",
       "3949    52\n",
       "3950    13\n",
       "3951     4\n",
       "3952    22\n",
       "Length: 2921, dtype: int64"
      ]
     },
     "execution_count": 19,
     "metadata": {},
     "output_type": "execute_result"
    }
   ],
   "source": [
    "ItemId_length = data.groupby('ItemId').size()\n",
    "ItemId_length"
   ]
  },
  {
   "cell_type": "code",
   "execution_count": 20,
   "id": "naval-attempt",
   "metadata": {},
   "outputs": [
    {
     "data": {
      "text/plain": [
       "(5.0, 7.430332078055461)"
      ]
     },
     "execution_count": 20,
     "metadata": {},
     "output_type": "execute_result"
    }
   ],
   "source": [
    "ItemId_length.median(), ItemId_length.mean()"
   ]
  },
  {
   "cell_type": "code",
   "execution_count": 21,
   "id": "formed-bahamas",
   "metadata": {},
   "outputs": [
    {
     "data": {
      "text/plain": [
       "(1, 62)"
      ]
     },
     "execution_count": 21,
     "metadata": {},
     "output_type": "execute_result"
    }
   ],
   "source": [
    "ItemId_length.min(), ItemId_length.max()"
   ]
  },
  {
   "cell_type": "markdown",
   "id": "standard-paragraph",
   "metadata": {},
   "source": [
    "### Itemid 분석\n",
    "* ItemId_length : 어떤 영화에 대해 사람들이 남긴 후기의 수\n",
    "* 중간값이 5, 평균이 7.4이다.\n",
    "* 보통 보고싶은 영화를 고를 때 영화 후기의 수는 중요하다.\n",
    "* 평균이 5~7이지만, 일반적으로 후기의 수가 많을것을 보지 않을까? 라는 생각이 들기도 하지만 평론가나 영화 매니아들은 후기의 개수따위 중요하게 생각하지 않을 것 같다."
   ]
  },
  {
   "cell_type": "code",
   "execution_count": 22,
   "id": "inclusive-healing",
   "metadata": {},
   "outputs": [
    {
     "data": {
      "text/plain": [
       "52.0"
      ]
     },
     "execution_count": 22,
     "metadata": {},
     "output_type": "execute_result"
    }
   ],
   "source": [
    "ItemId_length.quantile(0.999)"
   ]
  },
  {
   "cell_type": "code",
   "execution_count": 23,
   "id": "technical-arrival",
   "metadata": {},
   "outputs": [
    {
     "data": {
      "text/html": [
       "<div>\n",
       "<style scoped>\n",
       "    .dataframe tbody tr th:only-of-type {\n",
       "        vertical-align: middle;\n",
       "    }\n",
       "\n",
       "    .dataframe tbody tr th {\n",
       "        vertical-align: top;\n",
       "    }\n",
       "\n",
       "    .dataframe thead th {\n",
       "        text-align: right;\n",
       "    }\n",
       "</style>\n",
       "<table border=\"1\" class=\"dataframe\">\n",
       "  <thead>\n",
       "    <tr style=\"text-align: right;\">\n",
       "      <th></th>\n",
       "      <th>UserId</th>\n",
       "      <th>ItemId</th>\n",
       "      <th>Time</th>\n",
       "    </tr>\n",
       "  </thead>\n",
       "  <tbody>\n",
       "    <tr>\n",
       "      <th>18841</th>\n",
       "      <td>146</td>\n",
       "      <td>539</td>\n",
       "      <td>1022003797</td>\n",
       "    </tr>\n",
       "    <tr>\n",
       "      <th>63489</th>\n",
       "      <td>424</td>\n",
       "      <td>539</td>\n",
       "      <td>1016719839</td>\n",
       "    </tr>\n",
       "    <tr>\n",
       "      <th>95779</th>\n",
       "      <td>641</td>\n",
       "      <td>539</td>\n",
       "      <td>1019442321</td>\n",
       "    </tr>\n",
       "    <tr>\n",
       "      <th>141733</th>\n",
       "      <td>911</td>\n",
       "      <td>539</td>\n",
       "      <td>1038877357</td>\n",
       "    </tr>\n",
       "    <tr>\n",
       "      <th>178783</th>\n",
       "      <td>1121</td>\n",
       "      <td>539</td>\n",
       "      <td>1022867615</td>\n",
       "    </tr>\n",
       "    <tr>\n",
       "      <th>179880</th>\n",
       "      <td>1125</td>\n",
       "      <td>539</td>\n",
       "      <td>1036520164</td>\n",
       "    </tr>\n",
       "    <tr>\n",
       "      <th>193952</th>\n",
       "      <td>1194</td>\n",
       "      <td>539</td>\n",
       "      <td>1036310191</td>\n",
       "    </tr>\n",
       "    <tr>\n",
       "      <th>215747</th>\n",
       "      <td>1306</td>\n",
       "      <td>539</td>\n",
       "      <td>1026712304</td>\n",
       "    </tr>\n",
       "    <tr>\n",
       "      <th>229454</th>\n",
       "      <td>1389</td>\n",
       "      <td>539</td>\n",
       "      <td>1038286016</td>\n",
       "    </tr>\n",
       "    <tr>\n",
       "      <th>256154</th>\n",
       "      <td>1561</td>\n",
       "      <td>539</td>\n",
       "      <td>1024170998</td>\n",
       "    </tr>\n",
       "    <tr>\n",
       "      <th>295803</th>\n",
       "      <td>1755</td>\n",
       "      <td>539</td>\n",
       "      <td>1029989627</td>\n",
       "    </tr>\n",
       "    <tr>\n",
       "      <th>299868</th>\n",
       "      <td>1778</td>\n",
       "      <td>539</td>\n",
       "      <td>1021207439</td>\n",
       "    </tr>\n",
       "    <tr>\n",
       "      <th>300621</th>\n",
       "      <td>1780</td>\n",
       "      <td>539</td>\n",
       "      <td>1039941620</td>\n",
       "    </tr>\n",
       "    <tr>\n",
       "      <th>305194</th>\n",
       "      <td>1812</td>\n",
       "      <td>539</td>\n",
       "      <td>1030120773</td>\n",
       "    </tr>\n",
       "    <tr>\n",
       "      <th>322781</th>\n",
       "      <td>1912</td>\n",
       "      <td>539</td>\n",
       "      <td>1027145965</td>\n",
       "    </tr>\n",
       "    <tr>\n",
       "      <th>397449</th>\n",
       "      <td>2353</td>\n",
       "      <td>539</td>\n",
       "      <td>1020469410</td>\n",
       "    </tr>\n",
       "    <tr>\n",
       "      <th>457042</th>\n",
       "      <td>2814</td>\n",
       "      <td>539</td>\n",
       "      <td>1035673832</td>\n",
       "    </tr>\n",
       "    <tr>\n",
       "      <th>461687</th>\n",
       "      <td>2847</td>\n",
       "      <td>539</td>\n",
       "      <td>1028961811</td>\n",
       "    </tr>\n",
       "    <tr>\n",
       "      <th>488191</th>\n",
       "      <td>3002</td>\n",
       "      <td>539</td>\n",
       "      <td>1034189576</td>\n",
       "    </tr>\n",
       "    <tr>\n",
       "      <th>557384</th>\n",
       "      <td>3423</td>\n",
       "      <td>539</td>\n",
       "      <td>1034232831</td>\n",
       "    </tr>\n",
       "    <tr>\n",
       "      <th>639394</th>\n",
       "      <td>3842</td>\n",
       "      <td>539</td>\n",
       "      <td>1037879089</td>\n",
       "    </tr>\n",
       "    <tr>\n",
       "      <th>700098</th>\n",
       "      <td>4186</td>\n",
       "      <td>539</td>\n",
       "      <td>1017931215</td>\n",
       "    </tr>\n",
       "    <tr>\n",
       "      <th>790902</th>\n",
       "      <td>4728</td>\n",
       "      <td>539</td>\n",
       "      <td>1032134559</td>\n",
       "    </tr>\n",
       "    <tr>\n",
       "      <th>825850</th>\n",
       "      <td>4958</td>\n",
       "      <td>539</td>\n",
       "      <td>1044985845</td>\n",
       "    </tr>\n",
       "    <tr>\n",
       "      <th>832067</th>\n",
       "      <td>5001</td>\n",
       "      <td>539</td>\n",
       "      <td>1019971878</td>\n",
       "    </tr>\n",
       "    <tr>\n",
       "      <th>842565</th>\n",
       "      <td>5063</td>\n",
       "      <td>539</td>\n",
       "      <td>1035511229</td>\n",
       "    </tr>\n",
       "    <tr>\n",
       "      <th>858074</th>\n",
       "      <td>5156</td>\n",
       "      <td>539</td>\n",
       "      <td>1041908016</td>\n",
       "    </tr>\n",
       "  </tbody>\n",
       "</table>\n",
       "</div>"
      ],
      "text/plain": [
       "        UserId  ItemId        Time\n",
       "18841      146     539  1022003797\n",
       "63489      424     539  1016719839\n",
       "95779      641     539  1019442321\n",
       "141733     911     539  1038877357\n",
       "178783    1121     539  1022867615\n",
       "179880    1125     539  1036520164\n",
       "193952    1194     539  1036310191\n",
       "215747    1306     539  1026712304\n",
       "229454    1389     539  1038286016\n",
       "256154    1561     539  1024170998\n",
       "295803    1755     539  1029989627\n",
       "299868    1778     539  1021207439\n",
       "300621    1780     539  1039941620\n",
       "305194    1812     539  1030120773\n",
       "322781    1912     539  1027145965\n",
       "397449    2353     539  1020469410\n",
       "457042    2814     539  1035673832\n",
       "461687    2847     539  1028961811\n",
       "488191    3002     539  1034189576\n",
       "557384    3423     539  1034232831\n",
       "639394    3842     539  1037879089\n",
       "700098    4186     539  1017931215\n",
       "790902    4728     539  1032134559\n",
       "825850    4958     539  1044985845\n",
       "832067    5001     539  1019971878\n",
       "842565    5063     539  1035511229\n",
       "858074    5156     539  1041908016"
      ]
     },
     "execution_count": 23,
     "metadata": {},
     "output_type": "execute_result"
    }
   ],
   "source": [
    "long_session = ItemId_length[ItemId_length==27].index[0]\n",
    "data[data['ItemId']==long_session]"
   ]
  },
  {
   "cell_type": "code",
   "execution_count": 24,
   "id": "rental-tomato",
   "metadata": {},
   "outputs": [
    {
     "data": {
      "text/plain": [
       "1     0.173571\n",
       "2     0.297159\n",
       "3     0.396440\n",
       "4     0.477234\n",
       "5     0.545361\n",
       "6     0.604587\n",
       "7     0.652174\n",
       "8     0.696337\n",
       "9     0.732283\n",
       "10    0.762410\n",
       "11    0.793906\n",
       "12    0.818213\n",
       "13    0.838754\n",
       "14    0.852790\n",
       "15    0.871619\n",
       "16    0.888052\n",
       "17    0.900377\n",
       "18    0.908935\n",
       "19    0.918179\n",
       "20    0.928792\n",
       "21    0.936666\n",
       "22    0.944882\n",
       "23    0.949675\n",
       "24    0.957891\n",
       "25    0.962342\n",
       "26    0.965765\n",
       "27    0.971927\n",
       "28    0.976036\n",
       "29    0.979801\n",
       "30    0.983225\n",
       "31    0.986306\n",
       "32    0.986991\n",
       "33    0.989045\n",
       "34    0.989730\n",
       "35    0.992126\n",
       "36    0.992811\n",
       "37    0.994180\n",
       "38    0.995207\n",
       "39    0.995549\n",
       "40    0.995892\n",
       "42    0.996577\n",
       "43    0.996919\n",
       "45    0.997261\n",
       "48    0.997604\n",
       "49    0.997946\n",
       "51    0.998631\n",
       "dtype: float64"
      ]
     },
     "execution_count": 24,
     "metadata": {},
     "output_type": "execute_result"
    }
   ],
   "source": [
    "length_count = ItemId_length.groupby(ItemId_length).size()\n",
    "length_percent_cumsum = length_count.cumsum() / length_count.sum()\n",
    "length_percent_cumsum_999 = length_percent_cumsum[length_percent_cumsum < 0.999]\n",
    "\n",
    "length_percent_cumsum_999"
   ]
  },
  {
   "cell_type": "code",
   "execution_count": 25,
   "id": "referenced-appearance",
   "metadata": {},
   "outputs": [
    {
     "data": {
      "image/png": "[encoded data removed]",
      "text/plain": [
       "<Figure size 1440x720 with 1 Axes>"
      ]
     },
     "metadata": {
      "needs_background": "light"
     },
     "output_type": "display_data"
    }
   ],
   "source": [
    "plt.figure(figsize=(20, 10))\n",
    "plt.bar(x=length_percent_cumsum_999.index,\n",
    "        height=length_percent_cumsum_999, color='red')\n",
    "plt.xticks(length_percent_cumsum_999.index)\n",
    "plt.yticks(np.arange(0, 1.01, 0.05))\n",
    "plt.title('Cumsum Percentage Until 0.999', size=20)\n",
    "plt.show()"
   ]
  },
  {
   "cell_type": "code",
   "execution_count": 26,
   "id": "fatty-journey",
   "metadata": {},
   "outputs": [],
   "source": [
    "# short_session을 제거한 다음 unpopular item을 제거하면 다시 길이가 1인 session이 생길 수 있습니다.\n",
    "# 이를 위해 반복문을 통해 지속적으로 제거 합니다.\n",
    "def cleanse_recursive(data: pd.DataFrame, shortest, least_click) -> pd.DataFrame:\n",
    "    while True:\n",
    "        before_len = len(data)\n",
    "        data = cleanse_short_session(data, shortest)\n",
    "        data = cleanse_unpopular_item(data, least_click)\n",
    "        after_len = len(data)\n",
    "        if before_len == after_len:\n",
    "            break\n",
    "    return data\n",
    "\n",
    "\n",
    "def cleanse_short_session(data: pd.DataFrame, shortest):\n",
    "    session_len = data.groupby('UserId').size()\n",
    "    session_use = session_len[session_len >= shortest].index\n",
    "    data = data[data['UserId'].isin(session_use)]\n",
    "    return data\n",
    "\n",
    "\n",
    "def cleanse_unpopular_item(data: pd.DataFrame, least_click):\n",
    "    item_popular = data.groupby('ItemId').size()\n",
    "    item_use = item_popular[item_popular >= least_click].index\n",
    "    data = data[data['ItemId'].isin(item_use)]\n",
    "    return data"
   ]
  },
  {
   "cell_type": "markdown",
   "id": "controlled-offset",
   "metadata": {},
   "source": [
    "## shortest, least_click 값 정하기\n",
    "* 1년치 데이터셋만 사용해서 데이터셋이 적기 때문에 데이터를 최대한 살리는 방향으로 했다.\n",
    "* userid_length.min = 20, itemid_length.min = 1, 이였으므로, 이 값과 비슷하거나 같은 값을 넣었다."
   ]
  },
  {
   "cell_type": "code",
   "execution_count": 27,
   "id": "aggressive-burner",
   "metadata": {},
   "outputs": [
    {
     "data": {
      "text/html": [
       "<div>\n",
       "<style scoped>\n",
       "    .dataframe tbody tr th:only-of-type {\n",
       "        vertical-align: middle;\n",
       "    }\n",
       "\n",
       "    .dataframe tbody tr th {\n",
       "        vertical-align: top;\n",
       "    }\n",
       "\n",
       "    .dataframe thead th {\n",
       "        text-align: right;\n",
       "    }\n",
       "</style>\n",
       "<table border=\"1\" class=\"dataframe\">\n",
       "  <thead>\n",
       "    <tr style=\"text-align: right;\">\n",
       "      <th></th>\n",
       "      <th>UserId</th>\n",
       "      <th>ItemId</th>\n",
       "      <th>Time</th>\n",
       "    </tr>\n",
       "  </thead>\n",
       "  <tbody>\n",
       "    <tr>\n",
       "      <th>5170</th>\n",
       "      <td>36</td>\n",
       "      <td>1387</td>\n",
       "      <td>1015904819</td>\n",
       "    </tr>\n",
       "    <tr>\n",
       "      <th>5267</th>\n",
       "      <td>36</td>\n",
       "      <td>1201</td>\n",
       "      <td>1015904819</td>\n",
       "    </tr>\n",
       "    <tr>\n",
       "      <th>5122</th>\n",
       "      <td>36</td>\n",
       "      <td>1291</td>\n",
       "      <td>1015904836</td>\n",
       "    </tr>\n",
       "    <tr>\n",
       "      <th>5123</th>\n",
       "      <td>36</td>\n",
       "      <td>2167</td>\n",
       "      <td>1015904905</td>\n",
       "    </tr>\n",
       "    <tr>\n",
       "      <th>5290</th>\n",
       "      <td>36</td>\n",
       "      <td>2951</td>\n",
       "      <td>1015904905</td>\n",
       "    </tr>\n",
       "    <tr>\n",
       "      <th>...</th>\n",
       "      <td>...</td>\n",
       "      <td>...</td>\n",
       "      <td>...</td>\n",
       "    </tr>\n",
       "    <tr>\n",
       "      <th>992358</th>\n",
       "      <td>5996</td>\n",
       "      <td>3835</td>\n",
       "      <td>1020113184</td>\n",
       "    </tr>\n",
       "    <tr>\n",
       "      <th>992279</th>\n",
       "      <td>5996</td>\n",
       "      <td>2422</td>\n",
       "      <td>1020113225</td>\n",
       "    </tr>\n",
       "    <tr>\n",
       "      <th>992702</th>\n",
       "      <td>5996</td>\n",
       "      <td>168</td>\n",
       "      <td>1031058746</td>\n",
       "    </tr>\n",
       "    <tr>\n",
       "      <th>992459</th>\n",
       "      <td>5996</td>\n",
       "      <td>339</td>\n",
       "      <td>1033997079</td>\n",
       "    </tr>\n",
       "    <tr>\n",
       "      <th>992387</th>\n",
       "      <td>5996</td>\n",
       "      <td>3882</td>\n",
       "      <td>1036428955</td>\n",
       "    </tr>\n",
       "  </tbody>\n",
       "</table>\n",
       "<p>19693 rows × 3 columns</p>\n",
       "</div>"
      ],
      "text/plain": [
       "        UserId  ItemId        Time\n",
       "5170        36    1387  1015904819\n",
       "5267        36    1201  1015904819\n",
       "5122        36    1291  1015904836\n",
       "5123        36    2167  1015904905\n",
       "5290        36    2951  1015904905\n",
       "...        ...     ...         ...\n",
       "992358    5996    3835  1020113184\n",
       "992279    5996    2422  1020113225\n",
       "992702    5996     168  1031058746\n",
       "992459    5996     339  1033997079\n",
       "992387    5996    3882  1036428955\n",
       "\n",
       "[19693 rows x 3 columns]"
      ]
     },
     "execution_count": 27,
     "metadata": {},
     "output_type": "execute_result"
    }
   ],
   "source": [
    "data = cleanse_recursive(data, shortest=21, least_click=1)\n",
    "data"
   ]
  },
  {
   "cell_type": "markdown",
   "id": "oriental-contribution",
   "metadata": {},
   "source": [
    "## Train/ Valid/ Test split\n",
    "* 1년 데이터중에 1개월 ~ 10개월 데이터는 train_dataset으로 활용한다.\n",
    "* 나머지 1개월은 valid_dataset으로, 또 나머지 1개월은 train_dataset으로 활용한다.\n",
    "* 입력일에 시, 분, 초를 곱해줘서 일 단위를 초 단위로 바꾸어 빼준뒤 split 해주었다."
   ]
  },
  {
   "cell_type": "code",
   "execution_count": 28,
   "id": "funky-graphics",
   "metadata": {},
   "outputs": [],
   "source": [
    "def split_by_date(data: pd.DataFrame, n_days: int):\n",
    "    n_seconds = n_days*24*60*60\n",
    "    final_time = data['Time'].max()\n",
    "    session_last_time = data.groupby('UserId')['Time'].max()\n",
    "    session_in_train = session_last_time[session_last_time < final_time - n_seconds].index\n",
    "    session_in_test = session_last_time[session_last_time >= final_time - n_seconds].index\n",
    "\n",
    "    before_date = data[data['UserId'].isin(session_in_train)]\n",
    "    after_date = data[data['UserId'].isin(session_in_test)]\n",
    "    after_date = after_date[after_date['ItemId'].isin(before_date['ItemId'])]\n",
    "    return before_date, after_date"
   ]
  },
  {
   "cell_type": "code",
   "execution_count": 29,
   "id": "criminal-composite",
   "metadata": {},
   "outputs": [],
   "source": [
    "tr, test = split_by_date(data, n_days=30)\n",
    "tr, val = split_by_date(tr, n_days=30)"
   ]
  },
  {
   "cell_type": "code",
   "execution_count": 30,
   "id": "hindu-musician",
   "metadata": {},
   "outputs": [
    {
     "data": {
      "text/html": [
       "<div>\n",
       "<style scoped>\n",
       "    .dataframe tbody tr th:only-of-type {\n",
       "        vertical-align: middle;\n",
       "    }\n",
       "\n",
       "    .dataframe tbody tr th {\n",
       "        vertical-align: top;\n",
       "    }\n",
       "\n",
       "    .dataframe thead th {\n",
       "        text-align: right;\n",
       "    }\n",
       "</style>\n",
       "<table border=\"1\" class=\"dataframe\">\n",
       "  <thead>\n",
       "    <tr style=\"text-align: right;\">\n",
       "      <th></th>\n",
       "      <th>UserId</th>\n",
       "      <th>ItemId</th>\n",
       "      <th>Time</th>\n",
       "    </tr>\n",
       "  </thead>\n",
       "  <tbody>\n",
       "    <tr>\n",
       "      <th>5170</th>\n",
       "      <td>36</td>\n",
       "      <td>1387</td>\n",
       "      <td>1015904819</td>\n",
       "    </tr>\n",
       "    <tr>\n",
       "      <th>5267</th>\n",
       "      <td>36</td>\n",
       "      <td>1201</td>\n",
       "      <td>1015904819</td>\n",
       "    </tr>\n",
       "    <tr>\n",
       "      <th>5122</th>\n",
       "      <td>36</td>\n",
       "      <td>1291</td>\n",
       "      <td>1015904836</td>\n",
       "    </tr>\n",
       "    <tr>\n",
       "      <th>5123</th>\n",
       "      <td>36</td>\n",
       "      <td>2167</td>\n",
       "      <td>1015904905</td>\n",
       "    </tr>\n",
       "    <tr>\n",
       "      <th>5290</th>\n",
       "      <td>36</td>\n",
       "      <td>2951</td>\n",
       "      <td>1015904905</td>\n",
       "    </tr>\n",
       "  </tbody>\n",
       "</table>\n",
       "</div>"
      ],
      "text/plain": [
       "      UserId  ItemId        Time\n",
       "5170      36    1387  1015904819\n",
       "5267      36    1201  1015904819\n",
       "5122      36    1291  1015904836\n",
       "5123      36    2167  1015904905\n",
       "5290      36    2951  1015904905"
      ]
     },
     "execution_count": 30,
     "metadata": {},
     "output_type": "execute_result"
    }
   ],
   "source": [
    "tr.head()"
   ]
  },
  {
   "cell_type": "code",
   "execution_count": 31,
   "id": "roman-musician",
   "metadata": {},
   "outputs": [],
   "source": [
    "# data에 대한 정보를 살펴봅니다.\n",
    "def stats_info(data: pd.DataFrame, status: str):\n",
    "    print(f'* {status} Set Stats Info\\n'\n",
    "          f'\\t Events: {len(data)}\\n'\n",
    "          f'\\t Sessions: {data[\"UserId\"].nunique()}\\n'\n",
    "          f'\\t Items: {data[\"ItemId\"].nunique()}\\n'\n",
    "          f'\\t First Time : {data[\"Time\"].min()}\\n'\n",
    "          f'\\t Last Time : {data[\"Time\"].max()}\\n')"
   ]
  },
  {
   "cell_type": "code",
   "execution_count": 32,
   "id": "enclosed-registrar",
   "metadata": {
    "scrolled": true
   },
   "outputs": [
    {
     "name": "stdout",
     "output_type": "stream",
     "text": [
      "* train Set Stats Info\n",
      "\t Events: 9671\n",
      "\t Sessions: 131\n",
      "\t Items: 2387\n",
      "\t First Time : 1014923199\n",
      "\t Last Time : 1041195859\n",
      "\n",
      "* valid Set Stats Info\n",
      "\t Events: 2378\n",
      "\t Sessions: 42\n",
      "\t Items: 1243\n",
      "\t First Time : 1015349521\n",
      "\t Last Time : 1043799175\n",
      "\n",
      "* test Set Stats Info\n",
      "\t Events: 6962\n",
      "\t Sessions: 77\n",
      "\t Items: 2069\n",
      "\t First Time : 1014955410\n",
      "\t Last Time : 1046454590\n",
      "\n"
     ]
    }
   ],
   "source": [
    "stats_info(tr, 'train')\n",
    "stats_info(val, 'valid')\n",
    "stats_info(test, 'test')"
   ]
  },
  {
   "cell_type": "markdown",
   "id": "operating-durham",
   "metadata": {},
   "source": [
    "### Sessions 확인\n",
    "* train Set ,valid Set, test Set의 Sessions는 각각 131, 42, 77이다."
   ]
  },
  {
   "cell_type": "code",
   "execution_count": 33,
   "id": "imposed-affiliate",
   "metadata": {},
   "outputs": [],
   "source": [
    "# train set에 없는 아이템이 val, test기간에 생길 수 있으므로 train data를 기준으로 인덱싱합니다.\n",
    "id2idx = {item_id : index for index, item_id in enumerate(tr['ItemId'].unique())}\n",
    "\n",
    "def indexing(df, id2idx):\n",
    "    df['item_idx'] = df['ItemId'].map(lambda x: id2idx.get(x, -1))  # id2idx에 없는 아이템은 모르는 값(-1) 처리 해줍니다.\n",
    "    return df\n",
    "\n",
    "tr = indexing(tr, id2idx)\n",
    "val = indexing(val, id2idx)\n",
    "test = indexing(test, id2idx)"
   ]
  },
  {
   "cell_type": "code",
   "execution_count": 34,
   "id": "moral-inspiration",
   "metadata": {},
   "outputs": [],
   "source": [
    "save_path = data_path / 'processed'\n",
    "save_path.mkdir(parents=True, exist_ok=True)\n",
    "\n",
    "tr.to_pickle(save_path / 'train.pkl')\n",
    "val.to_pickle(save_path / 'valid.pkl')\n",
    "test.to_pickle(save_path / 'test.pkl')"
   ]
  },
  {
   "cell_type": "markdown",
   "id": "funded-threshold",
   "metadata": {},
   "source": [
    "## SessionDataset\n",
    "* 데이터가 주어지면 세션이 시작되는 인덱스를 담는 값과 세션을 새로 인덱싱한 값을 갖는 클래스를 만든다."
   ]
  },
  {
   "cell_type": "code",
   "execution_count": 35,
   "id": "standard-black",
   "metadata": {},
   "outputs": [],
   "source": [
    "class SessionDataset:\n",
    "    \"\"\"Credit to yhs-968/pyGRU4REC.\"\"\"\n",
    "\n",
    "    def __init__(self, data):\n",
    "        self.df = data\n",
    "        self.click_offsets = self.get_click_offsets()\n",
    "        self.session_idx = np.arange(self.df['UserId'].nunique())  # indexing to SessionId\n",
    "\n",
    "    def get_click_offsets(self):\n",
    "        \"\"\"\n",
    "        Return the indexes of the first click of each session IDs,\n",
    "        \"\"\"\n",
    "        offsets = np.zeros(self.df['UserId'].nunique() + 1, dtype=np.int32)\n",
    "        offsets[1:] = self.df.groupby('UserId').size().cumsum()\n",
    "        return offsets"
   ]
  },
  {
   "cell_type": "code",
   "execution_count": 36,
   "id": "manual-craft",
   "metadata": {},
   "outputs": [
    {
     "data": {
      "text/html": [
       "<div>\n",
       "<style scoped>\n",
       "    .dataframe tbody tr th:only-of-type {\n",
       "        vertical-align: middle;\n",
       "    }\n",
       "\n",
       "    .dataframe tbody tr th {\n",
       "        vertical-align: top;\n",
       "    }\n",
       "\n",
       "    .dataframe thead th {\n",
       "        text-align: right;\n",
       "    }\n",
       "</style>\n",
       "<table border=\"1\" class=\"dataframe\">\n",
       "  <thead>\n",
       "    <tr style=\"text-align: right;\">\n",
       "      <th></th>\n",
       "      <th>UserId</th>\n",
       "      <th>ItemId</th>\n",
       "      <th>Time</th>\n",
       "      <th>item_idx</th>\n",
       "    </tr>\n",
       "  </thead>\n",
       "  <tbody>\n",
       "    <tr>\n",
       "      <th>5170</th>\n",
       "      <td>36</td>\n",
       "      <td>1387</td>\n",
       "      <td>1015904819</td>\n",
       "      <td>0</td>\n",
       "    </tr>\n",
       "    <tr>\n",
       "      <th>5267</th>\n",
       "      <td>36</td>\n",
       "      <td>1201</td>\n",
       "      <td>1015904819</td>\n",
       "      <td>1</td>\n",
       "    </tr>\n",
       "    <tr>\n",
       "      <th>5122</th>\n",
       "      <td>36</td>\n",
       "      <td>1291</td>\n",
       "      <td>1015904836</td>\n",
       "      <td>2</td>\n",
       "    </tr>\n",
       "    <tr>\n",
       "      <th>5123</th>\n",
       "      <td>36</td>\n",
       "      <td>2167</td>\n",
       "      <td>1015904905</td>\n",
       "      <td>3</td>\n",
       "    </tr>\n",
       "    <tr>\n",
       "      <th>5290</th>\n",
       "      <td>36</td>\n",
       "      <td>2951</td>\n",
       "      <td>1015904905</td>\n",
       "      <td>4</td>\n",
       "    </tr>\n",
       "    <tr>\n",
       "      <th>5359</th>\n",
       "      <td>36</td>\n",
       "      <td>2115</td>\n",
       "      <td>1015904905</td>\n",
       "      <td>5</td>\n",
       "    </tr>\n",
       "    <tr>\n",
       "      <th>5073</th>\n",
       "      <td>36</td>\n",
       "      <td>1912</td>\n",
       "      <td>1015904924</td>\n",
       "      <td>6</td>\n",
       "    </tr>\n",
       "    <tr>\n",
       "      <th>5113</th>\n",
       "      <td>36</td>\n",
       "      <td>2662</td>\n",
       "      <td>1015904924</td>\n",
       "      <td>7</td>\n",
       "    </tr>\n",
       "    <tr>\n",
       "      <th>5366</th>\n",
       "      <td>36</td>\n",
       "      <td>2985</td>\n",
       "      <td>1015904941</td>\n",
       "      <td>8</td>\n",
       "    </tr>\n",
       "    <tr>\n",
       "      <th>5305</th>\n",
       "      <td>36</td>\n",
       "      <td>2527</td>\n",
       "      <td>1015904957</td>\n",
       "      <td>9</td>\n",
       "    </tr>\n",
       "  </tbody>\n",
       "</table>\n",
       "</div>"
      ],
      "text/plain": [
       "      UserId  ItemId        Time  item_idx\n",
       "5170      36    1387  1015904819         0\n",
       "5267      36    1201  1015904819         1\n",
       "5122      36    1291  1015904836         2\n",
       "5123      36    2167  1015904905         3\n",
       "5290      36    2951  1015904905         4\n",
       "5359      36    2115  1015904905         5\n",
       "5073      36    1912  1015904924         6\n",
       "5113      36    2662  1015904924         7\n",
       "5366      36    2985  1015904941         8\n",
       "5305      36    2527  1015904957         9"
      ]
     },
     "execution_count": 36,
     "metadata": {},
     "output_type": "execute_result"
    }
   ],
   "source": [
    "tr_dataset = SessionDataset(tr)\n",
    "tr_dataset.df.head(10)"
   ]
  },
  {
   "cell_type": "code",
   "execution_count": 37,
   "id": "finite-welding",
   "metadata": {},
   "outputs": [
    {
     "data": {
      "text/plain": [
       "array([   0,   34,   59,   80,  135,  208,  300,  344,  385,  408,  525,\n",
       "        576,  732,  778,  821,  864,  925, 1054, 1216, 1789, 1811, 1844,\n",
       "       1870, 1914, 1940, 1976, 2077, 2115, 2255, 2324, 2413, 2446, 2703,\n",
       "       2733, 2807, 2991, 3117, 3206, 3230, 3264, 3311, 3425, 3448, 3478,\n",
       "       3511, 3586, 3651, 3672, 3694, 3717, 3823, 3862, 3884, 3915, 3980,\n",
       "       4011, 4067, 4232, 4297, 4387, 4418, 4452, 4706, 4793, 4862, 5005,\n",
       "       5141, 5171, 5232, 5282, 5351, 5381, 5425, 5484, 5508, 5639, 5667,\n",
       "       5699, 5795, 5853, 5915, 5963, 5987, 6209, 6237, 6366, 6398, 6429,\n",
       "       6496, 6582, 6752, 6790, 6831, 6858, 6902, 7237, 7278, 7311, 7486,\n",
       "       7554, 7583, 7609, 7703, 7738, 7938, 7999, 8025, 8055, 8076, 8331,\n",
       "       8358, 8537, 8573, 8616, 8724, 8748, 8779, 8829, 8863, 8892, 8990,\n",
       "       9014, 9035, 9074, 9164, 9253, 9334, 9363, 9469, 9527, 9548, 9671],\n",
       "      dtype=int32)"
      ]
     },
     "execution_count": 37,
     "metadata": {},
     "output_type": "execute_result"
    }
   ],
   "source": [
    "tr_dataset.click_offsets"
   ]
  },
  {
   "cell_type": "code",
   "execution_count": 38,
   "id": "joint-accused",
   "metadata": {},
   "outputs": [
    {
     "data": {
      "text/plain": [
       "array([  0,   1,   2,   3,   4,   5,   6,   7,   8,   9,  10,  11,  12,\n",
       "        13,  14,  15,  16,  17,  18,  19,  20,  21,  22,  23,  24,  25,\n",
       "        26,  27,  28,  29,  30,  31,  32,  33,  34,  35,  36,  37,  38,\n",
       "        39,  40,  41,  42,  43,  44,  45,  46,  47,  48,  49,  50,  51,\n",
       "        52,  53,  54,  55,  56,  57,  58,  59,  60,  61,  62,  63,  64,\n",
       "        65,  66,  67,  68,  69,  70,  71,  72,  73,  74,  75,  76,  77,\n",
       "        78,  79,  80,  81,  82,  83,  84,  85,  86,  87,  88,  89,  90,\n",
       "        91,  92,  93,  94,  95,  96,  97,  98,  99, 100, 101, 102, 103,\n",
       "       104, 105, 106, 107, 108, 109, 110, 111, 112, 113, 114, 115, 116,\n",
       "       117, 118, 119, 120, 121, 122, 123, 124, 125, 126, 127, 128, 129,\n",
       "       130])"
      ]
     },
     "execution_count": 38,
     "metadata": {},
     "output_type": "execute_result"
    }
   ],
   "source": [
    "tr_dataset.session_idx"
   ]
  },
  {
   "cell_type": "markdown",
   "id": "unsigned-survivor",
   "metadata": {},
   "source": [
    "## SessionDataLoader\n",
    "* SessionDataset 객체를 받아서 Session-Parallel mini-batch를 만드는 클래스를 만든다. __iter__ 메소드는 모델 인풋, 라벨, 세션이 끝나는 곳의 위치를 yield한다. mask는 후에 RNN Cell State를 초기화 하는데 사용한다."
   ]
  },
  {
   "cell_type": "code",
   "execution_count": 39,
   "id": "analyzed-ceiling",
   "metadata": {},
   "outputs": [],
   "source": [
    "class SessionDataLoader:\n",
    "    \"\"\"Credit to yhs-968/pyGRU4REC.\"\"\"\n",
    "\n",
    "    def __init__(self, dataset: SessionDataset, batch_size=5):\n",
    "        self.dataset = dataset\n",
    "        self.batch_size = batch_size\n",
    "\n",
    "    def __iter__(self):\n",
    "        \"\"\" Returns the iterator for producing session-parallel training mini-batches.\n",
    "        Yields:\n",
    "            input (B,):  Item indices that will be encoded as one-hot vectors later.\n",
    "            target (B,): a Variable that stores the target item indices\n",
    "            masks: Numpy array indicating the positions of the sessions to be terminated\n",
    "        \"\"\"\n",
    "\n",
    "        start, end, mask, last_session, finished = self.initialize()  # initialize 메소드에서 확인해주세요.\n",
    "        \"\"\"\n",
    "        start : Index Where Session Start\n",
    "        end : Index Where Session End\n",
    "        mask : indicator for the sessions to be terminated\n",
    "        \"\"\"\n",
    "\n",
    "        while not finished:\n",
    "            min_len = (end - start).min() - 1  # Shortest Length Among Sessions\n",
    "            for i in range(min_len):\n",
    "                # Build inputs & targets\n",
    "                inp = self.dataset.df['item_idx'].values[start + i]\n",
    "                target = self.dataset.df['item_idx'].values[start + i + 1]\n",
    "                yield inp, target, mask\n",
    "\n",
    "            start, end, mask, last_session, finished = self.update_status(start, end, min_len, last_session, finished)\n",
    "\n",
    "    def initialize(self):\n",
    "        first_iters = np.arange(self.batch_size)    # 첫 배치에 사용할 세션 Index를 가져옵니다.\n",
    "        last_session = self.batch_size - 1    # 마지막으로 다루고 있는 세션 Index를 저장해둡니다.\n",
    "        start = self.dataset.click_offsets[self.dataset.session_idx[first_iters]]       # data 상에서 session이 시작된 위치를 가져옵니다.\n",
    "        end = self.dataset.click_offsets[self.dataset.session_idx[first_iters] + 1]  # session이 끝난 위치 바로 다음 위치를 가져옵니다.\n",
    "        mask = np.array([])   # session의 모든 아이템을 다 돌은 경우 mask에 추가해줄 것입니다.\n",
    "        finished = False         # data를 전부 돌았는지 기록하기 위한 변수입니다.\n",
    "        return start, end, mask, last_session, finished\n",
    "\n",
    "    def update_status(self, start: np.ndarray, end: np.ndarray, min_len: int, last_session: int, finished: bool):  \n",
    "        # 다음 배치 데이터를 생성하기 위해 상태를 update합니다.\n",
    "        \n",
    "        start += min_len   # __iter__에서 min_len 만큼 for문을 돌았으므로 start를 min_len 만큼 더해줍니다.\n",
    "        mask = np.arange(self.batch_size)[(end - start) == 1]  \n",
    "        # end는 다음 세션이 시작되는 위치인데 start와 한 칸 차이난다는 것은 session이 끝났다는 뜻입니다. mask에 기록해줍니다.\n",
    "\n",
    "        for i, idx in enumerate(mask, start=1):  # mask에 추가된 세션 개수만큼 새로운 세션을 돌것입니다.\n",
    "            new_session = last_session + i  \n",
    "            if new_session > self.dataset.session_idx[-1]:  # 만약 새로운 세션이 마지막 세션 index보다 크다면 모든 학습데이터를 돈 것입니다.\n",
    "                finished = True\n",
    "                break\n",
    "            # update the next starting/ending point\n",
    "            start[idx] = self.dataset.click_offsets[self.dataset.session_idx[new_session]]     # 종료된 세션 대신 새로운 세션의 시작점을 기록합니다.\n",
    "            end[idx] = self.dataset.click_offsets[self.dataset.session_idx[new_session] + 1]\n",
    "\n",
    "        last_session += len(mask)  # 마지막 세션의 위치를 기록해둡니다.\n",
    "        return start, end, mask, last_session, finished"
   ]
  },
  {
   "cell_type": "code",
   "execution_count": 40,
   "id": "integral-academy",
   "metadata": {
    "scrolled": true
   },
   "outputs": [
    {
     "data": {
      "text/html": [
       "<div>\n",
       "<style scoped>\n",
       "    .dataframe tbody tr th:only-of-type {\n",
       "        vertical-align: middle;\n",
       "    }\n",
       "\n",
       "    .dataframe tbody tr th {\n",
       "        vertical-align: top;\n",
       "    }\n",
       "\n",
       "    .dataframe thead th {\n",
       "        text-align: right;\n",
       "    }\n",
       "</style>\n",
       "<table border=\"1\" class=\"dataframe\">\n",
       "  <thead>\n",
       "    <tr style=\"text-align: right;\">\n",
       "      <th></th>\n",
       "      <th>UserId</th>\n",
       "      <th>ItemId</th>\n",
       "      <th>Time</th>\n",
       "      <th>item_idx</th>\n",
       "    </tr>\n",
       "  </thead>\n",
       "  <tbody>\n",
       "    <tr>\n",
       "      <th>5170</th>\n",
       "      <td>36</td>\n",
       "      <td>1387</td>\n",
       "      <td>1015904819</td>\n",
       "      <td>0</td>\n",
       "    </tr>\n",
       "    <tr>\n",
       "      <th>5267</th>\n",
       "      <td>36</td>\n",
       "      <td>1201</td>\n",
       "      <td>1015904819</td>\n",
       "      <td>1</td>\n",
       "    </tr>\n",
       "    <tr>\n",
       "      <th>5122</th>\n",
       "      <td>36</td>\n",
       "      <td>1291</td>\n",
       "      <td>1015904836</td>\n",
       "      <td>2</td>\n",
       "    </tr>\n",
       "    <tr>\n",
       "      <th>5123</th>\n",
       "      <td>36</td>\n",
       "      <td>2167</td>\n",
       "      <td>1015904905</td>\n",
       "      <td>3</td>\n",
       "    </tr>\n",
       "    <tr>\n",
       "      <th>5290</th>\n",
       "      <td>36</td>\n",
       "      <td>2951</td>\n",
       "      <td>1015904905</td>\n",
       "      <td>4</td>\n",
       "    </tr>\n",
       "    <tr>\n",
       "      <th>5359</th>\n",
       "      <td>36</td>\n",
       "      <td>2115</td>\n",
       "      <td>1015904905</td>\n",
       "      <td>5</td>\n",
       "    </tr>\n",
       "    <tr>\n",
       "      <th>5073</th>\n",
       "      <td>36</td>\n",
       "      <td>1912</td>\n",
       "      <td>1015904924</td>\n",
       "      <td>6</td>\n",
       "    </tr>\n",
       "    <tr>\n",
       "      <th>5113</th>\n",
       "      <td>36</td>\n",
       "      <td>2662</td>\n",
       "      <td>1015904924</td>\n",
       "      <td>7</td>\n",
       "    </tr>\n",
       "    <tr>\n",
       "      <th>5366</th>\n",
       "      <td>36</td>\n",
       "      <td>2985</td>\n",
       "      <td>1015904941</td>\n",
       "      <td>8</td>\n",
       "    </tr>\n",
       "    <tr>\n",
       "      <th>5305</th>\n",
       "      <td>36</td>\n",
       "      <td>2527</td>\n",
       "      <td>1015904957</td>\n",
       "      <td>9</td>\n",
       "    </tr>\n",
       "    <tr>\n",
       "      <th>5145</th>\n",
       "      <td>36</td>\n",
       "      <td>198</td>\n",
       "      <td>1015904988</td>\n",
       "      <td>10</td>\n",
       "    </tr>\n",
       "    <tr>\n",
       "      <th>5296</th>\n",
       "      <td>36</td>\n",
       "      <td>1147</td>\n",
       "      <td>1015905111</td>\n",
       "      <td>11</td>\n",
       "    </tr>\n",
       "    <tr>\n",
       "      <th>5034</th>\n",
       "      <td>36</td>\n",
       "      <td>581</td>\n",
       "      <td>1015905127</td>\n",
       "      <td>12</td>\n",
       "    </tr>\n",
       "    <tr>\n",
       "      <th>5218</th>\n",
       "      <td>36</td>\n",
       "      <td>3142</td>\n",
       "      <td>1015905144</td>\n",
       "      <td>13</td>\n",
       "    </tr>\n",
       "    <tr>\n",
       "      <th>5328</th>\n",
       "      <td>36</td>\n",
       "      <td>556</td>\n",
       "      <td>1015905144</td>\n",
       "      <td>14</td>\n",
       "    </tr>\n",
       "  </tbody>\n",
       "</table>\n",
       "</div>"
      ],
      "text/plain": [
       "      UserId  ItemId        Time  item_idx\n",
       "5170      36    1387  1015904819         0\n",
       "5267      36    1201  1015904819         1\n",
       "5122      36    1291  1015904836         2\n",
       "5123      36    2167  1015904905         3\n",
       "5290      36    2951  1015904905         4\n",
       "5359      36    2115  1015904905         5\n",
       "5073      36    1912  1015904924         6\n",
       "5113      36    2662  1015904924         7\n",
       "5366      36    2985  1015904941         8\n",
       "5305      36    2527  1015904957         9\n",
       "5145      36     198  1015904988        10\n",
       "5296      36    1147  1015905111        11\n",
       "5034      36     581  1015905127        12\n",
       "5218      36    3142  1015905144        13\n",
       "5328      36     556  1015905144        14"
      ]
     },
     "execution_count": 40,
     "metadata": {},
     "output_type": "execute_result"
    }
   ],
   "source": [
    "tr_data_loader = SessionDataLoader(tr_dataset, batch_size=4)\n",
    "tr_dataset.df.head(15)"
   ]
  },
  {
   "cell_type": "code",
   "execution_count": 41,
   "id": "revised-content",
   "metadata": {},
   "outputs": [],
   "source": [
    "iter_ex = iter(tr_data_loader)"
   ]
  },
  {
   "cell_type": "code",
   "execution_count": 42,
   "id": "chief-opposition",
   "metadata": {},
   "outputs": [
    {
     "name": "stdout",
     "output_type": "stream",
     "text": [
      "Model Input Item Idx are : [ 0 34 16 78]\n",
      "Label Item Idx are :       [ 1 35 58 79]\n",
      "Previous Masked Input Idx are []\n"
     ]
    }
   ],
   "source": [
    "inputs, labels, mask =  next(iter_ex)\n",
    "print(f'Model Input Item Idx are : {inputs}')\n",
    "print(f'Label Item Idx are : {\"\":5} {labels}')\n",
    "print(f'Previous Masked Input Idx are {mask}')"
   ]
  },
  {
   "cell_type": "markdown",
   "id": "valid-supervision",
   "metadata": {},
   "source": [
    "## Modeling\n",
    "### Evaluation Metric\n",
    "* 모델 성능 평가를 위한 지표.\n",
    "* 모델 성능에 대한 지표로 precision이나 recall이 있다.\n",
    "* Session-Based Recommendation Task에서는 모델이 k개의 아이템을 제시했을 때, 유저가 클릭/ 구매한 n개의 아이템이 많아야 좋다.\n",
    "* 이 때문에 recall의 개념을 확장한 recall@k 지표, precision의 개념을 확장한 Mean Average Precision@k 지표 등을 사용한다.\n",
    "* 추천에서는 몇 번째로 맞추느냐도 중요하다. \n",
    "* 따라서 순서에 민감한 지표인 MRR, NDCG 같은 지표도 사용한다.\n",
    "* 이번 자료에서는 MRR과 Recall@k를 사용한다. \n",
    "* MRR은 정답 아이템이 나온 순번의 역수 값이다.\n",
    "* 따라서 정답 아이템이 추천 결과 앞쪽 순번에 나온다면 지표가 높아질 것이고 뒤쪽에 나오거나 안나온다면 지표가 낮아질 것이다."
   ]
  },
  {
   "cell_type": "markdown",
   "id": "processed-stadium",
   "metadata": {},
   "source": [
    "### recall@k\n",
    "* recall@k는 전체 relevant한 아이템 중 추천된 아이템이 속한 비율\n",
    "### MRR@20\n",
    "* Reciprocal rank는 첫 번째로 등장하는 relevant한 아이템이 우리의 추천상 몇 번째에 위치하는지를 나타내는 지표다. 하지만 그대로 몇 번째인지를 사용하면 앞에 나올 수록 좋은 모델이라는 것을 반대로 표현하게되니 역수를 취해주게 된다."
   ]
  },
  {
   "cell_type": "code",
   "execution_count": 43,
   "id": "anticipated-dublin",
   "metadata": {},
   "outputs": [],
   "source": [
    "def mrr_k(pred, truth: int, k: int):\n",
    "    indexing = np.where(pred[:k] == truth)[0]\n",
    "    if len(indexing) > 0:\n",
    "        return 1 / (indexing[0] + 1)\n",
    "    else:\n",
    "        return 0\n",
    "\n",
    "\n",
    "def recall_k(pred, truth: int, k: int) -> int:\n",
    "    answer = truth in pred[:k]\n",
    "    return int(answer)"
   ]
  },
  {
   "cell_type": "markdown",
   "id": "plastic-sapphire",
   "metadata": {},
   "source": [
    "### Model Architecture\n",
    "* 모델 구조를 구현"
   ]
  },
  {
   "cell_type": "markdown",
   "id": "amino-special",
   "metadata": {},
   "source": [
    "### GRU란? \n",
    "* GRU(Gated Reccurent Unit)은 LSTM의 장기 의존성 문제를 해결하면서, 매번 은닉상태 업데이트 계산을 줄여 LSTM보다 Simple한 구조를 가진다.\n",
    "* 출처 -:https://omicro03.medium.com/%EC%9E%90%EC%97%B0%EC%96%B4%EC%B2%98%EB%A6%AC-nlp-30%EC%9D%BC%EC%B0%A8-gru-4fce44eb4243"
   ]
  },
  {
   "cell_type": "markdown",
   "id": "headed-jacob",
   "metadata": {},
   "source": [
    "![Screenshot from 2021-03-18 02-38-50](https://user-images.githubusercontent.com/60597598/111512686-5ae79200-8793-11eb-9616-3976c8460bd9.png)"
   ]
  },
  {
   "cell_type": "code",
   "execution_count": 44,
   "id": "polyphonic-legend",
   "metadata": {},
   "outputs": [],
   "source": [
    "import numpy as np\n",
    "import tensorflow as tf\n",
    "from tensorflow.keras.layers import Input, Dense, Dropout, GRU\n",
    "from tensorflow.keras.losses import categorical_crossentropy\n",
    "from tensorflow.keras.models import Model\n",
    "from tensorflow.keras.optimizers import Adam\n",
    "from tensorflow.keras.utils import to_categorical\n",
    "from tqdm import tqdm"
   ]
  },
  {
   "cell_type": "code",
   "execution_count": 45,
   "id": "appropriate-bloom",
   "metadata": {},
   "outputs": [],
   "source": [
    "def create_model(args):\n",
    "    inputs = Input(batch_shape=(args.batch_size, 1, args.num_items))\n",
    "    gru, _ = GRU(args.hsz, stateful=True, return_state=True, name='GRU')(inputs)\n",
    "    dropout = Dropout(args.drop_rate)(gru)\n",
    "    predictions = Dense(args.num_items, activation='softmax')(dropout)\n",
    "    model = Model(inputs=inputs, outputs=[predictions])\n",
    "    model.compile(loss=categorical_crossentropy, optimizer=Adam(args.lr), metrics=['accuracy'])\n",
    "    model.summary()\n",
    "    return model"
   ]
  },
  {
   "cell_type": "markdown",
   "id": "classical-atlantic",
   "metadata": {},
   "source": [
    "### Args 하이퍼 파라미터 조정\n",
    "* 모델별 sessions 길이별로 args의 batch size를 조절해보자.\n",
    "* train Set ,valid Set, test Set의 Sessions는 각각 131, 42, 77이므로 batchsize를 42보다 작은 값으로 해야한다.\n",
    "* 그래서 32값을 넣어주었다."
   ]
  },
  {
   "cell_type": "code",
   "execution_count": 46,
   "id": "solved-beginning",
   "metadata": {},
   "outputs": [],
   "source": [
    "class Args:\n",
    "    def __init__(self, tr, val, test, batch_size, hsz, drop_rate, lr, epochs, k):\n",
    "        self.tr = tr\n",
    "        self.val = val\n",
    "        self.test = test\n",
    "        self.num_items = tr['ItemId'].nunique()\n",
    "        self.num_sessions = tr['UserId'].nunique()\n",
    "        self.batch_size = batch_size\n",
    "        self.hsz = hsz\n",
    "        self.drop_rate = drop_rate\n",
    "        self.lr = lr\n",
    "        self.epochs = epochs\n",
    "        self.k = k\n",
    "\n",
    "args = Args(tr, val, test, batch_size=32, hsz=50, drop_rate=0.1, lr=0.001, epochs=3, k=20)"
   ]
  },
  {
   "cell_type": "code",
   "execution_count": 47,
   "id": "second-dynamics",
   "metadata": {},
   "outputs": [
    {
     "name": "stdout",
     "output_type": "stream",
     "text": [
      "Model: \"model\"\n",
      "_________________________________________________________________\n",
      "Layer (type)                 Output Shape              Param #   \n",
      "=================================================================\n",
      "input_1 (InputLayer)         [(32, 1, 2387)]           0         \n",
      "_________________________________________________________________\n",
      "GRU (GRU)                    [(32, 50), (32, 50)]      365850    \n",
      "_________________________________________________________________\n",
      "dropout (Dropout)            (32, 50)                  0         \n",
      "_________________________________________________________________\n",
      "dense (Dense)                (32, 2387)                121737    \n",
      "=================================================================\n",
      "Total params: 487,587\n",
      "Trainable params: 487,587\n",
      "Non-trainable params: 0\n",
      "_________________________________________________________________\n"
     ]
    }
   ],
   "source": [
    "model = create_model(args)"
   ]
  },
  {
   "cell_type": "code",
   "execution_count": 48,
   "id": "turned-georgia",
   "metadata": {},
   "outputs": [],
   "source": [
    "# train 셋으로 학습하면서 valid 셋으로 검증합니다.\n",
    "def train_model(model, args):\n",
    "    train_dataset = SessionDataset(args.tr)\n",
    "    train_loader = SessionDataLoader(train_dataset, batch_size=args.batch_size)\n",
    "\n",
    "    for epoch in range(1, args.epochs + 1):\n",
    "        total_step = len(args.tr) - args.tr['UserId'].nunique()\n",
    "        tr_loader = tqdm(train_loader, total=total_step // args.batch_size, desc='Train', mininterval=1)\n",
    "        for feat, target, mask in tr_loader:\n",
    "            reset_hidden_states(model, mask)  # 종료된 session은 hidden_state를 초기화합니다. 아래 메서드에서 확인해주세요.\n",
    "\n",
    "            input_ohe = to_categorical(feat, num_classes=args.num_items)\n",
    "            input_ohe = np.expand_dims(input_ohe, axis=1)\n",
    "            target_ohe = to_categorical(target, num_classes=args.num_items)\n",
    "\n",
    "            result = model.train_on_batch(input_ohe, target_ohe)\n",
    "            tr_loader.set_postfix(train_loss=result[0], accuracy = result[1])\n",
    "\n",
    "        val_recall, val_mrr = get_metrics(args.val, model, args, args.k)  # valid set에 대해 검증합니다.\n",
    "\n",
    "        print(f\"\\t - Recall@{args.k} epoch {epoch}: {val_recall:3f}\")\n",
    "        print(f\"\\t - MRR@{args.k}    epoch {epoch}: {val_mrr:3f}\\n\")\n",
    "\n",
    "\n",
    "def reset_hidden_states(model, mask):\n",
    "    gru_layer = model.get_layer(name='GRU')  # model에서 gru layer를 가져옵니다.\n",
    "    hidden_states = gru_layer.states[0].numpy()  # gru_layer의 parameter를 가져옵니다.\n",
    "    for elt in mask:  # mask된 인덱스 즉, 종료된 세션의 인덱스를 돌면서\n",
    "        hidden_states[elt, :] = 0  # parameter를 초기화 합니다.\n",
    "    gru_layer.reset_states(states=hidden_states)\n",
    "\n",
    "\n",
    "def get_metrics(data, model, args, k: int):  # valid셋과 test셋을 평가하는 코드입니다. \n",
    "                                             # train과 거의 같지만 mrr, recall을 구하는 라인이 있습니다.\n",
    "    dataset = SessionDataset(data)\n",
    "    loader = SessionDataLoader(dataset, batch_size=args.batch_size)\n",
    "    recall_list, mrr_list = [], []\n",
    "\n",
    "    total_step = len(data) - data['UserId'].nunique()\n",
    "    for inputs, label, mask in tqdm(loader, total=total_step // args.batch_size, desc='Evaluation', mininterval=1):\n",
    "        reset_hidden_states(model, mask)\n",
    "        input_ohe = to_categorical(inputs, num_classes=args.num_items)\n",
    "        input_ohe = np.expand_dims(input_ohe, axis=1)\n",
    "\n",
    "        pred = model.predict(input_ohe, batch_size=args.batch_size)\n",
    "        pred_arg = tf.argsort(pred, direction='DESCENDING')  # softmax 값이 큰 순서대로 sorting 합니다.\n",
    "\n",
    "        length = len(inputs)\n",
    "        recall_list.extend([recall_k(pred_arg[i], label[i], k) for i in range(length)])\n",
    "        mrr_list.extend([mrr_k(pred_arg[i], label[i], k) for i in range(length)])\n",
    "\n",
    "    recall, mrr = np.mean(recall_list), np.mean(mrr_list)\n",
    "    return recall, mrr"
   ]
  },
  {
   "cell_type": "code",
   "execution_count": 49,
   "id": "honest-strike",
   "metadata": {
    "scrolled": true
   },
   "outputs": [
    {
     "name": "stderr",
     "output_type": "stream",
     "text": [
      "Train:  76%|███████▌  | 225/298 [00:03<00:01, 58.21it/s, accuracy=0, train_loss=7.61]     \n",
      "Evaluation:  37%|███▋      | 27/73 [00:03<00:06,  7.60it/s]\n",
      "Train:   0%|          | 0/298 [00:00<?, ?it/s, accuracy=0, train_loss=7.1]      "
     ]
    },
    {
     "name": "stdout",
     "output_type": "stream",
     "text": [
      "\t - Recall@20 epoch 1: 0.043981\n",
      "\t - MRR@20    epoch 1: 0.009732\n",
      "\n"
     ]
    },
    {
     "name": "stderr",
     "output_type": "stream",
     "text": [
      "Train:  76%|███████▌  | 225/298 [00:01<00:00, 130.05it/s, accuracy=0, train_loss=7.52]     \n",
      "Evaluation:  37%|███▋      | 27/73 [00:03<00:05,  8.41it/s]\n",
      "Train:   0%|          | 0/298 [00:00<?, ?it/s, accuracy=0, train_loss=7.01]     "
     ]
    },
    {
     "name": "stdout",
     "output_type": "stream",
     "text": [
      "\t - Recall@20 epoch 2: 0.047454\n",
      "\t - MRR@20    epoch 2: 0.008910\n",
      "\n"
     ]
    },
    {
     "name": "stderr",
     "output_type": "stream",
     "text": [
      "Train:  76%|███████▌  | 225/298 [00:01<00:00, 145.71it/s, accuracy=0, train_loss=7.44]     \n",
      "Evaluation:  37%|███▋      | 27/73 [00:03<00:05,  8.43it/s]"
     ]
    },
    {
     "name": "stdout",
     "output_type": "stream",
     "text": [
      "\t - Recall@20 epoch 3: 0.046296\n",
      "\t - MRR@20    epoch 3: 0.009321\n",
      "\n"
     ]
    },
    {
     "name": "stderr",
     "output_type": "stream",
     "text": [
      "\n"
     ]
    }
   ],
   "source": [
    "# 학습 시간이 다소 오래 소요됩니다. (예상시간 1시간)\n",
    "train_model(model, args)"
   ]
  },
  {
   "cell_type": "code",
   "execution_count": 50,
   "id": "sustained-progress",
   "metadata": {},
   "outputs": [
    {
     "name": "stderr",
     "output_type": "stream",
     "text": [
      "Evaluation:  58%|█████▊    | 124/215 [00:14<00:10,  8.40it/s]"
     ]
    },
    {
     "name": "stdout",
     "output_type": "stream",
     "text": [
      "\t - Recall@20: 0.028478\n",
      "\t - MRR@20: 0.005467\n",
      "\n"
     ]
    },
    {
     "name": "stderr",
     "output_type": "stream",
     "text": [
      "\n"
     ]
    }
   ],
   "source": [
    "def test_model(model, args, test):\n",
    "    test_recall, test_mrr = get_metrics(test, model, args, 20)\n",
    "    print(f\"\\t - Recall@{args.k}: {test_recall:3f}\")\n",
    "    print(f\"\\t - MRR@{args.k}: {test_mrr:3f}\\n\")\n",
    "\n",
    "test_model(model, args, test)"
   ]
  },
  {
   "cell_type": "markdown",
   "id": "impaired-capital",
   "metadata": {},
   "source": [
    "## Model 결과 분석1\n",
    "* 처음에 Args의 batch size를 2048로 해서 index 에러가 생겼다.\n",
    "* 확인해보니 데이터셋별 세션 길이가 중요했고, valid데이터셋 세션 길이가 42여서 배치사이즈를 이보다 더 작은 값을 넣어주어야 했다.\n",
    "* 그래서 batchsize =32를 넣고 학습을 시켰다.\n",
    "* 오류는 해결되었지만 Recall@20, MRR@20수치가 매우 낮았다.\n",
    "* 이는 데이터셋이 너무 적었다는 결론이 나왔다.\n",
    "* 데이터셋을 1년치만 썼는데 전체 데이터셋을 쓰는 시도를 해볼 필요가 있다."
   ]
  },
  {
   "cell_type": "markdown",
   "id": "transparent-memorial",
   "metadata": {},
   "source": [
    "## 시도 1 : 전체 데이터셋으로 학습하기"
   ]
  },
  {
   "cell_type": "code",
   "execution_count": 49,
   "id": "sporting-candy",
   "metadata": {},
   "outputs": [],
   "source": [
    "data_path = Path(os.getenv('HOME')+'/aiffel/yoochoose-data/ml-1m') \n",
    "train_path = data_path / 'ratings.dat'"
   ]
  },
  {
   "cell_type": "code",
   "execution_count": 50,
   "id": "documented-talent",
   "metadata": {},
   "outputs": [],
   "source": [
    "def load_data(data_path: Path, nrows=None):\n",
    "    data = pd.read_csv(data_path, sep='::', header=None, usecols=[0, 1, 2, 3], dtype={0: np.int32, 1: np.int32, 2: np.int32}, nrows=nrows)\n",
    "    data.columns = ['UserId', 'ItemId', 'Rating', 'Time']\n",
    "    return data"
   ]
  },
  {
   "cell_type": "code",
   "execution_count": 51,
   "id": "indonesian-collaboration",
   "metadata": {},
   "outputs": [
    {
     "data": {
      "text/html": [
       "<div>\n",
       "<style scoped>\n",
       "    .dataframe tbody tr th:only-of-type {\n",
       "        vertical-align: middle;\n",
       "    }\n",
       "\n",
       "    .dataframe tbody tr th {\n",
       "        vertical-align: top;\n",
       "    }\n",
       "\n",
       "    .dataframe thead th {\n",
       "        text-align: right;\n",
       "    }\n",
       "</style>\n",
       "<table border=\"1\" class=\"dataframe\">\n",
       "  <thead>\n",
       "    <tr style=\"text-align: right;\">\n",
       "      <th></th>\n",
       "      <th>UserId</th>\n",
       "      <th>ItemId</th>\n",
       "      <th>Rating</th>\n",
       "      <th>Time</th>\n",
       "    </tr>\n",
       "  </thead>\n",
       "  <tbody>\n",
       "    <tr>\n",
       "      <th>31</th>\n",
       "      <td>1</td>\n",
       "      <td>3186</td>\n",
       "      <td>4</td>\n",
       "      <td>978300019</td>\n",
       "    </tr>\n",
       "    <tr>\n",
       "      <th>22</th>\n",
       "      <td>1</td>\n",
       "      <td>1270</td>\n",
       "      <td>5</td>\n",
       "      <td>978300055</td>\n",
       "    </tr>\n",
       "    <tr>\n",
       "      <th>27</th>\n",
       "      <td>1</td>\n",
       "      <td>1721</td>\n",
       "      <td>4</td>\n",
       "      <td>978300055</td>\n",
       "    </tr>\n",
       "    <tr>\n",
       "      <th>37</th>\n",
       "      <td>1</td>\n",
       "      <td>1022</td>\n",
       "      <td>5</td>\n",
       "      <td>978300055</td>\n",
       "    </tr>\n",
       "    <tr>\n",
       "      <th>24</th>\n",
       "      <td>1</td>\n",
       "      <td>2340</td>\n",
       "      <td>3</td>\n",
       "      <td>978300103</td>\n",
       "    </tr>\n",
       "    <tr>\n",
       "      <th>...</th>\n",
       "      <td>...</td>\n",
       "      <td>...</td>\n",
       "      <td>...</td>\n",
       "      <td>...</td>\n",
       "    </tr>\n",
       "    <tr>\n",
       "      <th>1000019</th>\n",
       "      <td>6040</td>\n",
       "      <td>2917</td>\n",
       "      <td>4</td>\n",
       "      <td>997454429</td>\n",
       "    </tr>\n",
       "    <tr>\n",
       "      <th>999988</th>\n",
       "      <td>6040</td>\n",
       "      <td>1921</td>\n",
       "      <td>4</td>\n",
       "      <td>997454464</td>\n",
       "    </tr>\n",
       "    <tr>\n",
       "      <th>1000172</th>\n",
       "      <td>6040</td>\n",
       "      <td>1784</td>\n",
       "      <td>3</td>\n",
       "      <td>997454464</td>\n",
       "    </tr>\n",
       "    <tr>\n",
       "      <th>1000167</th>\n",
       "      <td>6040</td>\n",
       "      <td>161</td>\n",
       "      <td>3</td>\n",
       "      <td>997454486</td>\n",
       "    </tr>\n",
       "    <tr>\n",
       "      <th>1000042</th>\n",
       "      <td>6040</td>\n",
       "      <td>1221</td>\n",
       "      <td>4</td>\n",
       "      <td>998315055</td>\n",
       "    </tr>\n",
       "  </tbody>\n",
       "</table>\n",
       "<p>1000209 rows × 4 columns</p>\n",
       "</div>"
      ],
      "text/plain": [
       "         UserId  ItemId  Rating       Time\n",
       "31            1    3186       4  978300019\n",
       "22            1    1270       5  978300055\n",
       "27            1    1721       4  978300055\n",
       "37            1    1022       5  978300055\n",
       "24            1    2340       3  978300103\n",
       "...         ...     ...     ...        ...\n",
       "1000019    6040    2917       4  997454429\n",
       "999988     6040    1921       4  997454464\n",
       "1000172    6040    1784       3  997454464\n",
       "1000167    6040     161       3  997454486\n",
       "1000042    6040    1221       4  998315055\n",
       "\n",
       "[1000209 rows x 4 columns]"
      ]
     },
     "execution_count": 51,
     "metadata": {},
     "output_type": "execute_result"
    }
   ],
   "source": [
    "data = load_data(train_path, None)\n",
    "data.sort_values(['UserId', 'Time'], inplace=True)  # data를 id와 시간 순서로 정렬해줍니다.\n",
    "data"
   ]
  },
  {
   "cell_type": "code",
   "execution_count": 52,
   "id": "discrete-premiere",
   "metadata": {},
   "outputs": [
    {
     "data": {
      "text/html": [
       "<div>\n",
       "<style scoped>\n",
       "    .dataframe tbody tr th:only-of-type {\n",
       "        vertical-align: middle;\n",
       "    }\n",
       "\n",
       "    .dataframe tbody tr th {\n",
       "        vertical-align: top;\n",
       "    }\n",
       "\n",
       "    .dataframe thead th {\n",
       "        text-align: right;\n",
       "    }\n",
       "</style>\n",
       "<table border=\"1\" class=\"dataframe\">\n",
       "  <thead>\n",
       "    <tr style=\"text-align: right;\">\n",
       "      <th></th>\n",
       "      <th>UserId</th>\n",
       "      <th>ItemId</th>\n",
       "      <th>Time</th>\n",
       "    </tr>\n",
       "  </thead>\n",
       "  <tbody>\n",
       "    <tr>\n",
       "      <th>31</th>\n",
       "      <td>1</td>\n",
       "      <td>3186</td>\n",
       "      <td>978300019</td>\n",
       "    </tr>\n",
       "    <tr>\n",
       "      <th>22</th>\n",
       "      <td>1</td>\n",
       "      <td>1270</td>\n",
       "      <td>978300055</td>\n",
       "    </tr>\n",
       "    <tr>\n",
       "      <th>27</th>\n",
       "      <td>1</td>\n",
       "      <td>1721</td>\n",
       "      <td>978300055</td>\n",
       "    </tr>\n",
       "    <tr>\n",
       "      <th>37</th>\n",
       "      <td>1</td>\n",
       "      <td>1022</td>\n",
       "      <td>978300055</td>\n",
       "    </tr>\n",
       "    <tr>\n",
       "      <th>24</th>\n",
       "      <td>1</td>\n",
       "      <td>2340</td>\n",
       "      <td>978300103</td>\n",
       "    </tr>\n",
       "    <tr>\n",
       "      <th>...</th>\n",
       "      <td>...</td>\n",
       "      <td>...</td>\n",
       "      <td>...</td>\n",
       "    </tr>\n",
       "    <tr>\n",
       "      <th>1000019</th>\n",
       "      <td>6040</td>\n",
       "      <td>2917</td>\n",
       "      <td>997454429</td>\n",
       "    </tr>\n",
       "    <tr>\n",
       "      <th>999988</th>\n",
       "      <td>6040</td>\n",
       "      <td>1921</td>\n",
       "      <td>997454464</td>\n",
       "    </tr>\n",
       "    <tr>\n",
       "      <th>1000172</th>\n",
       "      <td>6040</td>\n",
       "      <td>1784</td>\n",
       "      <td>997454464</td>\n",
       "    </tr>\n",
       "    <tr>\n",
       "      <th>1000167</th>\n",
       "      <td>6040</td>\n",
       "      <td>161</td>\n",
       "      <td>997454486</td>\n",
       "    </tr>\n",
       "    <tr>\n",
       "      <th>1000042</th>\n",
       "      <td>6040</td>\n",
       "      <td>1221</td>\n",
       "      <td>998315055</td>\n",
       "    </tr>\n",
       "  </tbody>\n",
       "</table>\n",
       "<p>1000209 rows × 3 columns</p>\n",
       "</div>"
      ],
      "text/plain": [
       "         UserId  ItemId       Time\n",
       "31            1    3186  978300019\n",
       "22            1    1270  978300055\n",
       "27            1    1721  978300055\n",
       "37            1    1022  978300055\n",
       "24            1    2340  978300103\n",
       "...         ...     ...        ...\n",
       "1000019    6040    2917  997454429\n",
       "999988     6040    1921  997454464\n",
       "1000172    6040    1784  997454464\n",
       "1000167    6040     161  997454486\n",
       "1000042    6040    1221  998315055\n",
       "\n",
       "[1000209 rows x 3 columns]"
      ]
     },
     "execution_count": 52,
     "metadata": {},
     "output_type": "execute_result"
    }
   ],
   "source": [
    "data = data.drop('Rating', axis=1)\n",
    "data"
   ]
  },
  {
   "cell_type": "code",
   "execution_count": 53,
   "id": "serial-chinese",
   "metadata": {},
   "outputs": [
    {
     "data": {
      "text/plain": [
       "ItemId\n",
       "1       2077\n",
       "2        701\n",
       "3        478\n",
       "4        170\n",
       "5        296\n",
       "        ... \n",
       "3948     862\n",
       "3949     304\n",
       "3950      54\n",
       "3951      40\n",
       "3952     388\n",
       "Length: 3706, dtype: int64"
      ]
     },
     "execution_count": 53,
     "metadata": {},
     "output_type": "execute_result"
    }
   ],
   "source": [
    "ItemId_length = data.groupby('ItemId').size()\n",
    "ItemId_length"
   ]
  },
  {
   "cell_type": "code",
   "execution_count": 54,
   "id": "incorporate-hungarian",
   "metadata": {},
   "outputs": [
    {
     "data": {
      "text/html": [
       "<div>\n",
       "<style scoped>\n",
       "    .dataframe tbody tr th:only-of-type {\n",
       "        vertical-align: middle;\n",
       "    }\n",
       "\n",
       "    .dataframe tbody tr th {\n",
       "        vertical-align: top;\n",
       "    }\n",
       "\n",
       "    .dataframe thead th {\n",
       "        text-align: right;\n",
       "    }\n",
       "</style>\n",
       "<table border=\"1\" class=\"dataframe\">\n",
       "  <thead>\n",
       "    <tr style=\"text-align: right;\">\n",
       "      <th></th>\n",
       "      <th>UserId</th>\n",
       "      <th>ItemId</th>\n",
       "      <th>Time</th>\n",
       "    </tr>\n",
       "  </thead>\n",
       "  <tbody>\n",
       "    <tr>\n",
       "      <th>31</th>\n",
       "      <td>1</td>\n",
       "      <td>3186</td>\n",
       "      <td>978300019</td>\n",
       "    </tr>\n",
       "    <tr>\n",
       "      <th>22</th>\n",
       "      <td>1</td>\n",
       "      <td>1270</td>\n",
       "      <td>978300055</td>\n",
       "    </tr>\n",
       "    <tr>\n",
       "      <th>27</th>\n",
       "      <td>1</td>\n",
       "      <td>1721</td>\n",
       "      <td>978300055</td>\n",
       "    </tr>\n",
       "    <tr>\n",
       "      <th>37</th>\n",
       "      <td>1</td>\n",
       "      <td>1022</td>\n",
       "      <td>978300055</td>\n",
       "    </tr>\n",
       "    <tr>\n",
       "      <th>24</th>\n",
       "      <td>1</td>\n",
       "      <td>2340</td>\n",
       "      <td>978300103</td>\n",
       "    </tr>\n",
       "    <tr>\n",
       "      <th>...</th>\n",
       "      <td>...</td>\n",
       "      <td>...</td>\n",
       "      <td>...</td>\n",
       "    </tr>\n",
       "    <tr>\n",
       "      <th>1000019</th>\n",
       "      <td>6040</td>\n",
       "      <td>2917</td>\n",
       "      <td>997454429</td>\n",
       "    </tr>\n",
       "    <tr>\n",
       "      <th>999988</th>\n",
       "      <td>6040</td>\n",
       "      <td>1921</td>\n",
       "      <td>997454464</td>\n",
       "    </tr>\n",
       "    <tr>\n",
       "      <th>1000172</th>\n",
       "      <td>6040</td>\n",
       "      <td>1784</td>\n",
       "      <td>997454464</td>\n",
       "    </tr>\n",
       "    <tr>\n",
       "      <th>1000167</th>\n",
       "      <td>6040</td>\n",
       "      <td>161</td>\n",
       "      <td>997454486</td>\n",
       "    </tr>\n",
       "    <tr>\n",
       "      <th>1000042</th>\n",
       "      <td>6040</td>\n",
       "      <td>1221</td>\n",
       "      <td>998315055</td>\n",
       "    </tr>\n",
       "  </tbody>\n",
       "</table>\n",
       "<p>998489 rows × 3 columns</p>\n",
       "</div>"
      ],
      "text/plain": [
       "         UserId  ItemId       Time\n",
       "31            1    3186  978300019\n",
       "22            1    1270  978300055\n",
       "27            1    1721  978300055\n",
       "37            1    1022  978300055\n",
       "24            1    2340  978300103\n",
       "...         ...     ...        ...\n",
       "1000019    6040    2917  997454429\n",
       "999988     6040    1921  997454464\n",
       "1000172    6040    1784  997454464\n",
       "1000167    6040     161  997454486\n",
       "1000042    6040    1221  998315055\n",
       "\n",
       "[998489 rows x 3 columns]"
      ]
     },
     "execution_count": 54,
     "metadata": {},
     "output_type": "execute_result"
    }
   ],
   "source": [
    "data = cleanse_recursive(data, shortest=21, least_click=1)\n",
    "data"
   ]
  },
  {
   "cell_type": "code",
   "execution_count": 55,
   "id": "handed-antenna",
   "metadata": {},
   "outputs": [],
   "source": [
    "tr, test = split_by_date(data, n_days=30)\n",
    "tr, val = split_by_date(tr, n_days=30)"
   ]
  },
  {
   "cell_type": "code",
   "execution_count": 56,
   "id": "alone-hundred",
   "metadata": {},
   "outputs": [
    {
     "data": {
      "text/html": [
       "<div>\n",
       "<style scoped>\n",
       "    .dataframe tbody tr th:only-of-type {\n",
       "        vertical-align: middle;\n",
       "    }\n",
       "\n",
       "    .dataframe tbody tr th {\n",
       "        vertical-align: top;\n",
       "    }\n",
       "\n",
       "    .dataframe thead th {\n",
       "        text-align: right;\n",
       "    }\n",
       "</style>\n",
       "<table border=\"1\" class=\"dataframe\">\n",
       "  <thead>\n",
       "    <tr style=\"text-align: right;\">\n",
       "      <th></th>\n",
       "      <th>UserId</th>\n",
       "      <th>ItemId</th>\n",
       "      <th>Time</th>\n",
       "    </tr>\n",
       "  </thead>\n",
       "  <tbody>\n",
       "    <tr>\n",
       "      <th>31</th>\n",
       "      <td>1</td>\n",
       "      <td>3186</td>\n",
       "      <td>978300019</td>\n",
       "    </tr>\n",
       "    <tr>\n",
       "      <th>22</th>\n",
       "      <td>1</td>\n",
       "      <td>1270</td>\n",
       "      <td>978300055</td>\n",
       "    </tr>\n",
       "    <tr>\n",
       "      <th>27</th>\n",
       "      <td>1</td>\n",
       "      <td>1721</td>\n",
       "      <td>978300055</td>\n",
       "    </tr>\n",
       "    <tr>\n",
       "      <th>37</th>\n",
       "      <td>1</td>\n",
       "      <td>1022</td>\n",
       "      <td>978300055</td>\n",
       "    </tr>\n",
       "    <tr>\n",
       "      <th>24</th>\n",
       "      <td>1</td>\n",
       "      <td>2340</td>\n",
       "      <td>978300103</td>\n",
       "    </tr>\n",
       "  </tbody>\n",
       "</table>\n",
       "</div>"
      ],
      "text/plain": [
       "    UserId  ItemId       Time\n",
       "31       1    3186  978300019\n",
       "22       1    1270  978300055\n",
       "27       1    1721  978300055\n",
       "37       1    1022  978300055\n",
       "24       1    2340  978300103"
      ]
     },
     "execution_count": 56,
     "metadata": {},
     "output_type": "execute_result"
    }
   ],
   "source": [
    "tr.head()"
   ]
  },
  {
   "cell_type": "code",
   "execution_count": 57,
   "id": "colored-notebook",
   "metadata": {},
   "outputs": [
    {
     "name": "stdout",
     "output_type": "stream",
     "text": [
      "* train Set Stats Info\n",
      "\t Events: 918028\n",
      "\t Sessions: 5772\n",
      "\t Items: 3692\n",
      "\t First Time : 956703932\n",
      "\t Last Time : 1041215174\n",
      "\n",
      "* valid Set Stats Info\n",
      "\t Events: 29494\n",
      "\t Sessions: 79\n",
      "\t Items: 2977\n",
      "\t First Time : 957547221\n",
      "\t Last Time : 1043809240\n",
      "\n",
      "* test Set Stats Info\n",
      "\t Events: 50952\n",
      "\t Sessions: 103\n",
      "\t Items: 3198\n",
      "\t First Time : 957179713\n",
      "\t Last Time : 1046454590\n",
      "\n"
     ]
    }
   ],
   "source": [
    "stats_info(tr, 'train')\n",
    "stats_info(val, 'valid')\n",
    "stats_info(test, 'test')"
   ]
  },
  {
   "cell_type": "code",
   "execution_count": 58,
   "id": "chubby-style",
   "metadata": {},
   "outputs": [],
   "source": [
    "id2idx = {item_id : index for index, item_id in enumerate(tr['ItemId'].unique())}"
   ]
  },
  {
   "cell_type": "code",
   "execution_count": 59,
   "id": "impaired-vitamin",
   "metadata": {},
   "outputs": [],
   "source": [
    "tr = indexing(tr, id2idx)\n",
    "val = indexing(val, id2idx)\n",
    "test = indexing(test, id2idx)"
   ]
  },
  {
   "cell_type": "code",
   "execution_count": 60,
   "id": "indoor-mother",
   "metadata": {},
   "outputs": [],
   "source": [
    "save_path = data_path / 'processed'\n",
    "save_path.mkdir(parents=True, exist_ok=True)\n",
    "\n",
    "tr.to_pickle(save_path / 'train1.pkl')\n",
    "val.to_pickle(save_path / 'valid1.pkl')\n",
    "test.to_pickle(save_path / 'test1.pkl')"
   ]
  },
  {
   "cell_type": "code",
   "execution_count": 61,
   "id": "better-conversion",
   "metadata": {},
   "outputs": [
    {
     "data": {
      "text/html": [
       "<div>\n",
       "<style scoped>\n",
       "    .dataframe tbody tr th:only-of-type {\n",
       "        vertical-align: middle;\n",
       "    }\n",
       "\n",
       "    .dataframe tbody tr th {\n",
       "        vertical-align: top;\n",
       "    }\n",
       "\n",
       "    .dataframe thead th {\n",
       "        text-align: right;\n",
       "    }\n",
       "</style>\n",
       "<table border=\"1\" class=\"dataframe\">\n",
       "  <thead>\n",
       "    <tr style=\"text-align: right;\">\n",
       "      <th></th>\n",
       "      <th>UserId</th>\n",
       "      <th>ItemId</th>\n",
       "      <th>Time</th>\n",
       "      <th>item_idx</th>\n",
       "    </tr>\n",
       "  </thead>\n",
       "  <tbody>\n",
       "    <tr>\n",
       "      <th>31</th>\n",
       "      <td>1</td>\n",
       "      <td>3186</td>\n",
       "      <td>978300019</td>\n",
       "      <td>0</td>\n",
       "    </tr>\n",
       "    <tr>\n",
       "      <th>22</th>\n",
       "      <td>1</td>\n",
       "      <td>1270</td>\n",
       "      <td>978300055</td>\n",
       "      <td>1</td>\n",
       "    </tr>\n",
       "    <tr>\n",
       "      <th>27</th>\n",
       "      <td>1</td>\n",
       "      <td>1721</td>\n",
       "      <td>978300055</td>\n",
       "      <td>2</td>\n",
       "    </tr>\n",
       "    <tr>\n",
       "      <th>37</th>\n",
       "      <td>1</td>\n",
       "      <td>1022</td>\n",
       "      <td>978300055</td>\n",
       "      <td>3</td>\n",
       "    </tr>\n",
       "    <tr>\n",
       "      <th>24</th>\n",
       "      <td>1</td>\n",
       "      <td>2340</td>\n",
       "      <td>978300103</td>\n",
       "      <td>4</td>\n",
       "    </tr>\n",
       "    <tr>\n",
       "      <th>36</th>\n",
       "      <td>1</td>\n",
       "      <td>1836</td>\n",
       "      <td>978300172</td>\n",
       "      <td>5</td>\n",
       "    </tr>\n",
       "    <tr>\n",
       "      <th>3</th>\n",
       "      <td>1</td>\n",
       "      <td>3408</td>\n",
       "      <td>978300275</td>\n",
       "      <td>6</td>\n",
       "    </tr>\n",
       "    <tr>\n",
       "      <th>7</th>\n",
       "      <td>1</td>\n",
       "      <td>2804</td>\n",
       "      <td>978300719</td>\n",
       "      <td>7</td>\n",
       "    </tr>\n",
       "    <tr>\n",
       "      <th>47</th>\n",
       "      <td>1</td>\n",
       "      <td>1207</td>\n",
       "      <td>978300719</td>\n",
       "      <td>8</td>\n",
       "    </tr>\n",
       "    <tr>\n",
       "      <th>0</th>\n",
       "      <td>1</td>\n",
       "      <td>1193</td>\n",
       "      <td>978300760</td>\n",
       "      <td>9</td>\n",
       "    </tr>\n",
       "  </tbody>\n",
       "</table>\n",
       "</div>"
      ],
      "text/plain": [
       "    UserId  ItemId       Time  item_idx\n",
       "31       1    3186  978300019         0\n",
       "22       1    1270  978300055         1\n",
       "27       1    1721  978300055         2\n",
       "37       1    1022  978300055         3\n",
       "24       1    2340  978300103         4\n",
       "36       1    1836  978300172         5\n",
       "3        1    3408  978300275         6\n",
       "7        1    2804  978300719         7\n",
       "47       1    1207  978300719         8\n",
       "0        1    1193  978300760         9"
      ]
     },
     "execution_count": 61,
     "metadata": {},
     "output_type": "execute_result"
    }
   ],
   "source": [
    "tr_dataset = SessionDataset(tr)\n",
    "tr_dataset.df.head(10)"
   ]
  },
  {
   "cell_type": "code",
   "execution_count": 62,
   "id": "productive-montgomery",
   "metadata": {},
   "outputs": [
    {
     "data": {
      "text/plain": [
       "array([     0,     53,    182, ..., 917564, 917687, 918028], dtype=int32)"
      ]
     },
     "execution_count": 62,
     "metadata": {},
     "output_type": "execute_result"
    }
   ],
   "source": [
    "tr_dataset.click_offsets"
   ]
  },
  {
   "cell_type": "code",
   "execution_count": 63,
   "id": "injured-diploma",
   "metadata": {},
   "outputs": [
    {
     "data": {
      "text/plain": [
       "array([   0,    1,    2, ..., 5769, 5770, 5771])"
      ]
     },
     "execution_count": 63,
     "metadata": {},
     "output_type": "execute_result"
    }
   ],
   "source": [
    "tr_dataset.session_idx"
   ]
  },
  {
   "cell_type": "code",
   "execution_count": 64,
   "id": "magnetic-copper",
   "metadata": {},
   "outputs": [
    {
     "data": {
      "text/html": [
       "<div>\n",
       "<style scoped>\n",
       "    .dataframe tbody tr th:only-of-type {\n",
       "        vertical-align: middle;\n",
       "    }\n",
       "\n",
       "    .dataframe tbody tr th {\n",
       "        vertical-align: top;\n",
       "    }\n",
       "\n",
       "    .dataframe thead th {\n",
       "        text-align: right;\n",
       "    }\n",
       "</style>\n",
       "<table border=\"1\" class=\"dataframe\">\n",
       "  <thead>\n",
       "    <tr style=\"text-align: right;\">\n",
       "      <th></th>\n",
       "      <th>UserId</th>\n",
       "      <th>ItemId</th>\n",
       "      <th>Time</th>\n",
       "      <th>item_idx</th>\n",
       "    </tr>\n",
       "  </thead>\n",
       "  <tbody>\n",
       "    <tr>\n",
       "      <th>31</th>\n",
       "      <td>1</td>\n",
       "      <td>3186</td>\n",
       "      <td>978300019</td>\n",
       "      <td>0</td>\n",
       "    </tr>\n",
       "    <tr>\n",
       "      <th>22</th>\n",
       "      <td>1</td>\n",
       "      <td>1270</td>\n",
       "      <td>978300055</td>\n",
       "      <td>1</td>\n",
       "    </tr>\n",
       "    <tr>\n",
       "      <th>27</th>\n",
       "      <td>1</td>\n",
       "      <td>1721</td>\n",
       "      <td>978300055</td>\n",
       "      <td>2</td>\n",
       "    </tr>\n",
       "    <tr>\n",
       "      <th>37</th>\n",
       "      <td>1</td>\n",
       "      <td>1022</td>\n",
       "      <td>978300055</td>\n",
       "      <td>3</td>\n",
       "    </tr>\n",
       "    <tr>\n",
       "      <th>24</th>\n",
       "      <td>1</td>\n",
       "      <td>2340</td>\n",
       "      <td>978300103</td>\n",
       "      <td>4</td>\n",
       "    </tr>\n",
       "    <tr>\n",
       "      <th>36</th>\n",
       "      <td>1</td>\n",
       "      <td>1836</td>\n",
       "      <td>978300172</td>\n",
       "      <td>5</td>\n",
       "    </tr>\n",
       "    <tr>\n",
       "      <th>3</th>\n",
       "      <td>1</td>\n",
       "      <td>3408</td>\n",
       "      <td>978300275</td>\n",
       "      <td>6</td>\n",
       "    </tr>\n",
       "    <tr>\n",
       "      <th>7</th>\n",
       "      <td>1</td>\n",
       "      <td>2804</td>\n",
       "      <td>978300719</td>\n",
       "      <td>7</td>\n",
       "    </tr>\n",
       "    <tr>\n",
       "      <th>47</th>\n",
       "      <td>1</td>\n",
       "      <td>1207</td>\n",
       "      <td>978300719</td>\n",
       "      <td>8</td>\n",
       "    </tr>\n",
       "    <tr>\n",
       "      <th>0</th>\n",
       "      <td>1</td>\n",
       "      <td>1193</td>\n",
       "      <td>978300760</td>\n",
       "      <td>9</td>\n",
       "    </tr>\n",
       "    <tr>\n",
       "      <th>21</th>\n",
       "      <td>1</td>\n",
       "      <td>720</td>\n",
       "      <td>978300760</td>\n",
       "      <td>10</td>\n",
       "    </tr>\n",
       "    <tr>\n",
       "      <th>44</th>\n",
       "      <td>1</td>\n",
       "      <td>260</td>\n",
       "      <td>978300760</td>\n",
       "      <td>11</td>\n",
       "    </tr>\n",
       "    <tr>\n",
       "      <th>9</th>\n",
       "      <td>1</td>\n",
       "      <td>919</td>\n",
       "      <td>978301368</td>\n",
       "      <td>12</td>\n",
       "    </tr>\n",
       "    <tr>\n",
       "      <th>51</th>\n",
       "      <td>1</td>\n",
       "      <td>608</td>\n",
       "      <td>978301398</td>\n",
       "      <td>13</td>\n",
       "    </tr>\n",
       "    <tr>\n",
       "      <th>43</th>\n",
       "      <td>1</td>\n",
       "      <td>2692</td>\n",
       "      <td>978301570</td>\n",
       "      <td>14</td>\n",
       "    </tr>\n",
       "  </tbody>\n",
       "</table>\n",
       "</div>"
      ],
      "text/plain": [
       "    UserId  ItemId       Time  item_idx\n",
       "31       1    3186  978300019         0\n",
       "22       1    1270  978300055         1\n",
       "27       1    1721  978300055         2\n",
       "37       1    1022  978300055         3\n",
       "24       1    2340  978300103         4\n",
       "36       1    1836  978300172         5\n",
       "3        1    3408  978300275         6\n",
       "7        1    2804  978300719         7\n",
       "47       1    1207  978300719         8\n",
       "0        1    1193  978300760         9\n",
       "21       1     720  978300760        10\n",
       "44       1     260  978300760        11\n",
       "9        1     919  978301368        12\n",
       "51       1     608  978301398        13\n",
       "43       1    2692  978301570        14"
      ]
     },
     "execution_count": 64,
     "metadata": {},
     "output_type": "execute_result"
    }
   ],
   "source": [
    "tr_data_loader = SessionDataLoader(tr_dataset, batch_size=4)\n",
    "tr_dataset.df.head(15)"
   ]
  },
  {
   "cell_type": "code",
   "execution_count": 65,
   "id": "twelve-swing",
   "metadata": {},
   "outputs": [],
   "source": [
    "iter_ex = iter(tr_data_loader)"
   ]
  },
  {
   "cell_type": "code",
   "execution_count": 66,
   "id": "surprised-nightlife",
   "metadata": {},
   "outputs": [
    {
     "name": "stdout",
     "output_type": "stream",
     "text": [
      "Model Input Item Idx are : [ 0 53 65 54]\n",
      "Label Item Idx are :       [ 1 54 62 24]\n",
      "Previous Masked Input Idx are []\n"
     ]
    }
   ],
   "source": [
    "inputs, labels, mask =  next(iter_ex)\n",
    "print(f'Model Input Item Idx are : {inputs}')\n",
    "print(f'Label Item Idx are : {\"\":5} {labels}')\n",
    "print(f'Previous Masked Input Idx are {mask}')"
   ]
  },
  {
   "cell_type": "code",
   "execution_count": 67,
   "id": "funded-accused",
   "metadata": {},
   "outputs": [],
   "source": [
    "args = Args(tr, val, test, batch_size=32, hsz=50, drop_rate=0.1, lr=0.001, epochs=3, k=20)"
   ]
  },
  {
   "cell_type": "code",
   "execution_count": 68,
   "id": "architectural-swing",
   "metadata": {},
   "outputs": [
    {
     "name": "stdout",
     "output_type": "stream",
     "text": [
      "Model: \"model_1\"\n",
      "_________________________________________________________________\n",
      "Layer (type)                 Output Shape              Param #   \n",
      "=================================================================\n",
      "input_2 (InputLayer)         [(32, 1, 3692)]           0         \n",
      "_________________________________________________________________\n",
      "GRU (GRU)                    [(32, 50), (32, 50)]      561600    \n",
      "_________________________________________________________________\n",
      "dropout_1 (Dropout)          (32, 50)                  0         \n",
      "_________________________________________________________________\n",
      "dense_1 (Dense)              (32, 3692)                188292    \n",
      "=================================================================\n",
      "Total params: 749,892\n",
      "Trainable params: 749,892\n",
      "Non-trainable params: 0\n",
      "_________________________________________________________________\n"
     ]
    }
   ],
   "source": [
    "model = create_model(args)"
   ]
  },
  {
   "cell_type": "code",
   "execution_count": 79,
   "id": "delayed-gender",
   "metadata": {},
   "outputs": [
    {
     "name": "stderr",
     "output_type": "stream",
     "text": [
      "Train:  99%|█████████▉| 28338/28508 [03:22<00:01, 140.10it/s, accuracy=0.0625, train_loss=5.18]\n",
      "Evaluation:  71%|███████   | 652/919 [01:10<00:28,  9.23it/s]\n",
      "Train:   0%|          | 0/28508 [00:00<?, ?it/s, accuracy=0.0938, train_loss=5.65]"
     ]
    },
    {
     "name": "stdout",
     "output_type": "stream",
     "text": [
      "\t - Recall@20 epoch 1: 0.223016\n",
      "\t - MRR@20    epoch 1: 0.058593\n",
      "\n"
     ]
    },
    {
     "name": "stderr",
     "output_type": "stream",
     "text": [
      "Train:  99%|█████████▉| 28338/28508 [03:17<00:01, 143.43it/s, accuracy=0.125, train_loss=5.1]  \n",
      "Evaluation:  71%|███████   | 652/919 [01:09<00:28,  9.37it/s]\n",
      "Train:   0%|          | 0/28508 [00:00<?, ?it/s, accuracy=0.0312, train_loss=5.79]"
     ]
    },
    {
     "name": "stdout",
     "output_type": "stream",
     "text": [
      "\t - Recall@20 epoch 2: 0.247028\n",
      "\t - MRR@20    epoch 2: 0.069486\n",
      "\n"
     ]
    },
    {
     "name": "stderr",
     "output_type": "stream",
     "text": [
      "Train:  99%|█████████▉| 28338/28508 [03:20<00:01, 141.52it/s, accuracy=0.125, train_loss=4.95] \n",
      "Evaluation:  71%|███████   | 652/919 [01:09<00:28,  9.33it/s]"
     ]
    },
    {
     "name": "stdout",
     "output_type": "stream",
     "text": [
      "\t - Recall@20 epoch 3: 0.258292\n",
      "\t - MRR@20    epoch 3: 0.074301\n",
      "\n"
     ]
    },
    {
     "name": "stderr",
     "output_type": "stream",
     "text": [
      "\n"
     ]
    }
   ],
   "source": [
    "# 학습 시간이 다소 오래 소요됩니다. (예상시간 1시간)\n",
    "train_model(model, args)"
   ]
  },
  {
   "cell_type": "code",
   "execution_count": 80,
   "id": "economic-mumbai",
   "metadata": {},
   "outputs": [
    {
     "name": "stderr",
     "output_type": "stream",
     "text": [
      "Evaluation:  78%|███████▊  | 1247/1589 [02:15<00:37,  9.22it/s]"
     ]
    },
    {
     "name": "stdout",
     "output_type": "stream",
     "text": [
      "\t - Recall@20: 0.247043\n",
      "\t - MRR@20: 0.070059\n",
      "\n"
     ]
    },
    {
     "name": "stderr",
     "output_type": "stream",
     "text": [
      "\n"
     ]
    }
   ],
   "source": [
    "test_model(model, args, test)"
   ]
  },
  {
   "cell_type": "markdown",
   "id": "naked-latter",
   "metadata": {},
   "source": [
    "## Model_1 결과분석2\n",
    "- 약 3년치 dataset 중 1년치 dataset 사용 : Recall@20: 0.028478, MRR@20: 0.005467\n",
    " - all dataset 사용 : Recall@20: 0.247043, MRR@20: 0.070059\n",
    " \n",
    "- epoch가 너무 작은것 같아 epoch만 늘려보기로 했다."
   ]
  },
  {
   "cell_type": "markdown",
   "id": "military-williams",
   "metadata": {},
   "source": [
    "## 시도 2 : epoch 3 -> 15로 증감"
   ]
  },
  {
   "cell_type": "code",
   "execution_count": 69,
   "id": "breeding-lexington",
   "metadata": {},
   "outputs": [],
   "source": [
    "args = Args(tr, val, test, batch_size=32, hsz=50, drop_rate=0.1, lr=0.001, epochs=15, k=20)"
   ]
  },
  {
   "cell_type": "code",
   "execution_count": 70,
   "id": "divine-newfoundland",
   "metadata": {},
   "outputs": [
    {
     "name": "stdout",
     "output_type": "stream",
     "text": [
      "Model: \"model_2\"\n",
      "_________________________________________________________________\n",
      "Layer (type)                 Output Shape              Param #   \n",
      "=================================================================\n",
      "input_3 (InputLayer)         [(32, 1, 3692)]           0         \n",
      "_________________________________________________________________\n",
      "GRU (GRU)                    [(32, 50), (32, 50)]      561600    \n",
      "_________________________________________________________________\n",
      "dropout_2 (Dropout)          (32, 50)                  0         \n",
      "_________________________________________________________________\n",
      "dense_2 (Dense)              (32, 3692)                188292    \n",
      "=================================================================\n",
      "Total params: 749,892\n",
      "Trainable params: 749,892\n",
      "Non-trainable params: 0\n",
      "_________________________________________________________________\n"
     ]
    }
   ],
   "source": [
    "model = create_model(args)"
   ]
  },
  {
   "cell_type": "code",
   "execution_count": 71,
   "id": "moving-integration",
   "metadata": {},
   "outputs": [
    {
     "name": "stderr",
     "output_type": "stream",
     "text": [
      "Train:  99%|█████████▉| 28338/28508 [03:22<00:01, 139.90it/s, accuracy=0.0625, train_loss=4.97]\n",
      "Evaluation:  71%|███████   | 652/919 [01:10<00:28,  9.24it/s]\n",
      "Train:   0%|          | 0/28508 [00:00<?, ?it/s, accuracy=0.0312, train_loss=5.99]"
     ]
    },
    {
     "name": "stdout",
     "output_type": "stream",
     "text": [
      "\t - Recall@20 epoch 1: 0.221099\n",
      "\t - MRR@20    epoch 1: 0.058873\n",
      "\n"
     ]
    },
    {
     "name": "stderr",
     "output_type": "stream",
     "text": [
      "Train:  99%|█████████▉| 28338/28508 [03:18<00:01, 142.95it/s, accuracy=0.125, train_loss=4.82] \n",
      "Evaluation:  71%|███████   | 652/919 [01:08<00:28,  9.49it/s]\n",
      "Train:   0%|          | 0/28508 [00:00<?, ?it/s, accuracy=0.0625, train_loss=5.75]"
     ]
    },
    {
     "name": "stdout",
     "output_type": "stream",
     "text": [
      "\t - Recall@20 epoch 2: 0.250623\n",
      "\t - MRR@20    epoch 2: 0.070475\n",
      "\n"
     ]
    },
    {
     "name": "stderr",
     "output_type": "stream",
     "text": [
      "Train:  99%|█████████▉| 28338/28508 [03:17<00:01, 143.42it/s, accuracy=0.0625, train_loss=4.95]\n",
      "Evaluation:  71%|███████   | 652/919 [01:07<00:27,  9.71it/s]\n",
      "Train:   0%|          | 0/28508 [00:00<?, ?it/s, accuracy=0, train_loss=5.6]      "
     ]
    },
    {
     "name": "stdout",
     "output_type": "stream",
     "text": [
      "\t - Recall@20 epoch 3: 0.259011\n",
      "\t - MRR@20    epoch 3: 0.074443\n",
      "\n"
     ]
    },
    {
     "name": "stderr",
     "output_type": "stream",
     "text": [
      "Train:  99%|█████████▉| 28338/28508 [03:10<00:01, 148.47it/s, accuracy=0.0312, train_loss=5.02]\n",
      "Evaluation:  71%|███████   | 652/919 [01:06<00:27,  9.83it/s]\n",
      "Train:   0%|          | 0/28508 [00:00<?, ?it/s, accuracy=0, train_loss=5.6]      "
     ]
    },
    {
     "name": "stdout",
     "output_type": "stream",
     "text": [
      "\t - Recall@20 epoch 4: 0.261887\n",
      "\t - MRR@20    epoch 4: 0.076208\n",
      "\n"
     ]
    },
    {
     "name": "stderr",
     "output_type": "stream",
     "text": [
      "Train:  99%|█████████▉| 28338/28508 [03:09<00:01, 149.33it/s, accuracy=0.0938, train_loss=5.07]\n",
      "Evaluation:  71%|███████   | 652/919 [01:04<00:26, 10.03it/s]\n",
      "Train:   0%|          | 0/28508 [00:00<?, ?it/s, accuracy=0.0938, train_loss=5.48]"
     ]
    },
    {
     "name": "stdout",
     "output_type": "stream",
     "text": [
      "\t - Recall@20 epoch 5: 0.265481\n",
      "\t - MRR@20    epoch 5: 0.076703\n",
      "\n"
     ]
    },
    {
     "name": "stderr",
     "output_type": "stream",
     "text": [
      "Train:  99%|█████████▉| 28338/28508 [02:57<00:01, 159.77it/s, accuracy=0.0938, train_loss=4.83]\n",
      "Evaluation:  71%|███████   | 652/919 [01:04<00:26, 10.14it/s]\n",
      "Train:   0%|          | 0/28508 [00:00<?, ?it/s, accuracy=0.0938, train_loss=5.43]"
     ]
    },
    {
     "name": "stdout",
     "output_type": "stream",
     "text": [
      "\t - Recall@20 epoch 6: 0.266919\n",
      "\t - MRR@20    epoch 6: 0.078188\n",
      "\n"
     ]
    },
    {
     "name": "stderr",
     "output_type": "stream",
     "text": [
      "Train:  99%|█████████▉| 28338/28508 [02:55<00:01, 161.40it/s, accuracy=0.125, train_loss=4.94] \n",
      "Evaluation:  71%|███████   | 652/919 [01:04<00:26, 10.18it/s]\n",
      "Train:   0%|          | 0/28508 [00:00<?, ?it/s, accuracy=0.0625, train_loss=5.66]"
     ]
    },
    {
     "name": "stdout",
     "output_type": "stream",
     "text": [
      "\t - Recall@20 epoch 7: 0.266344\n",
      "\t - MRR@20    epoch 7: 0.078907\n",
      "\n"
     ]
    },
    {
     "name": "stderr",
     "output_type": "stream",
     "text": [
      "Train:  99%|█████████▉| 28338/28508 [03:00<00:01, 157.42it/s, accuracy=0.0938, train_loss=4.85]\n",
      "Evaluation:  71%|███████   | 652/919 [01:06<00:27,  9.74it/s]\n",
      "Train:   0%|          | 0/28508 [00:00<?, ?it/s, accuracy=0.0938, train_loss=5.49]"
     ]
    },
    {
     "name": "stdout",
     "output_type": "stream",
     "text": [
      "\t - Recall@20 epoch 8: 0.267446\n",
      "\t - MRR@20    epoch 8: 0.079264\n",
      "\n"
     ]
    },
    {
     "name": "stderr",
     "output_type": "stream",
     "text": [
      "Train:  99%|█████████▉| 28338/28508 [03:12<00:01, 147.22it/s, accuracy=0.0938, train_loss=5]   \n",
      "Evaluation:  71%|███████   | 652/919 [01:06<00:27,  9.74it/s]\n",
      "Train:   0%|          | 0/28508 [00:00<?, ?it/s, accuracy=0.125, train_loss=5.47] "
     ]
    },
    {
     "name": "stdout",
     "output_type": "stream",
     "text": [
      "\t - Recall@20 epoch 9: 0.264954\n",
      "\t - MRR@20    epoch 9: 0.079355\n",
      "\n"
     ]
    },
    {
     "name": "stderr",
     "output_type": "stream",
     "text": [
      "Train:  99%|█████████▉| 28338/28508 [03:13<00:01, 146.40it/s, accuracy=0.0312, train_loss=4.89]\n",
      "Evaluation:  71%|███████   | 652/919 [01:07<00:27,  9.73it/s]\n",
      "Train:   0%|          | 0/28508 [00:00<?, ?it/s, accuracy=0, train_loss=5.77]     "
     ]
    },
    {
     "name": "stdout",
     "output_type": "stream",
     "text": [
      "\t - Recall@20 epoch 10: 0.266871\n",
      "\t - MRR@20    epoch 10: 0.079629\n",
      "\n"
     ]
    },
    {
     "name": "stderr",
     "output_type": "stream",
     "text": [
      "Train:  99%|█████████▉| 28338/28508 [03:11<00:01, 147.94it/s, accuracy=0.0938, train_loss=4.88]\n",
      "Evaluation:  71%|███████   | 652/919 [01:06<00:27,  9.78it/s]\n",
      "Train:   0%|          | 0/28508 [00:00<?, ?it/s, accuracy=0, train_loss=5.36]     "
     ]
    },
    {
     "name": "stdout",
     "output_type": "stream",
     "text": [
      "\t - Recall@20 epoch 11: 0.264810\n",
      "\t - MRR@20    epoch 11: 0.079239\n",
      "\n"
     ]
    },
    {
     "name": "stderr",
     "output_type": "stream",
     "text": [
      "Train:  99%|█████████▉| 28338/28508 [03:13<00:01, 146.64it/s, accuracy=0.125, train_loss=5]    \n",
      "Evaluation:  71%|███████   | 652/919 [01:06<00:27,  9.87it/s]\n",
      "Train:   0%|          | 0/28508 [00:00<?, ?it/s, accuracy=0, train_loss=5.56]     "
     ]
    },
    {
     "name": "stdout",
     "output_type": "stream",
     "text": [
      "\t - Recall@20 epoch 12: 0.264571\n",
      "\t - MRR@20    epoch 12: 0.078585\n",
      "\n"
     ]
    },
    {
     "name": "stderr",
     "output_type": "stream",
     "text": [
      "Train:  99%|█████████▉| 28338/28508 [03:15<00:01, 144.72it/s, accuracy=0.0938, train_loss=4.97]\n",
      "Evaluation:  71%|███████   | 652/919 [01:06<00:27,  9.78it/s]\n",
      "Train:   0%|          | 0/28508 [00:00<?, ?it/s, accuracy=0.0312, train_loss=5.52]"
     ]
    },
    {
     "name": "stdout",
     "output_type": "stream",
     "text": [
      "\t - Recall@20 epoch 13: 0.263564\n",
      "\t - MRR@20    epoch 13: 0.078375\n",
      "\n"
     ]
    },
    {
     "name": "stderr",
     "output_type": "stream",
     "text": [
      "Train:  99%|█████████▉| 28338/28508 [03:14<00:01, 145.39it/s, accuracy=0.0938, train_loss=4.83]\n",
      "Evaluation:  71%|███████   | 652/919 [01:05<00:27,  9.89it/s]\n",
      "Train:   0%|          | 0/28508 [00:00<?, ?it/s, accuracy=0.0312, train_loss=5.54]"
     ]
    },
    {
     "name": "stdout",
     "output_type": "stream",
     "text": [
      "\t - Recall@20 epoch 14: 0.263756\n",
      "\t - MRR@20    epoch 14: 0.078473\n",
      "\n"
     ]
    },
    {
     "name": "stderr",
     "output_type": "stream",
     "text": [
      "Train:  99%|█████████▉| 28338/28508 [03:11<00:01, 148.18it/s, accuracy=0.156, train_loss=4.79] \n",
      "Evaluation:  71%|███████   | 652/919 [01:07<00:27,  9.66it/s]"
     ]
    },
    {
     "name": "stdout",
     "output_type": "stream",
     "text": [
      "\t - Recall@20 epoch 15: 0.262605\n",
      "\t - MRR@20    epoch 15: 0.077697\n",
      "\n"
     ]
    },
    {
     "name": "stderr",
     "output_type": "stream",
     "text": [
      "\n"
     ]
    }
   ],
   "source": [
    "train_model(model, args)"
   ]
  },
  {
   "cell_type": "code",
   "execution_count": 73,
   "id": "planned-eating",
   "metadata": {},
   "outputs": [],
   "source": [
    "def test_model(model, args, test):\n",
    "    test_recall, test_mrr = get_metrics(test, model, args, 20)\n",
    "    print(f\"\\t - Recall@{args.k}: {test_recall:3f}\")\n",
    "    print(f\"\\t - MRR@{args.k}: {test_mrr:3f}\\n\")"
   ]
  },
  {
   "cell_type": "code",
   "execution_count": 74,
   "id": "overhead-raleigh",
   "metadata": {},
   "outputs": [
    {
     "name": "stderr",
     "output_type": "stream",
     "text": [
      "Evaluation:  78%|███████▊  | 1247/1589 [02:08<00:35,  9.67it/s]"
     ]
    },
    {
     "name": "stdout",
     "output_type": "stream",
     "text": [
      "\t - Recall@20: 0.249298\n",
      "\t - MRR@20: 0.072946\n",
      "\n"
     ]
    },
    {
     "name": "stderr",
     "output_type": "stream",
     "text": [
      "\n"
     ]
    }
   ],
   "source": [
    "test_model(model, args, test)"
   ]
  },
  {
   "cell_type": "markdown",
   "id": "uniform-wisdom",
   "metadata": {},
   "source": [
    "## Model_2 결과분석3\n",
    " - 약 3년치 dataset 중 1년치 dataset 사용 : Recall@20: 0.028478, MRR@20: 0.005467\n",
    " - all dataset 사용 : Recall@20: 0.247043, MRR@20: 0.070059\n",
    " - all dataset, epoch 15 : Recall@20: 0.249298 MRR@20: 0.072946\n",
    "* 배치사이즈 32일 때 epoch15까지 돌리던 중 epoch11부터 recall,MRR값 하락이 일어났다. epoch은 10정도로 주는것이 좋을것 같다."
   ]
  },
  {
   "cell_type": "markdown",
   "id": "literary-allocation",
   "metadata": {},
   "source": [
    "* 이전에 data = cleanse_recursive(data, shortest=21, least_click=1) 이 값을 넣어줬었는데 shortest는 한 사람이 영화후기를 남긴 수, least_click은 어떤 영화에 대해 사람들이 남긴 후기의 수 이다. 생각을 해보니 이 값을 수정할 필요가 있는 것 같다. 누가 후기가 1개밖에 없는 영화를 보고싶어 할까? 그리고 후기를 좀 더 많이 쓴 사람의 데이터가 좋지 않을까? 라는 생각이 들었다.\n",
    "* 그래서 shortest는 30, least_click은 20으로 수정하기로 했다."
   ]
  },
  {
   "cell_type": "markdown",
   "id": "informative-penetration",
   "metadata": {},
   "source": [
    "* 그리고 validation과 test dataset이 30일은 너무 적은것 같아 60일로 더 늘려주었다."
   ]
  },
  {
   "cell_type": "markdown",
   "id": "institutional-teacher",
   "metadata": {},
   "source": [
    "## 시도 3 \n",
    "* validation과 test dataset 30일 -> 60일 증감\n",
    "* shortest는 30, least_click은 20으로 수정\n",
    "* epoch 10"
   ]
  },
  {
   "cell_type": "code",
   "execution_count": 75,
   "id": "rubber-upset",
   "metadata": {},
   "outputs": [],
   "source": [
    "data = load_data(train_path, None)\n",
    "data.sort_values(['UserId', 'Time'], inplace=True)  # data를 id와 시간 순서로 정렬해줍니다."
   ]
  },
  {
   "cell_type": "code",
   "execution_count": 76,
   "id": "terminal-marking",
   "metadata": {},
   "outputs": [],
   "source": [
    "data = data.drop('Rating', axis=1)"
   ]
  },
  {
   "cell_type": "code",
   "execution_count": 77,
   "id": "capital-sentence",
   "metadata": {},
   "outputs": [
    {
     "data": {
      "text/html": [
       "<div>\n",
       "<style scoped>\n",
       "    .dataframe tbody tr th:only-of-type {\n",
       "        vertical-align: middle;\n",
       "    }\n",
       "\n",
       "    .dataframe tbody tr th {\n",
       "        vertical-align: top;\n",
       "    }\n",
       "\n",
       "    .dataframe thead th {\n",
       "        text-align: right;\n",
       "    }\n",
       "</style>\n",
       "<table border=\"1\" class=\"dataframe\">\n",
       "  <thead>\n",
       "    <tr style=\"text-align: right;\">\n",
       "      <th></th>\n",
       "      <th>UserId</th>\n",
       "      <th>ItemId</th>\n",
       "      <th>Time</th>\n",
       "    </tr>\n",
       "  </thead>\n",
       "  <tbody>\n",
       "    <tr>\n",
       "      <th>31</th>\n",
       "      <td>1</td>\n",
       "      <td>3186</td>\n",
       "      <td>978300019</td>\n",
       "    </tr>\n",
       "    <tr>\n",
       "      <th>22</th>\n",
       "      <td>1</td>\n",
       "      <td>1270</td>\n",
       "      <td>978300055</td>\n",
       "    </tr>\n",
       "    <tr>\n",
       "      <th>27</th>\n",
       "      <td>1</td>\n",
       "      <td>1721</td>\n",
       "      <td>978300055</td>\n",
       "    </tr>\n",
       "    <tr>\n",
       "      <th>37</th>\n",
       "      <td>1</td>\n",
       "      <td>1022</td>\n",
       "      <td>978300055</td>\n",
       "    </tr>\n",
       "    <tr>\n",
       "      <th>24</th>\n",
       "      <td>1</td>\n",
       "      <td>2340</td>\n",
       "      <td>978300103</td>\n",
       "    </tr>\n",
       "    <tr>\n",
       "      <th>...</th>\n",
       "      <td>...</td>\n",
       "      <td>...</td>\n",
       "      <td>...</td>\n",
       "    </tr>\n",
       "    <tr>\n",
       "      <th>1000019</th>\n",
       "      <td>6040</td>\n",
       "      <td>2917</td>\n",
       "      <td>997454429</td>\n",
       "    </tr>\n",
       "    <tr>\n",
       "      <th>999988</th>\n",
       "      <td>6040</td>\n",
       "      <td>1921</td>\n",
       "      <td>997454464</td>\n",
       "    </tr>\n",
       "    <tr>\n",
       "      <th>1000172</th>\n",
       "      <td>6040</td>\n",
       "      <td>1784</td>\n",
       "      <td>997454464</td>\n",
       "    </tr>\n",
       "    <tr>\n",
       "      <th>1000167</th>\n",
       "      <td>6040</td>\n",
       "      <td>161</td>\n",
       "      <td>997454486</td>\n",
       "    </tr>\n",
       "    <tr>\n",
       "      <th>1000042</th>\n",
       "      <td>6040</td>\n",
       "      <td>1221</td>\n",
       "      <td>998315055</td>\n",
       "    </tr>\n",
       "  </tbody>\n",
       "</table>\n",
       "<p>977089 rows × 3 columns</p>\n",
       "</div>"
      ],
      "text/plain": [
       "         UserId  ItemId       Time\n",
       "31            1    3186  978300019\n",
       "22            1    1270  978300055\n",
       "27            1    1721  978300055\n",
       "37            1    1022  978300055\n",
       "24            1    2340  978300103\n",
       "...         ...     ...        ...\n",
       "1000019    6040    2917  997454429\n",
       "999988     6040    1921  997454464\n",
       "1000172    6040    1784  997454464\n",
       "1000167    6040     161  997454486\n",
       "1000042    6040    1221  998315055\n",
       "\n",
       "[977089 rows x 3 columns]"
      ]
     },
     "execution_count": 77,
     "metadata": {},
     "output_type": "execute_result"
    }
   ],
   "source": [
    "data = cleanse_recursive(data, shortest=30, least_click=20)\n",
    "data"
   ]
  },
  {
   "cell_type": "code",
   "execution_count": 78,
   "id": "presidential-traveler",
   "metadata": {},
   "outputs": [],
   "source": [
    "# 30에서 60으로 변경\n",
    "tr, test = split_by_date(data, n_days=60)\n",
    "tr, val = split_by_date(tr, n_days=60)"
   ]
  },
  {
   "cell_type": "code",
   "execution_count": 79,
   "id": "familiar-advice",
   "metadata": {},
   "outputs": [
    {
     "data": {
      "text/html": [
       "<div>\n",
       "<style scoped>\n",
       "    .dataframe tbody tr th:only-of-type {\n",
       "        vertical-align: middle;\n",
       "    }\n",
       "\n",
       "    .dataframe tbody tr th {\n",
       "        vertical-align: top;\n",
       "    }\n",
       "\n",
       "    .dataframe thead th {\n",
       "        text-align: right;\n",
       "    }\n",
       "</style>\n",
       "<table border=\"1\" class=\"dataframe\">\n",
       "  <thead>\n",
       "    <tr style=\"text-align: right;\">\n",
       "      <th></th>\n",
       "      <th>UserId</th>\n",
       "      <th>ItemId</th>\n",
       "      <th>Time</th>\n",
       "    </tr>\n",
       "  </thead>\n",
       "  <tbody>\n",
       "    <tr>\n",
       "      <th>31</th>\n",
       "      <td>1</td>\n",
       "      <td>3186</td>\n",
       "      <td>978300019</td>\n",
       "    </tr>\n",
       "    <tr>\n",
       "      <th>22</th>\n",
       "      <td>1</td>\n",
       "      <td>1270</td>\n",
       "      <td>978300055</td>\n",
       "    </tr>\n",
       "    <tr>\n",
       "      <th>27</th>\n",
       "      <td>1</td>\n",
       "      <td>1721</td>\n",
       "      <td>978300055</td>\n",
       "    </tr>\n",
       "    <tr>\n",
       "      <th>37</th>\n",
       "      <td>1</td>\n",
       "      <td>1022</td>\n",
       "      <td>978300055</td>\n",
       "    </tr>\n",
       "    <tr>\n",
       "      <th>24</th>\n",
       "      <td>1</td>\n",
       "      <td>2340</td>\n",
       "      <td>978300103</td>\n",
       "    </tr>\n",
       "  </tbody>\n",
       "</table>\n",
       "</div>"
      ],
      "text/plain": [
       "    UserId  ItemId       Time\n",
       "31       1    3186  978300019\n",
       "22       1    1270  978300055\n",
       "27       1    1721  978300055\n",
       "37       1    1022  978300055\n",
       "24       1    2340  978300103"
      ]
     },
     "execution_count": 79,
     "metadata": {},
     "output_type": "execute_result"
    }
   ],
   "source": [
    "tr.head()"
   ]
  },
  {
   "cell_type": "code",
   "execution_count": 80,
   "id": "dental-violation",
   "metadata": {},
   "outputs": [
    {
     "data": {
      "text/html": [
       "<div>\n",
       "<style scoped>\n",
       "    .dataframe tbody tr th:only-of-type {\n",
       "        vertical-align: middle;\n",
       "    }\n",
       "\n",
       "    .dataframe tbody tr th {\n",
       "        vertical-align: top;\n",
       "    }\n",
       "\n",
       "    .dataframe thead th {\n",
       "        text-align: right;\n",
       "    }\n",
       "</style>\n",
       "<table border=\"1\" class=\"dataframe\">\n",
       "  <thead>\n",
       "    <tr style=\"text-align: right;\">\n",
       "      <th></th>\n",
       "      <th>UserId</th>\n",
       "      <th>ItemId</th>\n",
       "      <th>Time</th>\n",
       "    </tr>\n",
       "  </thead>\n",
       "  <tbody>\n",
       "    <tr>\n",
       "      <th>984731</th>\n",
       "      <td>5950</td>\n",
       "      <td>3948</td>\n",
       "      <td>1046369637</td>\n",
       "    </tr>\n",
       "    <tr>\n",
       "      <th>984682</th>\n",
       "      <td>5950</td>\n",
       "      <td>3578</td>\n",
       "      <td>1046369670</td>\n",
       "    </tr>\n",
       "    <tr>\n",
       "      <th>984475</th>\n",
       "      <td>5950</td>\n",
       "      <td>3793</td>\n",
       "      <td>1046369710</td>\n",
       "    </tr>\n",
       "    <tr>\n",
       "      <th>984660</th>\n",
       "      <td>5950</td>\n",
       "      <td>3555</td>\n",
       "      <td>1046369737</td>\n",
       "    </tr>\n",
       "    <tr>\n",
       "      <th>984733</th>\n",
       "      <td>5950</td>\n",
       "      <td>1262</td>\n",
       "      <td>1046369858</td>\n",
       "    </tr>\n",
       "  </tbody>\n",
       "</table>\n",
       "</div>"
      ],
      "text/plain": [
       "        UserId  ItemId        Time\n",
       "984731    5950    3948  1046369637\n",
       "984682    5950    3578  1046369670\n",
       "984475    5950    3793  1046369710\n",
       "984660    5950    3555  1046369737\n",
       "984733    5950    1262  1046369858"
      ]
     },
     "execution_count": 80,
     "metadata": {},
     "output_type": "execute_result"
    }
   ],
   "source": [
    "test.tail()"
   ]
  },
  {
   "cell_type": "markdown",
   "id": "adjusted-kidney",
   "metadata": {},
   "source": [
    "* test ssesion :5008, valid session=95, test session=181"
   ]
  },
  {
   "cell_type": "code",
   "execution_count": 81,
   "id": "federal-retailer",
   "metadata": {},
   "outputs": [
    {
     "name": "stdout",
     "output_type": "stream",
     "text": [
      "* train Set Stats Info\n",
      "\t Events: 863612\n",
      "\t Sessions: 5008\n",
      "\t Items: 3032\n",
      "\t First Time : 956703932\n",
      "\t Last Time : 1035933891\n",
      "\n",
      "* valid Set Stats Info\n",
      "\t Events: 33589\n",
      "\t Sessions: 95\n",
      "\t Items: 2751\n",
      "\t First Time : 956853488\n",
      "\t Last Time : 1041215174\n",
      "\n",
      "* test Set Stats Info\n",
      "\t Events: 79888\n",
      "\t Sessions: 181\n",
      "\t Items: 3007\n",
      "\t First Time : 957179713\n",
      "\t Last Time : 1046454590\n",
      "\n"
     ]
    }
   ],
   "source": [
    "stats_info(tr, 'train')\n",
    "stats_info(val, 'valid')\n",
    "stats_info(test, 'test')"
   ]
  },
  {
   "cell_type": "code",
   "execution_count": 82,
   "id": "accomplished-valve",
   "metadata": {},
   "outputs": [],
   "source": [
    "id2idx = {item_id : index for index, item_id in enumerate(tr['ItemId'].unique())}"
   ]
  },
  {
   "cell_type": "code",
   "execution_count": 83,
   "id": "authentic-disaster",
   "metadata": {},
   "outputs": [],
   "source": [
    "tr = indexing(tr, id2idx)\n",
    "val = indexing(val, id2idx)\n",
    "test = indexing(test, id2idx)"
   ]
  },
  {
   "cell_type": "code",
   "execution_count": 84,
   "id": "manual-toddler",
   "metadata": {},
   "outputs": [],
   "source": [
    "save_path = data_path / 'processed'\n",
    "save_path.mkdir(parents=True, exist_ok=True)\n",
    "\n",
    "tr.to_pickle(save_path / 'train2.pkl')\n",
    "val.to_pickle(save_path / 'valid2.pkl')\n",
    "test.to_pickle(save_path / 'test2.pkl')"
   ]
  },
  {
   "cell_type": "code",
   "execution_count": 85,
   "id": "changed-unknown",
   "metadata": {},
   "outputs": [
    {
     "data": {
      "text/html": [
       "<div>\n",
       "<style scoped>\n",
       "    .dataframe tbody tr th:only-of-type {\n",
       "        vertical-align: middle;\n",
       "    }\n",
       "\n",
       "    .dataframe tbody tr th {\n",
       "        vertical-align: top;\n",
       "    }\n",
       "\n",
       "    .dataframe thead th {\n",
       "        text-align: right;\n",
       "    }\n",
       "</style>\n",
       "<table border=\"1\" class=\"dataframe\">\n",
       "  <thead>\n",
       "    <tr style=\"text-align: right;\">\n",
       "      <th></th>\n",
       "      <th>UserId</th>\n",
       "      <th>ItemId</th>\n",
       "      <th>Time</th>\n",
       "      <th>item_idx</th>\n",
       "    </tr>\n",
       "  </thead>\n",
       "  <tbody>\n",
       "    <tr>\n",
       "      <th>31</th>\n",
       "      <td>1</td>\n",
       "      <td>3186</td>\n",
       "      <td>978300019</td>\n",
       "      <td>0</td>\n",
       "    </tr>\n",
       "    <tr>\n",
       "      <th>22</th>\n",
       "      <td>1</td>\n",
       "      <td>1270</td>\n",
       "      <td>978300055</td>\n",
       "      <td>1</td>\n",
       "    </tr>\n",
       "    <tr>\n",
       "      <th>27</th>\n",
       "      <td>1</td>\n",
       "      <td>1721</td>\n",
       "      <td>978300055</td>\n",
       "      <td>2</td>\n",
       "    </tr>\n",
       "    <tr>\n",
       "      <th>37</th>\n",
       "      <td>1</td>\n",
       "      <td>1022</td>\n",
       "      <td>978300055</td>\n",
       "      <td>3</td>\n",
       "    </tr>\n",
       "    <tr>\n",
       "      <th>24</th>\n",
       "      <td>1</td>\n",
       "      <td>2340</td>\n",
       "      <td>978300103</td>\n",
       "      <td>4</td>\n",
       "    </tr>\n",
       "    <tr>\n",
       "      <th>36</th>\n",
       "      <td>1</td>\n",
       "      <td>1836</td>\n",
       "      <td>978300172</td>\n",
       "      <td>5</td>\n",
       "    </tr>\n",
       "    <tr>\n",
       "      <th>3</th>\n",
       "      <td>1</td>\n",
       "      <td>3408</td>\n",
       "      <td>978300275</td>\n",
       "      <td>6</td>\n",
       "    </tr>\n",
       "    <tr>\n",
       "      <th>7</th>\n",
       "      <td>1</td>\n",
       "      <td>2804</td>\n",
       "      <td>978300719</td>\n",
       "      <td>7</td>\n",
       "    </tr>\n",
       "    <tr>\n",
       "      <th>47</th>\n",
       "      <td>1</td>\n",
       "      <td>1207</td>\n",
       "      <td>978300719</td>\n",
       "      <td>8</td>\n",
       "    </tr>\n",
       "    <tr>\n",
       "      <th>0</th>\n",
       "      <td>1</td>\n",
       "      <td>1193</td>\n",
       "      <td>978300760</td>\n",
       "      <td>9</td>\n",
       "    </tr>\n",
       "  </tbody>\n",
       "</table>\n",
       "</div>"
      ],
      "text/plain": [
       "    UserId  ItemId       Time  item_idx\n",
       "31       1    3186  978300019         0\n",
       "22       1    1270  978300055         1\n",
       "27       1    1721  978300055         2\n",
       "37       1    1022  978300055         3\n",
       "24       1    2340  978300103         4\n",
       "36       1    1836  978300172         5\n",
       "3        1    3408  978300275         6\n",
       "7        1    2804  978300719         7\n",
       "47       1    1207  978300719         8\n",
       "0        1    1193  978300760         9"
      ]
     },
     "execution_count": 85,
     "metadata": {},
     "output_type": "execute_result"
    }
   ],
   "source": [
    "tr_dataset = SessionDataset(tr)\n",
    "tr_dataset.df.head(10)"
   ]
  },
  {
   "cell_type": "code",
   "execution_count": 86,
   "id": "simplified-sacramento",
   "metadata": {},
   "outputs": [
    {
     "data": {
      "text/html": [
       "<div>\n",
       "<style scoped>\n",
       "    .dataframe tbody tr th:only-of-type {\n",
       "        vertical-align: middle;\n",
       "    }\n",
       "\n",
       "    .dataframe tbody tr th {\n",
       "        vertical-align: top;\n",
       "    }\n",
       "\n",
       "    .dataframe thead th {\n",
       "        text-align: right;\n",
       "    }\n",
       "</style>\n",
       "<table border=\"1\" class=\"dataframe\">\n",
       "  <thead>\n",
       "    <tr style=\"text-align: right;\">\n",
       "      <th></th>\n",
       "      <th>UserId</th>\n",
       "      <th>ItemId</th>\n",
       "      <th>Time</th>\n",
       "      <th>item_idx</th>\n",
       "    </tr>\n",
       "  </thead>\n",
       "  <tbody>\n",
       "    <tr>\n",
       "      <th>31</th>\n",
       "      <td>1</td>\n",
       "      <td>3186</td>\n",
       "      <td>978300019</td>\n",
       "      <td>0</td>\n",
       "    </tr>\n",
       "    <tr>\n",
       "      <th>22</th>\n",
       "      <td>1</td>\n",
       "      <td>1270</td>\n",
       "      <td>978300055</td>\n",
       "      <td>1</td>\n",
       "    </tr>\n",
       "    <tr>\n",
       "      <th>27</th>\n",
       "      <td>1</td>\n",
       "      <td>1721</td>\n",
       "      <td>978300055</td>\n",
       "      <td>2</td>\n",
       "    </tr>\n",
       "    <tr>\n",
       "      <th>37</th>\n",
       "      <td>1</td>\n",
       "      <td>1022</td>\n",
       "      <td>978300055</td>\n",
       "      <td>3</td>\n",
       "    </tr>\n",
       "    <tr>\n",
       "      <th>24</th>\n",
       "      <td>1</td>\n",
       "      <td>2340</td>\n",
       "      <td>978300103</td>\n",
       "      <td>4</td>\n",
       "    </tr>\n",
       "    <tr>\n",
       "      <th>36</th>\n",
       "      <td>1</td>\n",
       "      <td>1836</td>\n",
       "      <td>978300172</td>\n",
       "      <td>5</td>\n",
       "    </tr>\n",
       "    <tr>\n",
       "      <th>3</th>\n",
       "      <td>1</td>\n",
       "      <td>3408</td>\n",
       "      <td>978300275</td>\n",
       "      <td>6</td>\n",
       "    </tr>\n",
       "    <tr>\n",
       "      <th>7</th>\n",
       "      <td>1</td>\n",
       "      <td>2804</td>\n",
       "      <td>978300719</td>\n",
       "      <td>7</td>\n",
       "    </tr>\n",
       "    <tr>\n",
       "      <th>47</th>\n",
       "      <td>1</td>\n",
       "      <td>1207</td>\n",
       "      <td>978300719</td>\n",
       "      <td>8</td>\n",
       "    </tr>\n",
       "    <tr>\n",
       "      <th>0</th>\n",
       "      <td>1</td>\n",
       "      <td>1193</td>\n",
       "      <td>978300760</td>\n",
       "      <td>9</td>\n",
       "    </tr>\n",
       "    <tr>\n",
       "      <th>21</th>\n",
       "      <td>1</td>\n",
       "      <td>720</td>\n",
       "      <td>978300760</td>\n",
       "      <td>10</td>\n",
       "    </tr>\n",
       "    <tr>\n",
       "      <th>44</th>\n",
       "      <td>1</td>\n",
       "      <td>260</td>\n",
       "      <td>978300760</td>\n",
       "      <td>11</td>\n",
       "    </tr>\n",
       "    <tr>\n",
       "      <th>9</th>\n",
       "      <td>1</td>\n",
       "      <td>919</td>\n",
       "      <td>978301368</td>\n",
       "      <td>12</td>\n",
       "    </tr>\n",
       "    <tr>\n",
       "      <th>51</th>\n",
       "      <td>1</td>\n",
       "      <td>608</td>\n",
       "      <td>978301398</td>\n",
       "      <td>13</td>\n",
       "    </tr>\n",
       "    <tr>\n",
       "      <th>43</th>\n",
       "      <td>1</td>\n",
       "      <td>2692</td>\n",
       "      <td>978301570</td>\n",
       "      <td>14</td>\n",
       "    </tr>\n",
       "  </tbody>\n",
       "</table>\n",
       "</div>"
      ],
      "text/plain": [
       "    UserId  ItemId       Time  item_idx\n",
       "31       1    3186  978300019         0\n",
       "22       1    1270  978300055         1\n",
       "27       1    1721  978300055         2\n",
       "37       1    1022  978300055         3\n",
       "24       1    2340  978300103         4\n",
       "36       1    1836  978300172         5\n",
       "3        1    3408  978300275         6\n",
       "7        1    2804  978300719         7\n",
       "47       1    1207  978300719         8\n",
       "0        1    1193  978300760         9\n",
       "21       1     720  978300760        10\n",
       "44       1     260  978300760        11\n",
       "9        1     919  978301368        12\n",
       "51       1     608  978301398        13\n",
       "43       1    2692  978301570        14"
      ]
     },
     "execution_count": 86,
     "metadata": {},
     "output_type": "execute_result"
    }
   ],
   "source": [
    "tr_data_loader = SessionDataLoader(tr_dataset, batch_size=4)\n",
    "tr_dataset.df.head(15)"
   ]
  },
  {
   "cell_type": "code",
   "execution_count": 87,
   "id": "transparent-pipeline",
   "metadata": {},
   "outputs": [],
   "source": [
    "iter_ex = iter(tr_data_loader)"
   ]
  },
  {
   "cell_type": "code",
   "execution_count": 88,
   "id": "activated-certification",
   "metadata": {},
   "outputs": [
    {
     "name": "stdout",
     "output_type": "stream",
     "text": [
      "Model Input Item Idx are : [ 0 53 65 56]\n",
      "Label Item Idx are :       [  1  54  62 208]\n",
      "Previous Masked Input Idx are []\n"
     ]
    }
   ],
   "source": [
    "inputs, labels, mask =  next(iter_ex)\n",
    "print(f'Model Input Item Idx are : {inputs}')\n",
    "print(f'Label Item Idx are : {\"\":5} {labels}')\n",
    "print(f'Previous Masked Input Idx are {mask}')"
   ]
  },
  {
   "cell_type": "markdown",
   "id": "utility-power",
   "metadata": {},
   "source": [
    "* epoch 15->10 변경"
   ]
  },
  {
   "cell_type": "code",
   "execution_count": 89,
   "id": "induced-alaska",
   "metadata": {},
   "outputs": [],
   "source": [
    "args = Args(tr, val, test, batch_size=32, hsz=50, drop_rate=0.1, lr=0.001, epochs=10, k=20)"
   ]
  },
  {
   "cell_type": "code",
   "execution_count": 90,
   "id": "blessed-shoulder",
   "metadata": {},
   "outputs": [
    {
     "name": "stdout",
     "output_type": "stream",
     "text": [
      "Model: \"model_3\"\n",
      "_________________________________________________________________\n",
      "Layer (type)                 Output Shape              Param #   \n",
      "=================================================================\n",
      "input_4 (InputLayer)         [(32, 1, 3032)]           0         \n",
      "_________________________________________________________________\n",
      "GRU (GRU)                    [(32, 50), (32, 50)]      462600    \n",
      "_________________________________________________________________\n",
      "dropout_3 (Dropout)          (32, 50)                  0         \n",
      "_________________________________________________________________\n",
      "dense_3 (Dense)              (32, 3032)                154632    \n",
      "=================================================================\n",
      "Total params: 617,232\n",
      "Trainable params: 617,232\n",
      "Non-trainable params: 0\n",
      "_________________________________________________________________\n"
     ]
    }
   ],
   "source": [
    "model = create_model(args)"
   ]
  },
  {
   "cell_type": "code",
   "execution_count": 91,
   "id": "healthy-complement",
   "metadata": {},
   "outputs": [
    {
     "name": "stderr",
     "output_type": "stream",
     "text": [
      "Train:  99%|█████████▉| 26670/26831 [02:51<00:01, 155.59it/s, accuracy=0, train_loss=5.75]     \n",
      "Evaluation:  72%|███████▏  | 749/1046 [01:15<00:29,  9.92it/s]\n",
      "Train:   0%|          | 0/26831 [00:00<?, ?it/s, accuracy=0.0938, train_loss=5.37]"
     ]
    },
    {
     "name": "stdout",
     "output_type": "stream",
     "text": [
      "\t - Recall@20 epoch 1: 0.243032\n",
      "\t - MRR@20    epoch 1: 0.064144\n",
      "\n"
     ]
    },
    {
     "name": "stderr",
     "output_type": "stream",
     "text": [
      "Train:  99%|█████████▉| 26670/26831 [02:46<00:01, 160.61it/s, accuracy=0.0312, train_loss=5.44]\n",
      "Evaluation:  72%|███████▏  | 749/1046 [01:14<00:29, 10.04it/s]\n",
      "Train:   0%|          | 0/26831 [00:00<?, ?it/s, accuracy=0.0625, train_loss=5.52]"
     ]
    },
    {
     "name": "stdout",
     "output_type": "stream",
     "text": [
      "\t - Recall@20 epoch 2: 0.273698\n",
      "\t - MRR@20    epoch 2: 0.076457\n",
      "\n"
     ]
    },
    {
     "name": "stderr",
     "output_type": "stream",
     "text": [
      "Train:  99%|█████████▉| 26670/26831 [02:38<00:00, 168.34it/s, accuracy=0.0312, train_loss=5.53]\n",
      "Evaluation:  72%|███████▏  | 749/1046 [01:14<00:29, 10.06it/s]\n",
      "Train:   0%|          | 0/26831 [00:00<?, ?it/s, accuracy=0.0938, train_loss=5.02]"
     ]
    },
    {
     "name": "stdout",
     "output_type": "stream",
     "text": [
      "\t - Recall@20 epoch 3: 0.280374\n",
      "\t - MRR@20    epoch 3: 0.080445\n",
      "\n"
     ]
    },
    {
     "name": "stderr",
     "output_type": "stream",
     "text": [
      "Train:  99%|█████████▉| 26670/26831 [02:41<00:00, 165.42it/s, accuracy=0.0312, train_loss=5.66]\n",
      "Evaluation:  72%|███████▏  | 749/1046 [01:13<00:29, 10.14it/s]\n",
      "Train:   0%|          | 0/26831 [00:00<?, ?it/s, accuracy=0.0312, train_loss=5.62]"
     ]
    },
    {
     "name": "stdout",
     "output_type": "stream",
     "text": [
      "\t - Recall@20 epoch 4: 0.285422\n",
      "\t - MRR@20    epoch 4: 0.082467\n",
      "\n"
     ]
    },
    {
     "name": "stderr",
     "output_type": "stream",
     "text": [
      "Train:  99%|█████████▉| 26670/26831 [02:41<00:00, 165.28it/s, accuracy=0, train_loss=5.55]     \n",
      "Evaluation:  72%|███████▏  | 749/1046 [01:13<00:29, 10.13it/s]\n",
      "Train:   0%|          | 0/26831 [00:00<?, ?it/s, accuracy=0, train_loss=5.63]     "
     ]
    },
    {
     "name": "stdout",
     "output_type": "stream",
     "text": [
      "\t - Recall@20 epoch 5: 0.287300\n",
      "\t - MRR@20    epoch 5: 0.083078\n",
      "\n"
     ]
    },
    {
     "name": "stderr",
     "output_type": "stream",
     "text": [
      "Train:  99%|█████████▉| 26670/26831 [02:48<00:01, 157.99it/s, accuracy=0.0312, train_loss=5.64]\n",
      "Evaluation:  72%|███████▏  | 749/1046 [01:13<00:29, 10.14it/s]\n",
      "Train:   0%|          | 0/26831 [00:00<?, ?it/s, accuracy=0, train_loss=5.66]     "
     ]
    },
    {
     "name": "stdout",
     "output_type": "stream",
     "text": [
      "\t - Recall@20 epoch 6: 0.288593\n",
      "\t - MRR@20    epoch 6: 0.083967\n",
      "\n"
     ]
    },
    {
     "name": "stderr",
     "output_type": "stream",
     "text": [
      "Train:  99%|█████████▉| 26670/26831 [02:46<00:01, 160.55it/s, accuracy=0, train_loss=5.64]     \n",
      "Evaluation:  72%|███████▏  | 749/1046 [01:15<00:30,  9.89it/s]\n",
      "Train:   0%|          | 0/26831 [00:00<?, ?it/s, accuracy=0.0625, train_loss=5.44]"
     ]
    },
    {
     "name": "stdout",
     "output_type": "stream",
     "text": [
      "\t - Recall@20 epoch 7: 0.288802\n",
      "\t - MRR@20    epoch 7: 0.084039\n",
      "\n"
     ]
    },
    {
     "name": "stderr",
     "output_type": "stream",
     "text": [
      "Train:  99%|█████████▉| 26670/26831 [02:52<00:01, 154.88it/s, accuracy=0.0312, train_loss=5.65]\n",
      "Evaluation:  72%|███████▏  | 749/1046 [01:15<00:29,  9.92it/s]\n",
      "Train:   0%|          | 0/26831 [00:00<?, ?it/s, accuracy=0.0312, train_loss=5.4] "
     ]
    },
    {
     "name": "stdout",
     "output_type": "stream",
     "text": [
      "\t - Recall@20 epoch 8: 0.287216\n",
      "\t - MRR@20    epoch 8: 0.084496\n",
      "\n"
     ]
    },
    {
     "name": "stderr",
     "output_type": "stream",
     "text": [
      "Train:  99%|█████████▉| 26670/26831 [02:47<00:01, 159.43it/s, accuracy=0.0625, train_loss=5.56]\n",
      "Evaluation:  72%|███████▏  | 749/1046 [01:15<00:29,  9.94it/s]\n",
      "Train:   0%|          | 0/26831 [00:00<?, ?it/s, accuracy=0.0312, train_loss=5.6] "
     ]
    },
    {
     "name": "stdout",
     "output_type": "stream",
     "text": [
      "\t - Recall@20 epoch 9: 0.286257\n",
      "\t - MRR@20    epoch 9: 0.084817\n",
      "\n"
     ]
    },
    {
     "name": "stderr",
     "output_type": "stream",
     "text": [
      "Train:  99%|█████████▉| 26670/26831 [02:56<00:01, 151.52it/s, accuracy=0.0312, train_loss=5.52]\n",
      "Evaluation:  72%|███████▏  | 749/1046 [01:15<00:29,  9.92it/s]"
     ]
    },
    {
     "name": "stdout",
     "output_type": "stream",
     "text": [
      "\t - Recall@20 epoch 10: 0.286048\n",
      "\t - MRR@20    epoch 10: 0.085028\n",
      "\n"
     ]
    },
    {
     "name": "stderr",
     "output_type": "stream",
     "text": [
      "\n"
     ]
    }
   ],
   "source": [
    "train_model(model, args)"
   ]
  },
  {
   "cell_type": "code",
   "execution_count": 92,
   "id": "engaging-astrology",
   "metadata": {},
   "outputs": [
    {
     "name": "stderr",
     "output_type": "stream",
     "text": [
      "Evaluation:  87%|████████▋ | 2176/2490 [03:48<00:32,  9.54it/s]"
     ]
    },
    {
     "name": "stdout",
     "output_type": "stream",
     "text": [
      "\t - Recall@20: 0.251551\n",
      "\t - MRR@20: 0.074274\n",
      "\n"
     ]
    },
    {
     "name": "stderr",
     "output_type": "stream",
     "text": [
      "\n"
     ]
    }
   ],
   "source": [
    "test_model(model, args, test)"
   ]
  },
  {
   "cell_type": "markdown",
   "id": "fabulous-salem",
   "metadata": {},
   "source": [
    "## Model_3 결과분석4\n",
    "* 성능이 약간 향상되었지만 생각보다 미묘한 변화였다.\n",
    "* 이번엔 shortest와 least_click에 UserID와 ItemID length의 median 값으로 넣기로 했다."
   ]
  },
  {
   "cell_type": "markdown",
   "id": "studied-assumption",
   "metadata": {},
   "source": [
    "## 시도 4\n",
    "* * shortest는 96, least_click은 7로 수정"
   ]
  },
  {
   "cell_type": "code",
   "execution_count": 93,
   "id": "individual-mouse",
   "metadata": {},
   "outputs": [],
   "source": [
    "data = load_data(train_path, None)\n",
    "data.sort_values(['UserId', 'Time'], inplace=True)  # data를 id와 시간 순서로 정렬해줍니다."
   ]
  },
  {
   "cell_type": "code",
   "execution_count": 94,
   "id": "aging-hands",
   "metadata": {},
   "outputs": [],
   "source": [
    "data = data.drop('Rating', axis=1)"
   ]
  },
  {
   "cell_type": "code",
   "execution_count": 95,
   "id": "favorite-liver",
   "metadata": {},
   "outputs": [],
   "source": [
    "data = cleanse_recursive(data, shortest=96, least_click=7)"
   ]
  },
  {
   "cell_type": "code",
   "execution_count": 96,
   "id": "harmful-mounting",
   "metadata": {},
   "outputs": [],
   "source": [
    "tr, test = split_by_date(data, n_days=60)\n",
    "tr, val = split_by_date(tr, n_days=60)"
   ]
  },
  {
   "cell_type": "code",
   "execution_count": 97,
   "id": "circular-closing",
   "metadata": {},
   "outputs": [
    {
     "name": "stdout",
     "output_type": "stream",
     "text": [
      "* train Set Stats Info\n",
      "\t Events: 741348\n",
      "\t Sessions: 2769\n",
      "\t Items: 3322\n",
      "\t First Time : 956703932\n",
      "\t Last Time : 1035933891\n",
      "\n",
      "* valid Set Stats Info\n",
      "\t Events: 32975\n",
      "\t Sessions: 84\n",
      "\t Items: 2841\n",
      "\t First Time : 956853488\n",
      "\t Last Time : 1041215174\n",
      "\n",
      "* test Set Stats Info\n",
      "\t Events: 79428\n",
      "\t Sessions: 168\n",
      "\t Items: 3216\n",
      "\t First Time : 957179713\n",
      "\t Last Time : 1046454590\n",
      "\n"
     ]
    }
   ],
   "source": [
    "stats_info(tr, 'train')\n",
    "stats_info(val, 'valid')\n",
    "stats_info(test, 'test')"
   ]
  },
  {
   "cell_type": "code",
   "execution_count": 98,
   "id": "recreational-manufacturer",
   "metadata": {},
   "outputs": [],
   "source": [
    "id2idx = {item_id : index for index, item_id in enumerate(tr['ItemId'].unique())}"
   ]
  },
  {
   "cell_type": "code",
   "execution_count": 99,
   "id": "weekly-rendering",
   "metadata": {},
   "outputs": [],
   "source": [
    "tr = indexing(tr, id2idx)\n",
    "val = indexing(val, id2idx)\n",
    "test = indexing(test, id2idx)"
   ]
  },
  {
   "cell_type": "code",
   "execution_count": 100,
   "id": "chief-grenada",
   "metadata": {},
   "outputs": [],
   "source": [
    "save_path = data_path / 'processed'\n",
    "save_path.mkdir(parents=True, exist_ok=True)\n",
    "\n",
    "tr.to_pickle(save_path / 'train1.pkl')\n",
    "val.to_pickle(save_path / 'valid1.pkl')\n",
    "test.to_pickle(save_path / 'test1.pkl')"
   ]
  },
  {
   "cell_type": "code",
   "execution_count": 101,
   "id": "premier-holder",
   "metadata": {},
   "outputs": [
    {
     "data": {
      "text/html": [
       "<div>\n",
       "<style scoped>\n",
       "    .dataframe tbody tr th:only-of-type {\n",
       "        vertical-align: middle;\n",
       "    }\n",
       "\n",
       "    .dataframe tbody tr th {\n",
       "        vertical-align: top;\n",
       "    }\n",
       "\n",
       "    .dataframe thead th {\n",
       "        text-align: right;\n",
       "    }\n",
       "</style>\n",
       "<table border=\"1\" class=\"dataframe\">\n",
       "  <thead>\n",
       "    <tr style=\"text-align: right;\">\n",
       "      <th></th>\n",
       "      <th>UserId</th>\n",
       "      <th>ItemId</th>\n",
       "      <th>Time</th>\n",
       "      <th>item_idx</th>\n",
       "    </tr>\n",
       "  </thead>\n",
       "  <tbody>\n",
       "    <tr>\n",
       "      <th>130</th>\n",
       "      <td>2</td>\n",
       "      <td>1198</td>\n",
       "      <td>978298124</td>\n",
       "      <td>0</td>\n",
       "    </tr>\n",
       "    <tr>\n",
       "      <th>64</th>\n",
       "      <td>2</td>\n",
       "      <td>1210</td>\n",
       "      <td>978298151</td>\n",
       "      <td>1</td>\n",
       "    </tr>\n",
       "    <tr>\n",
       "      <th>71</th>\n",
       "      <td>2</td>\n",
       "      <td>1217</td>\n",
       "      <td>978298151</td>\n",
       "      <td>2</td>\n",
       "    </tr>\n",
       "    <tr>\n",
       "      <th>134</th>\n",
       "      <td>2</td>\n",
       "      <td>2717</td>\n",
       "      <td>978298196</td>\n",
       "      <td>3</td>\n",
       "    </tr>\n",
       "    <tr>\n",
       "      <th>88</th>\n",
       "      <td>2</td>\n",
       "      <td>1293</td>\n",
       "      <td>978298261</td>\n",
       "      <td>4</td>\n",
       "    </tr>\n",
       "    <tr>\n",
       "      <th>170</th>\n",
       "      <td>2</td>\n",
       "      <td>2943</td>\n",
       "      <td>978298372</td>\n",
       "      <td>5</td>\n",
       "    </tr>\n",
       "    <tr>\n",
       "      <th>106</th>\n",
       "      <td>2</td>\n",
       "      <td>1225</td>\n",
       "      <td>978298391</td>\n",
       "      <td>6</td>\n",
       "    </tr>\n",
       "    <tr>\n",
       "      <th>120</th>\n",
       "      <td>2</td>\n",
       "      <td>1193</td>\n",
       "      <td>978298413</td>\n",
       "      <td>7</td>\n",
       "    </tr>\n",
       "    <tr>\n",
       "      <th>172</th>\n",
       "      <td>2</td>\n",
       "      <td>318</td>\n",
       "      <td>978298413</td>\n",
       "      <td>8</td>\n",
       "    </tr>\n",
       "    <tr>\n",
       "      <th>70</th>\n",
       "      <td>2</td>\n",
       "      <td>3030</td>\n",
       "      <td>978298434</td>\n",
       "      <td>9</td>\n",
       "    </tr>\n",
       "  </tbody>\n",
       "</table>\n",
       "</div>"
      ],
      "text/plain": [
       "     UserId  ItemId       Time  item_idx\n",
       "130       2    1198  978298124         0\n",
       "64        2    1210  978298151         1\n",
       "71        2    1217  978298151         2\n",
       "134       2    2717  978298196         3\n",
       "88        2    1293  978298261         4\n",
       "170       2    2943  978298372         5\n",
       "106       2    1225  978298391         6\n",
       "120       2    1193  978298413         7\n",
       "172       2     318  978298413         8\n",
       "70        2    3030  978298434         9"
      ]
     },
     "execution_count": 101,
     "metadata": {},
     "output_type": "execute_result"
    }
   ],
   "source": [
    "tr_dataset = SessionDataset(tr)\n",
    "tr_dataset.df.head(10)"
   ]
  },
  {
   "cell_type": "code",
   "execution_count": 102,
   "id": "curious-reliance",
   "metadata": {},
   "outputs": [],
   "source": [
    "tr_data_loader = SessionDataLoader(tr_dataset, batch_size=4)"
   ]
  },
  {
   "cell_type": "code",
   "execution_count": 103,
   "id": "robust-kernel",
   "metadata": {},
   "outputs": [],
   "source": [
    "iter_ex = iter(tr_data_loader)"
   ]
  },
  {
   "cell_type": "code",
   "execution_count": 104,
   "id": "buried-prime",
   "metadata": {},
   "outputs": [],
   "source": [
    "inputs, labels, mask =  next(iter_ex)"
   ]
  },
  {
   "cell_type": "code",
   "execution_count": 105,
   "id": "affiliated-stamp",
   "metadata": {},
   "outputs": [],
   "source": [
    "args = Args(tr, val, test, batch_size=32, hsz=50, drop_rate=0.1, lr=0.001, epochs=3, k=20)"
   ]
  },
  {
   "cell_type": "code",
   "execution_count": 106,
   "id": "severe-poster",
   "metadata": {},
   "outputs": [
    {
     "name": "stdout",
     "output_type": "stream",
     "text": [
      "Model: \"model_4\"\n",
      "_________________________________________________________________\n",
      "Layer (type)                 Output Shape              Param #   \n",
      "=================================================================\n",
      "input_5 (InputLayer)         [(32, 1, 3322)]           0         \n",
      "_________________________________________________________________\n",
      "GRU (GRU)                    [(32, 50), (32, 50)]      506100    \n",
      "_________________________________________________________________\n",
      "dropout_4 (Dropout)          (32, 50)                  0         \n",
      "_________________________________________________________________\n",
      "dense_4 (Dense)              (32, 3322)                169422    \n",
      "=================================================================\n",
      "Total params: 675,522\n",
      "Trainable params: 675,522\n",
      "Non-trainable params: 0\n",
      "_________________________________________________________________\n"
     ]
    }
   ],
   "source": [
    "model = create_model(args)"
   ]
  },
  {
   "cell_type": "code",
   "execution_count": 107,
   "id": "cellular-bracket",
   "metadata": {},
   "outputs": [
    {
     "name": "stderr",
     "output_type": "stream",
     "text": [
      "Train:  99%|█████████▉| 22882/23080 [02:35<00:01, 147.44it/s, accuracy=0.0312, train_loss=5.61]\n",
      "Evaluation:  72%|███████▏  | 739/1027 [01:16<00:29,  9.64it/s]\n",
      "Train:   0%|          | 0/23080 [00:00<?, ?it/s, accuracy=0, train_loss=5.34]     "
     ]
    },
    {
     "name": "stdout",
     "output_type": "stream",
     "text": [
      "\t - Recall@20 epoch 1: 0.228814\n",
      "\t - MRR@20    epoch 1: 0.059497\n",
      "\n"
     ]
    },
    {
     "name": "stderr",
     "output_type": "stream",
     "text": [
      "Train:  99%|█████████▉| 22882/23080 [02:24<00:01, 158.65it/s, accuracy=0, train_loss=5.57]     \n",
      "Evaluation:  72%|███████▏  | 739/1027 [01:14<00:28,  9.95it/s]\n",
      "Train:   0%|          | 0/23080 [00:00<?, ?it/s, accuracy=0.0312, train_loss=5.21]"
     ]
    },
    {
     "name": "stdout",
     "output_type": "stream",
     "text": [
      "\t - Recall@20 epoch 2: 0.270890\n",
      "\t - MRR@20    epoch 2: 0.075316\n",
      "\n"
     ]
    },
    {
     "name": "stderr",
     "output_type": "stream",
     "text": [
      "Train:  99%|█████████▉| 22882/23080 [02:27<00:01, 155.63it/s, accuracy=0.0625, train_loss=5.48]\n",
      "Evaluation:  72%|███████▏  | 739/1027 [01:14<00:29,  9.87it/s]"
     ]
    },
    {
     "name": "stdout",
     "output_type": "stream",
     "text": [
      "\t - Recall@20 epoch 3: 0.280827\n",
      "\t - MRR@20    epoch 3: 0.080443\n",
      "\n"
     ]
    },
    {
     "name": "stderr",
     "output_type": "stream",
     "text": [
      "\n"
     ]
    }
   ],
   "source": [
    "train_model(model, args)"
   ]
  },
  {
   "cell_type": "code",
   "execution_count": 108,
   "id": "intensive-hunger",
   "metadata": {},
   "outputs": [
    {
     "name": "stderr",
     "output_type": "stream",
     "text": [
      "Evaluation:  88%|████████▊ | 2172/2476 [03:42<00:31,  9.77it/s]"
     ]
    },
    {
     "name": "stdout",
     "output_type": "stream",
     "text": [
      "\t - Recall@20: 0.245051\n",
      "\t - MRR@20: 0.070032\n",
      "\n"
     ]
    },
    {
     "name": "stderr",
     "output_type": "stream",
     "text": [
      "\n"
     ]
    }
   ],
   "source": [
    "test_model(model, args, test)"
   ]
  },
  {
   "cell_type": "markdown",
   "id": "regulated-series",
   "metadata": {},
   "source": [
    "## Model_4 결과분석5\n",
    "* 별 차이가 없었다. 성능이 약간 하락했다.\n",
    "* 중요한 사실을 깨달았다. stats_info를 확인했을 때 시간이 순서대로 정렬되있어야 하는데 뒤죽박죽이였다.\n",
    "* First Time : 956703932, Last Time : 1035933891 이 값이 비정상적이였다.\n",
    "* 아무래도 시계열을 초 단위로 계산하는 과정이 문제가 있는 것 같아 연원일 단위로 바꾸는 방법을 적용했다."
   ]
  },
  {
   "cell_type": "markdown",
   "id": "configured-process",
   "metadata": {},
   "source": [
    "# 시도 5\n",
    "* 시계열값 변경\n",
    "* least_click =100 으로 수정"
   ]
  },
  {
   "cell_type": "code",
   "execution_count": 144,
   "id": "deadly-extent",
   "metadata": {},
   "outputs": [],
   "source": [
    "data = load_data(train_path, None)\n",
    "data.sort_values(['UserId', 'Time'], inplace=True)  # data를 id와 시간 순서로 정렬해줍니다."
   ]
  },
  {
   "cell_type": "code",
   "execution_count": 145,
   "id": "local-empty",
   "metadata": {},
   "outputs": [],
   "source": [
    "data = data.drop('Rating', axis=1)"
   ]
  },
  {
   "cell_type": "code",
   "execution_count": 146,
   "id": "sophisticated-nigeria",
   "metadata": {},
   "outputs": [
    {
     "data": {
      "text/html": [
       "<div>\n",
       "<style scoped>\n",
       "    .dataframe tbody tr th:only-of-type {\n",
       "        vertical-align: middle;\n",
       "    }\n",
       "\n",
       "    .dataframe tbody tr th {\n",
       "        vertical-align: top;\n",
       "    }\n",
       "\n",
       "    .dataframe thead th {\n",
       "        text-align: right;\n",
       "    }\n",
       "</style>\n",
       "<table border=\"1\" class=\"dataframe\">\n",
       "  <thead>\n",
       "    <tr style=\"text-align: right;\">\n",
       "      <th></th>\n",
       "      <th>UserId</th>\n",
       "      <th>ItemId</th>\n",
       "      <th>Time</th>\n",
       "    </tr>\n",
       "  </thead>\n",
       "  <tbody>\n",
       "    <tr>\n",
       "      <th>31</th>\n",
       "      <td>1</td>\n",
       "      <td>3186</td>\n",
       "      <td>2001-01-01 07:00:19</td>\n",
       "    </tr>\n",
       "    <tr>\n",
       "      <th>22</th>\n",
       "      <td>1</td>\n",
       "      <td>1270</td>\n",
       "      <td>2001-01-01 07:00:55</td>\n",
       "    </tr>\n",
       "    <tr>\n",
       "      <th>27</th>\n",
       "      <td>1</td>\n",
       "      <td>1721</td>\n",
       "      <td>2001-01-01 07:00:55</td>\n",
       "    </tr>\n",
       "    <tr>\n",
       "      <th>37</th>\n",
       "      <td>1</td>\n",
       "      <td>1022</td>\n",
       "      <td>2001-01-01 07:00:55</td>\n",
       "    </tr>\n",
       "    <tr>\n",
       "      <th>24</th>\n",
       "      <td>1</td>\n",
       "      <td>2340</td>\n",
       "      <td>2001-01-01 07:01:43</td>\n",
       "    </tr>\n",
       "    <tr>\n",
       "      <th>...</th>\n",
       "      <td>...</td>\n",
       "      <td>...</td>\n",
       "      <td>...</td>\n",
       "    </tr>\n",
       "    <tr>\n",
       "      <th>1000019</th>\n",
       "      <td>6040</td>\n",
       "      <td>2917</td>\n",
       "      <td>2001-08-10 23:40:29</td>\n",
       "    </tr>\n",
       "    <tr>\n",
       "      <th>999988</th>\n",
       "      <td>6040</td>\n",
       "      <td>1921</td>\n",
       "      <td>2001-08-10 23:41:04</td>\n",
       "    </tr>\n",
       "    <tr>\n",
       "      <th>1000172</th>\n",
       "      <td>6040</td>\n",
       "      <td>1784</td>\n",
       "      <td>2001-08-10 23:41:04</td>\n",
       "    </tr>\n",
       "    <tr>\n",
       "      <th>1000167</th>\n",
       "      <td>6040</td>\n",
       "      <td>161</td>\n",
       "      <td>2001-08-10 23:41:26</td>\n",
       "    </tr>\n",
       "    <tr>\n",
       "      <th>1000042</th>\n",
       "      <td>6040</td>\n",
       "      <td>1221</td>\n",
       "      <td>2001-08-20 22:44:15</td>\n",
       "    </tr>\n",
       "  </tbody>\n",
       "</table>\n",
       "<p>1000209 rows × 3 columns</p>\n",
       "</div>"
      ],
      "text/plain": [
       "         UserId  ItemId                Time\n",
       "31            1    3186 2001-01-01 07:00:19\n",
       "22            1    1270 2001-01-01 07:00:55\n",
       "27            1    1721 2001-01-01 07:00:55\n",
       "37            1    1022 2001-01-01 07:00:55\n",
       "24            1    2340 2001-01-01 07:01:43\n",
       "...         ...     ...                 ...\n",
       "1000019    6040    2917 2001-08-10 23:40:29\n",
       "999988     6040    1921 2001-08-10 23:41:04\n",
       "1000172    6040    1784 2001-08-10 23:41:04\n",
       "1000167    6040     161 2001-08-10 23:41:26\n",
       "1000042    6040    1221 2001-08-20 22:44:15\n",
       "\n",
       "[1000209 rows x 3 columns]"
      ]
     },
     "execution_count": 146,
     "metadata": {},
     "output_type": "execute_result"
    }
   ],
   "source": [
    "# 시간 변환\n",
    "import datetime, time \n",
    "times = data[\"Time\"] \n",
    "tmp_list = [] \n",
    "for time in times: \n",
    "    tmp_date = dt.datetime.fromtimestamp(time)\n",
    "    tmp_list.append(tmp_date)\n",
    "data[\"Time\"] = tmp_list \n",
    "data"
   ]
  },
  {
   "cell_type": "code",
   "execution_count": 125,
   "id": "advised-walker",
   "metadata": {
    "scrolled": true
   },
   "outputs": [
    {
     "data": {
      "text/plain": [
       "(Timestamp('2000-04-26 08:05:32'), Timestamp('2003-03-01 02:49:50'))"
      ]
     },
     "execution_count": 125,
     "metadata": {},
     "output_type": "execute_result"
    }
   ],
   "source": [
    "data['Time'].min(), data['Time'].max()"
   ]
  },
  {
   "cell_type": "markdown",
   "id": "magnetic-denial",
   "metadata": {},
   "source": [
    "* 2000-04-26 08:05:32부터 2003-03-01 02:49:50까지의 데이터이다."
   ]
  },
  {
   "cell_type": "code",
   "execution_count": 147,
   "id": "suitable-assistant",
   "metadata": {},
   "outputs": [],
   "source": [
    "def split_by_date(data: pd.DataFrame, n_days: int):\n",
    "    final_time = data['Time'].max()\n",
    "    session_last_time = data.groupby('UserId')['Time'].max()\n",
    "    session_in_train = session_last_time[session_last_time < final_time - dt.timedelta(n_days)].index\n",
    "    session_in_test = session_last_time[session_last_time >= final_time - dt.timedelta(n_days)].index\n",
    "\n",
    "    before_date = data[data['UserId'].isin(session_in_train)]\n",
    "    after_date = data[data['UserId'].isin(session_in_test)]\n",
    "    after_date = after_date[after_date['ItemId'].isin(before_date['ItemId'])]\n",
    "    return before_date, after_date"
   ]
  },
  {
   "cell_type": "code",
   "execution_count": 148,
   "id": "underlying-foundation",
   "metadata": {},
   "outputs": [],
   "source": [
    "data = cleanse_recursive(data, shortest=96, least_click=100)"
   ]
  },
  {
   "cell_type": "code",
   "execution_count": 149,
   "id": "authorized-tourism",
   "metadata": {},
   "outputs": [
    {
     "data": {
      "text/html": [
       "<div>\n",
       "<style scoped>\n",
       "    .dataframe tbody tr th:only-of-type {\n",
       "        vertical-align: middle;\n",
       "    }\n",
       "\n",
       "    .dataframe tbody tr th {\n",
       "        vertical-align: top;\n",
       "    }\n",
       "\n",
       "    .dataframe thead th {\n",
       "        text-align: right;\n",
       "    }\n",
       "</style>\n",
       "<table border=\"1\" class=\"dataframe\">\n",
       "  <thead>\n",
       "    <tr style=\"text-align: right;\">\n",
       "      <th></th>\n",
       "      <th>UserId</th>\n",
       "      <th>ItemId</th>\n",
       "      <th>Time</th>\n",
       "    </tr>\n",
       "  </thead>\n",
       "  <tbody>\n",
       "    <tr>\n",
       "      <th>1000138</th>\n",
       "      <td>6040</td>\n",
       "      <td>858</td>\n",
       "      <td>2000-04-26 08:05:32</td>\n",
       "    </tr>\n",
       "    <tr>\n",
       "      <th>999873</th>\n",
       "      <td>6040</td>\n",
       "      <td>593</td>\n",
       "      <td>2000-04-26 08:05:54</td>\n",
       "    </tr>\n",
       "    <tr>\n",
       "      <th>1000153</th>\n",
       "      <td>6040</td>\n",
       "      <td>2384</td>\n",
       "      <td>2000-04-26 08:05:54</td>\n",
       "    </tr>\n",
       "    <tr>\n",
       "      <th>1000007</th>\n",
       "      <td>6040</td>\n",
       "      <td>1961</td>\n",
       "      <td>2000-04-26 08:06:17</td>\n",
       "    </tr>\n",
       "    <tr>\n",
       "      <th>1000192</th>\n",
       "      <td>6040</td>\n",
       "      <td>2019</td>\n",
       "      <td>2000-04-26 08:06:17</td>\n",
       "    </tr>\n",
       "    <tr>\n",
       "      <th>...</th>\n",
       "      <td>...</td>\n",
       "      <td>...</td>\n",
       "      <td>...</td>\n",
       "    </tr>\n",
       "    <tr>\n",
       "      <th>825526</th>\n",
       "      <td>4958</td>\n",
       "      <td>3489</td>\n",
       "      <td>2003-03-01 02:45:20</td>\n",
       "    </tr>\n",
       "    <tr>\n",
       "      <th>825793</th>\n",
       "      <td>4958</td>\n",
       "      <td>2399</td>\n",
       "      <td>2003-03-01 02:45:38</td>\n",
       "    </tr>\n",
       "    <tr>\n",
       "      <th>825438</th>\n",
       "      <td>4958</td>\n",
       "      <td>1407</td>\n",
       "      <td>2003-03-01 02:47:23</td>\n",
       "    </tr>\n",
       "    <tr>\n",
       "      <th>825724</th>\n",
       "      <td>4958</td>\n",
       "      <td>3264</td>\n",
       "      <td>2003-03-01 02:49:08</td>\n",
       "    </tr>\n",
       "    <tr>\n",
       "      <th>825603</th>\n",
       "      <td>4958</td>\n",
       "      <td>1924</td>\n",
       "      <td>2003-03-01 02:49:50</td>\n",
       "    </tr>\n",
       "  </tbody>\n",
       "</table>\n",
       "<p>784433 rows × 3 columns</p>\n",
       "</div>"
      ],
      "text/plain": [
       "         UserId  ItemId                Time\n",
       "1000138    6040     858 2000-04-26 08:05:32\n",
       "999873     6040     593 2000-04-26 08:05:54\n",
       "1000153    6040    2384 2000-04-26 08:05:54\n",
       "1000007    6040    1961 2000-04-26 08:06:17\n",
       "1000192    6040    2019 2000-04-26 08:06:17\n",
       "...         ...     ...                 ...\n",
       "825526     4958    3489 2003-03-01 02:45:20\n",
       "825793     4958    2399 2003-03-01 02:45:38\n",
       "825438     4958    1407 2003-03-01 02:47:23\n",
       "825724     4958    3264 2003-03-01 02:49:08\n",
       "825603     4958    1924 2003-03-01 02:49:50\n",
       "\n",
       "[784433 rows x 3 columns]"
      ]
     },
     "execution_count": 149,
     "metadata": {},
     "output_type": "execute_result"
    }
   ],
   "source": [
    "data.sort_values(['Time'], inplace=True)\n",
    "data"
   ]
  },
  {
   "cell_type": "code",
   "execution_count": 150,
   "id": "furnished-affect",
   "metadata": {},
   "outputs": [],
   "source": [
    "tr, test = split_by_date(data, n_days=60)\n",
    "tr, val = split_by_date(tr, n_days=60)"
   ]
  },
  {
   "cell_type": "code",
   "execution_count": 151,
   "id": "general-underwear",
   "metadata": {},
   "outputs": [
    {
     "name": "stdout",
     "output_type": "stream",
     "text": [
      "* train Set Stats Info\n",
      "\t Events: 683506\n",
      "\t Sessions: 2678\n",
      "\t Items: 1921\n",
      "\t First Time : 2000-04-26 08:05:32\n",
      "\t Last Time : 2002-10-30 08:24:51\n",
      "\n",
      "* valid Set Stats Info\n",
      "\t Events: 31793\n",
      "\t Sessions: 86\n",
      "\t Items: 1915\n",
      "\t First Time : 2000-04-28 01:38:08\n",
      "\t Last Time : 2002-12-30 11:26:14\n",
      "\n",
      "* test Set Stats Info\n",
      "\t Events: 69134\n",
      "\t Sessions: 157\n",
      "\t Items: 1921\n",
      "\t First Time : 2000-05-01 20:15:13\n",
      "\t Last Time : 2003-03-01 02:49:50\n",
      "\n"
     ]
    }
   ],
   "source": [
    "stats_info(tr, 'train')\n",
    "stats_info(val, 'valid')\n",
    "stats_info(test, 'test')"
   ]
  },
  {
   "cell_type": "code",
   "execution_count": 152,
   "id": "royal-muslim",
   "metadata": {},
   "outputs": [],
   "source": [
    "id2idx = {item_id : index for index, item_id in enumerate(tr['ItemId'].unique())}"
   ]
  },
  {
   "cell_type": "code",
   "execution_count": 153,
   "id": "extensive-franklin",
   "metadata": {},
   "outputs": [],
   "source": [
    "tr = indexing(tr, id2idx)\n",
    "val = indexing(val, id2idx)\n",
    "test = indexing(test, id2idx)"
   ]
  },
  {
   "cell_type": "code",
   "execution_count": 154,
   "id": "taken-loading",
   "metadata": {},
   "outputs": [],
   "source": [
    "save_path = data_path / 'processed'\n",
    "save_path.mkdir(parents=True, exist_ok=True)\n",
    "\n",
    "tr.to_pickle(save_path / 'train1.pkl')\n",
    "val.to_pickle(save_path / 'valid1.pkl')\n",
    "test.to_pickle(save_path / 'test1.pkl')"
   ]
  },
  {
   "cell_type": "code",
   "execution_count": 155,
   "id": "metallic-liberal",
   "metadata": {},
   "outputs": [
    {
     "data": {
      "text/html": [
       "<div>\n",
       "<style scoped>\n",
       "    .dataframe tbody tr th:only-of-type {\n",
       "        vertical-align: middle;\n",
       "    }\n",
       "\n",
       "    .dataframe tbody tr th {\n",
       "        vertical-align: top;\n",
       "    }\n",
       "\n",
       "    .dataframe thead th {\n",
       "        text-align: right;\n",
       "    }\n",
       "</style>\n",
       "<table border=\"1\" class=\"dataframe\">\n",
       "  <thead>\n",
       "    <tr style=\"text-align: right;\">\n",
       "      <th></th>\n",
       "      <th>UserId</th>\n",
       "      <th>ItemId</th>\n",
       "      <th>Time</th>\n",
       "      <th>item_idx</th>\n",
       "    </tr>\n",
       "  </thead>\n",
       "  <tbody>\n",
       "    <tr>\n",
       "      <th>1000138</th>\n",
       "      <td>6040</td>\n",
       "      <td>858</td>\n",
       "      <td>2000-04-26 08:05:32</td>\n",
       "      <td>0</td>\n",
       "    </tr>\n",
       "    <tr>\n",
       "      <th>999873</th>\n",
       "      <td>6040</td>\n",
       "      <td>593</td>\n",
       "      <td>2000-04-26 08:05:54</td>\n",
       "      <td>1</td>\n",
       "    </tr>\n",
       "    <tr>\n",
       "      <th>1000153</th>\n",
       "      <td>6040</td>\n",
       "      <td>2384</td>\n",
       "      <td>2000-04-26 08:05:54</td>\n",
       "      <td>2</td>\n",
       "    </tr>\n",
       "    <tr>\n",
       "      <th>1000007</th>\n",
       "      <td>6040</td>\n",
       "      <td>1961</td>\n",
       "      <td>2000-04-26 08:06:17</td>\n",
       "      <td>3</td>\n",
       "    </tr>\n",
       "    <tr>\n",
       "      <th>1000192</th>\n",
       "      <td>6040</td>\n",
       "      <td>2019</td>\n",
       "      <td>2000-04-26 08:06:17</td>\n",
       "      <td>4</td>\n",
       "    </tr>\n",
       "    <tr>\n",
       "      <th>999877</th>\n",
       "      <td>6040</td>\n",
       "      <td>1419</td>\n",
       "      <td>2000-04-26 08:07:36</td>\n",
       "      <td>5</td>\n",
       "    </tr>\n",
       "    <tr>\n",
       "      <th>999967</th>\n",
       "      <td>6040</td>\n",
       "      <td>3111</td>\n",
       "      <td>2000-04-26 08:07:36</td>\n",
       "      <td>6</td>\n",
       "    </tr>\n",
       "    <tr>\n",
       "      <th>999980</th>\n",
       "      <td>6040</td>\n",
       "      <td>3505</td>\n",
       "      <td>2000-04-26 08:07:36</td>\n",
       "      <td>7</td>\n",
       "    </tr>\n",
       "    <tr>\n",
       "      <th>1000155</th>\n",
       "      <td>6040</td>\n",
       "      <td>1734</td>\n",
       "      <td>2000-04-26 08:08:01</td>\n",
       "      <td>8</td>\n",
       "    </tr>\n",
       "    <tr>\n",
       "      <th>999884</th>\n",
       "      <td>6040</td>\n",
       "      <td>912</td>\n",
       "      <td>2000-04-26 08:09:51</td>\n",
       "      <td>9</td>\n",
       "    </tr>\n",
       "  </tbody>\n",
       "</table>\n",
       "</div>"
      ],
      "text/plain": [
       "         UserId  ItemId                Time  item_idx\n",
       "1000138    6040     858 2000-04-26 08:05:32         0\n",
       "999873     6040     593 2000-04-26 08:05:54         1\n",
       "1000153    6040    2384 2000-04-26 08:05:54         2\n",
       "1000007    6040    1961 2000-04-26 08:06:17         3\n",
       "1000192    6040    2019 2000-04-26 08:06:17         4\n",
       "999877     6040    1419 2000-04-26 08:07:36         5\n",
       "999967     6040    3111 2000-04-26 08:07:36         6\n",
       "999980     6040    3505 2000-04-26 08:07:36         7\n",
       "1000155    6040    1734 2000-04-26 08:08:01         8\n",
       "999884     6040     912 2000-04-26 08:09:51         9"
      ]
     },
     "execution_count": 155,
     "metadata": {},
     "output_type": "execute_result"
    }
   ],
   "source": [
    "tr_dataset = SessionDataset(tr)\n",
    "tr_dataset.df.head(10)"
   ]
  },
  {
   "cell_type": "code",
   "execution_count": 156,
   "id": "unsigned-sugar",
   "metadata": {},
   "outputs": [],
   "source": [
    "tr_data_loader = SessionDataLoader(tr_dataset, batch_size=4)"
   ]
  },
  {
   "cell_type": "code",
   "execution_count": 157,
   "id": "lucky-shannon",
   "metadata": {},
   "outputs": [],
   "source": [
    "iter_ex = iter(tr_data_loader)"
   ]
  },
  {
   "cell_type": "code",
   "execution_count": 158,
   "id": "painful-scholarship",
   "metadata": {},
   "outputs": [],
   "source": [
    "inputs, labels, mask =  next(iter_ex)"
   ]
  },
  {
   "cell_type": "code",
   "execution_count": 159,
   "id": "rental-madonna",
   "metadata": {},
   "outputs": [],
   "source": [
    "args = Args(tr, val, test, batch_size=32, hsz=50, drop_rate=0.1, lr=0.001, epochs=10, k=20)"
   ]
  },
  {
   "cell_type": "code",
   "execution_count": 160,
   "id": "exotic-envelope",
   "metadata": {},
   "outputs": [
    {
     "name": "stdout",
     "output_type": "stream",
     "text": [
      "Model: \"model_5\"\n",
      "_________________________________________________________________\n",
      "Layer (type)                 Output Shape              Param #   \n",
      "=================================================================\n",
      "input_6 (InputLayer)         [(32, 1, 1921)]           0         \n",
      "_________________________________________________________________\n",
      "GRU (GRU)                    [(32, 50), (32, 50)]      295950    \n",
      "_________________________________________________________________\n",
      "dropout_5 (Dropout)          (32, 50)                  0         \n",
      "_________________________________________________________________\n",
      "dense_5 (Dense)              (32, 1921)                97971     \n",
      "=================================================================\n",
      "Total params: 393,921\n",
      "Trainable params: 393,921\n",
      "Non-trainable params: 0\n",
      "_________________________________________________________________\n"
     ]
    }
   ],
   "source": [
    "model = create_model(args)"
   ]
  },
  {
   "cell_type": "code",
   "execution_count": 161,
   "id": "challenging-pastor",
   "metadata": {},
   "outputs": [
    {
     "name": "stderr",
     "output_type": "stream",
     "text": [
      "Train:  99%|█████████▉| 21094/21275 [02:14<00:01, 157.40it/s, accuracy=0, train_loss=6.29]     \n",
      "Evaluation:  71%|███████   | 699/990 [01:12<00:30,  9.67it/s]\n",
      "Train:   0%|          | 0/21275 [00:00<?, ?it/s, accuracy=0.0312, train_loss=6.16]"
     ]
    },
    {
     "name": "stdout",
     "output_type": "stream",
     "text": [
      "\t - Recall@20 epoch 1: 0.234844\n",
      "\t - MRR@20    epoch 1: 0.054790\n",
      "\n"
     ]
    },
    {
     "name": "stderr",
     "output_type": "stream",
     "text": [
      "Train:  99%|█████████▉| 21094/21275 [02:12<00:01, 158.63it/s, accuracy=0, train_loss=6.08]     \n",
      "Evaluation:  71%|███████   | 699/990 [01:11<00:29,  9.81it/s]\n",
      "Train:   0%|          | 0/21275 [00:00<?, ?it/s, accuracy=0, train_loss=6.04]     "
     ]
    },
    {
     "name": "stdout",
     "output_type": "stream",
     "text": [
      "\t - Recall@20 epoch 2: 0.268911\n",
      "\t - MRR@20    epoch 2: 0.063806\n",
      "\n"
     ]
    },
    {
     "name": "stderr",
     "output_type": "stream",
     "text": [
      "Train:  99%|█████████▉| 21094/21275 [02:10<00:01, 161.16it/s, accuracy=0.0312, train_loss=5.93]\n",
      "Evaluation:  71%|███████   | 699/990 [01:11<00:29,  9.83it/s]\n",
      "Train:   0%|          | 0/21275 [00:00<?, ?it/s, accuracy=0, train_loss=5.94]     "
     ]
    },
    {
     "name": "stdout",
     "output_type": "stream",
     "text": [
      "\t - Recall@20 epoch 3: 0.276735\n",
      "\t - MRR@20    epoch 3: 0.066591\n",
      "\n"
     ]
    },
    {
     "name": "stderr",
     "output_type": "stream",
     "text": [
      "Train:  99%|█████████▉| 21094/21275 [02:13<00:01, 158.54it/s, accuracy=0, train_loss=5.89]     \n",
      "Evaluation:  71%|███████   | 699/990 [01:10<00:29,  9.95it/s]\n",
      "Train:   0%|          | 0/21275 [00:00<?, ?it/s, accuracy=0.0625, train_loss=5.88]"
     ]
    },
    {
     "name": "stdout",
     "output_type": "stream",
     "text": [
      "\t - Recall@20 epoch 4: 0.280088\n",
      "\t - MRR@20    epoch 4: 0.068015\n",
      "\n"
     ]
    },
    {
     "name": "stderr",
     "output_type": "stream",
     "text": [
      "Train:  99%|█████████▉| 21094/21275 [02:18<00:01, 152.24it/s, accuracy=0.0312, train_loss=5.79]\n",
      "Evaluation:  71%|███████   | 699/990 [01:10<00:29,  9.98it/s]\n",
      "Train:   0%|          | 0/21275 [00:00<?, ?it/s, accuracy=0.0938, train_loss=5.85]"
     ]
    },
    {
     "name": "stdout",
     "output_type": "stream",
     "text": [
      "\t - Recall@20 epoch 5: 0.279864\n",
      "\t - MRR@20    epoch 5: 0.069690\n",
      "\n"
     ]
    },
    {
     "name": "stderr",
     "output_type": "stream",
     "text": [
      "Train:  99%|█████████▉| 21094/21275 [02:18<00:01, 152.39it/s, accuracy=0, train_loss=5.93]     \n",
      "Evaluation:  71%|███████   | 699/990 [01:11<00:29,  9.79it/s]\n",
      "Train:   0%|          | 0/21275 [00:00<?, ?it/s, accuracy=0.0312, train_loss=6.05]"
     ]
    },
    {
     "name": "stdout",
     "output_type": "stream",
     "text": [
      "\t - Recall@20 epoch 6: 0.282010\n",
      "\t - MRR@20    epoch 6: 0.070421\n",
      "\n"
     ]
    },
    {
     "name": "stderr",
     "output_type": "stream",
     "text": [
      "Train:  99%|█████████▉| 21094/21275 [02:20<00:01, 149.68it/s, accuracy=0, train_loss=5.99]     \n",
      "Evaluation:  71%|███████   | 699/990 [01:11<00:29,  9.78it/s]\n",
      "Train:   0%|          | 0/21275 [00:00<?, ?it/s, accuracy=0.0312, train_loss=5.66]"
     ]
    },
    {
     "name": "stdout",
     "output_type": "stream",
     "text": [
      "\t - Recall@20 epoch 7: 0.280803\n",
      "\t - MRR@20    epoch 7: 0.070597\n",
      "\n"
     ]
    },
    {
     "name": "stderr",
     "output_type": "stream",
     "text": [
      "Train:  99%|█████████▉| 21094/21275 [02:10<00:01, 162.09it/s, accuracy=0, train_loss=5.89]     \n",
      "Evaluation:  71%|███████   | 699/990 [01:11<00:29,  9.78it/s]\n",
      "Train:   0%|          | 0/21275 [00:00<?, ?it/s, accuracy=0, train_loss=5.76]     "
     ]
    },
    {
     "name": "stdout",
     "output_type": "stream",
     "text": [
      "\t - Recall@20 epoch 8: 0.280579\n",
      "\t - MRR@20    epoch 8: 0.070796\n",
      "\n"
     ]
    },
    {
     "name": "stderr",
     "output_type": "stream",
     "text": [
      "Train:  99%|█████████▉| 21094/21275 [02:16<00:01, 154.39it/s, accuracy=0.0312, train_loss=5.92]\n",
      "Evaluation:  71%|███████   | 699/990 [01:11<00:29,  9.75it/s]\n",
      "Train:   0%|          | 0/21275 [00:00<?, ?it/s, accuracy=0.0312, train_loss=5.95]"
     ]
    },
    {
     "name": "stdout",
     "output_type": "stream",
     "text": [
      "\t - Recall@20 epoch 9: 0.279864\n",
      "\t - MRR@20    epoch 9: 0.070269\n",
      "\n"
     ]
    },
    {
     "name": "stderr",
     "output_type": "stream",
     "text": [
      "Train:  99%|█████████▉| 21094/21275 [02:15<00:01, 155.36it/s, accuracy=0.0312, train_loss=5.8] \n",
      "Evaluation:  71%|███████   | 699/990 [01:09<00:29, 10.01it/s]"
     ]
    },
    {
     "name": "stdout",
     "output_type": "stream",
     "text": [
      "\t - Recall@20 epoch 10: 0.278121\n",
      "\t - MRR@20    epoch 10: 0.070027\n",
      "\n"
     ]
    },
    {
     "name": "stderr",
     "output_type": "stream",
     "text": [
      "\n"
     ]
    }
   ],
   "source": [
    "train_model(model, args)"
   ]
  },
  {
   "cell_type": "code",
   "execution_count": 162,
   "id": "latin-beads",
   "metadata": {},
   "outputs": [
    {
     "name": "stderr",
     "output_type": "stream",
     "text": [
      "Evaluation:  87%|████████▋ | 1868/2155 [03:12<00:29,  9.71it/s]"
     ]
    },
    {
     "name": "stdout",
     "output_type": "stream",
     "text": [
      "\t - Recall@20: 0.241569\n",
      "\t - MRR@20: 0.060024\n",
      "\n"
     ]
    },
    {
     "name": "stderr",
     "output_type": "stream",
     "text": [
      "\n"
     ]
    }
   ],
   "source": [
    "test_model(model, args, test)"
   ]
  },
  {
   "cell_type": "markdown",
   "id": "dynamic-water",
   "metadata": {},
   "source": [
    "# 정리\n",
    "![pic](https://user-images.githubusercontent.com/60597598/111527588-6fcc2180-87a3-11eb-951a-cc29074f7510.png)"
   ]
  },
  {
   "cell_type": "markdown",
   "id": "embedded-jordan",
   "metadata": {},
   "source": [
    "## 마치며..\n",
    "* Session에 맞춰 batchsize 조정을 해서 에러 해결을 하였다.\n",
    "* 다양한 하이퍼파라미터 조절을 한 결과 데이터셋 크기 조절을 했을 때 Recall@k값과 MRR과  가장 크게 향상되었다.\n",
    "* epoch만큼의 학습이 진행되는 과정에서 train loss가 안정적으로 감소하고, validation 단계에서의 Recall, MRR이 개선되는 것을 확인했다. loss가 6점 대에서 5점대로 내려가는 것을 볼 수 있었다. Recall@k값도 0.23정도에서 0.27점대로 증가했다. MRR도 0.054에서 0.07로 증가했다.\n",
    "* 가장 좋은 모델은 shortest=30, least_click=20 이고 n_days=60, epoch = 10 일때 Recall@k = 0.251551, MRR = 0.074274 이다."
   ]
  },
  {
   "cell_type": "code",
   "execution_count": null,
   "id": "hispanic-exercise",
   "metadata": {},
   "outputs": [],
   "source": []
  }
 ],
 "metadata": {
  "kernelspec": {
   "display_name": "aiffel",
   "language": "python",
   "name": "aiffel"
  },
  "language_info": {
   "codemirror_mode": {
    "name": "ipython",
    "version": 3
   },
   "file_extension": ".py",
   "mimetype": "text/x-python",
   "name": "python",
   "nbconvert_exporter": "python",
   "pygments_lexer": "ipython3",
   "version": "3.7.9"
  }
 },
 "nbformat": 4,
 "nbformat_minor": 5
}
