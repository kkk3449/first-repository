{
 "cells": [
  {
   "cell_type": "markdown",
   "id": "502a5507",
   "metadata": {},
   "source": [
    "## 데이터 로드"
   ]
  },
  {
   "cell_type": "code",
   "execution_count": 84,
   "id": "bd132525",
   "metadata": {},
   "outputs": [
    {
     "name": "stdout",
     "output_type": "stream",
     "text": [
      "/home/aiffel-dj17/aiffel/ocr\n"
     ]
    }
   ],
   "source": [
    "import os\n",
    "\n",
    "path = os.path.join(os.getenv('HOME'),'aiffel/ocr')\n",
    "os.chdir(path)\n",
    "\n",
    "print(path)"
   ]
  },
  {
   "cell_type": "markdown",
   "id": "424a896f",
   "metadata": {},
   "source": [
    "## Recognition model"
   ]
  },
  {
   "cell_type": "code",
   "execution_count": 85,
   "id": "ce94b3e7",
   "metadata": {},
   "outputs": [
    {
     "name": "stdout",
     "output_type": "stream",
     "text": [
      "The total number of characters is 36\n"
     ]
    }
   ],
   "source": [
    "NUMBERS = \"0123456789\"\n",
    "ENG_CHAR_UPPER = \"ABCDEFGHIJKLMNOPQRSTUVWXYZ\"\n",
    "TARGET_CHARACTERS = ENG_CHAR_UPPER + NUMBERS\n",
    "print(f\"The total number of characters is {len(TARGET_CHARACTERS)}\")"
   ]
  },
  {
   "cell_type": "markdown",
   "id": "c85647ef",
   "metadata": {},
   "source": [
    "36개 클래스 필요"
   ]
  },
  {
   "cell_type": "markdown",
   "id": "24e91b03",
   "metadata": {},
   "source": [
    "### 필요 모듈 import"
   ]
  },
  {
   "cell_type": "code",
   "execution_count": 86,
   "id": "f242755d",
   "metadata": {},
   "outputs": [
    {
     "name": "stdout",
     "output_type": "stream",
     "text": [
      "/home/aiffel-dj17/aiffel/ocr/MJ/MJ_train\n"
     ]
    }
   ],
   "source": [
    "import re\n",
    "import six\n",
    "import math\n",
    "import lmdb\n",
    "import os\n",
    "import numpy as np\n",
    "import tensorflow as tf\n",
    "\n",
    "from PIL import Image\n",
    "\n",
    "from tensorflow.keras import layers\n",
    "from tensorflow.keras.models import Model\n",
    "from tensorflow.keras.utils import Sequence\n",
    "from tensorflow.keras import backend as K\n",
    "from tensorflow.keras.models import load_model\n",
    "\n",
    "BATCH_SIZE = 128\n",
    "HOME_DIR = os.getenv('HOME')+'/aiffel/ocr'\n",
    "\n",
    "# 로컬 사용자\n",
    "TRAIN_DATA_PATH = HOME_DIR+'/MJ/MJ_train'\n",
    "VALID_DATA_PATH = HOME_DIR+'/MJ/MJ_valid'\n",
    "TEST_DATA_PATH = HOME_DIR+'/MJ/MJ_test'\n",
    "\n",
    "# 클라우드 사용자는 아래 주석을 사용해 주세요.\n",
    "# TRAIN_DATA_PATH = HOME_DIR+'/data/MJ/MJ_train'\n",
    "# VALID_DATA_PATH = HOME_DIR+'/data/MJ/MJ_valid'\n",
    "# TEST_DATA_PATH = HOME_DIR+'/data/MJ/MJ_test'\n",
    "print(TRAIN_DATA_PATH)"
   ]
  },
  {
   "cell_type": "markdown",
   "id": "54ac7f6d",
   "metadata": {},
   "source": [
    "## Recognition model (2) Input Image\n",
    "### input image 확인"
   ]
  },
  {
   "cell_type": "code",
   "execution_count": 4,
   "id": "a65bd401",
   "metadata": {},
   "outputs": [
    {
     "name": "stdout",
     "output_type": "stream",
     "text": [
      "original image width:72, height:31\n",
      "target_img_size:(74, 32)\n",
      "display img shape:(74, 32, 3)\n",
      "label:Lube\n"
     ]
    },
    {
     "data": {
      "image/png": "[encoded data removed]",
      "text/plain": [
       "<PIL.Image.Image image mode=RGB size=74x32 at 0x7FBDE149B150>"
      ]
     },
     "metadata": {},
     "output_type": "display_data"
    },
    {
     "name": "stdout",
     "output_type": "stream",
     "text": [
      "original image width:82, height:31\n",
      "target_img_size:(84, 32)\n",
      "display img shape:(84, 32, 3)\n",
      "label:Spencerian\n"
     ]
    },
    {
     "data": {
      "image/png": "[encoded data removed]",
      "text/plain": [
       "<PIL.Image.Image image mode=RGB size=84x32 at 0x7FBDE149B150>"
      ]
     },
     "metadata": {},
     "output_type": "display_data"
    },
    {
     "name": "stdout",
     "output_type": "stream",
     "text": [
      "original image width:115, height:31\n",
      "target_img_size:(100, 32)\n",
      "display img shape:(100, 32, 3)\n",
      "label:accommodatingly\n"
     ]
    },
    {
     "data": {
      "image/png": "[encoded data removed]",
      "text/plain": [
       "<PIL.Image.Image image mode=RGB size=100x32 at 0x7FBDE149B690>"
      ]
     },
     "metadata": {},
     "output_type": "display_data"
    },
    {
     "name": "stdout",
     "output_type": "stream",
     "text": [
      "original image width:140, height:31\n",
      "target_img_size:(100, 32)\n",
      "display img shape:(100, 32, 3)\n",
      "label:CARPENTER\n"
     ]
    },
    {
     "data": {
      "image/png": "[encoded data removed]",
      "text/plain": [
       "<PIL.Image.Image image mode=RGB size=100x32 at 0x7FBDE149B110>"
      ]
     },
     "metadata": {},
     "output_type": "display_data"
    }
   ],
   "source": [
    "from IPython.display import display\n",
    "\n",
    "env = lmdb.open(TRAIN_DATA_PATH, max_readers=32, readonly=True, lock=False, readahead=False, meminit=False)\n",
    "with env.begin(write=False) as txn:\n",
    "    for index in range(1, 5):\n",
    "        label_key = 'label-%09d'.encode() % index\n",
    "        label = txn.get(label_key).decode('utf-8')\n",
    "        img_key = 'image-%09d'.encode() % index\n",
    "        imgbuf = txn.get(img_key)\n",
    "        buf = six.BytesIO()\n",
    "        buf.write(imgbuf)\n",
    "        buf.seek(0)\n",
    "        try:\n",
    "            img = Image.open(buf).convert('RGB')\n",
    "\n",
    "        except IOError:\n",
    "            img = Image.new('RGB', (100, 32))\n",
    "            label = '-'\n",
    "        width, height = img.size\n",
    "        print('original image width:{}, height:{}'.format(width, height))\n",
    "        \n",
    "        target_width = min(int(width*32/height), 100)\n",
    "        target_img_size = (target_width,32 )\n",
    "        \n",
    "        print('target_img_size:{}'.format(target_img_size))\n",
    "        \n",
    "        img = np.array(img.resize(target_img_size)).transpose(1,0,2)\n",
    "       \n",
    "        print('display img shape:{}'.format(img.shape))\n",
    "        print('label:{}'.format(label))\n",
    "        display(Image.fromarray(img.transpose(1,0,2).astype(np.uint8)))"
   ]
  },
  {
   "cell_type": "markdown",
   "id": "01e12c43",
   "metadata": {},
   "source": [
    "- lmdb를 활용하여 케라스 모델 학습용 MJ Synth 데이터셋 클래스를 구현.\n",
    "- dataset_path는 읽어들일 데이터셋의 경로. \n",
    "- label_converter는 아래에서 여러분이 문자를 미리정의된 index로 변환해주는 converter로 직접 구현"
   ]
  },
  {
   "cell_type": "code",
   "execution_count": 5,
   "id": "3981f8cd",
   "metadata": {},
   "outputs": [],
   "source": [
    "class MJDatasetSequence(Sequence):\n",
    "    def __init__(self, \n",
    "                      dataset_path,\n",
    "                      label_converter,\n",
    "                      batch_size=1,\n",
    "                      img_size=(100,32),\n",
    "                      max_text_len=22,\n",
    "                      is_train=False,\n",
    "                      character=''\n",
    "                ):\n",
    "        \n",
    "        self.label_converter = label_converter\n",
    "        self.batch_size = batch_size\n",
    "        self.img_size = img_size\n",
    "        self.max_text_len = max_text_len\n",
    "        self.character = character\n",
    "        self.is_train = is_train\n",
    "        self.divide_length = 100\n",
    "\n",
    "        self.env = lmdb.open(dataset_path, max_readers=32, readonly=True, lock=False, readahead=False, meminit=False)\n",
    "        with self.env.begin(write=False) as txn:\n",
    "            num_samples = int(txn.get('num-samples'.encode()))\n",
    "            self.num_samples = int(num_samples)\n",
    "            self.index_list = [index + 1 for index in range(self.num_samples)]\n",
    "        \n",
    "    def __len__(self):\n",
    "        if self.is_train:\n",
    "            return math.ceil(self.num_samples/self.batch_size/self.divide_length)\n",
    "        return math.ceil(self.num_samples/self.batch_size/self.divide_length)\n",
    "    \n",
    "    # index에 해당하는 image와 label을 가져오는 메소드\n",
    "    def _get_img_label(self, index):\n",
    "        with self.env.begin(write=False) as txn:\n",
    "            label_key = 'label-%09d'.encode() % index\n",
    "            label = txn.get(label_key).decode('utf-8')\n",
    "            img_key = 'image-%09d'.encode() % index\n",
    "            imgbuf = txn.get(img_key)\n",
    "\n",
    "            buf = six.BytesIO()\n",
    "            buf.write(imgbuf)\n",
    "            buf.seek(0)\n",
    "            try:\n",
    "                img = Image.open(buf).convert('RGB')\n",
    "\n",
    "            except IOError:\n",
    "                img = Image.new('RGB', self.img_size)\n",
    "                label = '-'\n",
    "            width, height = img.size\n",
    "            \n",
    "            target_width = min(int(width*self.img_size[1]/height), self.img_size[0])\n",
    "            target_img_size = (target_width,self.img_size[1] )\n",
    "            img = np.array(img.resize(target_img_size)).transpose(1,0,2)\n",
    "            label = label.upper()[:self.max_text_len]\n",
    "            out_of_char = f'[^{self.character}]'\n",
    "            label = re.sub(out_of_char, '', label)\n",
    "\n",
    "        return (img, label)\n",
    "    \n",
    "    # idx번째 배치를 가져오는 메소드\n",
    "    def __getitem__(self, idx):\n",
    "        batch_indicies = self.index_list[\n",
    "            idx*self.batch_size:\n",
    "            (idx+1)*self.batch_size\n",
    "        ]\n",
    "        input_images = np.zeros([self.batch_size, *self.img_size, 3])\n",
    "        labels = np.zeros([self.batch_size, self.max_text_len], dtype='int64')\n",
    "\n",
    "        input_length = np.ones([self.batch_size], dtype='int64')*self.max_text_len\n",
    "        label_length = np.ones([self.batch_size], dtype='int64')\n",
    "\n",
    "        for i, index in enumerate(batch_indicies):\n",
    "            img, label = self._get_img_label(index)\n",
    "            encoded_label = self.label_converter.encode(label)\n",
    "            width = img.shape[0]\n",
    "            input_images[i,:width,:,:] = img\n",
    "            if len(encoded_label) > self.max_text_len:\n",
    "                continue\n",
    "            labels[i,0:len(encoded_label)] = encoded_label\n",
    "            label_length[i] = len(encoded_label)\n",
    "\n",
    "        inputs = {\n",
    "            'input_image': input_images,\n",
    "            'label': labels,\n",
    "            'input_length': input_length,\n",
    "            'label_length': label_length,\n",
    "        }\n",
    "        outputs = {'ctc': np.zeros([self.batch_size, 1])}\n",
    "        return inputs, outputs\n",
    "        \n",
    "    def on_epoch_end(self):\n",
    "        self.index_list =  [index + 1 for index in range(self.num_samples)]\n",
    "        if self.is_train :\n",
    "            np.random.shuffle(self.index_list)\n",
    "            return self.index_list"
   ]
  },
  {
   "cell_type": "markdown",
   "id": "9d680786",
   "metadata": {},
   "source": [
    "- 데이터를 img, label의 쌍으로 가져오는 부분은 _get_img_label() 메소드에 반영.   \n",
    "- model.fit()에서 호출되는 __getitem__() 메소드에서 배치 단위만큼 _get_img_label() 를 통해 가져온 데이터셋을 리턴.   \n",
    "- _get_img_label() 를 보면 다양한 사이즈의 이미지를 모두 height는 32로 맞추고, width는 최대 100까지로 맞추게끔 가공."
   ]
  },
  {
   "cell_type": "markdown",
   "id": "4e17898d",
   "metadata": {},
   "source": [
    "## Recognition model (3) Encode"
   ]
  },
  {
   "cell_type": "code",
   "execution_count": 6,
   "id": "c5ba2cf3",
   "metadata": {},
   "outputs": [],
   "source": [
    "class LabelConverter(object):\n",
    "    \"\"\" Convert between text-label and text-index \"\"\"\n",
    "\n",
    "    def __init__(self, character):\n",
    "        self.character = \"-\" + character\n",
    "        self.label_map = dict()\n",
    "        for i, char in enumerate(self.character):\n",
    "            self.label_map[char] = i\n",
    "\n",
    "    def encode(self, text):\n",
    "        encoded_label = []\n",
    "        for i, char in enumerate(text):\n",
    "            if i > 0 and char == text[i - 1]:\n",
    "                encoded_label.append(0)    # 같은 문자 사이에 공백 문자 label을 삽입\n",
    "            encoded_label.append(self.label_map[char])\n",
    "        return np.array(encoded_label)\n",
    "\n",
    "    def decode(self, encoded_label):\n",
    "        target_characters = list(self.character)\n",
    "        decoded_label = \"\"\n",
    "        for encode in encoded_label:\n",
    "            decoded_label += self.character[encode]\n",
    "        return decoded_label"
   ]
  },
  {
   "cell_type": "markdown",
   "id": "ae485b3a",
   "metadata": {},
   "source": [
    "### 'HELLO' Encode, Decode 확인"
   ]
  },
  {
   "cell_type": "code",
   "execution_count": 7,
   "id": "6f96cfe8",
   "metadata": {},
   "outputs": [
    {
     "name": "stdout",
     "output_type": "stream",
     "text": [
      "Encdoded_text:  [ 8  5 12  0 12 15]\n",
      "Decoded_text:  HEL-LO\n"
     ]
    }
   ],
   "source": [
    "label_converter = LabelConverter(TARGET_CHARACTERS)\n",
    "\n",
    "encdoded_text = label_converter.encode('HELLO')\n",
    "print(\"Encdoded_text: \", encdoded_text)\n",
    "decoded_text = label_converter.decode(encdoded_text)\n",
    "print(\"Decoded_text: \", decoded_text)"
   ]
  },
  {
   "cell_type": "markdown",
   "id": "0e16e5a2",
   "metadata": {},
   "source": [
    "## Recognition model (4) Build CRNN model"
   ]
  },
  {
   "cell_type": "markdown",
   "id": "949237a9",
   "metadata": {},
   "source": [
    "- Keras에서 제공하는 K.ctc_batch_cost()를 활용해서 loss를 계산하도록 ctc_lambda_func를 아래와 같이 만들었다."
   ]
  },
  {
   "cell_type": "code",
   "execution_count": 8,
   "id": "5ae849c8",
   "metadata": {},
   "outputs": [],
   "source": [
    "def ctc_lambda_func(args): # CTC loss를 계산하기 위한 Lambda 함수\n",
    "    labels, y_pred, label_length, input_length = args\n",
    "    y_pred = y_pred[:, 2:, :]\n",
    "    return K.ctc_batch_cost(labels, y_pred, input_length, label_length)"
   ]
  },
  {
   "cell_type": "code",
   "execution_count": 9,
   "id": "01b410c2",
   "metadata": {},
   "outputs": [],
   "source": [
    "def build_crnn_model(input_shape=(100,32,3), characters=TARGET_CHARACTERS):\n",
    "    num_chars = len(characters)+2\n",
    "    image_input = layers.Input(shape=input_shape, dtype='float32', name='input_image')\n",
    "\n",
    "    # Build CRNN model\n",
    "    conv = layers.Conv2D(64, (3, 3), activation='relu', padding='same', kernel_initializer='he_normal')(image_input)\n",
    "    conv = layers.MaxPooling2D(pool_size=(2, 2))(conv)\n",
    "    conv = layers.Conv2D(128, (3, 3), activation='relu', padding='same', kernel_initializer='he_normal')(conv)\n",
    "    conv = layers.MaxPooling2D(pool_size=(2, 2))(conv)\n",
    "    conv = layers.Conv2D(256, (3, 3), activation='relu', padding='same', kernel_initializer='he_normal')(conv)\n",
    "    conv = layers.Conv2D(256, (3, 3), activation='relu', padding='same', kernel_initializer='he_normal')(conv)\n",
    "    conv = layers.MaxPooling2D(pool_size=(1, 2))(conv)\n",
    "    conv = layers.Conv2D(512, (3, 3), activation='relu', padding='same', kernel_initializer='he_normal')(conv)\n",
    "    conv = layers.BatchNormalization()(conv)\n",
    "    conv = layers.Conv2D(512, (3, 3), activation='relu', padding='same', kernel_initializer='he_normal')(conv)\n",
    "    conv = layers.BatchNormalization()(conv)\n",
    "    conv = layers.MaxPooling2D(pool_size=(1, 2))(conv)     \n",
    "    feature = layers.Conv2D(512, (2, 2), activation='relu', kernel_initializer='he_normal')(conv)\n",
    "    sequnce = layers.Reshape(target_shape=(24, 512))(feature)\n",
    "    sequnce = layers.Dense(64, activation='relu')(sequnce)\n",
    "    sequnce = layers.Bidirectional(layers.LSTM(256, return_sequences=True))(sequnce)\n",
    "    sequnce = layers.Bidirectional(layers.LSTM(256, return_sequences=True))(sequnce)\n",
    "    y_pred = layers.Dense(num_chars, activation='softmax', name='output')(sequnce)\n",
    "\n",
    "    labels = layers.Input(shape=[22], dtype='int64', name='label')\n",
    "    input_length = layers.Input(shape=[1], dtype='int64', name='input_length')\n",
    "    label_length = layers.Input(shape=[1], dtype='int64', name='label_length')\n",
    "    loss_out = layers.Lambda(ctc_lambda_func, output_shape=(1,), name=\"ctc\")(\n",
    "        [labels, y_pred, label_length, input_length]\n",
    "    )\n",
    "    model_input = [image_input, labels, input_length, label_length]\n",
    "    model = Model(\n",
    "        inputs=model_input,\n",
    "        outputs=loss_out\n",
    "    )\n",
    "    y_func = tf.keras.backend.function(image_input, [y_pred])\n",
    "    return model, y_func"
   ]
  },
  {
   "cell_type": "markdown",
   "id": "a7c705be",
   "metadata": {},
   "source": [
    "## Recognition model (5) Train & Inference"
   ]
  },
  {
   "cell_type": "code",
   "execution_count": 10,
   "id": "0ccf4f2b",
   "metadata": {
    "scrolled": true
   },
   "outputs": [
    {
     "name": "stdout",
     "output_type": "stream",
     "text": [
      "Epoch 1/100\n",
      "63/63 [==============================] - 23s 151ms/step - loss: 33.9499 - val_loss: 26.9908\n",
      "\n",
      "Epoch 00001: val_loss improved from inf to 26.99085, saving model to /home/aiffel-dj17/aiffel/ocr/model_checkpoint.hdf5\n",
      "Epoch 2/100\n",
      "63/63 [==============================] - 9s 135ms/step - loss: 26.8419 - val_loss: 26.2928\n",
      "\n",
      "Epoch 00002: val_loss improved from 26.99085 to 26.29283, saving model to /home/aiffel-dj17/aiffel/ocr/model_checkpoint.hdf5\n",
      "Epoch 3/100\n",
      "63/63 [==============================] - 9s 134ms/step - loss: 26.3044 - val_loss: 25.9576\n",
      "\n",
      "Epoch 00003: val_loss improved from 26.29283 to 25.95760, saving model to /home/aiffel-dj17/aiffel/ocr/model_checkpoint.hdf5\n",
      "Epoch 4/100\n",
      "63/63 [==============================] - 8s 129ms/step - loss: 25.9252 - val_loss: 26.7594\n",
      "\n",
      "Epoch 00004: val_loss did not improve from 25.95760\n",
      "Epoch 5/100\n",
      "63/63 [==============================] - 8s 130ms/step - loss: 25.5168 - val_loss: 28.1034\n",
      "\n",
      "Epoch 00005: val_loss did not improve from 25.95760\n",
      "Epoch 6/100\n",
      "63/63 [==============================] - 9s 137ms/step - loss: 25.3677 - val_loss: 25.8410\n",
      "\n",
      "Epoch 00006: val_loss improved from 25.95760 to 25.84105, saving model to /home/aiffel-dj17/aiffel/ocr/model_checkpoint.hdf5\n",
      "Epoch 7/100\n",
      "63/63 [==============================] - 8s 130ms/step - loss: 24.5538 - val_loss: 25.7117\n",
      "\n",
      "Epoch 00007: val_loss improved from 25.84105 to 25.71168, saving model to /home/aiffel-dj17/aiffel/ocr/model_checkpoint.hdf5\n",
      "Epoch 8/100\n",
      "63/63 [==============================] - 8s 130ms/step - loss: 24.0248 - val_loss: 23.9780\n",
      "\n",
      "Epoch 00008: val_loss improved from 25.71168 to 23.97799, saving model to /home/aiffel-dj17/aiffel/ocr/model_checkpoint.hdf5\n",
      "Epoch 9/100\n",
      "63/63 [==============================] - 9s 135ms/step - loss: 23.0104 - val_loss: 23.6609\n",
      "\n",
      "Epoch 00009: val_loss improved from 23.97799 to 23.66094, saving model to /home/aiffel-dj17/aiffel/ocr/model_checkpoint.hdf5\n",
      "Epoch 10/100\n",
      "63/63 [==============================] - 8s 130ms/step - loss: 21.7197 - val_loss: 21.3454\n",
      "\n",
      "Epoch 00010: val_loss improved from 23.66094 to 21.34536, saving model to /home/aiffel-dj17/aiffel/ocr/model_checkpoint.hdf5\n",
      "Epoch 11/100\n",
      "63/63 [==============================] - 8s 130ms/step - loss: 19.8187 - val_loss: 21.2752\n",
      "\n",
      "Epoch 00011: val_loss improved from 21.34536 to 21.27523, saving model to /home/aiffel-dj17/aiffel/ocr/model_checkpoint.hdf5\n",
      "Epoch 12/100\n",
      "63/63 [==============================] - 9s 135ms/step - loss: 17.5940 - val_loss: 17.6275\n",
      "\n",
      "Epoch 00012: val_loss improved from 21.27523 to 17.62748, saving model to /home/aiffel-dj17/aiffel/ocr/model_checkpoint.hdf5\n",
      "Epoch 13/100\n",
      "63/63 [==============================] - 8s 130ms/step - loss: 15.2257 - val_loss: 15.1617\n",
      "\n",
      "Epoch 00013: val_loss improved from 17.62748 to 15.16174, saving model to /home/aiffel-dj17/aiffel/ocr/model_checkpoint.hdf5\n",
      "Epoch 14/100\n",
      "63/63 [==============================] - 8s 131ms/step - loss: 13.3800 - val_loss: 13.2578\n",
      "\n",
      "Epoch 00014: val_loss improved from 15.16174 to 13.25777, saving model to /home/aiffel-dj17/aiffel/ocr/model_checkpoint.hdf5\n",
      "Epoch 15/100\n",
      "63/63 [==============================] - 9s 135ms/step - loss: 11.5123 - val_loss: 11.5509\n",
      "\n",
      "Epoch 00015: val_loss improved from 13.25777 to 11.55088, saving model to /home/aiffel-dj17/aiffel/ocr/model_checkpoint.hdf5\n",
      "Epoch 16/100\n",
      "63/63 [==============================] - 8s 132ms/step - loss: 10.6456 - val_loss: 10.7629\n",
      "\n",
      "Epoch 00016: val_loss improved from 11.55088 to 10.76288, saving model to /home/aiffel-dj17/aiffel/ocr/model_checkpoint.hdf5\n",
      "Epoch 17/100\n",
      "63/63 [==============================] - 8s 130ms/step - loss: 9.6950 - val_loss: 9.7562\n",
      "\n",
      "Epoch 00017: val_loss improved from 10.76288 to 9.75625, saving model to /home/aiffel-dj17/aiffel/ocr/model_checkpoint.hdf5\n",
      "Epoch 18/100\n",
      "63/63 [==============================] - 9s 134ms/step - loss: 8.7973 - val_loss: 9.0714\n",
      "\n",
      "Epoch 00018: val_loss improved from 9.75625 to 9.07137, saving model to /home/aiffel-dj17/aiffel/ocr/model_checkpoint.hdf5\n",
      "Epoch 19/100\n",
      "63/63 [==============================] - 8s 130ms/step - loss: 8.5221 - val_loss: 8.3809\n",
      "\n",
      "Epoch 00019: val_loss improved from 9.07137 to 8.38092, saving model to /home/aiffel-dj17/aiffel/ocr/model_checkpoint.hdf5\n",
      "Epoch 20/100\n",
      "63/63 [==============================] - 8s 130ms/step - loss: 7.9223 - val_loss: 7.9657\n",
      "\n",
      "Epoch 00020: val_loss improved from 8.38092 to 7.96573, saving model to /home/aiffel-dj17/aiffel/ocr/model_checkpoint.hdf5\n",
      "Epoch 21/100\n",
      "63/63 [==============================] - 9s 135ms/step - loss: 7.3353 - val_loss: 7.7919\n",
      "\n",
      "Epoch 00021: val_loss improved from 7.96573 to 7.79190, saving model to /home/aiffel-dj17/aiffel/ocr/model_checkpoint.hdf5\n",
      "Epoch 22/100\n",
      "63/63 [==============================] - 8s 131ms/step - loss: 7.0479 - val_loss: 7.3269\n",
      "\n",
      "Epoch 00022: val_loss improved from 7.79190 to 7.32694, saving model to /home/aiffel-dj17/aiffel/ocr/model_checkpoint.hdf5\n",
      "Epoch 23/100\n",
      "63/63 [==============================] - 8s 130ms/step - loss: 6.6663 - val_loss: 6.9552\n",
      "\n",
      "Epoch 00023: val_loss improved from 7.32694 to 6.95515, saving model to /home/aiffel-dj17/aiffel/ocr/model_checkpoint.hdf5\n",
      "Epoch 24/100\n",
      "63/63 [==============================] - 9s 135ms/step - loss: 6.4574 - val_loss: 7.4458\n",
      "\n",
      "Epoch 00024: val_loss did not improve from 6.95515\n",
      "Epoch 25/100\n",
      "63/63 [==============================] - 8s 130ms/step - loss: 6.3525 - val_loss: 6.5828\n",
      "\n",
      "Epoch 00025: val_loss improved from 6.95515 to 6.58279, saving model to /home/aiffel-dj17/aiffel/ocr/model_checkpoint.hdf5\n",
      "Epoch 26/100\n",
      "63/63 [==============================] - 8s 130ms/step - loss: 6.2142 - val_loss: 6.2493\n",
      "\n",
      "Epoch 00026: val_loss improved from 6.58279 to 6.24929, saving model to /home/aiffel-dj17/aiffel/ocr/model_checkpoint.hdf5\n",
      "Epoch 27/100\n",
      "63/63 [==============================] - 9s 134ms/step - loss: 5.9032 - val_loss: 6.2005\n",
      "\n",
      "Epoch 00027: val_loss improved from 6.24929 to 6.20048, saving model to /home/aiffel-dj17/aiffel/ocr/model_checkpoint.hdf5\n",
      "Epoch 28/100\n",
      "63/63 [==============================] - 8s 131ms/step - loss: 5.7221 - val_loss: 6.0775\n",
      "\n",
      "Epoch 00028: val_loss improved from 6.20048 to 6.07747, saving model to /home/aiffel-dj17/aiffel/ocr/model_checkpoint.hdf5\n",
      "Epoch 29/100\n",
      "63/63 [==============================] - 9s 134ms/step - loss: 5.5458 - val_loss: 6.1692\n",
      "\n",
      "Epoch 00029: val_loss did not improve from 6.07747\n",
      "Epoch 30/100\n",
      "63/63 [==============================] - 9s 148ms/step - loss: 5.5238 - val_loss: 5.7329\n",
      "\n",
      "Epoch 00030: val_loss improved from 6.07747 to 5.73287, saving model to /home/aiffel-dj17/aiffel/ocr/model_checkpoint.hdf5\n",
      "Epoch 31/100\n",
      "63/63 [==============================] - 8s 128ms/step - loss: 5.3278 - val_loss: 6.0129\n",
      "\n",
      "Epoch 00031: val_loss did not improve from 5.73287\n",
      "Epoch 32/100\n",
      "63/63 [==============================] - 8s 128ms/step - loss: 5.1913 - val_loss: 5.3924\n",
      "\n",
      "Epoch 00032: val_loss improved from 5.73287 to 5.39237, saving model to /home/aiffel-dj17/aiffel/ocr/model_checkpoint.hdf5\n",
      "Epoch 33/100\n",
      "63/63 [==============================] - 8s 132ms/step - loss: 5.3659 - val_loss: 5.6578\n",
      "\n",
      "Epoch 00033: val_loss did not improve from 5.39237\n",
      "Epoch 34/100\n",
      "63/63 [==============================] - 8s 127ms/step - loss: 5.1324 - val_loss: 5.1131\n",
      "\n",
      "Epoch 00034: val_loss improved from 5.39237 to 5.11310, saving model to /home/aiffel-dj17/aiffel/ocr/model_checkpoint.hdf5\n",
      "Epoch 35/100\n",
      "63/63 [==============================] - 8s 127ms/step - loss: 4.9915 - val_loss: 5.5112\n",
      "\n",
      "Epoch 00035: val_loss did not improve from 5.11310\n",
      "Epoch 36/100\n",
      "63/63 [==============================] - 8s 127ms/step - loss: 4.7041 - val_loss: 5.0752\n",
      "\n",
      "Epoch 00036: val_loss improved from 5.11310 to 5.07515, saving model to /home/aiffel-dj17/aiffel/ocr/model_checkpoint.hdf5\n",
      "Epoch 37/100\n",
      "63/63 [==============================] - 8s 132ms/step - loss: 4.8563 - val_loss: 4.9596\n",
      "\n",
      "Epoch 00037: val_loss improved from 5.07515 to 4.95957, saving model to /home/aiffel-dj17/aiffel/ocr/model_checkpoint.hdf5\n",
      "Epoch 38/100\n",
      "63/63 [==============================] - 8s 129ms/step - loss: 4.6777 - val_loss: 4.9141\n",
      "\n",
      "Epoch 00038: val_loss improved from 4.95957 to 4.91409, saving model to /home/aiffel-dj17/aiffel/ocr/model_checkpoint.hdf5\n",
      "Epoch 39/100\n",
      "63/63 [==============================] - 8s 128ms/step - loss: 4.6371 - val_loss: 4.9805\n",
      "\n",
      "Epoch 00039: val_loss did not improve from 4.91409\n",
      "Epoch 40/100\n",
      "63/63 [==============================] - 8s 133ms/step - loss: 4.4564 - val_loss: 4.9562\n",
      "\n",
      "Epoch 00040: val_loss did not improve from 4.91409\n",
      "Epoch 41/100\n",
      "63/63 [==============================] - 8s 128ms/step - loss: 4.4198 - val_loss: 4.6311\n",
      "\n",
      "Epoch 00041: val_loss improved from 4.91409 to 4.63110, saving model to /home/aiffel-dj17/aiffel/ocr/model_checkpoint.hdf5\n",
      "Epoch 42/100\n",
      "63/63 [==============================] - 8s 127ms/step - loss: 4.3733 - val_loss: 4.5847\n",
      "\n",
      "Epoch 00042: val_loss improved from 4.63110 to 4.58470, saving model to /home/aiffel-dj17/aiffel/ocr/model_checkpoint.hdf5\n",
      "Epoch 43/100\n",
      "63/63 [==============================] - 8s 132ms/step - loss: 4.2692 - val_loss: 4.4349\n",
      "\n",
      "Epoch 00043: val_loss improved from 4.58470 to 4.43491, saving model to /home/aiffel-dj17/aiffel/ocr/model_checkpoint.hdf5\n",
      "Epoch 44/100\n",
      "63/63 [==============================] - 8s 128ms/step - loss: 4.4156 - val_loss: 4.4345\n",
      "\n",
      "Epoch 00044: val_loss improved from 4.43491 to 4.43453, saving model to /home/aiffel-dj17/aiffel/ocr/model_checkpoint.hdf5\n",
      "Epoch 45/100\n",
      "63/63 [==============================] - 8s 128ms/step - loss: 4.1831 - val_loss: 4.6296\n",
      "\n",
      "Epoch 00045: val_loss did not improve from 4.43453\n",
      "Epoch 46/100\n",
      "63/63 [==============================] - 8s 132ms/step - loss: 4.2222 - val_loss: 4.4422\n",
      "\n",
      "Epoch 00046: val_loss did not improve from 4.43453\n",
      "Epoch 47/100\n",
      "63/63 [==============================] - 8s 128ms/step - loss: 4.1188 - val_loss: 4.2541\n",
      "\n",
      "Epoch 00047: val_loss improved from 4.43453 to 4.25411, saving model to /home/aiffel-dj17/aiffel/ocr/model_checkpoint.hdf5\n",
      "Epoch 48/100\n",
      "63/63 [==============================] - 8s 127ms/step - loss: 4.2281 - val_loss: 4.1990\n",
      "\n",
      "Epoch 00048: val_loss improved from 4.25411 to 4.19897, saving model to /home/aiffel-dj17/aiffel/ocr/model_checkpoint.hdf5\n",
      "Epoch 49/100\n",
      "63/63 [==============================] - 8s 133ms/step - loss: 3.8418 - val_loss: 4.3323\n",
      "\n",
      "Epoch 00049: val_loss did not improve from 4.19897\n",
      "Epoch 50/100\n",
      "63/63 [==============================] - 8s 128ms/step - loss: 3.9450 - val_loss: 4.2530\n",
      "\n",
      "Epoch 00050: val_loss did not improve from 4.19897\n",
      "Epoch 51/100\n",
      "63/63 [==============================] - 8s 128ms/step - loss: 3.9206 - val_loss: 4.3142\n",
      "\n",
      "Epoch 00051: val_loss did not improve from 4.19897\n",
      "Epoch 52/100\n",
      "63/63 [==============================] - 8s 127ms/step - loss: 3.8934 - val_loss: 3.9892\n",
      "\n",
      "Epoch 00052: val_loss improved from 4.19897 to 3.98916, saving model to /home/aiffel-dj17/aiffel/ocr/model_checkpoint.hdf5\n",
      "Epoch 53/100\n",
      "63/63 [==============================] - 8s 132ms/step - loss: 3.7762 - val_loss: 3.9188\n",
      "\n",
      "Epoch 00053: val_loss improved from 3.98916 to 3.91876, saving model to /home/aiffel-dj17/aiffel/ocr/model_checkpoint.hdf5\n",
      "Epoch 54/100\n",
      "63/63 [==============================] - 8s 128ms/step - loss: 3.7856 - val_loss: 4.0519\n",
      "\n",
      "Epoch 00054: val_loss did not improve from 3.91876\n",
      "Epoch 55/100\n",
      "63/63 [==============================] - 8s 128ms/step - loss: 3.7503 - val_loss: 3.7925\n",
      "\n",
      "Epoch 00055: val_loss improved from 3.91876 to 3.79246, saving model to /home/aiffel-dj17/aiffel/ocr/model_checkpoint.hdf5\n",
      "Epoch 56/100\n",
      "63/63 [==============================] - 8s 133ms/step - loss: 3.4943 - val_loss: 3.9006\n",
      "\n",
      "Epoch 00056: val_loss did not improve from 3.79246\n",
      "Epoch 57/100\n",
      "63/63 [==============================] - 8s 129ms/step - loss: 3.5247 - val_loss: 3.9766\n",
      "\n",
      "Epoch 00057: val_loss did not improve from 3.79246\n",
      "Epoch 58/100\n",
      "63/63 [==============================] - 8s 128ms/step - loss: 3.5131 - val_loss: 3.8422\n",
      "\n",
      "Epoch 00058: val_loss did not improve from 3.79246\n",
      "Epoch 59/100\n",
      "63/63 [==============================] - 8s 129ms/step - loss: 3.6985 - val_loss: 3.8681\n",
      "\n",
      "Epoch 00059: val_loss did not improve from 3.79246\n",
      "Epoch 60/100\n",
      "63/63 [==============================] - 8s 133ms/step - loss: 3.4013 - val_loss: 3.8243\n",
      "\n",
      "Epoch 00060: val_loss did not improve from 3.79246\n",
      "Epoch 61/100\n",
      "63/63 [==============================] - 8s 128ms/step - loss: 3.4464 - val_loss: 3.6583\n",
      "\n",
      "Epoch 00061: val_loss improved from 3.79246 to 3.65834, saving model to /home/aiffel-dj17/aiffel/ocr/model_checkpoint.hdf5\n",
      "Epoch 62/100\n",
      "63/63 [==============================] - 8s 128ms/step - loss: 3.4803 - val_loss: 3.7227\n",
      "\n",
      "Epoch 00062: val_loss did not improve from 3.65834\n",
      "Epoch 63/100\n",
      "63/63 [==============================] - 8s 128ms/step - loss: 3.6323 - val_loss: 3.5602\n",
      "\n",
      "Epoch 00063: val_loss improved from 3.65834 to 3.56021, saving model to /home/aiffel-dj17/aiffel/ocr/model_checkpoint.hdf5\n",
      "Epoch 64/100\n",
      "63/63 [==============================] - 8s 133ms/step - loss: 3.4105 - val_loss: 3.6102\n",
      "\n",
      "Epoch 00064: val_loss did not improve from 3.56021\n",
      "Epoch 65/100\n",
      "63/63 [==============================] - 8s 128ms/step - loss: 3.4275 - val_loss: 3.4864\n",
      "\n",
      "Epoch 00065: val_loss improved from 3.56021 to 3.48645, saving model to /home/aiffel-dj17/aiffel/ocr/model_checkpoint.hdf5\n",
      "Epoch 66/100\n",
      "63/63 [==============================] - 8s 128ms/step - loss: 3.6350 - val_loss: 3.7050\n",
      "\n",
      "Epoch 00066: val_loss did not improve from 3.48645\n",
      "Epoch 67/100\n",
      "63/63 [==============================] - 8s 132ms/step - loss: 3.3740 - val_loss: 3.5077\n",
      "\n",
      "Epoch 00067: val_loss did not improve from 3.48645\n",
      "Epoch 68/100\n",
      "63/63 [==============================] - 8s 128ms/step - loss: 3.4253 - val_loss: 3.4918\n",
      "\n",
      "Epoch 00068: val_loss did not improve from 3.48645\n",
      "Epoch 69/100\n",
      "63/63 [==============================] - 8s 127ms/step - loss: 3.3426 - val_loss: 3.4483\n",
      "\n",
      "Epoch 00069: val_loss improved from 3.48645 to 3.44834, saving model to /home/aiffel-dj17/aiffel/ocr/model_checkpoint.hdf5\n",
      "Epoch 70/100\n",
      "63/63 [==============================] - 8s 128ms/step - loss: 3.2142 - val_loss: 3.4414\n",
      "\n",
      "Epoch 00070: val_loss improved from 3.44834 to 3.44139, saving model to /home/aiffel-dj17/aiffel/ocr/model_checkpoint.hdf5\n",
      "Epoch 71/100\n",
      "63/63 [==============================] - 8s 132ms/step - loss: 3.2459 - val_loss: 3.3502\n",
      "\n",
      "Epoch 00071: val_loss improved from 3.44139 to 3.35024, saving model to /home/aiffel-dj17/aiffel/ocr/model_checkpoint.hdf5\n",
      "Epoch 72/100\n",
      "63/63 [==============================] - 8s 128ms/step - loss: 3.2245 - val_loss: 3.4537\n",
      "\n",
      "Epoch 00072: val_loss did not improve from 3.35024\n",
      "Epoch 73/100\n",
      "63/63 [==============================] - 8s 127ms/step - loss: 3.1673 - val_loss: 3.3480\n",
      "\n",
      "Epoch 00073: val_loss improved from 3.35024 to 3.34797, saving model to /home/aiffel-dj17/aiffel/ocr/model_checkpoint.hdf5\n",
      "Epoch 74/100\n",
      "63/63 [==============================] - 8s 132ms/step - loss: 3.1990 - val_loss: 3.2542\n",
      "\n",
      "Epoch 00074: val_loss improved from 3.34797 to 3.25417, saving model to /home/aiffel-dj17/aiffel/ocr/model_checkpoint.hdf5\n",
      "Epoch 75/100\n",
      "63/63 [==============================] - 8s 129ms/step - loss: 3.1162 - val_loss: 3.3275\n",
      "\n",
      "Epoch 00075: val_loss did not improve from 3.25417\n",
      "Epoch 76/100\n",
      "63/63 [==============================] - 8s 128ms/step - loss: 3.2156 - val_loss: 3.2780\n",
      "\n",
      "Epoch 00076: val_loss did not improve from 3.25417\n",
      "Epoch 77/100\n",
      "63/63 [==============================] - 8s 128ms/step - loss: 3.1045 - val_loss: 3.2201\n",
      "\n",
      "Epoch 00077: val_loss improved from 3.25417 to 3.22015, saving model to /home/aiffel-dj17/aiffel/ocr/model_checkpoint.hdf5\n",
      "Epoch 78/100\n",
      "63/63 [==============================] - 8s 134ms/step - loss: 3.3081 - val_loss: 3.2422\n",
      "\n",
      "Epoch 00078: val_loss did not improve from 3.22015\n",
      "Epoch 79/100\n",
      "63/63 [==============================] - 8s 129ms/step - loss: 3.1217 - val_loss: 3.1328\n",
      "\n",
      "Epoch 00079: val_loss improved from 3.22015 to 3.13285, saving model to /home/aiffel-dj17/aiffel/ocr/model_checkpoint.hdf5\n",
      "Epoch 80/100\n",
      "63/63 [==============================] - 8s 128ms/step - loss: 3.0747 - val_loss: 3.2179\n",
      "\n",
      "Epoch 00080: val_loss did not improve from 3.13285\n",
      "Epoch 81/100\n",
      "63/63 [==============================] - 8s 133ms/step - loss: 2.9993 - val_loss: 3.2320\n",
      "\n",
      "Epoch 00081: val_loss did not improve from 3.13285\n",
      "Epoch 82/100\n",
      "63/63 [==============================] - 8s 128ms/step - loss: 3.1710 - val_loss: 3.1519\n",
      "\n",
      "Epoch 00082: val_loss did not improve from 3.13285\n",
      "Epoch 83/100\n"
     ]
    },
    {
     "name": "stdout",
     "output_type": "stream",
     "text": [
      "63/63 [==============================] - 8s 129ms/step - loss: 3.0007 - val_loss: 3.0982\n",
      "\n",
      "Epoch 00083: val_loss improved from 3.13285 to 3.09821, saving model to /home/aiffel-dj17/aiffel/ocr/model_checkpoint.hdf5\n",
      "Epoch 84/100\n",
      "63/63 [==============================] - 8s 129ms/step - loss: 3.0716 - val_loss: 3.2026\n",
      "\n",
      "Epoch 00084: val_loss did not improve from 3.09821\n",
      "Epoch 85/100\n",
      "63/63 [==============================] - 8s 133ms/step - loss: 2.9264 - val_loss: 3.1576\n",
      "\n",
      "Epoch 00085: val_loss did not improve from 3.09821\n",
      "Epoch 86/100\n",
      "63/63 [==============================] - 8s 129ms/step - loss: 2.8898 - val_loss: 3.1717\n",
      "\n",
      "Epoch 00086: val_loss did not improve from 3.09821\n",
      "Epoch 87/100\n",
      "63/63 [==============================] - 8s 128ms/step - loss: 2.9524 - val_loss: 3.0923\n",
      "\n",
      "Epoch 00087: val_loss improved from 3.09821 to 3.09230, saving model to /home/aiffel-dj17/aiffel/ocr/model_checkpoint.hdf5\n",
      "Epoch 88/100\n",
      "63/63 [==============================] - 8s 128ms/step - loss: 2.8176 - val_loss: 3.0498\n",
      "\n",
      "Epoch 00088: val_loss improved from 3.09230 to 3.04985, saving model to /home/aiffel-dj17/aiffel/ocr/model_checkpoint.hdf5\n",
      "Epoch 89/100\n",
      "63/63 [==============================] - 8s 133ms/step - loss: 2.8681 - val_loss: 2.9978\n",
      "\n",
      "Epoch 00089: val_loss improved from 3.04985 to 2.99781, saving model to /home/aiffel-dj17/aiffel/ocr/model_checkpoint.hdf5\n",
      "Epoch 90/100\n",
      "63/63 [==============================] - 8s 128ms/step - loss: 2.8167 - val_loss: 3.1491\n",
      "\n",
      "Epoch 00090: val_loss did not improve from 2.99781\n",
      "Epoch 91/100\n",
      "63/63 [==============================] - 8s 128ms/step - loss: 2.8591 - val_loss: 3.0368\n",
      "\n",
      "Epoch 00091: val_loss did not improve from 2.99781\n",
      "Epoch 92/100\n",
      "63/63 [==============================] - 8s 133ms/step - loss: 3.0185 - val_loss: 3.0345\n",
      "\n",
      "Epoch 00092: val_loss did not improve from 2.99781\n",
      "Epoch 93/100\n",
      "63/63 [==============================] - 8s 129ms/step - loss: 2.7964 - val_loss: 2.9833\n",
      "\n",
      "Epoch 00093: val_loss improved from 2.99781 to 2.98331, saving model to /home/aiffel-dj17/aiffel/ocr/model_checkpoint.hdf5\n",
      "Epoch 94/100\n",
      "63/63 [==============================] - 8s 128ms/step - loss: 2.6624 - val_loss: 2.9130\n",
      "\n",
      "Epoch 00094: val_loss improved from 2.98331 to 2.91300, saving model to /home/aiffel-dj17/aiffel/ocr/model_checkpoint.hdf5\n",
      "Epoch 95/100\n",
      "63/63 [==============================] - 8s 133ms/step - loss: 2.8193 - val_loss: 2.8531\n",
      "\n",
      "Epoch 00095: val_loss improved from 2.91300 to 2.85314, saving model to /home/aiffel-dj17/aiffel/ocr/model_checkpoint.hdf5\n",
      "Epoch 96/100\n",
      "63/63 [==============================] - 8s 128ms/step - loss: 2.8989 - val_loss: 2.8719\n",
      "\n",
      "Epoch 00096: val_loss did not improve from 2.85314\n",
      "Epoch 97/100\n",
      "63/63 [==============================] - 8s 129ms/step - loss: 2.8708 - val_loss: 2.8809\n",
      "\n",
      "Epoch 00097: val_loss did not improve from 2.85314\n",
      "Epoch 98/100\n",
      "63/63 [==============================] - 8s 128ms/step - loss: 2.9777 - val_loss: 2.8026\n",
      "\n",
      "Epoch 00098: val_loss improved from 2.85314 to 2.80258, saving model to /home/aiffel-dj17/aiffel/ocr/model_checkpoint.hdf5\n",
      "Epoch 99/100\n",
      "63/63 [==============================] - 8s 133ms/step - loss: 2.7150 - val_loss: 2.9337\n",
      "\n",
      "Epoch 00099: val_loss did not improve from 2.80258\n",
      "Epoch 100/100\n",
      "63/63 [==============================] - 8s 129ms/step - loss: 2.7827 - val_loss: 2.8671\n",
      "\n",
      "Epoch 00100: val_loss did not improve from 2.80258\n"
     ]
    },
    {
     "data": {
      "text/plain": [
       "<tensorflow.python.keras.callbacks.History at 0x7fb7e40a4b10>"
      ]
     },
     "execution_count": 10,
     "metadata": {},
     "output_type": "execute_result"
    }
   ],
   "source": [
    "train_set = MJDatasetSequence(TRAIN_DATA_PATH, label_converter, batch_size=BATCH_SIZE, character=TARGET_CHARACTERS, is_train=True)\n",
    "val_set = MJDatasetSequence(VALID_DATA_PATH, label_converter, batch_size=BATCH_SIZE, character=TARGET_CHARACTERS)\n",
    "\n",
    "checkpoint_path = HOME_DIR + '/model_checkpoint.hdf5'\n",
    "\n",
    "model, y_func = build_crnn_model()\n",
    "sgd = tf.keras.optimizers.Adadelta(lr=0.1, clipnorm=5)\n",
    "model.compile(loss={'ctc': lambda y_true, y_pred: y_pred}, optimizer=sgd)\n",
    "ckp = tf.keras.callbacks.ModelCheckpoint(\n",
    "    checkpoint_path, monitor='val_loss',\n",
    "    verbose=1, save_best_only=True, save_weights_only=True\n",
    ")\n",
    "earlystop = tf.keras.callbacks.EarlyStopping(\n",
    "    monitor='val_loss', min_delta=0, patience=10, verbose=0, mode='min'\n",
    ")\n",
    "model.fit(train_set,\n",
    "        steps_per_epoch=len(val_set),\n",
    "        epochs=100,\n",
    "        validation_data=val_set,\n",
    "        validation_steps=len(val_set),\n",
    "        callbacks=[ckp])"
   ]
  },
  {
   "cell_type": "code",
   "execution_count": 12,
   "id": "98f30406",
   "metadata": {},
   "outputs": [
    {
     "data": {
      "text/plain": [
       "'/home/aiffel-dj17/aiffel/ocr/model_checkpoint.hdf5'"
      ]
     },
     "execution_count": 12,
     "metadata": {},
     "output_type": "execute_result"
    }
   ],
   "source": [
    "checkpoint_path"
   ]
  },
  {
   "cell_type": "markdown",
   "id": "b940d786",
   "metadata": {},
   "source": [
    "## Recognition model (5) Train & Inference"
   ]
  },
  {
   "cell_type": "code",
   "execution_count": 188,
   "id": "e088abc4",
   "metadata": {},
   "outputs": [
    {
     "name": "stdout",
     "output_type": "stream",
     "text": [
      "(1, 100, 32, 3)\n",
      "Result: \t SLINKING9999999999999999\n"
     ]
    },
    {
     "data": {
      "image/png": "[encoded data removed]",
      "text/plain": [
       "<PIL.Image.Image image mode=RGB size=100x32 at 0x7FB6BC0A3ED0>"
      ]
     },
     "metadata": {},
     "output_type": "display_data"
    },
    {
     "name": "stdout",
     "output_type": "stream",
     "text": [
      "(1, 100, 32, 3)\n",
      "Result: \t ALEPPO99999999999999999\n"
     ]
    },
    {
     "data": {
      "image/png": "[encoded data removed]",
      "text/plain": [
       "<PIL.Image.Image image mode=RGB size=100x32 at 0x7FB88F7A6550>"
      ]
     },
     "metadata": {},
     "output_type": "display_data"
    },
    {
     "name": "stdout",
     "output_type": "stream",
     "text": [
      "(1, 100, 32, 3)\n",
      "Result: \t RWANDA999999999999999999\n"
     ]
    },
    {
     "data": {
      "image/png": "[encoded data removed]",
      "text/plain": [
       "<PIL.Image.Image image mode=RGB size=100x32 at 0x7FB88F7A6590>"
      ]
     },
     "metadata": {},
     "output_type": "display_data"
    },
    {
     "name": "stdout",
     "output_type": "stream",
     "text": [
      "(1, 100, 32, 3)\n",
      "Result: \t NATHANS99999999999999999\n"
     ]
    },
    {
     "data": {
      "image/png": "[encoded data removed]",
      "text/plain": [
       "<PIL.Image.Image image mode=RGB size=100x32 at 0x7FB6B438A150>"
      ]
     },
     "metadata": {},
     "output_type": "display_data"
    },
    {
     "name": "stdout",
     "output_type": "stream",
     "text": [
      "(1, 100, 32, 3)\n",
      "Result: \t KALLEO99999999999999999\n"
     ]
    },
    {
     "data": {
      "image/png": "[encoded data removed]",
      "text/plain": [
       "<PIL.Image.Image image mode=RGB size=100x32 at 0x7FB88F7A6590>"
      ]
     },
     "metadata": {},
     "output_type": "display_data"
    },
    {
     "name": "stdout",
     "output_type": "stream",
     "text": [
      "(1, 100, 32, 3)\n",
      "Result: \t HURLS9999999999999999999\n"
     ]
    },
    {
     "data": {
      "image/png": "[encoded data removed]",
      "text/plain": [
       "<PIL.Image.Image image mode=RGB size=100x32 at 0x7FB88F7A6550>"
      ]
     },
     "metadata": {},
     "output_type": "display_data"
    },
    {
     "name": "stdout",
     "output_type": "stream",
     "text": [
      "(1, 100, 32, 3)\n",
      "Result: \t DOWNSIZE9999999999999999\n"
     ]
    },
    {
     "data": {
      "image/png": "[encoded data removed]",
      "text/plain": [
       "<PIL.Image.Image image mode=RGB size=100x32 at 0x7FB68C1178D0>"
      ]
     },
     "metadata": {},
     "output_type": "display_data"
    },
    {
     "name": "stdout",
     "output_type": "stream",
     "text": [
      "(1, 100, 32, 3)\n",
      "Result: \t ROBOTIC99999999999999999\n"
     ]
    },
    {
     "data": {
      "image/png": "[encoded data removed]",
      "text/plain": [
       "<PIL.Image.Image image mode=RGB size=100x32 at 0x7FB5EE0ED590>"
      ]
     },
     "metadata": {},
     "output_type": "display_data"
    },
    {
     "name": "stdout",
     "output_type": "stream",
     "text": [
      "(1, 100, 32, 3)\n",
      "Result: \t SLOPPY99999999999999999\n"
     ]
    },
    {
     "data": {
      "image/png": "[encoded data removed]",
      "text/plain": [
       "<PIL.Image.Image image mode=RGB size=100x32 at 0x7FB5EE189B10>"
      ]
     },
     "metadata": {},
     "output_type": "display_data"
    },
    {
     "name": "stdout",
     "output_type": "stream",
     "text": [
      "(1, 100, 32, 3)\n",
      "Result: \t HERMITE99999999999999999\n"
     ]
    },
    {
     "data": {
      "image/png": "[encoded data removed]",
      "text/plain": [
       "<PIL.Image.Image image mode=RGB size=100x32 at 0x7FB5EE03C910>"
      ]
     },
     "metadata": {},
     "output_type": "display_data"
    }
   ],
   "source": [
    "from IPython.display import display\n",
    "\n",
    "test_set = MJDatasetSequence(TEST_DATA_PATH, label_converter, batch_size=BATCH_SIZE, character=TARGET_CHARACTERS)\n",
    "\n",
    "model, y_func = build_crnn_model()\n",
    "\n",
    "model.load_weights(checkpoint_path)\n",
    "input_data = model.get_layer('input_image').output\n",
    "y_pred = model.get_layer('output').output\n",
    "model_pred = Model(inputs=input_data, outputs=y_pred)\n",
    "\n",
    "def decode_predict_ctc(out, chars = TARGET_CHARACTERS, top_paths = 1):\n",
    "    results = []\n",
    "    beam_width = 5\n",
    "    if beam_width < top_paths:\n",
    "        beam_width = top_paths\n",
    "    for i in range(top_paths):\n",
    "        indexes = K.get_value(\n",
    "            K.ctc_decode(\n",
    "                out, input_length = np.ones(out.shape[0]) * out.shape[1],\n",
    "                greedy =False , beam_width = beam_width, top_paths = top_paths\n",
    "            )[0][i]\n",
    "        )[0]\n",
    "        text = \"\"\n",
    "        for index in indexes:\n",
    "            text += chars[index]\n",
    "        results.append(text)\n",
    "    return results\n",
    "\n",
    "def check_inference(model, dataset, index = 5):\n",
    "    for i in range(index):\n",
    "        inputs, outputs = dataset[i]\n",
    "        img = dataset[i][0]['input_image'][0:1,:,:,:]\n",
    "        #print(img)\n",
    "        #print(type(img))\n",
    "        print(img.shape)\n",
    "        output = model_pred.predict(img)\n",
    "        result = decode_predict_ctc(output, chars=\"-\"+TARGET_CHARACTERS)[0].replace('-','')\n",
    "        print(\"Result: \\t\", result)\n",
    "        display(Image.fromarray(img[0].transpose(1,0,2).astype(np.uint8)))\n",
    "\n",
    "check_inference(model, test_set, index=10)"
   ]
  },
  {
   "cell_type": "markdown",
   "id": "732ea583",
   "metadata": {},
   "source": [
    "## 프로젝트: End-to-End OCR\n",
    "- 이미지 경로를 받아 해당 이미지 내의 문자를 찾아내는 함수를 keras-ocr의 Detector를 이용.\n",
    "- inference한 후에 이를 시각화. \n",
    "- 단어의 영역을 자르기."
   ]
  },
  {
   "cell_type": "code",
   "execution_count": 14,
   "id": "6aaed8d8",
   "metadata": {},
   "outputs": [],
   "source": [
    "from keras.preprocessing import image\n",
    "import matplotlib.pyplot as plt\n",
    "import cv2\n",
    "import keras_ocr\n",
    "\n",
    "SAMPLE_IMG_PATH = os.getenv('HOME')+'/aiffel/ocr/sample.jpg'"
   ]
  },
  {
   "cell_type": "code",
   "execution_count": 15,
   "id": "d83b53d1",
   "metadata": {},
   "outputs": [
    {
     "data": {
      "image/png": "[encoded data removed]",
      "text/plain": [
       "<Figure size 432x288 with 1 Axes>"
      ]
     },
     "metadata": {
      "needs_background": "light"
     },
     "output_type": "display_data"
    },
    {
     "name": "stdout",
     "output_type": "stream",
     "text": [
      "(900, 1200, 3)\n"
     ]
    }
   ],
   "source": [
    "image = keras_ocr.tools.read(SAMPLE_IMG_PATH)\n",
    "plt.imshow(image)\n",
    "plt.show()\n",
    "print(image.shape)"
   ]
  },
  {
   "cell_type": "code",
   "execution_count": 102,
   "id": "02b6f5ee",
   "metadata": {},
   "outputs": [
    {
     "data": {
      "text/plain": [
       "(900, 1200, 3)"
      ]
     },
     "execution_count": 102,
     "metadata": {},
     "output_type": "execute_result"
    }
   ],
   "source": [
    "image.shape"
   ]
  },
  {
   "cell_type": "code",
   "execution_count": 30,
   "id": "c280e3c1",
   "metadata": {},
   "outputs": [
    {
     "name": "stdout",
     "output_type": "stream",
     "text": [
      "Looking for /home/aiffel-dj17/.keras-ocr/craft_mlt_25k.h5\n",
      "Looking for /home/aiffel-dj17/.keras-ocr/crnn_kurapan.h5\n",
      "WARNING:tensorflow:11 out of the last 11 calls to <function Model.make_predict_function.<locals>.predict_function at 0x7fb6ac5a2320> triggered tf.function retracing. Tracing is expensive and the excessive number of tracings could be due to (1) creating @tf.function repeatedly in a loop, (2) passing tensors with different shapes, (3) passing Python objects instead of tensors. For (1), please define your @tf.function outside of the loop. For (2), @tf.function has experimental_relax_shapes=True option that relaxes argument shapes that can avoid unnecessary retracing. For (3), please refer to https://www.tensorflow.org/guide/function#controlling_retracing and https://www.tensorflow.org/api_docs/python/tf/function for  more details.\n",
      "WARNING:tensorflow:11 out of the last 11 calls to <function Model.make_predict_function.<locals>.predict_function at 0x7fb6b4f893b0> triggered tf.function retracing. Tracing is expensive and the excessive number of tracings could be due to (1) creating @tf.function repeatedly in a loop, (2) passing tensors with different shapes, (3) passing Python objects instead of tensors. For (1), please define your @tf.function outside of the loop. For (2), @tf.function has experimental_relax_shapes=True option that relaxes argument shapes that can avoid unnecessary retracing. For (3), please refer to https://www.tensorflow.org/guide/function#controlling_retracing and https://www.tensorflow.org/api_docs/python/tf/function for  more details.\n"
     ]
    }
   ],
   "source": [
    "image = keras_ocr.tools.read(SAMPLE_IMG_PATH)\n",
    "pipeline = keras_ocr.pipeline.Pipeline()\n",
    "prediction = pipeline.recognize([image])\n"
   ]
  },
  {
   "cell_type": "code",
   "execution_count": 62,
   "id": "53cdad0a",
   "metadata": {},
   "outputs": [],
   "source": [
    "ocr_result = prediction[0][1][1]"
   ]
  },
  {
   "cell_type": "code",
   "execution_count": 41,
   "id": "83285550",
   "metadata": {},
   "outputs": [
    {
     "name": "stdout",
     "output_type": "stream",
     "text": [
      "[281.8156 450.021 ]\n"
     ]
    }
   ],
   "source": [
    "print(ocr_result[0][1][0])"
   ]
  },
  {
   "cell_type": "code",
   "execution_count": 61,
   "id": "cf282d55",
   "metadata": {},
   "outputs": [
    {
     "data": {
      "text/plain": [
       "array([[269.26883, 643.607  ],\n",
       "       [689.8353 , 613.4468 ],\n",
       "       [700.2845 , 759.1539 ],\n",
       "       [279.718  , 789.314  ]], dtype=float32)"
      ]
     },
     "execution_count": 61,
     "metadata": {},
     "output_type": "execute_result"
    }
   ],
   "source": [
    "ocr_result"
   ]
  },
  {
   "cell_type": "code",
   "execution_count": 44,
   "id": "f04eff72",
   "metadata": {},
   "outputs": [
    {
     "data": {
      "text/plain": [
       "list"
      ]
     },
     "execution_count": 44,
     "metadata": {},
     "output_type": "execute_result"
    }
   ],
   "source": [
    "type(ocr_result)"
   ]
  },
  {
   "cell_type": "code",
   "execution_count": 49,
   "id": "b3642810",
   "metadata": {},
   "outputs": [],
   "source": [
    "im = Image.open(SAMPLE_IMG_PATH)"
   ]
  },
  {
   "cell_type": "code",
   "execution_count": 69,
   "id": "ae3bb731",
   "metadata": {},
   "outputs": [],
   "source": [
    "ocr_result = prediction[0][1][1]\n",
    "#문자면 무시하고 숫자면 진행하는 코드를 구상해야 될 것 같다."
   ]
  },
  {
   "cell_type": "code",
   "execution_count": 70,
   "id": "0d7e7d4c",
   "metadata": {},
   "outputs": [
    {
     "data": {
      "text/plain": [
       "array([[269.26883, 643.607  ],\n",
       "       [689.8353 , 613.4468 ],\n",
       "       [700.2845 , 759.1539 ],\n",
       "       [279.718  , 789.314  ]], dtype=float32)"
      ]
     },
     "execution_count": 70,
     "metadata": {},
     "output_type": "execute_result"
    }
   ],
   "source": [
    "ocr_result"
   ]
  },
  {
   "cell_type": "code",
   "execution_count": 72,
   "id": "21b1742e",
   "metadata": {},
   "outputs": [
    {
     "name": "stdout",
     "output_type": "stream",
     "text": [
      "[(269.26883, 643.607), (689.8353, 613.4468), (700.2845, 759.1539), (279.718, 789.314)]\n"
     ]
    }
   ],
   "source": [
    "xy_l = []\n",
    "for text_result in ocr_result:\n",
    "    xy_l.append(tuple(text_result))\n",
    "    \n",
    "print(xy_l)\n",
    "    "
   ]
  },
  {
   "cell_type": "code",
   "execution_count": 181,
   "id": "fdb6e456",
   "metadata": {},
   "outputs": [],
   "source": [
    "def Crop_IMG(xy_l):\n",
    "    cropped_imgs = []\n",
    "    draw = ImageDraw.Draw(im)\n",
    "    draw.polygon(xy_l, outline='red')\n",
    "    x_min = ocr_result[:,0].min() - 5\n",
    "    x_max = ocr_result[:,0].max() + 5\n",
    "    y_min = ocr_result[:,1].min() - 5\n",
    "    y_max = ocr_result[:,1].max() + 5\n",
    "    word_box = [x_min, y_min, x_max, y_max]\n",
    "    cropped_imgs.append(im.crop(word_box))\n",
    "    \n",
    "    return cropped_imgs"
   ]
  },
  {
   "cell_type": "code",
   "execution_count": 182,
   "id": "b72741a5",
   "metadata": {},
   "outputs": [],
   "source": [
    "cropped_imgs=Crop_IMG(xy_l)"
   ]
  },
  {
   "cell_type": "code",
   "execution_count": 183,
   "id": "5986dce0",
   "metadata": {},
   "outputs": [],
   "source": [
    "im.show()"
   ]
  },
  {
   "cell_type": "markdown",
   "id": "4ac24649",
   "metadata": {},
   "source": [
    "![Screenshot from 2021-05-06 02-30-27](https://user-images.githubusercontent.com/60597598/117217993-4e032880-ae3d-11eb-92d6-5a3a54ef78df.png)"
   ]
  },
  {
   "cell_type": "code",
   "execution_count": 184,
   "id": "c9bd6cf1",
   "metadata": {},
   "outputs": [],
   "source": [
    "cropped_imgs[0].show()"
   ]
  },
  {
   "cell_type": "markdown",
   "id": "6856b536",
   "metadata": {},
   "source": [
    "![Screenshot from 2021-05-06 07-36-23](https://user-images.githubusercontent.com/60597598/117218263-ca960700-ae3d-11eb-97d5-c7936a645a10.png)\n"
   ]
  },
  {
   "cell_type": "code",
   "execution_count": 185,
   "id": "8f9ac7f9",
   "metadata": {},
   "outputs": [],
   "source": [
    "def check_img_inference(model, imgs, index = 5):\n",
    "    ad=imgs.transpose(1,0,2)\n",
    "    imgs = imgs[tf.newaxis, :, :, :]\n",
    "    print(imgs.shape)\n",
    "    output = model_pred.predict(imgs)\n",
    "    result = decode_predict_ctc(output, chars=\"-\"+TARGET_CHARACTERS)[0].replace('-','')\n",
    "    print(\"Result: \\t\", result)\n",
    "    pil_image=Image.fromarray(ad)\n",
    "    display(pil_image)"
   ]
  },
  {
   "cell_type": "code",
   "execution_count": 186,
   "id": "a77803c5",
   "metadata": {},
   "outputs": [],
   "source": [
    "def recognize_img(pil_img, input_img_size=(100,32)):\n",
    "    pil_img=pil_img.resize((100,32))\n",
    "    pil_img=np.array(pil_img)\n",
    "    pil_img=pil_img.transpose(1,0,2)\n",
    "    \n",
    "    check_img_inference(model, pil_img, index=10)\n",
    "    "
   ]
  },
  {
   "cell_type": "code",
   "execution_count": 187,
   "id": "a40e4599",
   "metadata": {
    "scrolled": true
   },
   "outputs": [
    {
     "name": "stdout",
     "output_type": "stream",
     "text": [
      "(1, 100, 32, 3)\n",
      "Result: \t SLEEPER9999999999999999\n"
     ]
    },
    {
     "data": {
      "image/png": "[encoded data removed]",
      "text/plain": [
       "<PIL.Image.Image image mode=RGB size=100x32 at 0x7FB88DE64F50>"
      ]
     },
     "metadata": {},
     "output_type": "display_data"
    }
   ],
   "source": [
    "for _img in cropped_imgs:\n",
    "    recognize_img(_img)"
   ]
  },
  {
   "cell_type": "markdown",
   "id": "33d8cc7f",
   "metadata": {},
   "source": [
    "## 루브릭\n",
    "1. Text recognition을 위해 특화된 데이터셋 구성이 체계적으로 진행되었다.  \n",
    "- 텍스트 이미지 리사이징, ctc loss 측정을 위한 라벨 인코딩, 배치처리 등이 적절히 수행되었다.  \n",
    "\n",
    "2. CRNN 기반의 recognition 모델의 학습이 정상적으로 진행되었다.  \n",
    "- 학습결과 loss가 안정적으로 감소하고 대부분의 문자인식 추론 결과가 정확하다.  \n",
    "\n",
    "3. keras-ocr detector와 CRNN recognizer를 엮어 원본 이미지 입력으로부터 text가 출력되는 OCR이 End-to-End로 구성되었다.  \n",
    "- 샘플 이미지를 원본으로 받아 OCR 수행 결과를 리턴하는 1개의 함수가 만들어졌다.  "
   ]
  },
  {
   "cell_type": "markdown",
   "id": "62ae12af",
   "metadata": {},
   "source": [
    "## 마치며...\n",
    "- 이번 노드는 난이도가 많이 높았던 것 같다. 함수를 직접 구현하는 것이 꽤 어려웠다. 일단 OCR 분야는 해커톤에서 쓰지 않을 예정이지만 나중에 드론으로 표지판이나 전화번호를 OCR을 해서 위치를 추정하는 기능을 해보고 싶다.일단 함수 구현할 때 많이 충돌한 에러는 Value_Error 이다. input shape 이 잘 맞지 않아서 newaxis와 resize, transpose 함수로 해결하였다.노드에서는 이 과정을 한꺼번에 한줄에 했는데 직접 할 땐 잘 안돼서 나눠서 했다. 그리고 crop 을 하기 위해 pillow와 keras-OCR에 대해서도 잘 알아야 했다. 이렇게 함수와 모델을 만들어서 하는 예제가 별로 없어서 github와 함수 설명을 잘 찾아봐야 했다. 먼저 keras-OCR의 pipeline.recognize() 함수를 쓸때는 꼭 소괄호 안에 대괄호를 넣어야 했다. 그리고 pipeline.recognize()로 return 되는 값도 행렬과 문자가 같이 나와서 잘 살펴봐야 했다. Pillow의 poligon을 할 때는 ImageDraw.Draw()로 먼저 정의한 후에 사용해야 했다."
   ]
  },
  {
   "cell_type": "code",
   "execution_count": null,
   "id": "2e785c5e",
   "metadata": {},
   "outputs": [],
   "source": []
  }
 ],
 "metadata": {
  "kernelspec": {
   "display_name": "aiffel",
   "language": "python",
   "name": "aiffel"
  },
  "language_info": {
   "codemirror_mode": {
    "name": "ipython",
    "version": 3
   },
   "file_extension": ".py",
   "mimetype": "text/x-python",
   "name": "python",
   "nbconvert_exporter": "python",
   "pygments_lexer": "ipython3",
   "version": "3.7.9"
  }
 },
 "nbformat": 4,
 "nbformat_minor": 5
}
