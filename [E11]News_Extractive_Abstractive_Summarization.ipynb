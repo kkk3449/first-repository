{
 "cells": [
  {
   "cell_type": "markdown",
   "id": "creative-protest",
   "metadata": {},
   "source": [
    "# 뉴스 기사를 추상적 요약, 추출적 요약으로 요약해보기"
   ]
  },
  {
   "cell_type": "markdown",
   "id": "capable-belgium",
   "metadata": {},
   "source": [
    "## Step 0. 중요 모듈 import"
   ]
  },
  {
   "cell_type": "code",
   "execution_count": 1,
   "id": "crucial-print",
   "metadata": {},
   "outputs": [
    {
     "name": "stderr",
     "output_type": "stream",
     "text": [
      "[nltk_data] Downloading package stopwords to /home/aiffel-\n",
      "[nltk_data]     dj17/nltk_data...\n",
      "[nltk_data]   Package stopwords is already up-to-date!\n"
     ]
    }
   ],
   "source": [
    "import nltk\n",
    "nltk.download('stopwords')\n",
    "\n",
    "import numpy as np\n",
    "import pandas as pd\n",
    "import os\n",
    "import re\n",
    "import matplotlib.pyplot as plt\n",
    "from nltk.corpus import stopwords\n",
    "from bs4 import BeautifulSoup \n",
    "from tensorflow.keras.preprocessing.text import Tokenizer \n",
    "from tensorflow.keras.preprocessing.sequence import pad_sequences\n",
    "import urllib.request\n",
    "import urllib.request\n"
   ]
  },
  {
   "cell_type": "markdown",
   "id": "induced-georgia",
   "metadata": {},
   "source": [
    "## Step 1. 데이터 준비 및 확인\n",
    "* 뉴스기사 데이터는 영어로 되어있고 기사의 요약된 정보가 담긴 'headlines' 항목과 기사의 원문 내용이 담긴 'text' 항목이 있다."
   ]
  },
  {
   "cell_type": "code",
   "execution_count": 2,
   "id": "opened-implement",
   "metadata": {},
   "outputs": [],
   "source": [
    "urllib.request.urlretrieve(\"https://raw.githubusercontent.com/sunnysai12345/News_Summary/master/news_summary_more.csv\", filename=\"news_summary_more.csv\")\n",
    "data = pd.read_csv('news_summary_more.csv', encoding='iso-8859-1')"
   ]
  },
  {
   "cell_type": "code",
   "execution_count": 3,
   "id": "textile-morocco",
   "metadata": {
    "scrolled": true
   },
   "outputs": [
    {
     "data": {
      "text/html": [
       "<div>\n",
       "<style scoped>\n",
       "    .dataframe tbody tr th:only-of-type {\n",
       "        vertical-align: middle;\n",
       "    }\n",
       "\n",
       "    .dataframe tbody tr th {\n",
       "        vertical-align: top;\n",
       "    }\n",
       "\n",
       "    .dataframe thead th {\n",
       "        text-align: right;\n",
       "    }\n",
       "</style>\n",
       "<table border=\"1\" class=\"dataframe\">\n",
       "  <thead>\n",
       "    <tr style=\"text-align: right;\">\n",
       "      <th></th>\n",
       "      <th>headlines</th>\n",
       "      <th>text</th>\n",
       "    </tr>\n",
       "  </thead>\n",
       "  <tbody>\n",
       "    <tr>\n",
       "      <th>0</th>\n",
       "      <td>upGrad learner switches to career in ML &amp; Al w...</td>\n",
       "      <td>Saurav Kant, an alumnus of upGrad and IIIT-B's...</td>\n",
       "    </tr>\n",
       "    <tr>\n",
       "      <th>1</th>\n",
       "      <td>Delhi techie wins free food from Swiggy for on...</td>\n",
       "      <td>Kunal Shah's credit card bill payment platform...</td>\n",
       "    </tr>\n",
       "    <tr>\n",
       "      <th>2</th>\n",
       "      <td>New Zealand end Rohit Sharma-led India's 12-ma...</td>\n",
       "      <td>New Zealand defeated India by 8 wickets in the...</td>\n",
       "    </tr>\n",
       "    <tr>\n",
       "      <th>3</th>\n",
       "      <td>Aegon life iTerm insurance plan helps customer...</td>\n",
       "      <td>With Aegon Life iTerm Insurance plan, customer...</td>\n",
       "    </tr>\n",
       "    <tr>\n",
       "      <th>4</th>\n",
       "      <td>Have known Hirani for yrs, what if MeToo claim...</td>\n",
       "      <td>Speaking about the sexual harassment allegatio...</td>\n",
       "    </tr>\n",
       "  </tbody>\n",
       "</table>\n",
       "</div>"
      ],
      "text/plain": [
       "                                           headlines  \\\n",
       "0  upGrad learner switches to career in ML & Al w...   \n",
       "1  Delhi techie wins free food from Swiggy for on...   \n",
       "2  New Zealand end Rohit Sharma-led India's 12-ma...   \n",
       "3  Aegon life iTerm insurance plan helps customer...   \n",
       "4  Have known Hirani for yrs, what if MeToo claim...   \n",
       "\n",
       "                                                text  \n",
       "0  Saurav Kant, an alumnus of upGrad and IIIT-B's...  \n",
       "1  Kunal Shah's credit card bill payment platform...  \n",
       "2  New Zealand defeated India by 8 wickets in the...  \n",
       "3  With Aegon Life iTerm Insurance plan, customer...  \n",
       "4  Speaking about the sexual harassment allegatio...  "
      ]
     },
     "execution_count": 3,
     "metadata": {},
     "output_type": "execute_result"
    }
   ],
   "source": [
    "data.head()"
   ]
  },
  {
   "cell_type": "markdown",
   "id": "serial-jurisdiction",
   "metadata": {},
   "source": [
    "## Step 2. 데이터 전처리 하기\n",
    "---\n",
    "### Step 2-1. 추출적 요약 데이터 분리\n",
    "* 추출적 요약 때 사용할 데이터는 전처리가 되어있지 않아야 한다.\n",
    "* 그래서 추출적 요약 때 사용할 데이터는 전처리 전에 data2라는 변수에 따로 저장해둔다.\n",
    "* data2에는 98401개의 데이터가 들어가있다."
   ]
  },
  {
   "cell_type": "code",
   "execution_count": 4,
   "id": "great-crowd",
   "metadata": {},
   "outputs": [
    {
     "data": {
      "text/html": [
       "<div>\n",
       "<style scoped>\n",
       "    .dataframe tbody tr th:only-of-type {\n",
       "        vertical-align: middle;\n",
       "    }\n",
       "\n",
       "    .dataframe tbody tr th {\n",
       "        vertical-align: top;\n",
       "    }\n",
       "\n",
       "    .dataframe thead th {\n",
       "        text-align: right;\n",
       "    }\n",
       "</style>\n",
       "<table border=\"1\" class=\"dataframe\">\n",
       "  <thead>\n",
       "    <tr style=\"text-align: right;\">\n",
       "      <th></th>\n",
       "      <th>text</th>\n",
       "      <th>headlines</th>\n",
       "    </tr>\n",
       "  </thead>\n",
       "  <tbody>\n",
       "    <tr>\n",
       "      <th>45575</th>\n",
       "      <td>The United States government on Friday said th...</td>\n",
       "      <td>Can't confirm reports of Nirav's presence in t...</td>\n",
       "    </tr>\n",
       "    <tr>\n",
       "      <th>40868</th>\n",
       "      <td>The woman shooter who opened fire at YouTube h...</td>\n",
       "      <td>YouTube shooter had accused YouTube of censori...</td>\n",
       "    </tr>\n",
       "    <tr>\n",
       "      <th>3017</th>\n",
       "      <td>India's new ambassador to China Vikram Misri t...</td>\n",
       "      <td>Vikram Misri takes charge as India's new envoy...</td>\n",
       "    </tr>\n",
       "    <tr>\n",
       "      <th>95744</th>\n",
       "      <td>Electronics maker Samsung's Vice Chairman Jay ...</td>\n",
       "      <td>Samsung Chief has not received any pay since h...</td>\n",
       "    </tr>\n",
       "    <tr>\n",
       "      <th>7370</th>\n",
       "      <td>Six US marines went missing after two military...</td>\n",
       "      <td>6 missing after 2 US military aircraft collide...</td>\n",
       "    </tr>\n",
       "    <tr>\n",
       "      <th>13238</th>\n",
       "      <td>A four-year-old girl died after being attacked...</td>\n",
       "      <td>4-yr-old girl dies after being attacked by str...</td>\n",
       "    </tr>\n",
       "    <tr>\n",
       "      <th>81509</th>\n",
       "      <td>A sweeper and a security guard have been arres...</td>\n",
       "      <td>3 arrested as video of couple romancing in mal...</td>\n",
       "    </tr>\n",
       "    <tr>\n",
       "      <th>81648</th>\n",
       "      <td>Reacting to actor Ranveer Singh's wax statue a...</td>\n",
       "      <td>When you say Ranveer but think Shiamak Davar, ...</td>\n",
       "    </tr>\n",
       "    <tr>\n",
       "      <th>55185</th>\n",
       "      <td>Responding to questions by the media about Ali...</td>\n",
       "      <td>Alia is smarter than all of you combined, says...</td>\n",
       "    </tr>\n",
       "    <tr>\n",
       "      <th>47390</th>\n",
       "      <td>The Supreme Court has sought Attorney General ...</td>\n",
       "      <td>Can sitting MPs, MLAs practise law: SC asks At...</td>\n",
       "    </tr>\n",
       "    <tr>\n",
       "      <th>88827</th>\n",
       "      <td>Bihar CM Nitish Kumar on Monday said that Nare...</td>\n",
       "      <td>Modi is PM because people found him capable: N...</td>\n",
       "    </tr>\n",
       "    <tr>\n",
       "      <th>9486</th>\n",
       "      <td>Sharing his old pictures with Priyanka Chopra ...</td>\n",
       "      <td>Priyanka kicked my ass in Mortal Kombat game: ...</td>\n",
       "    </tr>\n",
       "    <tr>\n",
       "      <th>75372</th>\n",
       "      <td>Nearly 85% of the Kaziranga National Park in A...</td>\n",
       "      <td>85% of Kaziranga National Park in Assam floode...</td>\n",
       "    </tr>\n",
       "    <tr>\n",
       "      <th>6014</th>\n",
       "      <td>Aaron Finch was driven to the hospital for X-r...</td>\n",
       "      <td>Finch taken to hospital after being hit on fin...</td>\n",
       "    </tr>\n",
       "    <tr>\n",
       "      <th>66928</th>\n",
       "      <td>The Odisha government has decided to exempt fe...</td>\n",
       "      <td>Odisha exempts higher education fees for diffe...</td>\n",
       "    </tr>\n",
       "  </tbody>\n",
       "</table>\n",
       "</div>"
      ],
      "text/plain": [
       "                                                    text  \\\n",
       "45575  The United States government on Friday said th...   \n",
       "40868  The woman shooter who opened fire at YouTube h...   \n",
       "3017   India's new ambassador to China Vikram Misri t...   \n",
       "95744  Electronics maker Samsung's Vice Chairman Jay ...   \n",
       "7370   Six US marines went missing after two military...   \n",
       "13238  A four-year-old girl died after being attacked...   \n",
       "81509  A sweeper and a security guard have been arres...   \n",
       "81648  Reacting to actor Ranveer Singh's wax statue a...   \n",
       "55185  Responding to questions by the media about Ali...   \n",
       "47390  The Supreme Court has sought Attorney General ...   \n",
       "88827  Bihar CM Nitish Kumar on Monday said that Nare...   \n",
       "9486   Sharing his old pictures with Priyanka Chopra ...   \n",
       "75372  Nearly 85% of the Kaziranga National Park in A...   \n",
       "6014   Aaron Finch was driven to the hospital for X-r...   \n",
       "66928  The Odisha government has decided to exempt fe...   \n",
       "\n",
       "                                               headlines  \n",
       "45575  Can't confirm reports of Nirav's presence in t...  \n",
       "40868  YouTube shooter had accused YouTube of censori...  \n",
       "3017   Vikram Misri takes charge as India's new envoy...  \n",
       "95744  Samsung Chief has not received any pay since h...  \n",
       "7370   6 missing after 2 US military aircraft collide...  \n",
       "13238  4-yr-old girl dies after being attacked by str...  \n",
       "81509  3 arrested as video of couple romancing in mal...  \n",
       "81648  When you say Ranveer but think Shiamak Davar, ...  \n",
       "55185  Alia is smarter than all of you combined, says...  \n",
       "47390  Can sitting MPs, MLAs practise law: SC asks At...  \n",
       "88827  Modi is PM because people found him capable: N...  \n",
       "9486   Priyanka kicked my ass in Mortal Kombat game: ...  \n",
       "75372  85% of Kaziranga National Park in Assam floode...  \n",
       "6014   Finch taken to hospital after being hit on fin...  \n",
       "66928  Odisha exempts higher education fees for diffe...  "
      ]
     },
     "execution_count": 4,
     "metadata": {},
     "output_type": "execute_result"
    }
   ],
   "source": [
    "data = data[['text','headlines']]\n",
    "data2 = data['text']\n",
    "data.head()\n",
    "\n",
    "#랜덤한 15개 샘플 출력\n",
    "data.sample(15)"
   ]
  },
  {
   "cell_type": "code",
   "execution_count": 113,
   "id": "collect-glasgow",
   "metadata": {},
   "outputs": [
    {
     "data": {
      "text/plain": [
       "98401"
      ]
     },
     "execution_count": 113,
     "metadata": {},
     "output_type": "execute_result"
    }
   ],
   "source": [
    "len(data2)"
   ]
  },
  {
   "cell_type": "markdown",
   "id": "english-shirt",
   "metadata": {},
   "source": [
    "### Step 2-2. 중복 샘플 확인\n",
    "* pd.nunique() 함수로 데이터의 중복 샘플 수를 확인한다.\n",
    "* 'text'항목과 'headlines'항목의 숫자가 다른것을 보아 중복이 있다."
   ]
  },
  {
   "cell_type": "code",
   "execution_count": 5,
   "id": "fitted-cassette",
   "metadata": {},
   "outputs": [
    {
     "name": "stdout",
     "output_type": "stream",
     "text": [
      "text 열에서 중복을 배제한 유일한 샘플의 수 : 98360\n",
      "headlines 열에서 중복을 배제한 유일한 샘플의 수 : 98280\n"
     ]
    }
   ],
   "source": [
    "print('text 열에서 중복을 배제한 유일한 샘플의 수 :', data['text'].nunique())\n",
    "print('headlines 열에서 중복을 배제한 유일한 샘플의 수 :', data['headlines'].nunique())"
   ]
  },
  {
   "cell_type": "markdown",
   "id": "experimental-shanghai",
   "metadata": {},
   "source": [
    "### Step 2-3. 중복 샘플 제거\n",
    "* pd.drop_duplicates() 함수로 'text'항목 기준으로 중복 샘플을 제거한다."
   ]
  },
  {
   "cell_type": "code",
   "execution_count": 6,
   "id": "varied-rocket",
   "metadata": {},
   "outputs": [
    {
     "name": "stdout",
     "output_type": "stream",
     "text": [
      "전체 샘플수 : 98360\n"
     ]
    }
   ],
   "source": [
    "data.drop_duplicates(subset = ['text'], inplace = True)\n",
    "print('전체 샘플수 :',(len(data)))"
   ]
  },
  {
   "cell_type": "markdown",
   "id": "tight-magnitude",
   "metadata": {},
   "source": [
    "### Step 2-4. null 값 확인\n",
    "* pd.isnull() 함수로 빈 값 null 이있는지 확인한다.\n",
    "* null 값이 없는것을 확인했다."
   ]
  },
  {
   "cell_type": "code",
   "execution_count": 7,
   "id": "competitive-rugby",
   "metadata": {},
   "outputs": [
    {
     "name": "stdout",
     "output_type": "stream",
     "text": [
      "text         0\n",
      "headlines    0\n",
      "dtype: int64\n"
     ]
    }
   ],
   "source": [
    "print(data.isnull().sum())"
   ]
  },
  {
   "cell_type": "markdown",
   "id": "occasional-blair",
   "metadata": {},
   "source": [
    "### Step 2-5. 텍스트 정규화 \n",
    "* 예를들어 can not = can't 이러한 같은 의미는 하나로 통일해 주어야 한다."
   ]
  },
  {
   "cell_type": "code",
   "execution_count": 8,
   "id": "industrial-recipient",
   "metadata": {},
   "outputs": [
    {
     "name": "stdout",
     "output_type": "stream",
     "text": [
      "정규화 사전의 수:  120\n"
     ]
    }
   ],
   "source": [
    "contractions = {\"ain't\": \"is not\", \"aren't\": \"are not\",\"can't\": \"cannot\", \"'cause\": \"because\", \"could've\": \"could have\", \"couldn't\": \"could not\",\n",
    "                           \"didn't\": \"did not\",  \"doesn't\": \"does not\", \"don't\": \"do not\", \"hadn't\": \"had not\", \"hasn't\": \"has not\", \"haven't\": \"have not\",\n",
    "                           \"he'd\": \"he would\",\"he'll\": \"he will\", \"he's\": \"he is\", \"how'd\": \"how did\", \"how'd'y\": \"how do you\", \"how'll\": \"how will\", \"how's\": \"how is\",\n",
    "                           \"I'd\": \"I would\", \"I'd've\": \"I would have\", \"I'll\": \"I will\", \"I'll've\": \"I will have\",\"I'm\": \"I am\", \"I've\": \"I have\", \"i'd\": \"i would\",\n",
    "                           \"i'd've\": \"i would have\", \"i'll\": \"i will\",  \"i'll've\": \"i will have\",\"i'm\": \"i am\", \"i've\": \"i have\", \"isn't\": \"is not\", \"it'd\": \"it would\",\n",
    "                           \"it'd've\": \"it would have\", \"it'll\": \"it will\", \"it'll've\": \"it will have\",\"it's\": \"it is\", \"let's\": \"let us\", \"ma'am\": \"madam\",\n",
    "                           \"mayn't\": \"may not\", \"might've\": \"might have\",\"mightn't\": \"might not\",\"mightn't've\": \"might not have\", \"must've\": \"must have\",\n",
    "                           \"mustn't\": \"must not\", \"mustn't've\": \"must not have\", \"needn't\": \"need not\", \"needn't've\": \"need not have\",\"o'clock\": \"of the clock\",\n",
    "                           \"oughtn't\": \"ought not\", \"oughtn't've\": \"ought not have\", \"shan't\": \"shall not\", \"sha'n't\": \"shall not\", \"shan't've\": \"shall not have\",\n",
    "                           \"she'd\": \"she would\", \"she'd've\": \"she would have\", \"she'll\": \"she will\", \"she'll've\": \"she will have\", \"she's\": \"she is\",\n",
    "                           \"should've\": \"should have\", \"shouldn't\": \"should not\", \"shouldn't've\": \"should not have\", \"so've\": \"so have\",\"so's\": \"so as\",\n",
    "                           \"this's\": \"this is\",\"that'd\": \"that would\", \"that'd've\": \"that would have\", \"that's\": \"that is\", \"there'd\": \"there would\",\n",
    "                           \"there'd've\": \"there would have\", \"there's\": \"there is\", \"here's\": \"here is\",\"they'd\": \"they would\", \"they'd've\": \"they would have\",\n",
    "                           \"they'll\": \"they will\", \"they'll've\": \"they will have\", \"they're\": \"they are\", \"they've\": \"they have\", \"to've\": \"to have\",\n",
    "                           \"wasn't\": \"was not\", \"we'd\": \"we would\", \"we'd've\": \"we would have\", \"we'll\": \"we will\", \"we'll've\": \"we will have\", \"we're\": \"we are\",\n",
    "                           \"we've\": \"we have\", \"weren't\": \"were not\", \"what'll\": \"what will\", \"what'll've\": \"what will have\", \"what're\": \"what are\",\n",
    "                           \"what's\": \"what is\", \"what've\": \"what have\", \"when's\": \"when is\", \"when've\": \"when have\", \"where'd\": \"where did\", \"where's\": \"where is\",\n",
    "                           \"where've\": \"where have\", \"who'll\": \"who will\", \"who'll've\": \"who will have\", \"who's\": \"who is\", \"who've\": \"who have\",\n",
    "                           \"why's\": \"why is\", \"why've\": \"why have\", \"will've\": \"will have\", \"won't\": \"will not\", \"won't've\": \"will not have\",\n",
    "                           \"would've\": \"would have\", \"wouldn't\": \"would not\", \"wouldn't've\": \"would not have\", \"y'all\": \"you all\",\n",
    "                           \"y'all'd\": \"you all would\",\"y'all'd've\": \"you all would have\",\"y'all're\": \"you all are\",\"y'all've\": \"you all have\",\n",
    "                           \"you'd\": \"you would\", \"you'd've\": \"you would have\", \"you'll\": \"you will\", \"you'll've\": \"you will have\",\n",
    "                           \"you're\": \"you are\", \"you've\": \"you have\"}\n",
    "\n",
    "print(\"정규화 사전의 수: \",len(contractions))"
   ]
  },
  {
   "cell_type": "markdown",
   "id": "arranged-beach",
   "metadata": {},
   "source": [
    "### Step 2-6. 불용어 확인\n",
    "* 일반적으로 텍스트에는 자주 등장하지만 자연어 처리를 할 때 실질적으로 별 도움이 되지 않는 단어들이 존재한다. 이를 불용어(stopwords)라고 불른다. 때로는 불용어를 제거하는 것이 자연어 처리의 성능을 높이는 방법일 수 있다."
   ]
  },
  {
   "cell_type": "code",
   "execution_count": 9,
   "id": "national-oakland",
   "metadata": {},
   "outputs": [
    {
     "name": "stdout",
     "output_type": "stream",
     "text": [
      "불용어 개수 : 179\n",
      "['i', 'me', 'my', 'myself', 'we', 'our', 'ours', 'ourselves', 'you', \"you're\", \"you've\", \"you'll\", \"you'd\", 'your', 'yours', 'yourself', 'yourselves', 'he', 'him', 'his', 'himself', 'she', \"she's\", 'her', 'hers', 'herself', 'it', \"it's\", 'its', 'itself', 'they', 'them', 'their', 'theirs', 'themselves', 'what', 'which', 'who', 'whom', 'this', 'that', \"that'll\", 'these', 'those', 'am', 'is', 'are', 'was', 'were', 'be', 'been', 'being', 'have', 'has', 'had', 'having', 'do', 'does', 'did', 'doing', 'a', 'an', 'the', 'and', 'but', 'if', 'or', 'because', 'as', 'until', 'while', 'of', 'at', 'by', 'for', 'with', 'about', 'against', 'between', 'into', 'through', 'during', 'before', 'after', 'above', 'below', 'to', 'from', 'up', 'down', 'in', 'out', 'on', 'off', 'over', 'under', 'again', 'further', 'then', 'once', 'here', 'there', 'when', 'where', 'why', 'how', 'all', 'any', 'both', 'each', 'few', 'more', 'most', 'other', 'some', 'such', 'no', 'nor', 'not', 'only', 'own', 'same', 'so', 'than', 'too', 'very', 's', 't', 'can', 'will', 'just', 'don', \"don't\", 'should', \"should've\", 'now', 'd', 'll', 'm', 'o', 're', 've', 'y', 'ain', 'aren', \"aren't\", 'couldn', \"couldn't\", 'didn', \"didn't\", 'doesn', \"doesn't\", 'hadn', \"hadn't\", 'hasn', \"hasn't\", 'haven', \"haven't\", 'isn', \"isn't\", 'ma', 'mightn', \"mightn't\", 'mustn', \"mustn't\", 'needn', \"needn't\", 'shan', \"shan't\", 'shouldn', \"shouldn't\", 'wasn', \"wasn't\", 'weren', \"weren't\", 'won', \"won't\", 'wouldn', \"wouldn't\"]\n"
     ]
    }
   ],
   "source": [
    "print('불용어 개수 :', len(stopwords.words('english') ))\n",
    "print(stopwords.words('english'))"
   ]
  },
  {
   "cell_type": "markdown",
   "id": "impressed-victorian",
   "metadata": {},
   "source": [
    "### Step 2-7. 텍스트 정규화  불용어 제거 함수"
   ]
  },
  {
   "cell_type": "code",
   "execution_count": 10,
   "id": "variable-sunrise",
   "metadata": {},
   "outputs": [],
   "source": [
    "#데이터 전처리 함수\n",
    "def preprocess_sentence(sentence, remove_stopwords=True):\n",
    "    sentence = sentence.lower() # 텍스트 소문자화\n",
    "    sentence = BeautifulSoup(sentence, \"lxml\").text # <br />, <a href = ...> 등의 html 태그 제거\n",
    "    sentence = re.sub(r'\\([^)]*\\)', '', sentence) # 괄호로 닫힌 문자열 (...) 제거 Ex) my husband (and myself!) for => my husband for\n",
    "    sentence = re.sub('\"','', sentence) # 쌍따옴표 \" 제거\n",
    "    sentence = ' '.join([contractions[t] if t in contractions else t for t in sentence.split(\" \")]) # 약어 정규화\n",
    "    sentence = re.sub(r\"'s\\b\",\"\",sentence) # 소유격 제거. Ex) roland's -> roland\n",
    "    sentence = re.sub(\"[^a-zA-Z]\", \" \", sentence) # 영어 외 문자(숫자, 특수문자 등) 공백으로 변환\n",
    "    sentence = re.sub('[m]{2,}', 'mm', sentence) # m이 3개 이상이면 2개로 변경. Ex) ummmmmmm yeah -> umm yeah\n",
    "    \n",
    "    # 불용어 제거 (Text)\n",
    "    if remove_stopwords:\n",
    "        tokens = ' '.join(word for word in sentence.split() if not word in stopwords.words('english') if len(word) > 1)\n",
    "    # 불용어 미제거 (headlines)\n",
    "    else:\n",
    "        tokens = ' '.join(word for word in sentence.split() if len(word) > 1)\n",
    "    return tokens"
   ]
  },
  {
   "cell_type": "markdown",
   "id": "radio-north",
   "metadata": {},
   "source": [
    "### Step 2-8. 텍스트 정규화  전처리 전, 후 결과 확인\n",
    "* 결과를 보면 기본적으로 모든 알파벳이 소문자로 변환되고,과 같은 html 태그가 제거되었다. 또한 (or finish)와 같은 괄호로 묶였던 단어 시퀀스가 제거된 것도 확인할 수 있다. 그리고 특수문자가 제거되면서 영어만 남았다."
   ]
  },
  {
   "cell_type": "code",
   "execution_count": 11,
   "id": "typical-purse",
   "metadata": {},
   "outputs": [
    {
     "name": "stdout",
     "output_type": "stream",
     "text": [
      "everything bought great infact ordered twice third ordered wasfor mother father\n",
      "great way to start the day\n"
     ]
    }
   ],
   "source": [
    "temp_text = 'Everything I bought was great, infact I ordered twice and the third ordered was<br />for my mother and father.'\n",
    "temp_headlines = 'Great way to start (or finish) the day!!!'\n",
    "\n",
    "print(preprocess_sentence(temp_text))\n",
    "print(preprocess_sentence(temp_headlines, False))  # 불용어를 제거하지 않습니다."
   ]
  },
  {
   "cell_type": "markdown",
   "id": "unauthorized-binary",
   "metadata": {},
   "source": [
    "### Step 2-9. 전체 텍스트 전처리\n",
    "* 테스트를 해보았으니 전체 데이터를 전처리 해준다."
   ]
  },
  {
   "cell_type": "code",
   "execution_count": 12,
   "id": "million-physics",
   "metadata": {},
   "outputs": [
    {
     "data": {
      "text/plain": [
       "['saurav kant alumnus upgrad iiit pg program machine learning artificial intelligence sr systems engineer infosys almost years work experience program upgrad degree career support helped transition data scientist tech mahindra salary hike upgrad online power learning powered lakh careers',\n",
       " 'kunal shah credit card bill payment platform cred gave users chance win free food swiggy one year pranav kaushik delhi techie bagged reward spending cred coins users get one cred coin per rupee bill paid used avail rewards brands like ixigo bookmyshow ubereats cult fit',\n",
       " 'new zealand defeated india wickets fourth odi hamilton thursday win first match five match odi series india lost international match rohit sharma captaincy consecutive victories dating back march match witnessed india getting seventh lowest total odi cricket history',\n",
       " 'aegon life iterm insurance plan customers enjoy tax benefits premiums paid save taxes plan provides life cover age years also customers options insure critical illnesses disability accidental death benefit rider life cover age years',\n",
       " 'speaking sexual harassment allegations rajkumar hirani sonam kapoor said known hirani many years true metoo movement get derailed metoo movement always believe woman case need reserve judgment added hirani accused assistant worked sanju']"
      ]
     },
     "execution_count": 12,
     "metadata": {},
     "output_type": "execute_result"
    }
   ],
   "source": [
    "clean_text = []\n",
    "\n",
    "# 전체 Text 데이터에 대한 전처리 : 10분 이상 시간이 걸릴 수 있습니다. \n",
    "for s in data['text']:\n",
    "    clean_text.append(preprocess_sentence(s))\n",
    "\n",
    "# 전처리 후 출력\n",
    "clean_text[:5]"
   ]
  },
  {
   "cell_type": "markdown",
   "id": "indirect-works",
   "metadata": {},
   "source": [
    "### Step 2-10. 전체 headlines 전처리"
   ]
  },
  {
   "cell_type": "code",
   "execution_count": 13,
   "id": "amended-adobe",
   "metadata": {},
   "outputs": [
    {
     "data": {
      "text/plain": [
       "['upgrad learner switches to career in ml al with salary hike',\n",
       " 'delhi techie wins free food from swiggy for one year on cred',\n",
       " 'new zealand end rohit sharma led india match winning streak',\n",
       " 'aegon life iterm insurance plan helps customers save tax',\n",
       " 'have known hirani for yrs what if metoo claims are not true sonam']"
      ]
     },
     "execution_count": 13,
     "metadata": {},
     "output_type": "execute_result"
    }
   ],
   "source": [
    "clean_headlines = []\n",
    "\n",
    "# 전체 Summary 데이터에 대한 전처리 : 5분 이상 시간이 걸릴 수 있습니다. \n",
    "for s in data['headlines']:\n",
    "    clean_headlines.append(preprocess_sentence(s, False))\n",
    "\n",
    "clean_headlines[:5]"
   ]
  },
  {
   "cell_type": "code",
   "execution_count": 14,
   "id": "developmental-arlington",
   "metadata": {},
   "outputs": [],
   "source": [
    "data['text'] = clean_text\n",
    "data['headlines'] = clean_headlines\n",
    "\n",
    "# 빈 값을 Null 값으로 변환\n",
    "data.replace('', np.nan, inplace=True)"
   ]
  },
  {
   "cell_type": "code",
   "execution_count": 15,
   "id": "committed-hazard",
   "metadata": {},
   "outputs": [
    {
     "data": {
      "text/plain": [
       "text         0\n",
       "headlines    0\n",
       "dtype: int64"
      ]
     },
     "execution_count": 15,
     "metadata": {},
     "output_type": "execute_result"
    }
   ],
   "source": [
    "data.isnull().sum()"
   ]
  },
  {
   "cell_type": "code",
   "execution_count": 16,
   "id": "understood-lightweight",
   "metadata": {},
   "outputs": [
    {
     "name": "stdout",
     "output_type": "stream",
     "text": [
      "전체 샘플수 : 98360\n"
     ]
    }
   ],
   "source": [
    "data.dropna(axis=0, inplace=True)\n",
    "print('전체 샘플수 :',(len(data)))#데이터 전처리 함수"
   ]
  },
  {
   "cell_type": "markdown",
   "id": "conditional-classic",
   "metadata": {},
   "source": [
    "### Step 2-11. 샘플의 최대 길이 정하기\n",
    "* padding 을위해 샘플의 길이의 분포를 확인했다.\n",
    "* text와 headlines 의 길이분포를 보니 정규분포를 따르지 않았다.\n",
    "* 일반적인 값들 보다 튀는 값들이 있기 때문이었다.\n",
    "* headlines 데이터인 경우 5~13정도의 길이가 적당했다.\n",
    "* text의 데이터인 경우 26~45정도의 길이가 적당했다."
   ]
  },
  {
   "cell_type": "code",
   "execution_count": 17,
   "id": "understood-joyce",
   "metadata": {},
   "outputs": [
    {
     "name": "stdout",
     "output_type": "stream",
     "text": [
      "텍스트의 최소 길이 : 1\n",
      "텍스트의 최대 길이 : 60\n",
      "텍스트의 평균 길이 : 35.09968483123221\n",
      "요약의 최소 길이 : 1\n",
      "요약의 최대 길이 : 16\n",
      "요약의 평균 길이 : 9.299532330215534\n"
     ]
    },
    {
     "data": {
      "image/png": "[encoded data removed]",
      "text/plain": [
       "<Figure size 432x288 with 2 Axes>"
      ]
     },
     "metadata": {
      "needs_background": "light"
     },
     "output_type": "display_data"
    },
    {
     "data": {
      "image/png": "[encoded data removed]",
      "text/plain": [
       "<Figure size 432x288 with 1 Axes>"
      ]
     },
     "metadata": {
      "needs_background": "light"
     },
     "output_type": "display_data"
    },
    {
     "data": {
      "image/png": "[encoded data removed]",
      "text/plain": [
       "<Figure size 432x288 with 1 Axes>"
      ]
     },
     "metadata": {
      "needs_background": "light"
     },
     "output_type": "display_data"
    }
   ],
   "source": [
    "# 길이 분포 출력\n",
    "import matplotlib.pyplot as plt\n",
    "\n",
    "text_len = [len(s.split()) for s in data['text']]\n",
    "headlines_len = [len(s.split()) for s in data['headlines']]\n",
    "\n",
    "print('텍스트의 최소 길이 : {}'.format(np.min(text_len)))\n",
    "print('텍스트의 최대 길이 : {}'.format(np.max(text_len)))\n",
    "print('텍스트의 평균 길이 : {}'.format(np.mean(text_len)))\n",
    "print('요약의 최소 길이 : {}'.format(np.min(headlines_len)))\n",
    "print('요약의 최대 길이 : {}'.format(np.max(headlines_len)))\n",
    "print('요약의 평균 길이 : {}'.format(np.mean(headlines_len)))\n",
    "\n",
    "plt.subplot(1,2,1)\n",
    "plt.boxplot(headlines_len)\n",
    "plt.title('Headlines')\n",
    "plt.subplot(1,2,2)\n",
    "plt.boxplot(text_len)\n",
    "plt.title('Text')\n",
    "plt.tight_layout()\n",
    "plt.show()\n",
    "\n",
    "plt.title('Headlines')\n",
    "plt.hist(headlines_len, bins = 40)\n",
    "plt.xlabel('length of samples')\n",
    "plt.ylabel('number of samples')\n",
    "plt.show()\n",
    "\n",
    "plt.title('Text')\n",
    "plt.hist(text_len, bins = 40)\n",
    "plt.xlabel('length of samples')\n",
    "plt.ylabel('number of samples')\n",
    "plt.show()"
   ]
  },
  {
   "cell_type": "markdown",
   "id": "alert-garden",
   "metadata": {},
   "source": [
    "### Step 2-12. 최대길이 제한할 경우 샘플 비율 확인"
   ]
  },
  {
   "cell_type": "code",
   "execution_count": 18,
   "id": "suspended-injury",
   "metadata": {},
   "outputs": [],
   "source": [
    "text_min_len = 26\n",
    "text_max_len = 45\n",
    "\n",
    "headlines_min_len = 5\n",
    "headlines_max_len = 13"
   ]
  },
  {
   "cell_type": "markdown",
   "id": "detailed-peeing",
   "metadata": {},
   "source": [
    "### Step 2-13. 정규분포를 따르지 않는 값들을 제외 할 경우 비율 확인"
   ]
  },
  {
   "cell_type": "code",
   "execution_count": 19,
   "id": "sweet-lingerie",
   "metadata": {},
   "outputs": [],
   "source": [
    "def below_threshold_len(max_len, min_len, nested_list):\n",
    "  cnt = 0\n",
    "  for s in nested_list:\n",
    "    if(len(s.split()) <= max_len or len(s.split()) >= min_len ):\n",
    "        cnt = cnt + 1\n",
    "  print('전체 샘플 중 길이가 %s 이상 %s 이하인 샘플의 비율: %s'%(min_len, max_len,  (cnt / len(nested_list))))"
   ]
  },
  {
   "cell_type": "code",
   "execution_count": 20,
   "id": "typical-tuesday",
   "metadata": {},
   "outputs": [
    {
     "name": "stdout",
     "output_type": "stream",
     "text": [
      "전체 샘플 중 길이가 45 이상 26 이하인 샘플의 비율: 0.018716958113054086\n"
     ]
    }
   ],
   "source": [
    "below_threshold_len(text_min_len, text_max_len, data['text'])"
   ]
  },
  {
   "cell_type": "code",
   "execution_count": 21,
   "id": "social-argentina",
   "metadata": {},
   "outputs": [
    {
     "name": "stdout",
     "output_type": "stream",
     "text": [
      "전체 샘플 중 길이가 13 이상 5 이하인 샘플의 비율: 0.014426596177307849\n"
     ]
    }
   ],
   "source": [
    "below_threshold_len(headlines_min_len, headlines_max_len, data['headlines'])"
   ]
  },
  {
   "cell_type": "markdown",
   "id": "gentle-black",
   "metadata": {},
   "source": [
    "### Step 2-14.정해진 길이보다 길면 제외"
   ]
  },
  {
   "cell_type": "code",
   "execution_count": 22,
   "id": "distributed-momentum",
   "metadata": {},
   "outputs": [
    {
     "name": "stdout",
     "output_type": "stream",
     "text": [
      "전체 샘플수 : 97863\n"
     ]
    }
   ],
   "source": [
    "data = data[data['text'].apply(lambda x: len(x.split()) <= text_max_len)]\n",
    "data = data[data['headlines'].apply(lambda x: len(x.split()) <= headlines_max_len)]\n",
    "print('전체 샘플수 :',(len(data)))"
   ]
  },
  {
   "cell_type": "code",
   "execution_count": 23,
   "id": "fiscal-grave",
   "metadata": {},
   "outputs": [
    {
     "name": "stdout",
     "output_type": "stream",
     "text": [
      "전체 샘플수 : 97284\n"
     ]
    }
   ],
   "source": [
    "data = data[data['text'].apply(lambda x: len(x.split()) >= text_min_len)]\n",
    "data = data[data['headlines'].apply(lambda x: len(x.split()) >= headlines_min_len)]\n",
    "print('전체 샘플수 :',(len(data)))"
   ]
  },
  {
   "cell_type": "markdown",
   "id": "dirty-excess",
   "metadata": {},
   "source": [
    "### Step 2-15. 정리 후 데이터 분포 확인\n",
    "* 그래프가 정규 분포를 따르는 것을 볼 수 있다."
   ]
  },
  {
   "cell_type": "code",
   "execution_count": 24,
   "id": "durable-collins",
   "metadata": {},
   "outputs": [
    {
     "name": "stdout",
     "output_type": "stream",
     "text": [
      "텍스트의 최소 길이 : 26\n",
      "텍스트의 최대 길이 : 45\n",
      "텍스트의 평균 길이 : 35.125765799103654\n",
      "요약의 최소 길이 : 5\n",
      "요약의 최대 길이 : 13\n",
      "요약의 평균 길이 : 9.289842111755274\n"
     ]
    },
    {
     "data": {
      "image/png": "[encoded data removed]",
      "text/plain": [
       "<Figure size 432x288 with 2 Axes>"
      ]
     },
     "metadata": {
      "needs_background": "light"
     },
     "output_type": "display_data"
    },
    {
     "data": {
      "image/png": "[encoded data removed]",
      "text/plain": [
       "<Figure size 432x288 with 1 Axes>"
      ]
     },
     "metadata": {
      "needs_background": "light"
     },
     "output_type": "display_data"
    },
    {
     "data": {
      "image/png": "[encoded data removed]",
      "text/plain": [
       "<Figure size 432x288 with 1 Axes>"
      ]
     },
     "metadata": {
      "needs_background": "light"
     },
     "output_type": "display_data"
    }
   ],
   "source": [
    "text_len = [len(s.split()) for s in data['text']]\n",
    "headlines_len = [len(s.split()) for s in data['headlines']]\n",
    "\n",
    "print('텍스트의 최소 길이 : {}'.format(np.min(text_len)))\n",
    "print('텍스트의 최대 길이 : {}'.format(np.max(text_len)))\n",
    "print('텍스트의 평균 길이 : {}'.format(np.mean(text_len)))\n",
    "print('요약의 최소 길이 : {}'.format(np.min(headlines_len)))\n",
    "print('요약의 최대 길이 : {}'.format(np.max(headlines_len)))\n",
    "print('요약의 평균 길이 : {}'.format(np.mean(headlines_len)))\n",
    "\n",
    "plt.subplot(1,2,1)\n",
    "plt.boxplot(headlines_len)\n",
    "plt.title('Headlines')\n",
    "plt.subplot(1,2,2)\n",
    "plt.boxplot(text_len)\n",
    "plt.title('Text')\n",
    "plt.tight_layout()\n",
    "plt.show()\n",
    "\n",
    "plt.title('Headlines')\n",
    "plt.hist(headlines_len, bins = 40)\n",
    "plt.xlabel('length of samples')\n",
    "plt.ylabel('number of samples')\n",
    "plt.show()\n",
    "\n",
    "plt.title('Text')\n",
    "plt.hist(text_len, bins = 40)\n",
    "plt.xlabel('length of samples')\n",
    "plt.ylabel('number of samples')\n",
    "plt.show()"
   ]
  },
  {
   "cell_type": "markdown",
   "id": "criminal-shoulder",
   "metadata": {},
   "source": [
    "### Step 2-16. 시작 종료 토큰 추가하기\n",
    "* 문장의 시작과 끝을 알기 위해 시작 토큰은 'sostoken', 종료 토큰은 'eostoken'이라 임의로 명명하고 앞, 뒤로 추가한다."
   ]
  },
  {
   "cell_type": "code",
   "execution_count": 25,
   "id": "short-extraction",
   "metadata": {},
   "outputs": [
    {
     "data": {
      "text/html": [
       "<div>\n",
       "<style scoped>\n",
       "    .dataframe tbody tr th:only-of-type {\n",
       "        vertical-align: middle;\n",
       "    }\n",
       "\n",
       "    .dataframe tbody tr th {\n",
       "        vertical-align: top;\n",
       "    }\n",
       "\n",
       "    .dataframe thead th {\n",
       "        text-align: right;\n",
       "    }\n",
       "</style>\n",
       "<table border=\"1\" class=\"dataframe\">\n",
       "  <thead>\n",
       "    <tr style=\"text-align: right;\">\n",
       "      <th></th>\n",
       "      <th>text</th>\n",
       "      <th>headlines</th>\n",
       "      <th>decoder_input</th>\n",
       "      <th>decoder_target</th>\n",
       "    </tr>\n",
       "  </thead>\n",
       "  <tbody>\n",
       "    <tr>\n",
       "      <th>0</th>\n",
       "      <td>saurav kant alumnus upgrad iiit pg program mac...</td>\n",
       "      <td>upgrad learner switches to career in ml al wit...</td>\n",
       "      <td>sostoken upgrad learner switches to career in ...</td>\n",
       "      <td>upgrad learner switches to career in ml al wit...</td>\n",
       "    </tr>\n",
       "    <tr>\n",
       "      <th>1</th>\n",
       "      <td>kunal shah credit card bill payment platform c...</td>\n",
       "      <td>delhi techie wins free food from swiggy for on...</td>\n",
       "      <td>sostoken delhi techie wins free food from swig...</td>\n",
       "      <td>delhi techie wins free food from swiggy for on...</td>\n",
       "    </tr>\n",
       "    <tr>\n",
       "      <th>2</th>\n",
       "      <td>new zealand defeated india wickets fourth odi ...</td>\n",
       "      <td>new zealand end rohit sharma led india match w...</td>\n",
       "      <td>sostoken new zealand end rohit sharma led indi...</td>\n",
       "      <td>new zealand end rohit sharma led india match w...</td>\n",
       "    </tr>\n",
       "    <tr>\n",
       "      <th>3</th>\n",
       "      <td>aegon life iterm insurance plan customers enjo...</td>\n",
       "      <td>aegon life iterm insurance plan helps customer...</td>\n",
       "      <td>sostoken aegon life iterm insurance plan helps...</td>\n",
       "      <td>aegon life iterm insurance plan helps customer...</td>\n",
       "    </tr>\n",
       "    <tr>\n",
       "      <th>4</th>\n",
       "      <td>speaking sexual harassment allegations rajkuma...</td>\n",
       "      <td>have known hirani for yrs what if metoo claims...</td>\n",
       "      <td>sostoken have known hirani for yrs what if met...</td>\n",
       "      <td>have known hirani for yrs what if metoo claims...</td>\n",
       "    </tr>\n",
       "  </tbody>\n",
       "</table>\n",
       "</div>"
      ],
      "text/plain": [
       "                                                text  \\\n",
       "0  saurav kant alumnus upgrad iiit pg program mac...   \n",
       "1  kunal shah credit card bill payment platform c...   \n",
       "2  new zealand defeated india wickets fourth odi ...   \n",
       "3  aegon life iterm insurance plan customers enjo...   \n",
       "4  speaking sexual harassment allegations rajkuma...   \n",
       "\n",
       "                                           headlines  \\\n",
       "0  upgrad learner switches to career in ml al wit...   \n",
       "1  delhi techie wins free food from swiggy for on...   \n",
       "2  new zealand end rohit sharma led india match w...   \n",
       "3  aegon life iterm insurance plan helps customer...   \n",
       "4  have known hirani for yrs what if metoo claims...   \n",
       "\n",
       "                                       decoder_input  \\\n",
       "0  sostoken upgrad learner switches to career in ...   \n",
       "1  sostoken delhi techie wins free food from swig...   \n",
       "2  sostoken new zealand end rohit sharma led indi...   \n",
       "3  sostoken aegon life iterm insurance plan helps...   \n",
       "4  sostoken have known hirani for yrs what if met...   \n",
       "\n",
       "                                      decoder_target  \n",
       "0  upgrad learner switches to career in ml al wit...  \n",
       "1  delhi techie wins free food from swiggy for on...  \n",
       "2  new zealand end rohit sharma led india match w...  \n",
       "3  aegon life iterm insurance plan helps customer...  \n",
       "4  have known hirani for yrs what if metoo claims...  "
      ]
     },
     "execution_count": 25,
     "metadata": {},
     "output_type": "execute_result"
    }
   ],
   "source": [
    "#요약 데이터에는 시작 토큰과 종료 토큰을 추가한다.\n",
    "data['decoder_input'] = data['headlines'].apply(lambda x : 'sostoken '+ x)\n",
    "data['decoder_target'] = data['headlines'].apply(lambda x : x + ' eostoken')\n",
    "data.head()"
   ]
  },
  {
   "cell_type": "markdown",
   "id": "fatty-collection",
   "metadata": {},
   "source": [
    "### Step 2-17. 다시 numpy 타입으로 저장"
   ]
  },
  {
   "cell_type": "code",
   "execution_count": 26,
   "id": "criminal-lover",
   "metadata": {},
   "outputs": [],
   "source": [
    "encoder_input = np.array(data['text']) # 인코더의 입력\n",
    "decoder_input = np.array(data['decoder_input']) # 디코더의 입력\n",
    "decoder_target = np.array(data['decoder_target']) # 디코더의 레이블"
   ]
  },
  {
   "cell_type": "markdown",
   "id": "enhanced-powder",
   "metadata": {},
   "source": [
    "### Step 2-18. 훈련셋 테스트셋 분리\n",
    "* encoder_input과 크기와 형태가 같은 정수 시퀀스를 만들었다."
   ]
  },
  {
   "cell_type": "code",
   "execution_count": 114,
   "id": "inside-absolute",
   "metadata": {},
   "outputs": [
    {
     "name": "stdout",
     "output_type": "stream",
     "text": [
      "[    0     1     2 ... 97281 97282 97283]\n"
     ]
    }
   ],
   "source": [
    "indices = np.arange(encoder_input.shape[0])\n",
    "#np.random.shuffle(indices)\n",
    "print(indices)"
   ]
  },
  {
   "cell_type": "markdown",
   "id": "touched-catch",
   "metadata": {},
   "source": [
    "### Step 2-19. 정수 시퀀스를 이용해 데이터 셈플 순서 정의"
   ]
  },
  {
   "cell_type": "code",
   "execution_count": 28,
   "id": "strong-honolulu",
   "metadata": {},
   "outputs": [],
   "source": [
    "encoder_input = encoder_input[indices]\n",
    "decoder_input = decoder_input[indices]\n",
    "decoder_target = decoder_target[indices]"
   ]
  },
  {
   "cell_type": "code",
   "execution_count": 29,
   "id": "upper-suspect",
   "metadata": {},
   "outputs": [
    {
     "data": {
      "text/plain": [
       "array(['saurav kant alumnus upgrad iiit pg program machine learning artificial intelligence sr systems engineer infosys almost years work experience program upgrad degree career support helped transition data scientist tech mahindra salary hike upgrad online power learning powered lakh careers',\n",
       "       'kunal shah credit card bill payment platform cred gave users chance win free food swiggy one year pranav kaushik delhi techie bagged reward spending cred coins users get one cred coin per rupee bill paid used avail rewards brands like ixigo bookmyshow ubereats cult fit',\n",
       "       'new zealand defeated india wickets fourth odi hamilton thursday win first match five match odi series india lost international match rohit sharma captaincy consecutive victories dating back march match witnessed india getting seventh lowest total odi cricket history',\n",
       "       'aegon life iterm insurance plan customers enjoy tax benefits premiums paid save taxes plan provides life cover age years also customers options insure critical illnesses disability accidental death benefit rider life cover age years',\n",
       "       'speaking sexual harassment allegations rajkumar hirani sonam kapoor said known hirani many years true metoo movement get derailed metoo movement always believe woman case need reserve judgment added hirani accused assistant worked sanju',\n",
       "       'pakistani singer rahat fateh ali khan denied receiving notice enforcement directorate allegedly smuggling foreign currency india would better authorities would served notice first publicised reads press release issued behalf rahat statement called allegation bizarre',\n",
       "       'india recorded lowest odi total new zealand getting runs overs fourth odi hamilton thursday seven india batsmen dismissed single digit scores number ten batsman yuzvendra chahal top scored india previous lowest odi total new zealand',\n",
       "       'weeks ex cbi director alok verma told department personnel training consider retired home ministry asked join work last day fixed tenure director thursday ministry directed immediately join dg fire services post transferred removal cbi chief',\n",
       "       'andhra pradesh cm chandrababu naidu said met us president bill clinton addressed mr clinton sir modi junior politics addressed sir times satisfy ego hope justice state added',\n",
       "       'congress candidate shafia zubair ramgarh assembly seat rajasthan defeating bjp sukhwant singh margin votes bypoll victory congress taken total seats member assembly election ramgarh seat delayed due death sitting mla bsp candidate laxman singh'],\n",
       "      dtype=object)"
      ]
     },
     "execution_count": 29,
     "metadata": {},
     "output_type": "execute_result"
    }
   ],
   "source": [
    "encoder_input[:10]"
   ]
  },
  {
   "cell_type": "markdown",
   "id": "announced-worst",
   "metadata": {},
   "source": [
    "### Step 2-20. 섞인 데이터를 8:2의 비율로 훈련 데이터와 테스트 데이터로 분리"
   ]
  },
  {
   "cell_type": "code",
   "execution_count": 30,
   "id": "arranged-cooking",
   "metadata": {},
   "outputs": [
    {
     "name": "stdout",
     "output_type": "stream",
     "text": [
      "테스트 데이터의 수 : 19456\n"
     ]
    }
   ],
   "source": [
    "n_of_val = int(len(encoder_input)*0.2)\n",
    "print('테스트 데이터의 수 :',n_of_val)"
   ]
  },
  {
   "cell_type": "code",
   "execution_count": 31,
   "id": "limiting-elephant",
   "metadata": {},
   "outputs": [
    {
     "name": "stdout",
     "output_type": "stream",
     "text": [
      "훈련 데이터의 개수 : 77828\n",
      "훈련 레이블의 개수 : 77828\n",
      "테스트 데이터의 개수 : 19456\n",
      "테스트 레이블의 개수 : 19456\n"
     ]
    }
   ],
   "source": [
    "encoder_input_train = encoder_input[:-n_of_val]\n",
    "decoder_input_train = decoder_input[:-n_of_val]\n",
    "decoder_target_train = decoder_target[:-n_of_val]\n",
    "\n",
    "encoder_input_test = encoder_input[-n_of_val:]\n",
    "decoder_input_test = decoder_input[-n_of_val:]\n",
    "decoder_target_test = decoder_target[-n_of_val:]\n",
    "\n",
    "print('훈련 데이터의 개수 :', len(encoder_input_train))\n",
    "print('훈련 레이블의 개수 :',len(decoder_input_train))\n",
    "print('테스트 데이터의 개수 :',len(encoder_input_test))\n",
    "print('테스트 레이블의 개수 :',len(decoder_input_test))"
   ]
  },
  {
   "cell_type": "markdown",
   "id": "reliable-central",
   "metadata": {},
   "source": [
    "### Step 2-21. 단어 집합(vocaburary) 만들기 및 정수 인코딩 - text 데이터"
   ]
  },
  {
   "cell_type": "code",
   "execution_count": 32,
   "id": "ruled-helmet",
   "metadata": {},
   "outputs": [],
   "source": [
    "src_tokenizer = Tokenizer() # 토크나이저 정의\n",
    "src_tokenizer.fit_on_texts(encoder_input_train) # 입력된 데이터로부터 단어 집합 생성"
   ]
  },
  {
   "cell_type": "markdown",
   "id": "convenient-point",
   "metadata": {},
   "source": [
    "* 빈도수가 낮은 단어들은 훈련 데이터에서 제외\n",
    "* 등장 빈도수가 7회 미만인 단어들이 이 데이터에서 얼만큼의 비중을 차지하는지 확인"
   ]
  },
  {
   "cell_type": "code",
   "execution_count": 33,
   "id": "unable-strand",
   "metadata": {},
   "outputs": [
    {
     "name": "stdout",
     "output_type": "stream",
     "text": [
      "단어 집합(vocabulary)의 크기 : 67818\n",
      "등장 빈도가 6번 이하인 희귀 단어의 수: 46030\n",
      "단어 집합에서 희귀 단어를 제외시킬 경우의 단어 집합의 크기 21788\n",
      "단어 집합에서 희귀 단어의 비율: 67.87283612020407\n",
      "전체 등장 빈도에서 희귀 단어 등장 빈도 비율: 3.4425824159746243\n"
     ]
    }
   ],
   "source": [
    "threshold = 7\n",
    "total_cnt = len(src_tokenizer.word_index) # 단어의 수\n",
    "rare_cnt = 0 # 등장 빈도수가 threshold보다 작은 단어의 개수를 카운트\n",
    "total_freq = 0 # 훈련 데이터의 전체 단어 빈도수 총 합\n",
    "rare_freq = 0 # 등장 빈도수가 threshold보다 작은 단어의 등장 빈도수의 총 합\n",
    "\n",
    "# 단어와 빈도수의 쌍(pair)을 key와 value로 받는다.\n",
    "for key, value in src_tokenizer.word_counts.items():\n",
    "    total_freq = total_freq + value\n",
    "\n",
    "    # 단어의 등장 빈도수가 threshold보다 작으면\n",
    "    if(value < threshold):\n",
    "        rare_cnt = rare_cnt + 1\n",
    "        rare_freq = rare_freq + value\n",
    "\n",
    "print('단어 집합(vocabulary)의 크기 :',total_cnt)\n",
    "print('등장 빈도가 %s번 이하인 희귀 단어의 수: %s'%(threshold - 1, rare_cnt))\n",
    "print('단어 집합에서 희귀 단어를 제외시킬 경우의 단어 집합의 크기 %s'%(total_cnt - rare_cnt))\n",
    "print(\"단어 집합에서 희귀 단어의 비율:\", (rare_cnt / total_cnt)*100)\n",
    "print(\"전체 등장 빈도에서 희귀 단어 등장 빈도 비율:\", (rare_freq / total_freq)*100)"
   ]
  },
  {
   "cell_type": "markdown",
   "id": "colored-continuity",
   "metadata": {},
   "source": [
    "* 단어 집합에서 희귀 단어를 제외시킬 경우의 단어 집합의 크기가 21788 이므로 src_vocab을 22000으로 정했다."
   ]
  },
  {
   "cell_type": "code",
   "execution_count": 34,
   "id": "proud-forwarding",
   "metadata": {},
   "outputs": [],
   "source": [
    "src_vocab = 22000\n",
    "src_tokenizer = Tokenizer(num_words = src_vocab) # 단어 집합의 크기를 22,000으로 제한\n",
    "src_tokenizer.fit_on_texts(encoder_input_train) # 단어 집합 재생성."
   ]
  },
  {
   "cell_type": "markdown",
   "id": "finite-skating",
   "metadata": {},
   "source": [
    "### Step 2-22. text 데이터 토크나이저로 정수형으로 변환\n",
    "* texts_to_sequences()로 생성된 단어 집합에 기반하여 입력으로 주어진 텍스트 데이터의 단어들을 모두 정수로 변환하는 정수 인코딩을 수행"
   ]
  },
  {
   "cell_type": "code",
   "execution_count": 35,
   "id": "extra-observer",
   "metadata": {},
   "outputs": [
    {
     "name": "stdout",
     "output_type": "stream",
     "text": [
      "[[6403, 6996, 8167, 9871, 8727, 1666, 1729, 1993, 1392, 623, 11666, 1730, 2324, 1278, 876, 22, 141, 1223, 1666, 8167, 2549, 610, 349, 963, 5038, 134, 3412, 2298, 1804, 1540, 2172, 8167, 209, 325, 1993, 2186, 62, 8446], [5570, 241, 1269, 1041, 537, 1430, 412, 20358, 597, 101, 2377, 223, 373, 342, 5467, 17, 2, 13606, 8598, 26, 20359, 3677, 2961, 2676, 20358, 4725, 101, 119, 17, 20358, 3524, 123, 2630, 537, 535, 100, 4562, 10332, 3693, 38, 14557, 21789, 11667, 2535], [25, 718, 822, 3, 695, 600, 269, 4641, 72, 223, 8, 88, 89, 88, 269, 142, 3, 265, 117, 88, 799, 237, 5370, 1291, 6714, 1311, 164, 410, 88, 1677, 3, 488, 2482, 2667, 322, 269, 115, 476]]\n"
     ]
    }
   ],
   "source": [
    "# 텍스트 시퀀스를 정수 시퀀스로 변환\n",
    "encoder_input_train = src_tokenizer.texts_to_sequences(encoder_input_train) \n",
    "encoder_input_test = src_tokenizer.texts_to_sequences(encoder_input_test)\n",
    "\n",
    "#잘 진행되었는지 샘플 출력\n",
    "print(encoder_input_train[:3])"
   ]
  },
  {
   "cell_type": "markdown",
   "id": "radio-track",
   "metadata": {},
   "source": [
    "### Step 2-23. headlines 데이터 토크나이저로 정수형으로 변환"
   ]
  },
  {
   "cell_type": "code",
   "execution_count": 36,
   "id": "improving-aspect",
   "metadata": {},
   "outputs": [],
   "source": [
    "tar_tokenizer = Tokenizer()\n",
    "tar_tokenizer.fit_on_texts(decoder_input_train)"
   ]
  },
  {
   "cell_type": "code",
   "execution_count": 37,
   "id": "legal-cabinet",
   "metadata": {},
   "outputs": [
    {
     "name": "stdout",
     "output_type": "stream",
     "text": [
      "단어 집합(vocabulary)의 크기 : 29589\n",
      "등장 빈도가 5번 이하인 희귀 단어의 수: 19319\n",
      "단어 집합에서 희귀 단어를 제외시킬 경우의 단어 집합의 크기 10270\n",
      "단어 집합에서 희귀 단어의 비율: 65.29115549697522\n",
      "전체 등장 빈도에서 희귀 단어 등장 빈도 비율: 4.600730310102623\n"
     ]
    }
   ],
   "source": [
    "threshold = 6\n",
    "total_cnt = len(tar_tokenizer.word_index) # 단어의 수\n",
    "rare_cnt = 0 # 등장 빈도수가 threshold보다 작은 단어의 개수를 카운트\n",
    "total_freq = 0 # 훈련 데이터의 전체 단어 빈도수 총 합\n",
    "rare_freq = 0 # 등장 빈도수가 threshold보다 작은 단어의 등장 빈도수의 총 합\n",
    "\n",
    "# 단어와 빈도수의 쌍(pair)을 key와 value로 받는다.\n",
    "for key, value in tar_tokenizer.word_counts.items():\n",
    "    total_freq = total_freq + value\n",
    "\n",
    "    # 단어의 등장 빈도수가 threshold보다 작으면\n",
    "    if(value < threshold):\n",
    "        rare_cnt = rare_cnt + 1\n",
    "        rare_freq = rare_freq + value\n",
    "\n",
    "print('단어 집합(vocabulary)의 크기 :',total_cnt)\n",
    "print('등장 빈도가 %s번 이하인 희귀 단어의 수: %s'%(threshold - 1, rare_cnt))\n",
    "print('단어 집합에서 희귀 단어를 제외시킬 경우의 단어 집합의 크기 %s'%(total_cnt - rare_cnt))\n",
    "print(\"단어 집합에서 희귀 단어의 비율:\", (rare_cnt / total_cnt)*100)\n",
    "print(\"전체 등장 빈도에서 희귀 단어 등장 빈도 비율:\", (rare_freq / total_freq)*100)"
   ]
  },
  {
   "cell_type": "markdown",
   "id": "eleven-vulnerability",
   "metadata": {},
   "source": [
    "* 단어 집합에서 희귀 단어를 제외시킬 경우의 단어 집합의 크기가 10270 이므로 tar_vocab을 10000으로 정했다."
   ]
  },
  {
   "cell_type": "code",
   "execution_count": 38,
   "id": "heard-domain",
   "metadata": {},
   "outputs": [
    {
     "name": "stdout",
     "output_type": "stream",
     "text": [
      "input\n",
      "input  [[1, 4939, 8684, 8685, 3, 733, 4, 9401, 1886, 9, 1147, 1132], [1, 26, 3644, 161, 242, 368, 14, 2947, 5, 123, 39, 7], [1, 41, 1225, 336, 451, 559, 488, 8, 160, 624, 3017], [1, 8102, 188, 8103, 1743, 490, 944, 1724, 839, 369], [1, 47, 2223, 2892, 5, 100, 150, 82, 956, 182, 81, 10, 2668, 631]]\n",
      "target\n",
      "decoder  [[4939, 8684, 8685, 3, 733, 4, 9401, 1886, 9, 1147, 1132, 2], [26, 3644, 161, 242, 368, 14, 2947, 5, 123, 39, 7, 2], [41, 1225, 336, 451, 559, 488, 8, 160, 624, 3017, 2], [8102, 188, 8103, 1743, 490, 944, 1724, 839, 369, 2], [47, 2223, 2892, 5, 100, 150, 82, 956, 182, 81, 10, 2668, 631, 2]]\n"
     ]
    }
   ],
   "source": [
    "tar_vocab = 10000\n",
    "tar_tokenizer = Tokenizer(num_words = tar_vocab) \n",
    "tar_tokenizer.fit_on_texts(decoder_input_train)\n",
    "tar_tokenizer.fit_on_texts(decoder_target_train)\n",
    "\n",
    "# 텍스트 시퀀스를 정수 시퀀스로 변환\n",
    "decoder_input_train = tar_tokenizer.texts_to_sequences(decoder_input_train) \n",
    "decoder_target_train = tar_tokenizer.texts_to_sequences(decoder_target_train)\n",
    "decoder_input_test = tar_tokenizer.texts_to_sequences(decoder_input_test)\n",
    "decoder_target_test = tar_tokenizer.texts_to_sequences(decoder_target_test)\n",
    "\n",
    "#잘 변환되었는지 확인\n",
    "print('input')\n",
    "print('input ',decoder_input_train[:5])\n",
    "print('target')\n",
    "print('decoder ',decoder_target_train[:5])"
   ]
  },
  {
   "cell_type": "markdown",
   "id": "threatened-sucking",
   "metadata": {},
   "source": [
    "* 훈련 데이터와 테스트 데이터에 대해서 요약문의 길이가 1인 경우의 인덱스를 각각 drop_train과 drop_test에 라는 변수에 저장 후 삭제"
   ]
  },
  {
   "cell_type": "code",
   "execution_count": 39,
   "id": "dried-nicholas",
   "metadata": {
    "scrolled": false
   },
   "outputs": [
    {
     "name": "stdout",
     "output_type": "stream",
     "text": [
      "삭제할 훈련 데이터의 개수 : 0\n",
      "삭제할 테스트 데이터의 개수 : 0\n",
      "훈련 데이터의 개수 : 77828\n",
      "훈련 레이블의 개수 : 77828\n",
      "테스트 데이터의 개수 : 19456\n",
      "테스트 레이블의 개수 : 19456\n"
     ]
    },
    {
     "name": "stderr",
     "output_type": "stream",
     "text": [
      "/home/aiffel-dj17/anaconda3/envs/aiffel/lib/python3.7/site-packages/numpy/core/_asarray.py:83: VisibleDeprecationWarning: Creating an ndarray from ragged nested sequences (which is a list-or-tuple of lists-or-tuples-or ndarrays with different lengths or shapes) is deprecated. If you meant to do this, you must specify 'dtype=object' when creating the ndarray\n",
      "  return array(a, dtype, copy=False, order=order)\n"
     ]
    }
   ],
   "source": [
    "drop_train = [index for index, sentence in enumerate(decoder_input_train) if len(sentence) == 1]\n",
    "drop_test = [index for index, sentence in enumerate(decoder_input_test) if len(sentence) == 1]\n",
    "\n",
    "print('삭제할 훈련 데이터의 개수 :',len(drop_train))\n",
    "print('삭제할 테스트 데이터의 개수 :',len(drop_test))\n",
    "\n",
    "encoder_input_train = np.delete(encoder_input_train, drop_train, axis=0)\n",
    "decoder_input_train = np.delete(decoder_input_train, drop_train, axis=0)\n",
    "decoder_target_train = np.delete(decoder_target_train, drop_train, axis=0)\n",
    "\n",
    "encoder_input_test = np.delete(encoder_input_test, drop_test, axis=0)\n",
    "decoder_input_test = np.delete(decoder_input_test, drop_test, axis=0)\n",
    "decoder_target_test = np.delete(decoder_target_test, drop_test, axis=0)\n",
    "\n",
    "print('훈련 데이터의 개수 :', len(encoder_input_train))\n",
    "print('훈련 레이블의 개수 :',len(decoder_input_train))\n",
    "print('테스트 데이터의 개수 :',len(encoder_input_test))\n",
    "print('테스트 레이블의 개수 :',len(decoder_input_test))"
   ]
  },
  {
   "cell_type": "markdown",
   "id": "through-tucson",
   "metadata": {},
   "source": [
    "### Step 2-24. 패딩하기"
   ]
  },
  {
   "cell_type": "code",
   "execution_count": 40,
   "id": "ahead-literature",
   "metadata": {},
   "outputs": [],
   "source": [
    "encoder_input_train = pad_sequences(encoder_input_train, maxlen = text_max_len, padding='post')\n",
    "encoder_input_test = pad_sequences(encoder_input_test, maxlen = text_max_len, padding='post')\n",
    "decoder_input_train = pad_sequences(decoder_input_train, maxlen = headlines_max_len, padding='post')\n",
    "decoder_target_train = pad_sequences(decoder_target_train, maxlen = headlines_max_len, padding='post')\n",
    "decoder_input_test = pad_sequences(decoder_input_test, maxlen = headlines_max_len, padding='post')\n",
    "decoder_target_test = pad_sequences(decoder_target_test, maxlen = headlines_max_len, padding='post')"
   ]
  },
  {
   "cell_type": "markdown",
   "id": "everyday-taylor",
   "metadata": {},
   "source": [
    "## Step 3. 모델 설계하기"
   ]
  },
  {
   "cell_type": "code",
   "execution_count": 41,
   "id": "russian-halifax",
   "metadata": {},
   "outputs": [
    {
     "name": "stdout",
     "output_type": "stream",
     "text": [
      "WARNING:tensorflow:Layer lstm will not use cuDNN kernel since it doesn't meet the cuDNN kernel criteria. It will use generic GPU kernel as fallback when running on GPU\n",
      "WARNING:tensorflow:Layer lstm_1 will not use cuDNN kernel since it doesn't meet the cuDNN kernel criteria. It will use generic GPU kernel as fallback when running on GPU\n",
      "WARNING:tensorflow:Layer lstm_2 will not use cuDNN kernel since it doesn't meet the cuDNN kernel criteria. It will use generic GPU kernel as fallback when running on GPU\n"
     ]
    }
   ],
   "source": [
    "from tensorflow.keras.layers import Input, LSTM, Embedding, Dense, Concatenate\n",
    "from tensorflow.keras.models import Model\n",
    "from tensorflow.keras.callbacks import EarlyStopping, ModelCheckpoint\n",
    "\n",
    "\n",
    "# 인코더 설계 시작\n",
    "embedding_dim = 128\n",
    "hidden_size = 256\n",
    "\n",
    "# 인코더\n",
    "encoder_inputs = Input(shape=(text_max_len,))\n",
    "\n",
    "# 인코더의 임베딩 층\n",
    "enc_emb = Embedding(src_vocab, embedding_dim)(encoder_inputs)\n",
    "\n",
    "# 인코더의 LSTM 1\n",
    "encoder_lstm1 = LSTM(hidden_size, return_sequences=True, return_state=True ,dropout = 0.4, recurrent_dropout = 0.4)\n",
    "encoder_output1, state_h1, state_c1 = encoder_lstm1(enc_emb)\n",
    "\n",
    "# 인코더의 LSTM 2\n",
    "encoder_lstm2 = LSTM(hidden_size, return_sequences=True, return_state=True, dropout=0.4, recurrent_dropout=0.4)\n",
    "encoder_output2, state_h2, state_c2 = encoder_lstm2(encoder_output1)\n",
    "\n",
    "# 인코더의 LSTM 3\n",
    "encoder_lstm3 = LSTM(hidden_size, return_state=True, return_sequences=True, dropout=0.4, recurrent_dropout=0.4)\n",
    "encoder_outputs, state_h, state_c= encoder_lstm3(encoder_output2)"
   ]
  },
  {
   "cell_type": "code",
   "execution_count": 42,
   "id": "creative-involvement",
   "metadata": {},
   "outputs": [
    {
     "name": "stdout",
     "output_type": "stream",
     "text": [
      "WARNING:tensorflow:Layer lstm_3 will not use cuDNN kernel since it doesn't meet the cuDNN kernel criteria. It will use generic GPU kernel as fallback when running on GPU\n"
     ]
    }
   ],
   "source": [
    "# 디코더 설계\n",
    "\n",
    "decoder_inputs = Input(shape=(None,))\n",
    "\n",
    "# 디코더의 임베딩 층\n",
    "dec_emb_layer = Embedding(tar_vocab, embedding_dim)\n",
    "dec_emb = dec_emb_layer(decoder_inputs)\n",
    "\n",
    "# 디코더의 LSTM\n",
    "decoder_lstm = LSTM(hidden_size, return_sequences = True, return_state = True, dropout = 0.4, recurrent_dropout=0.2)\n",
    "decoder_outputs, _, _ = decoder_lstm(dec_emb, initial_state = [state_h, state_c])"
   ]
  },
  {
   "cell_type": "code",
   "execution_count": 43,
   "id": "magnetic-county",
   "metadata": {},
   "outputs": [
    {
     "name": "stdout",
     "output_type": "stream",
     "text": [
      "Model: \"model\"\n",
      "__________________________________________________________________________________________________\n",
      "Layer (type)                    Output Shape         Param #     Connected to                     \n",
      "==================================================================================================\n",
      "input_1 (InputLayer)            [(None, 45)]         0                                            \n",
      "__________________________________________________________________________________________________\n",
      "embedding (Embedding)           (None, 45, 128)      2816000     input_1[0][0]                    \n",
      "__________________________________________________________________________________________________\n",
      "lstm (LSTM)                     [(None, 45, 256), (N 394240      embedding[0][0]                  \n",
      "__________________________________________________________________________________________________\n",
      "input_2 (InputLayer)            [(None, None)]       0                                            \n",
      "__________________________________________________________________________________________________\n",
      "lstm_1 (LSTM)                   [(None, 45, 256), (N 525312      lstm[0][0]                       \n",
      "__________________________________________________________________________________________________\n",
      "embedding_1 (Embedding)         (None, None, 128)    1280000     input_2[0][0]                    \n",
      "__________________________________________________________________________________________________\n",
      "lstm_2 (LSTM)                   [(None, 45, 256), (N 525312      lstm_1[0][0]                     \n",
      "__________________________________________________________________________________________________\n",
      "lstm_3 (LSTM)                   [(None, None, 256),  394240      embedding_1[0][0]                \n",
      "                                                                 lstm_2[0][1]                     \n",
      "                                                                 lstm_2[0][2]                     \n",
      "__________________________________________________________________________________________________\n",
      "dense (Dense)                   (None, None, 10000)  2570000     lstm_3[0][0]                     \n",
      "==================================================================================================\n",
      "Total params: 8,505,104\n",
      "Trainable params: 8,505,104\n",
      "Non-trainable params: 0\n",
      "__________________________________________________________________________________________________\n"
     ]
    }
   ],
   "source": [
    "# 디코더의 출력층\n",
    "decoder_softmax_layer = Dense(tar_vocab, activation = 'softmax')\n",
    "decoder_softmax_outputs = decoder_softmax_layer(decoder_outputs) \n",
    "\n",
    "# 모델 정의\n",
    "model = Model([encoder_inputs, decoder_inputs], decoder_softmax_outputs)\n",
    "model.summary()"
   ]
  },
  {
   "cell_type": "code",
   "execution_count": 44,
   "id": "palestinian-magnitude",
   "metadata": {},
   "outputs": [],
   "source": [
    "urllib.request.urlretrieve(\"https://raw.githubusercontent.com/thushv89/attention_keras/master/src/layers/attention.py\", filename=\"attention.py\")\n",
    "from attention import AttentionLayer"
   ]
  },
  {
   "cell_type": "markdown",
   "id": "behavioral-digest",
   "metadata": {},
   "source": [
    "### 어텐션 : 문장의 단어마다 포커스를 다르게 하여 해석."
   ]
  },
  {
   "cell_type": "code",
   "execution_count": 45,
   "id": "powered-writing",
   "metadata": {},
   "outputs": [
    {
     "name": "stdout",
     "output_type": "stream",
     "text": [
      "Model: \"model_1\"\n",
      "__________________________________________________________________________________________________\n",
      "Layer (type)                    Output Shape         Param #     Connected to                     \n",
      "==================================================================================================\n",
      "input_1 (InputLayer)            [(None, 45)]         0                                            \n",
      "__________________________________________________________________________________________________\n",
      "embedding (Embedding)           (None, 45, 128)      2816000     input_1[0][0]                    \n",
      "__________________________________________________________________________________________________\n",
      "lstm (LSTM)                     [(None, 45, 256), (N 394240      embedding[0][0]                  \n",
      "__________________________________________________________________________________________________\n",
      "input_2 (InputLayer)            [(None, None)]       0                                            \n",
      "__________________________________________________________________________________________________\n",
      "lstm_1 (LSTM)                   [(None, 45, 256), (N 525312      lstm[0][0]                       \n",
      "__________________________________________________________________________________________________\n",
      "embedding_1 (Embedding)         (None, None, 128)    1280000     input_2[0][0]                    \n",
      "__________________________________________________________________________________________________\n",
      "lstm_2 (LSTM)                   [(None, 45, 256), (N 525312      lstm_1[0][0]                     \n",
      "__________________________________________________________________________________________________\n",
      "lstm_3 (LSTM)                   [(None, None, 256),  394240      embedding_1[0][0]                \n",
      "                                                                 lstm_2[0][1]                     \n",
      "                                                                 lstm_2[0][2]                     \n",
      "__________________________________________________________________________________________________\n",
      "attention_layer (AttentionLayer ((None, None, 256),  131328      lstm_2[0][0]                     \n",
      "                                                                 lstm_3[0][0]                     \n",
      "__________________________________________________________________________________________________\n",
      "concat_layer (Concatenate)      (None, None, 512)    0           lstm_3[0][0]                     \n",
      "                                                                 attention_layer[0][0]            \n",
      "__________________________________________________________________________________________________\n",
      "dense_1 (Dense)                 (None, None, 10000)  5130000     concat_layer[0][0]               \n",
      "==================================================================================================\n",
      "Total params: 11,196,432\n",
      "Trainable params: 11,196,432\n",
      "Non-trainable params: 0\n",
      "__________________________________________________________________________________________________\n"
     ]
    }
   ],
   "source": [
    "# 어텐션 층(어텐션 함수)\n",
    "attn_layer = AttentionLayer(name='attention_layer')\n",
    "# 인코더와 디코더의 모든 time step의 hidden state를 어텐션 층에 전달하고 결과를 리턴\n",
    "attn_out, attn_states = attn_layer([encoder_outputs, decoder_outputs])\n",
    "\n",
    "# 어텐션의 결과와 디코더의 hidden state들을 연결\n",
    "decoder_concat_input = Concatenate(axis = -1, name='concat_layer')([decoder_outputs, attn_out])\n",
    "\n",
    "# 디코더의 출력층\n",
    "decoder_softmax_layer = Dense(tar_vocab, activation='softmax')\n",
    "decoder_softmax_outputs = decoder_softmax_layer(decoder_concat_input)\n",
    "\n",
    "# 모델 정의\n",
    "model = Model([encoder_inputs, decoder_inputs], decoder_softmax_outputs)\n",
    "model.summary()"
   ]
  },
  {
   "cell_type": "markdown",
   "id": "former-highlight",
   "metadata": {},
   "source": [
    "## Step 4. 모델 훈련하기\n",
    "* early stopping으로 적절한 epoch에서 멈춘다."
   ]
  },
  {
   "cell_type": "code",
   "execution_count": 46,
   "id": "ordinary-conversion",
   "metadata": {},
   "outputs": [
    {
     "name": "stdout",
     "output_type": "stream",
     "text": [
      "Epoch 1/50\n",
      "305/305 [==============================] - 123s 404ms/step - loss: 5.2638 - val_loss: 4.7417\n",
      "Epoch 2/50\n",
      "305/305 [==============================] - 121s 396ms/step - loss: 4.7083 - val_loss: 4.4427\n",
      "Epoch 3/50\n",
      "305/305 [==============================] - 122s 399ms/step - loss: 4.3746 - val_loss: 4.2424\n",
      "Epoch 4/50\n",
      "305/305 [==============================] - 121s 396ms/step - loss: 4.1259 - val_loss: 4.1128\n",
      "Epoch 5/50\n",
      "305/305 [==============================] - 120s 394ms/step - loss: 3.9293 - val_loss: 3.9693\n",
      "Epoch 6/50\n",
      "305/305 [==============================] - 120s 395ms/step - loss: 3.7666 - val_loss: 3.8275\n",
      "Epoch 7/50\n",
      "305/305 [==============================] - 120s 395ms/step - loss: 3.6267 - val_loss: 3.7498\n",
      "Epoch 8/50\n",
      "305/305 [==============================] - 120s 394ms/step - loss: 3.5082 - val_loss: 3.6810\n",
      "Epoch 9/50\n",
      "305/305 [==============================] - 120s 394ms/step - loss: 3.4053 - val_loss: 3.6427\n",
      "Epoch 10/50\n",
      "305/305 [==============================] - 120s 394ms/step - loss: 3.3147 - val_loss: 3.5808\n",
      "Epoch 11/50\n",
      "305/305 [==============================] - 121s 396ms/step - loss: 3.2325 - val_loss: 3.5349\n",
      "Epoch 12/50\n",
      "305/305 [==============================] - 120s 393ms/step - loss: 3.1580 - val_loss: 3.5149\n",
      "Epoch 13/50\n",
      "305/305 [==============================] - 121s 396ms/step - loss: 3.0930 - val_loss: 3.5028\n",
      "Epoch 14/50\n",
      "305/305 [==============================] - 120s 394ms/step - loss: 3.0279 - val_loss: 3.4612\n",
      "Epoch 15/50\n",
      "305/305 [==============================] - 120s 393ms/step - loss: 2.9730 - val_loss: 3.4622\n",
      "Epoch 16/50\n",
      "305/305 [==============================] - 121s 396ms/step - loss: 2.9212 - val_loss: 3.4270\n",
      "Epoch 17/50\n",
      "305/305 [==============================] - 121s 396ms/step - loss: 2.8736 - val_loss: 3.4318\n",
      "Epoch 18/50\n",
      "305/305 [==============================] - 121s 398ms/step - loss: 2.8285 - val_loss: 3.4225\n",
      "Epoch 19/50\n",
      "305/305 [==============================] - 121s 398ms/step - loss: 2.7849 - val_loss: 3.3884\n",
      "Epoch 20/50\n",
      "305/305 [==============================] - 122s 399ms/step - loss: 2.7437 - val_loss: 3.3842\n",
      "Epoch 21/50\n",
      "305/305 [==============================] - 121s 398ms/step - loss: 2.7047 - val_loss: 3.3894\n",
      "Epoch 22/50\n",
      "305/305 [==============================] - 121s 398ms/step - loss: 2.6679 - val_loss: 3.3611\n",
      "Epoch 23/50\n",
      "305/305 [==============================] - 121s 397ms/step - loss: 2.6380 - val_loss: 3.3652\n",
      "Epoch 24/50\n",
      "305/305 [==============================] - 121s 396ms/step - loss: 2.6092 - val_loss: 3.3523\n",
      "Epoch 25/50\n",
      "305/305 [==============================] - 122s 399ms/step - loss: 2.5789 - val_loss: 3.3484\n",
      "Epoch 26/50\n",
      "305/305 [==============================] - 121s 397ms/step - loss: 2.5507 - val_loss: 3.3396\n",
      "Epoch 27/50\n",
      "305/305 [==============================] - 121s 398ms/step - loss: 2.5202 - val_loss: 3.3437\n",
      "Epoch 28/50\n",
      "305/305 [==============================] - 120s 394ms/step - loss: 2.4910 - val_loss: 3.3451\n",
      "Epoch 00028: early stopping\n"
     ]
    }
   ],
   "source": [
    "model.compile(optimizer='rmsprop', loss='sparse_categorical_crossentropy')\n",
    "es = EarlyStopping(monitor='val_loss', mode='min', verbose=1, patience = 2)\n",
    "history = model.fit(x = [encoder_input_train, decoder_input_train], y = decoder_target_train, \\\n",
    "          validation_data = ([encoder_input_test, decoder_input_test], decoder_target_test),\n",
    "          batch_size = 256, callbacks=[es], epochs = 50)"
   ]
  },
  {
   "cell_type": "code",
   "execution_count": 47,
   "id": "bright-jason",
   "metadata": {},
   "outputs": [
    {
     "data": {
      "image/png": "[encoded data removed]",
      "text/plain": [
       "<Figure size 432x288 with 1 Axes>"
      ]
     },
     "metadata": {
      "needs_background": "light"
     },
     "output_type": "display_data"
    }
   ],
   "source": [
    "plt.plot(history.history['loss'], label='train')\n",
    "plt.plot(history.history['val_loss'], label='test')\n",
    "plt.legend()\n",
    "plt.show()"
   ]
  },
  {
   "cell_type": "markdown",
   "id": "accomplished-enlargement",
   "metadata": {},
   "source": [
    "## Step 5. 인퍼런스 모델 구현하기\n",
    "* 문자를 정수로 바꾸고 정수를 다시 문자로 바꾸는 과정이다."
   ]
  },
  {
   "cell_type": "code",
   "execution_count": 48,
   "id": "owned-relationship",
   "metadata": {},
   "outputs": [],
   "source": [
    "src_index_to_word = src_tokenizer.index_word # 원문 단어 집합에서 정수 -> 단어를 얻음\n",
    "tar_word_to_index = tar_tokenizer.word_index # 요약 단어 집합에서 단어 -> 정수를 얻음\n",
    "tar_index_to_word = tar_tokenizer.index_word # 요약 단어 집합에서 정수 -> 단어를 얻음"
   ]
  },
  {
   "cell_type": "code",
   "execution_count": 49,
   "id": "elect-biography",
   "metadata": {},
   "outputs": [],
   "source": [
    "# 인코더 설계\n",
    "encoder_model = Model(inputs=encoder_inputs, outputs=[encoder_outputs, state_h, state_c])\n",
    "\n",
    "# 이전 시점의 상태들을 저장하는 텐서\n",
    "decoder_state_input_h = Input(shape=(hidden_size,))\n",
    "decoder_state_input_c = Input(shape=(hidden_size,))\n",
    "\n",
    "dec_emb2 = dec_emb_layer(decoder_inputs)\n",
    "# 문장의 다음 단어를 예측하기 위해서 초기 상태(initial_state)를 이전 시점의 상태로 사용. 이는 뒤의 함수 decode_sequence()에 구현\n",
    "# 훈련 과정에서와 달리 LSTM의 리턴하는 은닉 상태와 셀 상태인 state_h와 state_c를 버리지 않음.\n",
    "decoder_outputs2, state_h2, state_c2 = decoder_lstm(dec_emb2, initial_state=[decoder_state_input_h, decoder_state_input_c])"
   ]
  },
  {
   "cell_type": "code",
   "execution_count": 50,
   "id": "double-construction",
   "metadata": {},
   "outputs": [],
   "source": [
    "# 어텐션 함수\n",
    "decoder_hidden_state_input = Input(shape=(text_max_len, hidden_size))\n",
    "attn_out_inf, attn_states_inf = attn_layer([decoder_hidden_state_input, decoder_outputs2])\n",
    "decoder_inf_concat = Concatenate(axis=-1, name='concat')([decoder_outputs2, attn_out_inf])\n",
    "\n",
    "# 디코더의 출력층\n",
    "decoder_outputs2 = decoder_softmax_layer(decoder_inf_concat) \n",
    "\n",
    "# 최종 디코더 모델\n",
    "decoder_model = Model(\n",
    "    [decoder_inputs] + [decoder_hidden_state_input,decoder_state_input_h, decoder_state_input_c],\n",
    "    [decoder_outputs2] + [state_h2, state_c2])"
   ]
  },
  {
   "cell_type": "code",
   "execution_count": 51,
   "id": "invisible-michael",
   "metadata": {},
   "outputs": [],
   "source": [
    "def decode_sequence(input_seq):\n",
    "    # 입력으로부터 인코더의 상태를 얻음\n",
    "    e_out, e_h, e_c = encoder_model.predict(input_seq)\n",
    "\n",
    "     # <SOS>에 해당하는 토큰 생성\n",
    "    target_seq = np.zeros((1,1))\n",
    "    target_seq[0, 0] = tar_word_to_index['sostoken']\n",
    "\n",
    "    stop_condition = False\n",
    "    decoded_sentence = ''\n",
    "    while not stop_condition: # stop_condition이 True가 될 때까지 루프 반복\n",
    "\n",
    "        output_tokens, h, c = decoder_model.predict([target_seq] + [e_out, e_h, e_c])\n",
    "        sampled_token_index = np.argmax(output_tokens[0, -1, :])\n",
    "        sampled_token = tar_index_to_word[sampled_token_index]\n",
    "\n",
    "        if(sampled_token!='eostoken'):\n",
    "            decoded_sentence += ' '+sampled_token\n",
    "\n",
    "        #  <eos>에 도달하거나 최대 길이를 넘으면 중단.\n",
    "        if (sampled_token == 'eostoken'  or len(decoded_sentence.split()) >= (headlines_max_len-1)):\n",
    "            stop_condition = True\n",
    "\n",
    "        # 길이가 1인 타겟 시퀀스를 업데이트\n",
    "        target_seq = np.zeros((1,1))\n",
    "        target_seq[0, 0] = sampled_token_index\n",
    "\n",
    "        # 상태를 업데이트 합니다.\n",
    "        e_h, e_c = h, c\n",
    "\n",
    "    return decoded_sentence"
   ]
  },
  {
   "cell_type": "markdown",
   "id": "soviet-operation",
   "metadata": {},
   "source": [
    "## Step 6. 추상적 요약 모델 테스트\n",
    "* 원문과 실제요약, 예측요약이 나오는 것을 확인할 수 있다."
   ]
  },
  {
   "cell_type": "code",
   "execution_count": 52,
   "id": "abandoned-puppy",
   "metadata": {},
   "outputs": [],
   "source": [
    "# 원문의 정수 시퀀스를 텍스트 시퀀스로 변환\n",
    "def seq2text(input_seq):\n",
    "    temp=''\n",
    "    for i in input_seq:\n",
    "        if(i!=0):\n",
    "            temp = temp + src_index_to_word[i]+' '\n",
    "    return temp\n",
    "\n",
    "# 요약문의 정수 시퀀스를 텍스트 시퀀스로 변환\n",
    "def seq2headlines(input_seq):\n",
    "    temp=''\n",
    "    for i in input_seq:\n",
    "        if((i!=0 and i!=tar_word_to_index['sostoken']) and i!=tar_word_to_index['eostoken']):\n",
    "            temp = temp + tar_index_to_word[i] + ' '\n",
    "    return temp"
   ]
  },
  {
   "cell_type": "markdown",
   "id": "charitable-ministry",
   "metadata": {},
   "source": [
    "* 트럼프 관련 기사를 확인해본다.\n",
    "* 원문 : us president donald trump sunday slammed members party protecting sad republicans even carried line back little protect president trump tweeted comes republicans struggled come together bill repeal replace \n",
    "* 실제 요약 : trump slams for not protecting him \n",
    "* 예측 요약 :  trump slams trump for presidential violence\n",
    "\n",
    "* 먼저 실제 요약과 예측 요약의 주어가 같아서 만족스럽다.\n",
    "* 보기편하기 위해 구글번역을 돌려보았다.\n",
    "\n",
    "### 구글번역 결과\n",
    "* 원문 : 미국 대통령 도널드 트럼프 일요일은 회원 파티를 보호 슬픈 공화당 원을 보호 심지어 라인을 뒤로 운반 작은 보호 트럼프 트럼프 트위트가 온다 공화당 원이 힘겹게 모여 법안 폐지 교체\n",
    "* 실제 요약 : 그를 보호하지 않는 트럼프 슬램\n",
    "* 예측 요약 : 트럼프는 대통령 폭력에 대한 트럼프를 쾅쾅\n",
    "\n",
    "* 구글 번역 결과 예측요약에서 쾅쾅이라는 단어가 왜 나왔는지 모르겠다. 그래도 실제 요약과 예측 요약이 얼추 비슷한 것 같다. "
   ]
  },
  {
   "cell_type": "code",
   "execution_count": 53,
   "id": "colored-blake",
   "metadata": {},
   "outputs": [
    {
     "name": "stdout",
     "output_type": "stream",
     "text": [
      "원문 : us president donald trump sunday slammed members party protecting sad republicans even carried line back little protect president trump tweeted comes republicans struggled come together bill repeal replace \n",
      "실제 요약 : trump slams for not protecting him \n",
      "예측 요약 :  trump slams trump for presidential violence\n",
      "\n",
      "\n",
      "원문 : govinda thanked rishi kapoor showing concern role jagga jasoos removed added good blood never speaks wrong said expected little professionalism director anurag basu want govinda work film ask first place rishi said \n",
      "실제 요약 : govinda thanks rishi for showing concern in row \n",
      "예측 요약 :  rishi is not rishi on rishi kapoor\n",
      "\n",
      "\n",
      "원문 : hindi trailer kajol dhanush starrer film vip released sequel tamil film dhanush penned story also co producing sister law rajinikanth directing film scheduled release july \n",
      "실제 요약 : hindi trailer of kajol dhanush vip released \n",
      "예측 요약 :  trailer of rajkummar rao starrer released\n",
      "\n",
      "\n",
      "원문 : official james bond twitter handle announced november release date new film franchise titled bond film written robert wade produced michael wilson barbara daniel craig reportedly return character james bond film \n",
      "실제 요약 : release date of new james bond film bond announced \n",
      "예측 요약 :  new release date of the theatres\n",
      "\n",
      "\n",
      "원문 : many ministers mlas uttar pradesh failed declare assets despite cm yogi adityanath repeated directions according government notification per rules ministers mlas mandated declare assets liabilities within three months assuming office elected members state assembly \n",
      "실제 요약 : ministers mlas in up fail to declare assets \n",
      "예측 요약 :  maharashtra cm announces mlas for ministers to mlas\n",
      "\n",
      "\n",
      "원문 : state owned broadcaster doordarshan planning change iconic logo issued invitation asking entries public logo designs doordarshan take new logo design entries till august winner awarded cash prize lakh sporting current logo since \n",
      "실제 요약 : doordarshan plans to replace its logo after years \n",
      "예측 요약 :  new york to launch program for the time\n",
      "\n",
      "\n",
      "원문 : president ram nath kovind tuesday said speech nation building requires national pride adding citizen india nation builder talked various professionals india act nation builders also said india believed philosophy world family \n",
      "실제 요약 : to the crore citizens of this great nation kovind \n",
      "예측 요약 :  india cannot be allowed to india prez kovind\n",
      "\n",
      "\n",
      "원문 : police officials uk arrested gang criminals ran largest cannabis growing operation britain network drug farms built inside industrial facilities gang grew cannabis street value million year members convicted conspiracy produce illegal substances \n",
      "실제 요약 : uk largest cannabis growing operation busted \n",
      "예측 요약 :  two arrested for selling drugs in uk\n",
      "\n",
      "\n",
      "원문 : country largest telecom operator bharti airtel tuesday reported year year decline consolidated net profit crore quarter ended june total revenue company also slipped crore bharti airtel ceo gopal said pricing disruption caused entry new operator created stress sector profitability \n",
      "실제 요약 : airtel profit plunges to crore in june quarter \n",
      "예측 요약 :  airtel profit falls to crore in june quarter\n",
      "\n",
      "\n",
      "원문 : tanzania government sent gold producer mining billion tax bill another billion interest penalties bill equal almost two centuries worth company revenue government alleged company declared export revenues company disagreements authorities resulted decline stock year \n",
      "실제 요약 : govt issues billion tax bill to mining company \n",
      "예측 요약 :  govt to give bn to settle bill for bn deposits\n",
      "\n",
      "\n",
      "원문 : asked big task bring infosys board founders together co chairman ravi venkatesan said know measure lot still left stated comments come public dispute co founders including narayana murthy top management corporate governance \n",
      "실제 요약 : can bring infosys board and founders together co chairman \n",
      "예측 요약 :  infosys must be right to be infosys co founder\n",
      "\n",
      "\n",
      "원문 : actor varun dhawan star director shoojit sircar next film titled october talking film shoojit said love story box kind story unusual unconventional kind story slice life romance space notably varun first film shoojit \n",
      "실제 요약 : varun dhawan to star in next film october \n",
      "예측 요약 :  varun dhawan to star in varun dhawan october\n",
      "\n",
      "\n",
      "원문 : actor arjun rampal turned showstopper designer rohit bal india couture week show walked ramp black pants featured bal newly patented motif collection featured gowns saris woven gold silver decorated crystals \n",
      "실제 요약 : arjun rampal turns showstopper at india couture week \n",
      "예측 요약 :  arjun rampal turns showstopper for manish malhotra\n",
      "\n",
      "\n",
      "원문 : emmanuel portrays game thrones said first nude scene show featured season second episode big deal added strange become good friends co star jacob anderson portrays grey worm fine obviously done really respectfully said \n",
      "실제 요약 : my first game of thrones nude scene was big deal \n",
      "예측 요약 :  game of thrones season to show thrones episode to show\n",
      "\n",
      "\n",
      "원문 : former adult star mia khalifa started youtube channel review christopher nolan directorial video review said know whole thing lasted hours rescue mission took two half months mia also slammed tweeting love nolan sucked \n",
      "실제 요약 : mia khalifa starts youtube channel with review of \n",
      "예측 요약 :  us actress approached for scene in hrs\n",
      "\n",
      "\n",
      "원문 : actor neil nitin mukesh took twitter share first look poster upcoming film co stars alongside jackie shroff film also stars kay kay menon karan singh grover dhar film directed bhatt cast expected begin shooting august \n",
      "실제 요약 : st look of neil jackie shroff upcoming film out \n",
      "예측 요약 :  first look of the first look from fanney khan out\n",
      "\n",
      "\n",
      "원문 : actor mithun chakraborty said advice youngsters concentrate talent compared six pack abs added talent capability crack film industry mithun said one persistent efforts talent cannot anything \n",
      "실제 요약 : advice youngsters to focus on talent over pack mithun \n",
      "예측 요약 :  if you do not get good for films for my career sajid\n",
      "\n",
      "\n",
      "원문 : actor ayushmann khurrana tweeted please change doordarshan logo represents childhood statement comes recent reports doordarshan planning changing logo create something appeal children doordarshan sporting current logo since inception \n",
      "실제 요약 : ayushmann requests doordarshan not to change its logo \n",
      "예측 요약 :  abhishek bachchan slammed for not being\n",
      "\n",
      "\n",
      "원문 : actor sushant singh rajput said think saif ali khan daughter sara ali khan feeling pressure making debut bright girl confident career sure well added sara make acting debut opposite sushant film kedarnath \n",
      "실제 요약 : sara is not feeling the pressure of making her debut sushant \n",
      "예측 요약 :  sara and sara is the same family saif\n",
      "\n",
      "\n",
      "원문 : karnataka government tuesday announced plans open new liquor stores compensate drop excise revenue liquor sale along highways banned new stores reportedly run state government owned mysore sales international limited comes amid protests opposition stores push people debt \n",
      "실제 요약 : karnataka government to open new liquor stores \n",
      "예측 요약 :  karnataka to get free to reduce single\n",
      "\n",
      "\n",
      "원문 : human resource development minister prakash javadekar monday announced soon give approval world class research teaching institutions called indian institutes eminence adding approval given parliament monsoon session said ranked among top universities world \n",
      "실제 요약 : india to get institutes of for research \n",
      "예측 요약 :  govt to give world to students\n",
      "\n",
      "\n",
      "원문 : german carmaker bmw rejected reports cheated emissions tests illegal systems cars company also denied reports plotting audi volkswagen porsche designs diesel emissions treatment systems vehicle emissions came scrutiny worldwide since volkswagen admitted installing illegal software cheat us emissions tests diesel cars \n",
      "실제 요약 : bmw denies reports of emissions \n",
      "예측 요약 :  bmw to pay lakh to test cars over cars reports\n",
      "\n",
      "\n",
      "원문 : amateur australian astronomer captured footage rare phenomenon upside lightning called caused electrical discharge storms instead traditionally going towards ground travel upwards space phenomenon observed skies australia new south wales \n",
      "실제 요약 : captures footage of upside down lightning \n",
      "예측 요약 :  rare in the of the year\n",
      "\n",
      "\n",
      "원문 : vietnam reportedly stopped oil drilling disputed area south china sea china threatened attack vietnamese bases islands drilling stop china claims sovereignty islands calls islands notably several countries including philippines vietnam others dispute china claim region \n",
      "실제 요약 : vietnam halts in south china sea post china threat \n"
     ]
    },
    {
     "name": "stdout",
     "output_type": "stream",
     "text": [
      "예측 요약 :  us oil tanker to china sea amid china tensions\n",
      "\n",
      "\n",
      "원문 : russian lawmakers urged president vladimir putin sanction poland bill ordering demolition soviet monuments legislation part poland de law states monuments cannot pay tribute persons organisations events symbolising systems notably lakh soviet soldiers died liberating poland nazis wwii \n",
      "실제 요약 : ask putin to sanction poland over anti law \n",
      "예측 요약 :  russia prez to vote for referendum\n",
      "\n",
      "\n",
      "원문 : television personality kylie jenner snapchat hacked hacker posted message caption add kylie jenner followed post alleged hacker twitter account read got kylie however hour later supposed hacker wrote joke nude pictures kylie \n",
      "실제 요약 : hacker threatens to leak kylie jenner nude pictures \n",
      "예측 요약 :  kylie jenner instagram account gets trolled for kylie\n",
      "\n",
      "\n",
      "원문 : supreme court tuesday directed sahara group chief roy deposit crore september also said process auctioning group aamby valley shall start next hearing case september supreme court ordered auction sahara alleged failure deposit money refunding investors \n",
      "실제 요약 : sc directs roy to deposit crore by september \n",
      "예측 요약 :  sc dismisses jaypee plea to sell jaypee to jaypee\n",
      "\n",
      "\n",
      "원문 : india host first wta tournament five years city mumbai stages lakh mumbai open november maharashtra state lawn tennis association recently bagged hosting rights chennai open india atp world tour event branded maharashtra open held pune \n",
      "실제 요약 : mumbai open to be india st event in years \n",
      "예측 요약 :  india st international club to mumbai\n",
      "\n",
      "\n",
      "원문 : government raised cess cigarettes itc increased prices different pack sizes variants reports said people pay brands like classic gold navy cut premium brands classic gold kings seen sharpest hike cigarette packs cost earlier \n",
      "실제 요약 : itc raises cigarette prices by up to after hike in cess \n",
      "예측 요약 :  govt to ban on items on the same time\n",
      "\n",
      "\n",
      "원문 : mathur ex cfo global consultant auditor pwc indian arm filed defamation suit accusing falsifying accounts evading taxes breaking several laws accused pwc intimidating cheating tarnishing name refused cover crimes mathur alleged pwc lied government made expenses crore evade taxes \n",
      "실제 요약 : accounts tax and laws ex cfo \n",
      "예측 요약 :  ex nissan director of india largest largest firm in us\n",
      "\n",
      "\n",
      "원문 : late veteran actress madhubala set get wax figure madame tussauds new delhi wax figure styled character film mughal azam wax museum open later year also feature wax figures bollywood actors amitabh bachchan shah rukh khan singer shreya among others \n",
      "실제 요약 : madhubala to get wax statue at delhi madame tussauds \n",
      "예측 요약 :  juhi chawla wax wax statue unveiled at madame tussauds\n",
      "\n",
      "\n",
      "원문 : rock band linkin park tribute lead singer chester bennington allegedly committed suicide wrote hearts broken facebook post read absence leaves void never filled funny ambitious creative kind generous voice room missing also shared web link page \n",
      "실제 요약 : our hearts are broken linkin park in tribute to chester \n",
      "예측 요약 :  linkin park chester for chester\n",
      "\n",
      "\n",
      "원문 : video reportedly showing xiaomi note exploding bengaluru store emerged online damage due faulty third party charger used customer company claimed xiaomi india said replaced customer damaged unit brand new note \n",
      "실제 요약 : xiaomi note explodes at store in bengaluru \n",
      "예측 요약 :  video shows lakh on cars stolen from bengaluru\n",
      "\n",
      "\n",
      "원문 : world richest man bill gates ventures invested us based trucking startup convoy along investors crore series funding round amazon ceo jeff bezos also invested startup earlier two year old startup makes software matches nearby available shipping job \n",
      "실제 요약 : billionaire bill gates invests in startup convoy \n",
      "예측 요약 :  gates invests in sri lanka driver for bezos\n",
      "\n",
      "\n",
      "원문 : technology major alphabet monday reported jump revenue billion quarter ended june despite largest subsidiary google handed record billion fine european commission latest profits alphabet reported billion cash cash another billion securities \n",
      "실제 요약 : alphabet revenue jumps despite record billion fine \n",
      "예측 요약 :  tencent profit rises to billion in\n",
      "\n",
      "\n",
      "원문 : civil servant responsible sweden largest ever data leak punished fine equivalent half month salary lakh discovered nearly months ago leak affected private data every swedish citizen driver license data exposed sweden transport agency management database \n",
      "실제 요약 : woman behind sweden largest data leak fined half month pay \n",
      "예측 요약 :  lakh fine for lakh in yrs of lakh lakh\n",
      "\n",
      "\n",
      "원문 : bengaluru based education technology startup byju raised undisclosed amount funding chinese internet conglomerate tencent september byju raised crore clutch investors including chan zuckerberg initiative sequoia capital byju also acquired edtech platforms earlier year \n",
      "실제 요약 : indian edtech startup byju raises funding from tencent \n",
      "예측 요약 :  byju raises mn funding in funding funding round\n",
      "\n",
      "\n",
      "원문 : former chief marketing officer furniture urban ladder sanjay gupta joined uber head marketing india according reports gupta left urban ladder april joined uber may year earlier uber hired former bse ceo madhu chief business officer india emerging markets \n",
      "실제 요약 : former urban ladder exec joins uber india as marketing head \n",
      "예측 요약 :  former tesla exec joins apple as india exec\n",
      "\n",
      "\n",
      "원문 : former ceo infosys kris gopalakrishnan said indian companies need learn manage expectations employees growth rate said technology companies must invest employees employees must invest time learning also said automation impacted services like infrastructure management maintenance \n",
      "실제 요약 : it firms should manage employee ex infosys ceo \n",
      "예측 요약 :  we need to jobs in jobs in india ex infosys ceo\n",
      "\n",
      "\n",
      "원문 : amrapali ceo kumar sinha director nishant mukul arrested alleged fraud paying labour cess crore labour department amrapali received final recovery notice march failed pay police took action district administration said labour cess charged labour welfare group pay \n",
      "실제 요약 : amrapali ceo arrested for not paying labour cess of crore \n",
      "예측 요약 :  arrested for fraud in mumbai for cr fraud\n",
      "\n",
      "\n",
      "원문 : airtel chairman sunil mittal written trai chairman rs sharma saying loss trai considering bill keep model mittal said iuc built fair settlements work done operators carrying calls notably reliance jio pressing model wherein iuc effectively scrapped \n",
      "실제 요약 : why is trai considering bill and keep model asks mittal \n",
      "예측 요약 :  airtel is not good for the right trai chairman\n",
      "\n",
      "\n",
      "원문 : shares idea cellular jumped tuesday competition commission india approved merger vodafone india merger billion deal create country largest telecom operator post transaction merged entity almost crore customers customer revenue market share \n",
      "실제 요약 : idea shares jump on cci approval on merger with vodafone \n",
      "예측 요약 :  idea of india to take up to change in the world\n",
      "\n",
      "\n",
      "원문 : dutt slammed former employer ndtv calling new form journalism mojo claimed brand name dutt tweeted launched mojo leaving ndtv events already taken place banner wrong appropriate someone brand name new form journalism tweeted \n",
      "실제 요약 : dutt slams ndtv over use of brand name \n",
      "예측 요약 :  sanjay dutt to pay crore for tax on sept\n",
      "\n",
      "\n",
      "원문 : actress anushka sharma said less affected failure film bombay velvet compared film lead actor ranbir kapoor added also bombay velvet johnny ranbir character film anushka character anushka said ranbir targeted film failure unfair nn \n",
      "실제 요약 : less affected by bombay failure than ranbir anushka \n",
      "예측 요약 :  would have been like an actor anushka on padman row\n",
      "\n",
      "\n",
      "원문 : censor board chief pahlaj nihalani responding reports asked quit board chairperson said heard plans government leave decision entirely government asked leave would swiftly wishing successor best added \n",
      "실제 요약 : cbfc chief responds to reports of him being asked to quit \n",
      "예측 요약 :  pahlaj pahlaj asked to resign over cbfc decision\n",
      "\n",
      "\n",
      "원문 : singer justin bieber cancelled remainder concerts part purpose world tour reportedly may planning start church faith remaining dates tour across north america asia get affected refund tickets already purchased assured \n",
      "실제 요약 : bieber cancels tour to start his own church report \n",
      "예측 요약 :  bieber to launch its first ever gay summit in us\n",
      "\n",
      "\n",
      "원문 : kajal aggarwal released statement twitter following arrest manager ronnie drug racket case allegedly involving actors filmmakers wrote absolutely shocked whole incident zero support care people run control personal lives choices \n",
      "실제 요약 : reacts to manager arrest in drug racket \n"
     ]
    },
    {
     "name": "stdout",
     "output_type": "stream",
     "text": [
      "예측 요약 :  news of being used to pay for bail\n",
      "\n",
      "\n",
      "원문 : india women team wicketkeeper sushma verma offered post deputy superintendent police himachal pradesh government cm virbhadra singh made announcement tuesday saying state proud achievement international cricket arena sushma hails shimla dismissals keeper women world cup \n",
      "실제 요약 : india women keeper sushma verma offered dsp post by hp govt \n",
      "예측 요약 :  india women hockey team mla to be minister\n",
      "\n",
      "\n",
      "원문 : five year old baseball fan leo northern kentucky kicked boston red gordon got chance meet star sunday game leo mother amy later said leo loves baseball loves every single player thrilled first place \n",
      "실제 요약 : yr old baseball fan kicks star player ahead of match \n",
      "예측 요약 :  fan proposes to girlfriend during match celebration\n",
      "\n",
      "\n",
      "원문 : britain year old adam peaty broke world record breaststroke set new one world championships tuesday peaty swam seconds seconds produced world championships notably peaty also britain gold metres breaststroke \n",
      "실제 요약 : sets world record in at world ships \n",
      "예측 요약 :  yr old breaks world record by world record\n",
      "\n",
      "\n"
     ]
    }
   ],
   "source": [
    "for i in range(50, 100):\n",
    "    print(\"원문 :\", seq2text(encoder_input_test[i]))\n",
    "    print(\"실제 요약 :\", seq2headlines(decoder_input_test[i]))\n",
    "    print(\"예측 요약 :\", decode_sequence(encoder_input_test[i].reshape(1, text_max_len)))\n",
    "    print(\"\\n\")"
   ]
  },
  {
   "cell_type": "markdown",
   "id": "illegal-disclaimer",
   "metadata": {},
   "source": [
    "## Step 7. 추출적 요약 해보기\n",
    "* 전처리하지 않은 data2를 준비한다."
   ]
  },
  {
   "cell_type": "code",
   "execution_count": 54,
   "id": "confirmed-thompson",
   "metadata": {},
   "outputs": [
    {
     "data": {
      "text/plain": [
       "0    Saurav Kant, an alumnus of upGrad and IIIT-B's...\n",
       "1    Kunal Shah's credit card bill payment platform...\n",
       "2    New Zealand defeated India by 8 wickets in the...\n",
       "3    With Aegon Life iTerm Insurance plan, customer...\n",
       "4    Speaking about the sexual harassment allegatio...\n",
       "Name: text, dtype: object"
      ]
     },
     "execution_count": 54,
     "metadata": {},
     "output_type": "execute_result"
    }
   ],
   "source": [
    "data2.head()"
   ]
  },
  {
   "cell_type": "markdown",
   "id": "smooth-tobago",
   "metadata": {},
   "source": [
    "* 패키지 Summa 에서는 추출적 요약을 위한 모듈인 summarize를 제공하고 있어 아주 간단하게 실습을 해볼 수 있다."
   ]
  },
  {
   "cell_type": "code",
   "execution_count": 57,
   "id": "western-price",
   "metadata": {},
   "outputs": [],
   "source": [
    "from summa.summarizer import summarize"
   ]
  },
  {
   "cell_type": "code",
   "execution_count": 120,
   "id": "unlikely-spirituality",
   "metadata": {},
   "outputs": [
    {
     "name": "stdout",
     "output_type": "stream",
     "text": [
      "Kunal Shah's credit card bill payment platform, CRED, gave users a chance to win free food from Swiggy for one year. Pranav Kaushik, a Delhi techie, bagged this reward after spending 2000 CRED coins. Users get one CRED coin per rupee of bill paid, which can be used to avail rewards from brands like Ixigo, BookMyShow, UberEats, Cult.Fit and more.\n"
     ]
    }
   ],
   "source": [
    "print(data2[1])"
   ]
  },
  {
   "cell_type": "markdown",
   "id": "korean-applicant",
   "metadata": {},
   "source": [
    "* summarize 함수에 data를 넣어본다."
   ]
  },
  {
   "cell_type": "code",
   "execution_count": 116,
   "id": "technological-missouri",
   "metadata": {},
   "outputs": [
    {
     "data": {
      "text/plain": [
       "'Users get one CRED coin per rupee of bill paid, which can be used to avail rewards from brands like Ixigo, BookMyShow, UberEats, Cult.Fit and more.'"
      ]
     },
     "execution_count": 116,
     "metadata": {},
     "output_type": "execute_result"
    }
   ],
   "source": [
    "summarize(data2[1], words=20)"
   ]
  },
  {
   "cell_type": "markdown",
   "id": "humanitarian-delight",
   "metadata": {},
   "source": [
    "### Step 7-1. 적절한 words 값 찾기\n",
    "* for문으로 적절한 words값을 찾는다. \n",
    "* 13부터 요약문이 나오고 33부터는 너무많은 내용이 담긴 요약문이 나온다.\n",
    "* 20정도의 값이 적당한 것 같다."
   ]
  },
  {
   "cell_type": "code",
   "execution_count": 119,
   "id": "collect-worst",
   "metadata": {},
   "outputs": [
    {
     "name": "stdout",
     "output_type": "stream",
     "text": [
      "Summary:\n",
      "i :  1\n",
      "\n",
      "Summary:\n",
      "i :  2\n",
      "\n",
      "Summary:\n",
      "i :  3\n",
      "\n",
      "Summary:\n",
      "i :  4\n",
      "\n",
      "Summary:\n",
      "i :  5\n",
      "\n",
      "Summary:\n",
      "i :  6\n",
      "\n",
      "Summary:\n",
      "i :  7\n",
      "\n",
      "Summary:\n",
      "i :  8\n",
      "\n",
      "Summary:\n",
      "i :  9\n",
      "\n",
      "Summary:\n",
      "i :  10\n",
      "\n",
      "Summary:\n",
      "i :  11\n",
      "\n",
      "Summary:\n",
      "i :  12\n",
      "\n",
      "Summary:\n",
      "i :  13\n",
      "Users get one CRED coin per rupee of bill paid, which can be used to avail rewards from brands like Ixigo, BookMyShow, UberEats, Cult.Fit and more.\n",
      "Summary:\n",
      "i :  14\n",
      "Users get one CRED coin per rupee of bill paid, which can be used to avail rewards from brands like Ixigo, BookMyShow, UberEats, Cult.Fit and more.\n",
      "Summary:\n",
      "i :  15\n",
      "Users get one CRED coin per rupee of bill paid, which can be used to avail rewards from brands like Ixigo, BookMyShow, UberEats, Cult.Fit and more.\n",
      "Summary:\n",
      "i :  16\n",
      "Users get one CRED coin per rupee of bill paid, which can be used to avail rewards from brands like Ixigo, BookMyShow, UberEats, Cult.Fit and more.\n",
      "Summary:\n",
      "i :  17\n",
      "Users get one CRED coin per rupee of bill paid, which can be used to avail rewards from brands like Ixigo, BookMyShow, UberEats, Cult.Fit and more.\n",
      "Summary:\n",
      "i :  18\n",
      "Users get one CRED coin per rupee of bill paid, which can be used to avail rewards from brands like Ixigo, BookMyShow, UberEats, Cult.Fit and more.\n",
      "Summary:\n",
      "i :  19\n",
      "Users get one CRED coin per rupee of bill paid, which can be used to avail rewards from brands like Ixigo, BookMyShow, UberEats, Cult.Fit and more.\n",
      "Summary:\n",
      "i :  20\n",
      "Users get one CRED coin per rupee of bill paid, which can be used to avail rewards from brands like Ixigo, BookMyShow, UberEats, Cult.Fit and more.\n",
      "Summary:\n",
      "i :  21\n",
      "Users get one CRED coin per rupee of bill paid, which can be used to avail rewards from brands like Ixigo, BookMyShow, UberEats, Cult.Fit and more.\n",
      "Summary:\n",
      "i :  22\n",
      "Users get one CRED coin per rupee of bill paid, which can be used to avail rewards from brands like Ixigo, BookMyShow, UberEats, Cult.Fit and more.\n",
      "Summary:\n",
      "i :  23\n",
      "Users get one CRED coin per rupee of bill paid, which can be used to avail rewards from brands like Ixigo, BookMyShow, UberEats, Cult.Fit and more.\n",
      "Summary:\n",
      "i :  24\n",
      "Users get one CRED coin per rupee of bill paid, which can be used to avail rewards from brands like Ixigo, BookMyShow, UberEats, Cult.Fit and more.\n",
      "Summary:\n",
      "i :  25\n",
      "Users get one CRED coin per rupee of bill paid, which can be used to avail rewards from brands like Ixigo, BookMyShow, UberEats, Cult.Fit and more.\n",
      "Summary:\n",
      "i :  26\n",
      "Users get one CRED coin per rupee of bill paid, which can be used to avail rewards from brands like Ixigo, BookMyShow, UberEats, Cult.Fit and more.\n",
      "Summary:\n",
      "i :  27\n",
      "Users get one CRED coin per rupee of bill paid, which can be used to avail rewards from brands like Ixigo, BookMyShow, UberEats, Cult.Fit and more.\n",
      "Summary:\n",
      "i :  28\n",
      "Users get one CRED coin per rupee of bill paid, which can be used to avail rewards from brands like Ixigo, BookMyShow, UberEats, Cult.Fit and more.\n",
      "Summary:\n",
      "i :  29\n",
      "Users get one CRED coin per rupee of bill paid, which can be used to avail rewards from brands like Ixigo, BookMyShow, UberEats, Cult.Fit and more.\n",
      "Summary:\n",
      "i :  30\n",
      "Users get one CRED coin per rupee of bill paid, which can be used to avail rewards from brands like Ixigo, BookMyShow, UberEats, Cult.Fit and more.\n",
      "Summary:\n",
      "i :  31\n",
      "Users get one CRED coin per rupee of bill paid, which can be used to avail rewards from brands like Ixigo, BookMyShow, UberEats, Cult.Fit and more.\n",
      "Summary:\n",
      "i :  32\n",
      "Users get one CRED coin per rupee of bill paid, which can be used to avail rewards from brands like Ixigo, BookMyShow, UberEats, Cult.Fit and more.\n",
      "Summary:\n",
      "i :  33\n",
      "Pranav Kaushik, a Delhi techie, bagged this reward after spending 2000 CRED coins.\n",
      "Users get one CRED coin per rupee of bill paid, which can be used to avail rewards from brands like Ixigo, BookMyShow, UberEats, Cult.Fit and more.\n",
      "Summary:\n",
      "i :  34\n",
      "Pranav Kaushik, a Delhi techie, bagged this reward after spending 2000 CRED coins.\n",
      "Users get one CRED coin per rupee of bill paid, which can be used to avail rewards from brands like Ixigo, BookMyShow, UberEats, Cult.Fit and more.\n",
      "Summary:\n",
      "i :  35\n",
      "Pranav Kaushik, a Delhi techie, bagged this reward after spending 2000 CRED coins.\n",
      "Users get one CRED coin per rupee of bill paid, which can be used to avail rewards from brands like Ixigo, BookMyShow, UberEats, Cult.Fit and more.\n",
      "Summary:\n",
      "i :  36\n",
      "Pranav Kaushik, a Delhi techie, bagged this reward after spending 2000 CRED coins.\n",
      "Users get one CRED coin per rupee of bill paid, which can be used to avail rewards from brands like Ixigo, BookMyShow, UberEats, Cult.Fit and more.\n",
      "Summary:\n",
      "i :  37\n",
      "Pranav Kaushik, a Delhi techie, bagged this reward after spending 2000 CRED coins.\n",
      "Users get one CRED coin per rupee of bill paid, which can be used to avail rewards from brands like Ixigo, BookMyShow, UberEats, Cult.Fit and more.\n",
      "Summary:\n",
      "i :  38\n",
      "Pranav Kaushik, a Delhi techie, bagged this reward after spending 2000 CRED coins.\n",
      "Users get one CRED coin per rupee of bill paid, which can be used to avail rewards from brands like Ixigo, BookMyShow, UberEats, Cult.Fit and more.\n",
      "Summary:\n",
      "i :  39\n",
      "Pranav Kaushik, a Delhi techie, bagged this reward after spending 2000 CRED coins.\n",
      "Users get one CRED coin per rupee of bill paid, which can be used to avail rewards from brands like Ixigo, BookMyShow, UberEats, Cult.Fit and more.\n",
      "Summary:\n",
      "i :  40\n",
      "Pranav Kaushik, a Delhi techie, bagged this reward after spending 2000 CRED coins.\n",
      "Users get one CRED coin per rupee of bill paid, which can be used to avail rewards from brands like Ixigo, BookMyShow, UberEats, Cult.Fit and more.\n",
      "Summary:\n",
      "i :  41\n",
      "Pranav Kaushik, a Delhi techie, bagged this reward after spending 2000 CRED coins.\n",
      "Users get one CRED coin per rupee of bill paid, which can be used to avail rewards from brands like Ixigo, BookMyShow, UberEats, Cult.Fit and more.\n",
      "Summary:\n",
      "i :  42\n",
      "Pranav Kaushik, a Delhi techie, bagged this reward after spending 2000 CRED coins.\n",
      "Users get one CRED coin per rupee of bill paid, which can be used to avail rewards from brands like Ixigo, BookMyShow, UberEats, Cult.Fit and more.\n",
      "Summary:\n",
      "i :  43\n",
      "Pranav Kaushik, a Delhi techie, bagged this reward after spending 2000 CRED coins.\n",
      "Users get one CRED coin per rupee of bill paid, which can be used to avail rewards from brands like Ixigo, BookMyShow, UberEats, Cult.Fit and more.\n",
      "Summary:\n",
      "i :  44\n",
      "Pranav Kaushik, a Delhi techie, bagged this reward after spending 2000 CRED coins.\n",
      "Users get one CRED coin per rupee of bill paid, which can be used to avail rewards from brands like Ixigo, BookMyShow, UberEats, Cult.Fit and more.\n",
      "Summary:\n",
      "i :  45\n",
      "Pranav Kaushik, a Delhi techie, bagged this reward after spending 2000 CRED coins.\n",
      "Users get one CRED coin per rupee of bill paid, which can be used to avail rewards from brands like Ixigo, BookMyShow, UberEats, Cult.Fit and more.\n",
      "Summary:\n",
      "i :  46\n",
      "Pranav Kaushik, a Delhi techie, bagged this reward after spending 2000 CRED coins.\n",
      "Users get one CRED coin per rupee of bill paid, which can be used to avail rewards from brands like Ixigo, BookMyShow, UberEats, Cult.Fit and more.\n",
      "Summary:\n",
      "i :  47\n",
      "Pranav Kaushik, a Delhi techie, bagged this reward after spending 2000 CRED coins.\n",
      "Users get one CRED coin per rupee of bill paid, which can be used to avail rewards from brands like Ixigo, BookMyShow, UberEats, Cult.Fit and more.\n",
      "Summary:\n",
      "i :  48\n",
      "Pranav Kaushik, a Delhi techie, bagged this reward after spending 2000 CRED coins.\n",
      "Users get one CRED coin per rupee of bill paid, which can be used to avail rewards from brands like Ixigo, BookMyShow, UberEats, Cult.Fit and more.\n",
      "Summary:\n",
      "i :  49\n",
      "Pranav Kaushik, a Delhi techie, bagged this reward after spending 2000 CRED coins.\n",
      "Users get one CRED coin per rupee of bill paid, which can be used to avail rewards from brands like Ixigo, BookMyShow, UberEats, Cult.Fit and more.\n",
      "Summary:\n",
      "i :  50\n",
      "Kunal Shah's credit card bill payment platform, CRED, gave users a chance to win free food from Swiggy for one year.\n",
      "Pranav Kaushik, a Delhi techie, bagged this reward after spending 2000 CRED coins.\n",
      "Users get one CRED coin per rupee of bill paid, which can be used to avail rewards from brands like Ixigo, BookMyShow, UberEats, Cult.Fit and more.\n",
      "Summary:\n",
      "i :  51\n",
      "Kunal Shah's credit card bill payment platform, CRED, gave users a chance to win free food from Swiggy for one year.\n",
      "Pranav Kaushik, a Delhi techie, bagged this reward after spending 2000 CRED coins.\n",
      "Users get one CRED coin per rupee of bill paid, which can be used to avail rewards from brands like Ixigo, BookMyShow, UberEats, Cult.Fit and more.\n",
      "Summary:\n",
      "i :  52\n",
      "Kunal Shah's credit card bill payment platform, CRED, gave users a chance to win free food from Swiggy for one year.\n",
      "Pranav Kaushik, a Delhi techie, bagged this reward after spending 2000 CRED coins.\n",
      "Users get one CRED coin per rupee of bill paid, which can be used to avail rewards from brands like Ixigo, BookMyShow, UberEats, Cult.Fit and more.\n",
      "Summary:\n",
      "i :  53\n",
      "Kunal Shah's credit card bill payment platform, CRED, gave users a chance to win free food from Swiggy for one year.\n",
      "Pranav Kaushik, a Delhi techie, bagged this reward after spending 2000 CRED coins.\n",
      "Users get one CRED coin per rupee of bill paid, which can be used to avail rewards from brands like Ixigo, BookMyShow, UberEats, Cult.Fit and more.\n",
      "Summary:\n",
      "i :  54\n",
      "Kunal Shah's credit card bill payment platform, CRED, gave users a chance to win free food from Swiggy for one year.\n",
      "Pranav Kaushik, a Delhi techie, bagged this reward after spending 2000 CRED coins.\n",
      "Users get one CRED coin per rupee of bill paid, which can be used to avail rewards from brands like Ixigo, BookMyShow, UberEats, Cult.Fit and more.\n",
      "Summary:\n",
      "i :  55\n",
      "Kunal Shah's credit card bill payment platform, CRED, gave users a chance to win free food from Swiggy for one year.\n",
      "Pranav Kaushik, a Delhi techie, bagged this reward after spending 2000 CRED coins.\n",
      "Users get one CRED coin per rupee of bill paid, which can be used to avail rewards from brands like Ixigo, BookMyShow, UberEats, Cult.Fit and more.\n",
      "Summary:\n",
      "i :  56\n",
      "Kunal Shah's credit card bill payment platform, CRED, gave users a chance to win free food from Swiggy for one year.\n",
      "Pranav Kaushik, a Delhi techie, bagged this reward after spending 2000 CRED coins.\n",
      "Users get one CRED coin per rupee of bill paid, which can be used to avail rewards from brands like Ixigo, BookMyShow, UberEats, Cult.Fit and more.\n",
      "Summary:\n",
      "i :  57\n",
      "Kunal Shah's credit card bill payment platform, CRED, gave users a chance to win free food from Swiggy for one year.\n",
      "Pranav Kaushik, a Delhi techie, bagged this reward after spending 2000 CRED coins.\n",
      "Users get one CRED coin per rupee of bill paid, which can be used to avail rewards from brands like Ixigo, BookMyShow, UberEats, Cult.Fit and more.\n",
      "Summary:\n",
      "i :  58\n",
      "Kunal Shah's credit card bill payment platform, CRED, gave users a chance to win free food from Swiggy for one year.\n",
      "Pranav Kaushik, a Delhi techie, bagged this reward after spending 2000 CRED coins.\n",
      "Users get one CRED coin per rupee of bill paid, which can be used to avail rewards from brands like Ixigo, BookMyShow, UberEats, Cult.Fit and more.\n",
      "Summary:\n",
      "i :  59\n",
      "Kunal Shah's credit card bill payment platform, CRED, gave users a chance to win free food from Swiggy for one year.\n",
      "Pranav Kaushik, a Delhi techie, bagged this reward after spending 2000 CRED coins.\n",
      "Users get one CRED coin per rupee of bill paid, which can be used to avail rewards from brands like Ixigo, BookMyShow, UberEats, Cult.Fit and more.\n"
     ]
    }
   ],
   "source": [
    "for i in range(1, len(data2[1].split()) ) :\n",
    "    print('Summary:')\n",
    "    print('i : ',i)\n",
    "    print(summarize(data2[1], words=i))"
   ]
  },
  {
   "cell_type": "code",
   "execution_count": 63,
   "id": "documented-recording",
   "metadata": {},
   "outputs": [
    {
     "data": {
      "text/plain": [
       "347"
      ]
     },
     "execution_count": 63,
     "metadata": {},
     "output_type": "execute_result"
    }
   ],
   "source": [
    "len(data2[1])"
   ]
  },
  {
   "cell_type": "markdown",
   "id": "possible-wonder",
   "metadata": {},
   "source": [
    "### Step 7-2. words=20일 때 다른 문장들도 잘 요약하는지 확인\n",
    "* 잘 작동되었다."
   ]
  },
  {
   "cell_type": "code",
   "execution_count": 85,
   "id": "noted-mattress",
   "metadata": {},
   "outputs": [
    {
     "name": "stdout",
     "output_type": "stream",
     "text": [
      "Summary:\n",
      "Alia Bhatt has said she will never look at herself as a star as that will completely change her attitude.\n",
      "Summary:\n",
      "Fatima Sana Shaikh and Sanya Malhotra, who starred as sisters Geeta and Babita Phogat in 'Dangal', can be seen singing and dancing to the song 'Chandu Ke Chacha' in a video shared by Sanya on Instagram.\n",
      "Summary:\n",
      "Actress Taapsee Pannu has said she was probably the quietest on the day Salman Khan came to shoot on sets of 'Judwaa 2'.\n",
      "Summary:\n",
      "'Nazm Nazm', a new song from the upcoming film 'Bareilly Ki Barfi' starring Kriti Sanon, Ayushmann Khurrana and Rajkummar Rao, has been released.\n",
      "Summary:\n",
      "Several 'Akhand Pathis' (Sikh priests) on Monday held a protest demanding an increase in their salaries at the Golden Temple complex in Amritsar, Punjab.\n",
      "Summary:\n",
      "A SoftBank spokesperson said that the company would \"look forward\" to results of Snapdeal's new independent plan.\n",
      "Summary:\n",
      "The emails were leaked days before the presidential election in May but the electoral commission had prohibited the French media from publishing its contents.\n",
      "Summary:\n",
      "E-commerce major Snapdeal will reportedly lay off close to 80% of its total workforce of 1,200 employees.\n",
      "Summary:\n",
      "Free movement of EU citizens to the UK will end in March 2019, when the country is due to leave the bloc, UK PM Theresa May's spokesperson has confirmed.\n",
      "Summary:\n",
      "HDFC Standard Life Insurance and Max Life Insurance have called off their proposed merger after failing to win regulatory approval for a union that would've created an insurance giant with Ã¢ÂÂ¹1.1 lakh crore in assets.\n",
      "Summary:\n",
      "Rafi made his debut in Lahore as a playback singer in the song 'Soniye Nee, Heeriye Nee' for the Punjabi film 'Gul Baloch', which released in 1944.\n",
      "Summary:\n",
      "Alia Bhatt and Ranveer Singh walked the ramp as showstoppers for designer Manish Malhotra, whose show was the grand finale of India Couture Week 2017.\n",
      "Summary:\n",
      "Off-spinner Moeen Ali became the first English spinner in 79 years to pick up a Test hat-trick against South Africa on Monday.\n",
      "Summary:\n",
      "No deal in the kart,\" a user said, while another tweeted, \"It took a #flipkart to help #snapdeal realise that they can find a path to being profitable!\"\n",
      "Summary:\n",
      "A 17th-century pub, holding the record for being the highest in the UK, is going on sale for ÃÂ£900,000 (nearly Ã¢ÂÂ¹7.6 crore).\n",
      "Summary:\n",
      "The UK has stripped more than 150 suspected jihadists and criminals of their citizenship and banned them from returning to the country as part of counter terrorism efforts.\n",
      "Summary:\n",
      "A Chhattisgarh primary school teacher has been arrested for allegedly stealing two designer saris worth Ã¢ÂÂ¹56,000 for his wife to wear at local beauty pageant 'Sawan Sundari'.\n",
      "Summary:\n",
      "\n",
      "Summary:\n",
      "Shahid Kapoor said he went mad on Twitter after watching Sanjay Leela Bhansali's 'Bajirao Mastani' and started appreciating everyone.\n",
      "Summary:\n",
      "TV actress Ridhima Pandit, known for playing a humanoid robot on the show 'Bahu Hamari Rajni Kant', has said she will not play \"crappy roles like the heroine's behen\" in films.\n",
      "Summary:\n",
      "\n",
      "Summary:\n",
      "England defeated South Africa by 239 runs at The Oval to take a 2-1 lead in the four-match Test series.\n",
      "Summary:\n",
      "The Supreme Court on Monday granted 14-days interim bail to the 2008 Bengaluru blast case accused Abdul Nazeer Madani to attend his son's marriage in Thalassery, Kerala, on August 9.\n",
      "Summary:\n",
      "\n",
      "Summary:\n",
      "Bharatiya Janata Party (BJP) President Amit Shah said on Monday that the previous government was so ineffective that no one knew who was the Prime Minister and who was not.\n",
      "Summary:\n",
      "British F1 driver Lewis Hamilton gave up on a third place finish at the Hungarian Grand Prix to let his teammate Valtteri Bottas finish third instead.\n",
      "Summary:\n",
      "Memes were made about Sharma after he shared a video wherein he replied to \"secular Hindus\" and bragged of his educational qualifications.\n",
      "Summary:\n",
      "Former South African cricketer Jonty Rhodes has been named mentor and brand ambassador of Tamil Nadu Premier League franchise Ruby Trichy Warriors.\n",
      "Summary:\n",
      "Former Bangladeshi skipper Khaled Mahmud suffered a heart attack on Saturday and is reportedly in \"semi-coma\" currently.\n",
      "Summary:\n",
      "RJD leader Jagadanand Singh said that Nitish Kumar must step down as the CM as a number of criminal charges, including that of a murder, have been filed against him.\n",
      "Summary:\n",
      "White hat hackers at the annual DEF CON conference successfully hacked into the voting machines that were used in US elections under 90 minutes.\n",
      "Summary:\n",
      "Mark Zuckerberg on Sunday shared a picture with his daughter Maxima, on his Facebook account.\n",
      "The Facebook Co-founder posted, \"The joys of fatherhood.\n",
      "Summary:\n",
      "Facebook has shut down one of its Artificial Intelligence systems after chatbots programmed to converse in English started speaking in their own language.\n",
      "Summary:\n",
      "Labour Minister Bandaru Dattatreya has said that as many as 43% of the country's employees are in the unorganised sector and 4.7 crore of them were in the construction sector.\n",
      "Summary:\n",
      "The government further announced that Income Tax Returns (ITR) will be processed only after the Aadhaar-PAN linking.\n",
      "Summary:\n",
      "The Income Tax Department has extended the last date for filing of Income Tax Returns (ITRs) for the financial year 2016-17 to August 5 from the original deadline of July 31.\n",
      "Summary:\n",
      "Actress Kajol, who completed 25 years in Bollywood today, shared an old picture on Instagram from 1992, the year her first film 'Bekhudi' released.\n",
      "Summary:\n",
      "Actor Salman Khan has said that the only reason he would have a child in the near future, in two-three years, is because he would want his parents to see his child.\n",
      "Summary:\n",
      "Anirban Dey, Global Head and Chief Business Officer of the Edge line of products at Infosys' EdgeVerve unit, resigned last week, according to reports.\n",
      "Summary:\n",
      "As many as 4,000 animals have also been killed in the flood, with an estimate of over a million households and farmlands being affected.\n",
      "Summary:\n",
      "Amid the search for a new CEO for Uber, Ex-CEO Travis Kalanick has been telling people that he is \"Steve Jobs-ing\" it, a reference to the late leader of Apple, who was fired from Apple but later hired again.\n",
      "Summary:\n",
      "Angelina Jolie has denied reports of using a cruel casting process while auditioning children for her film.\n",
      "Summary:\n",
      "Actor Aamir Khan today unveiled the first look poster of his upcoming film 'Secret Superstar'.\n",
      "Summary:\n",
      "The Hyderabad Police has started 'ZebraLineIsForPedestrians' campaign and posted a video of it on Twitter wherein a man can be seen climbing the vehicles stopped on zebra line to cross the road.\n",
      "Summary:\n",
      "According to reports, a contractor working for Facebook is living in a car due to high rent in Silicon Valley.\n",
      "Summary:\n",
      "The nuclear threat posed by North Korea should not be exaggerated as they are \"years and years away from weaponising,\" Russian Deputy Foreign Minister Sergey Ryabkov has claimed.\n",
      "Summary:\n",
      "Private recordings of Princess Diana have revealed that her husband Prince Charles ''refused to be the only Prince of Wales who never had a mistress'' when she confronted him over his affair.\n",
      "Summary:\n",
      "There is no point in having an emergency session of the United Nations Security Council over North Korea's missile tests because it will produce \"nothing of consequence\", US Ambassador Nikki Haley has said.\n",
      "Summary:\n",
      "Both the cases, wherein women did not see who chopped off their braids, occurred in Kanganheri village.\n",
      "Summary:\n",
      "Thieves have stolen jewellery worth thousands of dollars from actress Hilary Duff's home in the US while she was vacationing with her son in Canada.\n",
      "Summary:\n",
      "Actor Ben Hawkey, known for playing Hot Pie in 'Game of Thrones' (GoT), has opened a GoT-themed bakery in London called 'You Know Nothing John Dough'.\n",
      "Summary:\n",
      "A Kerala BJP unit has alleged that CPI(M) workers hurled a petrol bomb at an RSS office in the state, causing damage to the building.\n",
      "Summary:\n",
      "Indian shuttler C Rahul Yadav and the men's doubles pair of Manu Attri and B Sumeeth Reddy clinched the men's singles and men's doubles title respectively at Lagos International challenge in Nigeria.\n",
      "Summary:\n",
      "This was revealed in their application asking for a transfer and school leaving certificate.\n",
      "Summary:\n",
      "Congress on Monday informed Rajya Sabha that Raj Babbar has been injured in police action against villagers protesting demolition of their houses in Uttar Pradesh.\n",
      "Summary:\n",
      "Jet Airways has begun \"phasing out\" its expat pilots, days after asking junior pilots to take 10 days unpaid leave per month.\n",
      "Summary:\n",
      "Letters have been dispatched to various departments and paramilitary forces to finalise the list of corrupt officials by August 5.\n",
      "Summary:\n",
      "Bengaluru residents on Sunday staged a protest at Murphy Town against the demolition of the 100-year-old City Central Library building to make way for an Indira Canteen.\n",
      "Summary:\n",
      "\"We have been required to remove some VPN apps in China that do not meet the new regulations,\" the statement read.\n",
      "Summary:\n",
      "\"People have asked me what a 'burrito of awesomeness smothered in awesome sauce' is...\n",
      "Well folks, it looks like this...awesome sauce is green,\" Fischer captioned the footage.\n",
      "Summary:\n",
      "At least 10 people, including an election candidate, were killed on Sunday in violent protests which erupted as the country voted for a new legislative body tasked with rewriting the Constitution.\n",
      "Summary:\n",
      "Snapdeal has called off merger talks with Flipkart, stating it will now pursue an independent path.\n",
      "Summary:\n",
      "India's largest lender State Bank of India (SBI) on Monday cut interest rates on savings bank deposits by 0.50 percentage points effective July 31.\n",
      "Summary:\n",
      "Political party Pudhiya Thamilagam has filed Ã¢ÂÂ¹100 crore defamation case against actor Kamal Haasan and a private television channel over derogatory comments made by an actor on the Tamil version of reality show 'Bigg Boss'.\n",
      "Summary:\n",
      "The image, taken in dark by NASA's Landsat satellite, shows the A-68 iceberg further breaking up into several smaller pieces.\n",
      "Summary:\n",
      "The record for the best-ever bowling figures in Tests, set by late England off-spinner Jim Laker, on July 31, 1956, has been unbroken for 61 years.\n",
      "Summary:\n",
      "The police has banned jogging in groups in Sierra Leone, citing public order and safety.\n",
      "Summary:\n",
      "Police suspect that the boy was addicted to the online game 'Blue Whale' which demands players to complete 50 tasks in 50 days, with the last task being committing suicide.\n",
      "Summary:\n",
      "Actor TJ Miller, who played the superhero's best friend in 'Deadpool', has said that more 'Deadpool' and R-rated superhero genre films will be made, depending on the success of 'Deadpool 2'.\n",
      "Summary:\n",
      "The poster showed the cricketer's face morphed onto Leonardo da Vinci's historical portrait, the Mona Lisa.\n",
      "Summary:\n",
      "Shuttler Jwala Gutta got into an argument on Twitter with a user who called the former's mother Chinese.\n",
      "Summary:\n",
      "A photograph of primary school students in Madhya Pradesh's Neemuch district shows that the children are being forced to study in a disused toilet as there is no school building.\n"
     ]
    }
   ],
   "source": [
    "for i in range(77828, 77900) :\n",
    "    print('Summary:')\n",
    "    print(summarize(data2[i], words=20))"
   ]
  },
  {
   "cell_type": "markdown",
   "id": "recognized-bangkok",
   "metadata": {},
   "source": [
    "* 15일 때는 작동하지 않았다."
   ]
  },
  {
   "cell_type": "code",
   "execution_count": 81,
   "id": "civic-jackson",
   "metadata": {
    "scrolled": true
   },
   "outputs": [
    {
     "name": "stdout",
     "output_type": "stream",
     "text": [
      "Summary:\n",
      "\n"
     ]
    }
   ],
   "source": [
    "print('Summary:')\n",
    "print(summarize(data2[77829], words=15))"
   ]
  },
  {
   "cell_type": "code",
   "execution_count": 80,
   "id": "automotive-moore",
   "metadata": {},
   "outputs": [
    {
     "data": {
      "text/plain": [
       "98401"
      ]
     },
     "execution_count": 80,
     "metadata": {},
     "output_type": "execute_result"
    }
   ],
   "source": [
    "len(data2)"
   ]
  },
  {
   "cell_type": "markdown",
   "id": "billion-expert",
   "metadata": {},
   "source": [
    "## Step 8. 추상적 요약 추출적 요약 비교해보기\n",
    "* 추상적 요약은 전처리 과정에서 데이터가 많이 날라가서 추출적 요약 데이터와 인덱스가 다르다.\n",
    "* 그래서 같은 text를 찾는 방법을 생각해냈다.\n",
    "* 먼저 추상적 요약 결과에서 0번째 모델 결과를 확인한다.\n",
    "* 핵심 단어가 lizard 라는 것을 확인했다."
   ]
  },
  {
   "cell_type": "code",
   "execution_count": 69,
   "id": "conservative-journalist",
   "metadata": {},
   "outputs": [
    {
     "data": {
      "text/plain": [
       "' pregnant woman found in train bag in mumbai'"
      ]
     },
     "execution_count": 69,
     "metadata": {},
     "output_type": "execute_result"
    }
   ],
   "source": [
    "decode_sequence(encoder_input_test[0].reshape(1, text_max_len))"
   ]
  },
  {
   "cell_type": "code",
   "execution_count": 90,
   "id": "rapid-entity",
   "metadata": {},
   "outputs": [
    {
     "data": {
      "text/plain": [
       "'lizard found veg biryani served passenger howrah delhi express train tuesday passenger ate biryani later discovered dead lizard tweeted complaint railway minister suresh prabhu incident comes amid cag report said food trains unfit human consumption '"
      ]
     },
     "execution_count": 90,
     "metadata": {},
     "output_type": "execute_result"
    }
   ],
   "source": [
    "seq2text(encoder_input_test[0])"
   ]
  },
  {
   "cell_type": "markdown",
   "id": "chubby-break",
   "metadata": {},
   "source": [
    "### Step 8-1. 추상적 요약과 추출적 요약 같은 인덱스 찾기 "
   ]
  },
  {
   "cell_type": "markdown",
   "id": "varying-inspection",
   "metadata": {},
   "source": [
    "* 추상적 요약 데이터셋은 훈련셋과 테스트셋을 8:2로 분리했기 때문에 테스트셋 결과는 추출적요약의 data2에서는 70000번대 이상에 있다.\n",
    "* 그래서 for 문과 if - in 문을 통해 'lizard'라는 단어를 검색해주었다.\n",
    "* 검색해서 나온 인덱스에 해당하는 부분을 data2에서 출력하여 확인했다. \n",
    "* data2[78772]가 같은 것을 확인했다.\n",
    "* A lizard was found in the veg biryani served to a passenger on the Howrah-Delhi Poorva Express Train on Tuesday. The passenger ate some of the biryani and later discovered the dead lizard, after which she tweeted her complaint to Railway Minister Suresh Prabhu. The incident comes amid CAG's report which said food on trains is \"unfit for human consumption\"."
   ]
  },
  {
   "cell_type": "code",
   "execution_count": 110,
   "id": "detailed-material",
   "metadata": {},
   "outputs": [
    {
     "name": "stdout",
     "output_type": "stream",
     "text": [
      "75228\n",
      "75476\n",
      "78673\n",
      "78772\n",
      "82554\n",
      "84619\n",
      "85178\n",
      "86314\n",
      "88165\n",
      "88750\n",
      "89339\n",
      "92000\n",
      "93106\n",
      "Turkish insurance company Tambov Turkey has been ordered to pay $26,300 (Ã¢ÂÂ¹16.8 lakh) after a lizard scared nearly 3,000 turkeys to death, according to reports. The lizard had strayed into the turkeys' holding area, causing panic and a stampede that led to their deaths by asphyxiation. Tambov Turkey manages nearly 7 lakh turkeys, which are insured against accidents and diseases.\n",
      "\n",
      "\n",
      "E-commerce firms Snapdeal, IndiaMART, Wish and Buy, and Craft Comparison have been issued a notice for selling wildlife products on their platforms. The notices were served last week after their names surfaced during an investigation into an Indore-based company for selling prohibited wildlife products. The items being sold by online retailers reportedly included dried genitals of lizards.\n",
      "\n",
      "\n",
      "The Ministry of Railways has cancelled a caterer's contract after a passenger found dead lizard in vegetable biryani served on Howrah-New Delhi Poorva Express. The passenger had ordered and eaten the dish without noticing the lizard but felt unwell later, a co-passenger tweeted. The incident follows CAG's report stating food on trains is \"unfit for human consumption\".\n",
      "\n",
      "\n",
      "A lizard was found in the veg biryani served to a passenger on the Howrah-Delhi Poorva Express Train on Tuesday. The passenger ate some of the biryani and later discovered the dead lizard, after which she tweeted her complaint to Railway Minister Suresh Prabhu. The incident comes amid CAG's report which said food on trains is \"unfit for human consumption\".\n",
      "\n",
      "\n",
      "A rare, exceptionally preserved fossil has been uncovered from the Swiss Alps containing a complete exoskeleton of an armoured reptile from the Middle Triassic era, which marked the first appearance of small dinosaurs. The 20-cm-long fossil of the young lizard-like creature suggested it lived on land and was not aquatic like its relatives as previously thought, researchers said.\n",
      "\n",
      "\n",
      "Enforcement agencies recently discovered that genitals of big monitor lizards were being smuggled and sold as \"lucky charm\" for better sex life and fertility in men. Madhya Pradesh Special Task Force busted the racket in Indore and Khargone arresting three traders and a priest. They seized 68 pieces of the body part, some of which were smeared with vermillion.\n",
      "\n",
      "\n",
      "US-based researchers have discovered an all-female salamander hybrid that has equal genetic contributions from three different male salamander species. Researchers believe the amphibian's balanced genome points to the ways some all-female populations of fish and lizards use their genomes to maximise their chances of success. They are now looking to study the gene selection process of the species.\n",
      "\n",
      "\n",
      "A lizard survived a flight from Spain to Scotland after getting trapped within a bag of broccoli. The broccoli finally reached a supermarket in Scottish county Lanarkshire, where an employee discovered it. The Scottish Society for the Prevention of Cruelty to Animals said the lizard was \"dehydrated but otherwise unharmed from his adventures,\" and is being cared for by experts.\n",
      "\n",
      "\n",
      "As many as eight children in Katni district of Madhya Pradesh were rushed to the hospital on Saturday after consuming a mid-day meal in which a lizard was found. In a similar incident earlier this week, 27 children fell ill in Bihar's Jamui after they ate a mid-day meal in which a dead lizard was found.\n",
      "\n",
      "\n",
      "BBC Planet Earth II's \"Iguana chased by snakes\" footage has won the 2017 BAFTA (British Academy of Film and Television Arts) award for the 'Must-see Moment' category. The video shows the lizard being followed and wrapped around by snakes after which it escapes. The series voiced by Sir David  Attenborough also won the 'Specialist Factual' category in the television awards.\n",
      "\n",
      "\n",
      "Railway company Deutsche Bahn is expected to spend Ã¢ÂÂ¬15 million (Ã¢ÂÂ¹105 crore) to resettle two threatened species of lizards found at the site of a long-delayed railway development project in Germany. Deutsche Bahn has budgeted between Ã¢ÂÂ¬2,000 and Ã¢ÂÂ¬4,000 to resettle each lizard. The Stuttgart 21 project, first officially announced in 1994, is expected to cost up to Ã¢ÂÂ¬10 billion.\n",
      "\n",
      "\n",
      "The green basilisk lizard is often called the 'Jesus Christ Lizard' because it can run on water. Usually found in rain forests of Central America, they are capable of sprinting about 5 feet per second in water. They can run on water as they have long toes on their rear feet with fringes of skin that unfurl in the water.\n",
      "\n",
      "\n",
      "Arizona Police Department Chief Dale Nannenga has sworn in a drug-sniffing lizard named Iroh as its newest officer, according to a picture posted on Facebook. The Police Department inducted Iroh after officers reviewed research indicating reptiles could be more effective than dogs at detecting certain narcotics. It had earlier called Iroh a \"drug-sniffing bearded dragon.\"\n",
      "\n",
      "\n"
     ]
    }
   ],
   "source": [
    "check_index=[]\n",
    "for i in range(70000, 98400):\n",
    "    if 'lizard' in data2[i] :\n",
    "        print(i)\n",
    "        check_index.append(i)\n",
    "        \n",
    "for j in check_index :\n",
    "    print(data2[int(j)])\n",
    "    print(\"\\n\")"
   ]
  },
  {
   "cell_type": "markdown",
   "id": "certain-sessions",
   "metadata": {},
   "source": [
    "### Step 8-2. 추상적 요약과 추출적 요약 비교 출력\n",
    "* 추출적 요약은 전체 데이터 78772번째 이후부터 출력하니 잘 비교되도록 나오는 것을 확인할 수 있다."
   ]
  },
  {
   "cell_type": "code",
   "execution_count": 121,
   "id": "reasonable-plate",
   "metadata": {
    "scrolled": true
   },
   "outputs": [
    {
     "name": "stdout",
     "output_type": "stream",
     "text": [
      "전처리 전 원문 : US President Donald Trump on Sunday slammed some members of his party for not protecting him. \"It's very sad that Republicans, even some that were carried over the line on my back, do very little to protect their President,\" Trump tweeted. This comes after Republicans struggled to come together on a bill to repeal and replace Obamacare.\n",
      "전처리 된 원문 : us president donald trump sunday slammed members party protecting sad republicans even carried line back little protect president trump tweeted comes republicans struggled come together bill repeal replace \n",
      "실제 요약 : trump slams for not protecting him \n",
      "추상적 요약 :  trump slams trump for presidential violence\n",
      "추출적 요약 : \"It's very sad that Republicans, even some that were carried over the line on my back, do very little to protect their President,\" Trump tweeted.\n",
      "\n",
      "\n",
      "전처리 전 원문 : Govinda has thanked Rishi Kapoor for showing concern for him after his role in 'Jagga Jasoos' was removed. He added, \"Good blood never speaks wrong\", and further said he expected a little professionalism from the director Anurag Basu. \"If you don't want Govinda to work in your film, why did you ask him in the first place?\" Rishi had said.\n",
      "전처리 된 원문 : govinda thanked rishi kapoor showing concern role jagga jasoos removed added good blood never speaks wrong said expected little professionalism director anurag basu want govinda work film ask first place rishi said \n",
      "실제 요약 : govinda thanks rishi for showing concern in row \n",
      "추상적 요약 :  rishi is not rishi on rishi kapoor\n",
      "추출적 요약 : \"If you don't want Govinda to work in your film, why did you ask him in the first place?\" Rishi had said.\n",
      "\n",
      "\n",
      "전처리 전 원문 : The Hindi trailer of the Kajol and Dhanush starrer film 'VIP 2 Lalkar' has been released. It is a sequel to the 2014 Tamil film 'Velai Illa Pattadhaari'. Dhanush has penned the story and is also co-producing it while his sister-in-law Soundarya Rajinikanth is directing it. The film is scheduled to release on July 28. \n",
      "전처리 된 원문 : hindi trailer kajol dhanush starrer film vip released sequel tamil film dhanush penned story also co producing sister law rajinikanth directing film scheduled release july \n",
      "실제 요약 : hindi trailer of kajol dhanush vip released \n",
      "추상적 요약 :  trailer of rajkummar rao starrer released\n",
      "추출적 요약 : The Hindi trailer of the Kajol and Dhanush starrer film 'VIP 2 Lalkar' has been released.\n",
      "\n",
      "\n",
      "전처리 전 원문 : The official James Bond Twitter handle has announced November 8, 2019 as the release date for the new film in the franchise titled 'Bond 25'. The film will be written by Neal Purvis and Robert Wade, and produced by Michael G. Wilson and Barbara Broccoli. Daniel Craig will reportedly return as the character James Bond in this film.\n",
      "전처리 된 원문 : official james bond twitter handle announced november release date new film franchise titled bond film written robert wade produced michael wilson barbara daniel craig reportedly return character james bond film \n",
      "실제 요약 : release date of new james bond film bond announced \n",
      "추상적 요약 :  new release date of the theatres\n",
      "추출적 요약 : Daniel Craig will reportedly return as the character James Bond in this film.\n",
      "\n",
      "\n",
      "전처리 전 원문 : As many as 33 ministers and 359 MLAs in Uttar Pradesh have failed to declare their assets despite CM Yogi Adityanath's repeated directions, according to a government notification. As per rules, ministers and MLAs are mandated to declare their assets and liabilities within three months of assuming office or being elected as members of the state assembly.\n",
      "전처리 된 원문 : many ministers mlas uttar pradesh failed declare assets despite cm yogi adityanath repeated directions according government notification per rules ministers mlas mandated declare assets liabilities within three months assuming office elected members state assembly \n",
      "실제 요약 : ministers mlas in up fail to declare assets \n",
      "추상적 요약 :  maharashtra cm announces mlas for ministers to mlas\n",
      "추출적 요약 : As many as 33 ministers and 359 MLAs in Uttar Pradesh have failed to declare their assets despite CM Yogi Adityanath's repeated directions, according to a government notification.\n",
      "\n",
      "\n",
      "전처리 전 원문 : State-owned broadcaster Doordarshan is planning to change its iconic logo and has issued an invitation asking for entries from the public for logo designs. Doordarshan will take new logo design entries till August 13, 2017 and the winner will be awarded a cash prize of Ã¢ÂÂ¹1 lakh. It has been sporting the current logo since 1959.\n",
      "전처리 된 원문 : state owned broadcaster doordarshan planning change iconic logo issued invitation asking entries public logo designs doordarshan take new logo design entries till august winner awarded cash prize lakh sporting current logo since \n",
      "실제 요약 : doordarshan plans to replace its logo after years \n",
      "추상적 요약 :  new york to launch program for the time\n",
      "추출적 요약 : Doordarshan will take new logo design entries till August 13, 2017 and the winner will be awarded a cash prize of Ã¢ÂÂ¹1 lakh.\n",
      "\n",
      "\n",
      "전처리 전 원문 : President Ram Nath Kovind on Tuesday said in a speech that \"nation building requires national pride\", adding \"each citizen of India is a nation builder\". He talked about the various professionals of India, and how they act as nation builders. He also said that India has believed in the philosophy of \"Vasudhaiva Kutumbakam - the World is My Family\". \n",
      "전처리 된 원문 : president ram nath kovind tuesday said speech nation building requires national pride adding citizen india nation builder talked various professionals india act nation builders also said india believed philosophy world family \n",
      "실제 요약 : to the crore citizens of this great nation kovind \n",
      "추상적 요약 :  india cannot be allowed to india prez kovind\n",
      "추출적 요약 : President Ram Nath Kovind on Tuesday said in a speech that \"nation building requires national pride\", adding \"each citizen of India is a nation builder\".\n",
      "\n",
      "\n",
      "전처리 전 원문 : Police officials in the UK have arrested a gang of 15 criminals who ran the largest cannabis-growing operation in Britain through a network of drug farms built inside industrial facilities. The gang grew cannabis with a street value of over ÃÂ£50 million a year between 2013 and 2015. All the members have been convicted of conspiracy to produce illegal substances.\n",
      "전처리 된 원문 : police officials uk arrested gang criminals ran largest cannabis growing operation britain network drug farms built inside industrial facilities gang grew cannabis street value million year members convicted conspiracy produce illegal substances \n",
      "실제 요약 : uk largest cannabis growing operation busted \n",
      "추상적 요약 :  two arrested for selling drugs in uk\n",
      "추출적 요약 : Police officials in the UK have arrested a gang of 15 criminals who ran the largest cannabis-growing operation in Britain through a network of drug farms built inside industrial facilities.\n",
      "\n",
      "\n",
      "전처리 전 원문 : Country's largest telecom operator Bharti Airtel on Tuesday reported 74.89% year-on-year decline in consolidated net profit at Ã¢ÂÂ¹367 crore for the quarter ended June. Total revenue of the company also slipped 14% to Ã¢ÂÂ¹21,958 crore. Bharti Airtel's CEO Gopal Vittal has said that pricing disruption caused by entry of a new operator created stress on the sector's profitability.\n",
      "전처리 된 원문 : country largest telecom operator bharti airtel tuesday reported year year decline consolidated net profit crore quarter ended june total revenue company also slipped crore bharti airtel ceo gopal said pricing disruption caused entry new operator created stress sector profitability \n",
      "실제 요약 : airtel profit plunges to crore in june quarter \n",
      "추상적 요약 :  airtel profit falls to crore in june quarter\n",
      "추출적 요약 : Country's largest telecom operator Bharti Airtel on Tuesday reported 74.89% year-on-year decline in consolidated net profit at Ã¢ÂÂ¹367 crore for the quarter ended June.\n",
      "\n",
      "\n",
      "전처리 전 원문 : Tanzania government sent gold producer Acacia Mining a $40 billion tax bill and another $150 billion in interest and penalties. The bill is equal to almost two centuries worth of the company's revenue. The government alleged the company under-declared export revenues between 2000 and 2017. The company's disagreements with authorities has resulted in 57% decline in its stock this year.\n",
      "전처리 된 원문 : tanzania government sent gold producer mining billion tax bill another billion interest penalties bill equal almost two centuries worth company revenue government alleged company declared export revenues company disagreements authorities resulted decline stock year \n",
      "실제 요약 : govt issues billion tax bill to mining company \n"
     ]
    },
    {
     "name": "stdout",
     "output_type": "stream",
     "text": [
      "추상적 요약 :  govt to give bn to settle bill for bn deposits\n",
      "추출적 요약 : The bill is equal to almost two centuries worth of the company's revenue.\n",
      "The government alleged the company under-declared export revenues between 2000 and 2017.\n",
      "\n",
      "\n"
     ]
    }
   ],
   "source": [
    "for i in range(50, 60):\n",
    "    origin_news = seq2text(encoder_input_test[i])\n",
    "    print('전처리 전 원문 :', data2[78772+i])\n",
    "    print(\"전처리 된 원문 :\", origin_news)\n",
    "    print(\"실제 요약 :\", seq2headlines(decoder_input_test[i]))\n",
    "    print(\"추상적 요약 :\", decode_sequence(encoder_input_test[i].reshape(1, text_max_len)))\n",
    "    print(\"추출적 요약 :\", summarize(data2[78772+i], words=20))\n",
    "    print(\"\\n\")"
   ]
  },
  {
   "cell_type": "markdown",
   "id": "mexican-pizza",
   "metadata": {},
   "source": [
    "### 비교\n",
    "* 전처리 전 원문 : US President Donald Trump on Sunday slammed some members of his party for not protecting him. \"It's very sad that Republicans, even some that were carried over the line on my back, do very little to protect their President,\" Trump tweeted. This comes after Republicans struggled to come together on a bill to repeal and replace Obamacare.\n",
    "* 전처리 된 원문 : us president donald trump sunday slammed members party protecting sad republicans even carried line back little protect president trump tweeted comes republicans struggled come together bill repeal replace \n",
    "* 실제 요약 : trump slams for not protecting him \n",
    "* 추상적 요약 :  trump slams trump for presidential violence\n",
    "* 추출적 요약 : \"It's very sad that Republicans, even some that were carried over the line on my back, do very little to protect their President,\" Trump tweeted. \n",
    "---\n",
    "### 구글번역 결과\n",
    "* 전처리 전 원문 : 도널드 트럼프 미국 대통령은 일요일 자신을 보호하지 않는다는 이유로 당원 일부를 비난했습니다. 트럼프는 트위터에 \"공화당 원들, 심지어 내 등을 짊어진 일부 사람들조차도 대통령을 보호하기 위해 거의하지 않는다는 사실이 매우 슬프다\"고 트윗했다. 이것은 공화당 원들이 Obamacare를 폐지하고 대체하는 법안을 작성하기 위해 노력한 이후에 발생합니다.\n",
    "* 전처리 된 원문 : 미국 대통령 도널드 트럼프 일요일은 회원 파티를 보호 슬픈 공화당 원을 보호 심지어 라인을 뒤로 운반 작은 보호 트럼프 트럼프 트위트가 온다 공화당 원이 힘겹게 모여 법안 폐지 교체\n",
    "* 실제 요약 : 그를 보호하지 않는 트럼프 슬램\n",
    "* 추상적 요약 : 트럼프는 대통령 폭력에 대한 트럼프를 쾅쾅\n",
    "* 추출적 요약 : 트럼프는 트위터에 \"공화당 원들, 심지어 내 등을 짊어진 일부 사람들조차도 대통령을 보호하기 위해 거의하지 않는다는 사실이 매우 슬프다\"고 트윗했다."
   ]
  },
  {
   "cell_type": "markdown",
   "id": "advisory-comparison",
   "metadata": {},
   "source": [
    "# 마치며...\n",
    "* 추상적 요약 내용이 특이하고 길이도 적절하고 주어도 같긴한데 그래도 아직 내용이 부족한 것  같다. 추출적 요약은 그래도 내용은 어느정도 맞지만 너무 길게 출력하는 것 같다. \n",
    "* 추상적 요약과 추출적요약을 비교하기위한 인덱스를 찾기 위해 rand.shuffle()을 사용하지 않았는데 딕셔너리 기능을 활용하면 random으로 섞어도 찾을 수 있는 방법이 있지 않을까 라는 생각이 들지만 내 머리속엔 아이디어가 떠오르지 않았다.\n",
    "* 전처리과정이 길어서 전처리를 하면서 지치는 것 같다."
   ]
  },
  {
   "cell_type": "code",
   "execution_count": null,
   "id": "skilled-composer",
   "metadata": {},
   "outputs": [],
   "source": []
  }
 ],
 "metadata": {
  "kernelspec": {
   "display_name": "aiffel",
   "language": "python",
   "name": "aiffel"
  },
  "language_info": {
   "codemirror_mode": {
    "name": "ipython",
    "version": 3
   },
   "file_extension": ".py",
   "mimetype": "text/x-python",
   "name": "python",
   "nbconvert_exporter": "python",
   "pygments_lexer": "ipython3",
   "version": "3.7.9"
  }
 },
 "nbformat": 4,
 "nbformat_minor": 5
}
