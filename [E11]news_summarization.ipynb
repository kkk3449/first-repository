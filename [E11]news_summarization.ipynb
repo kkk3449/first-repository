{
 "cells": [
  {
   "cell_type": "markdown",
   "id": "suitable-structure",
   "metadata": {},
   "source": [
    "## Step 1. 데이터 수집하기"
   ]
  },
  {
   "cell_type": "code",
   "execution_count": 2,
   "id": "instrumental-coaching",
   "metadata": {},
   "outputs": [
    {
     "name": "stderr",
     "output_type": "stream",
     "text": [
      "[nltk_data] Downloading package stopwords to /home/aiffel-\n",
      "[nltk_data]     dj17/nltk_data...\n",
      "[nltk_data]   Package stopwords is already up-to-date!\n"
     ]
    }
   ],
   "source": [
    "import nltk\n",
    "nltk.download('stopwords')\n",
    "\n",
    "import numpy as np\n",
    "import pandas as pd\n",
    "import os\n",
    "import re\n",
    "import matplotlib.pyplot as plt\n",
    "from nltk.corpus import stopwords\n",
    "from bs4 import BeautifulSoup \n",
    "from tensorflow.keras.preprocessing.text import Tokenizer \n",
    "from tensorflow.keras.preprocessing.sequence import pad_sequences\n",
    "import urllib.request\n",
    "import urllib.request\n"
   ]
  },
  {
   "cell_type": "code",
   "execution_count": 3,
   "id": "minute-cornwall",
   "metadata": {},
   "outputs": [],
   "source": [
    "urllib.request.urlretrieve(\"https://raw.githubusercontent.com/sunnysai12345/News_Summary/master/news_summary_more.csv\", filename=\"news_summary_more.csv\")\n",
    "data = pd.read_csv('news_summary_more.csv', encoding='iso-8859-1')"
   ]
  },
  {
   "cell_type": "code",
   "execution_count": 4,
   "id": "greenhouse-bibliography",
   "metadata": {},
   "outputs": [
    {
     "data": {
      "text/html": [
       "<div>\n",
       "<style scoped>\n",
       "    .dataframe tbody tr th:only-of-type {\n",
       "        vertical-align: middle;\n",
       "    }\n",
       "\n",
       "    .dataframe tbody tr th {\n",
       "        vertical-align: top;\n",
       "    }\n",
       "\n",
       "    .dataframe thead th {\n",
       "        text-align: right;\n",
       "    }\n",
       "</style>\n",
       "<table border=\"1\" class=\"dataframe\">\n",
       "  <thead>\n",
       "    <tr style=\"text-align: right;\">\n",
       "      <th></th>\n",
       "      <th>headlines</th>\n",
       "      <th>text</th>\n",
       "    </tr>\n",
       "  </thead>\n",
       "  <tbody>\n",
       "    <tr>\n",
       "      <th>0</th>\n",
       "      <td>upGrad learner switches to career in ML &amp; Al w...</td>\n",
       "      <td>Saurav Kant, an alumnus of upGrad and IIIT-B's...</td>\n",
       "    </tr>\n",
       "    <tr>\n",
       "      <th>1</th>\n",
       "      <td>Delhi techie wins free food from Swiggy for on...</td>\n",
       "      <td>Kunal Shah's credit card bill payment platform...</td>\n",
       "    </tr>\n",
       "    <tr>\n",
       "      <th>2</th>\n",
       "      <td>New Zealand end Rohit Sharma-led India's 12-ma...</td>\n",
       "      <td>New Zealand defeated India by 8 wickets in the...</td>\n",
       "    </tr>\n",
       "    <tr>\n",
       "      <th>3</th>\n",
       "      <td>Aegon life iTerm insurance plan helps customer...</td>\n",
       "      <td>With Aegon Life iTerm Insurance plan, customer...</td>\n",
       "    </tr>\n",
       "    <tr>\n",
       "      <th>4</th>\n",
       "      <td>Have known Hirani for yrs, what if MeToo claim...</td>\n",
       "      <td>Speaking about the sexual harassment allegatio...</td>\n",
       "    </tr>\n",
       "  </tbody>\n",
       "</table>\n",
       "</div>"
      ],
      "text/plain": [
       "                                           headlines  \\\n",
       "0  upGrad learner switches to career in ML & Al w...   \n",
       "1  Delhi techie wins free food from Swiggy for on...   \n",
       "2  New Zealand end Rohit Sharma-led India's 12-ma...   \n",
       "3  Aegon life iTerm insurance plan helps customer...   \n",
       "4  Have known Hirani for yrs, what if MeToo claim...   \n",
       "\n",
       "                                                text  \n",
       "0  Saurav Kant, an alumnus of upGrad and IIIT-B's...  \n",
       "1  Kunal Shah's credit card bill payment platform...  \n",
       "2  New Zealand defeated India by 8 wickets in the...  \n",
       "3  With Aegon Life iTerm Insurance plan, customer...  \n",
       "4  Speaking about the sexual harassment allegatio...  "
      ]
     },
     "execution_count": 4,
     "metadata": {},
     "output_type": "execute_result"
    }
   ],
   "source": [
    "data.head()"
   ]
  },
  {
   "cell_type": "code",
   "execution_count": 5,
   "id": "manufactured-advice",
   "metadata": {},
   "outputs": [
    {
     "data": {
      "text/html": [
       "<div>\n",
       "<style scoped>\n",
       "    .dataframe tbody tr th:only-of-type {\n",
       "        vertical-align: middle;\n",
       "    }\n",
       "\n",
       "    .dataframe tbody tr th {\n",
       "        vertical-align: top;\n",
       "    }\n",
       "\n",
       "    .dataframe thead th {\n",
       "        text-align: right;\n",
       "    }\n",
       "</style>\n",
       "<table border=\"1\" class=\"dataframe\">\n",
       "  <thead>\n",
       "    <tr style=\"text-align: right;\">\n",
       "      <th></th>\n",
       "      <th>text</th>\n",
       "      <th>headlines</th>\n",
       "    </tr>\n",
       "  </thead>\n",
       "  <tbody>\n",
       "    <tr>\n",
       "      <th>3948</th>\n",
       "      <td>A study by Stanford University and Google reve...</td>\n",
       "      <td>AI tool found to hide data in image to 'cheat'...</td>\n",
       "    </tr>\n",
       "    <tr>\n",
       "      <th>45005</th>\n",
       "      <td>The Supreme Court on Tuesday stayed proposed c...</td>\n",
       "      <td>Supreme Court stays amendments in Delhi Master...</td>\n",
       "    </tr>\n",
       "    <tr>\n",
       "      <th>48594</th>\n",
       "      <td>Maldives' High Commissioner Ahmed Mohamed has ...</td>\n",
       "      <td>Wanted to send envoy but dates did not suit In...</td>\n",
       "    </tr>\n",
       "    <tr>\n",
       "      <th>26347</th>\n",
       "      <td>A mid-air collision between two IndiGo planes ...</td>\n",
       "      <td>Mid-air collision averted between two IndiGo p...</td>\n",
       "    </tr>\n",
       "    <tr>\n",
       "      <th>25724</th>\n",
       "      <td>Nagarjuna Akkineni, on Monday, joined Ranbir K...</td>\n",
       "      <td>Nagarjuna joins Ranbir and Alia for BrahmÃÂs...</td>\n",
       "    </tr>\n",
       "    <tr>\n",
       "      <th>39179</th>\n",
       "      <td>Former Indian cricketer Sachin Tendulkar recal...</td>\n",
       "      <td>Sehwag thought eating chicken would make him f...</td>\n",
       "    </tr>\n",
       "    <tr>\n",
       "      <th>66405</th>\n",
       "      <td>Actor Irrfan Khan has worn skirts in a photosh...</td>\n",
       "      <td>Irrfan Khan wears skirts in a shoot for GQ India</td>\n",
       "    </tr>\n",
       "    <tr>\n",
       "      <th>65883</th>\n",
       "      <td>The Election Commission on Thursday said that ...</td>\n",
       "      <td>In a first, Himachal to have 136 women-managed...</td>\n",
       "    </tr>\n",
       "    <tr>\n",
       "      <th>35722</th>\n",
       "      <td>Tennis player Sania Mirza slammed a Twitter us...</td>\n",
       "      <td>Sania Mirza slams troll for saying she is no m...</td>\n",
       "    </tr>\n",
       "    <tr>\n",
       "      <th>63980</th>\n",
       "      <td>A British adventurer Tom Morgan flew 8,000 fee...</td>\n",
       "      <td>Man flies 8,000 ft above S Africa using 100 he...</td>\n",
       "    </tr>\n",
       "    <tr>\n",
       "      <th>76449</th>\n",
       "      <td>A series of emails obtained by The Guardian ha...</td>\n",
       "      <td>Trump admin told federal staff to censor 'clim...</td>\n",
       "    </tr>\n",
       "    <tr>\n",
       "      <th>82921</th>\n",
       "      <td>Footballer Lionel Messi, who is getting marrie...</td>\n",
       "      <td>Which celebs will attend Lionel Messi's weddin...</td>\n",
       "    </tr>\n",
       "    <tr>\n",
       "      <th>45139</th>\n",
       "      <td>The Taliban has accepted Afghanistan President...</td>\n",
       "      <td>Afghan Taliban accepts offer for peace talks t...</td>\n",
       "    </tr>\n",
       "    <tr>\n",
       "      <th>25547</th>\n",
       "      <td>Police have booked the West Bengal unit of BJP...</td>\n",
       "      <td>West Bengal BJP booked as 90 injured in PM ral...</td>\n",
       "    </tr>\n",
       "    <tr>\n",
       "      <th>45559</th>\n",
       "      <td>Bombay High Court recently dismissed a man's p...</td>\n",
       "      <td>Mumbai man seeks divorce as wife didn't cook t...</td>\n",
       "    </tr>\n",
       "  </tbody>\n",
       "</table>\n",
       "</div>"
      ],
      "text/plain": [
       "                                                    text  \\\n",
       "3948   A study by Stanford University and Google reve...   \n",
       "45005  The Supreme Court on Tuesday stayed proposed c...   \n",
       "48594  Maldives' High Commissioner Ahmed Mohamed has ...   \n",
       "26347  A mid-air collision between two IndiGo planes ...   \n",
       "25724  Nagarjuna Akkineni, on Monday, joined Ranbir K...   \n",
       "39179  Former Indian cricketer Sachin Tendulkar recal...   \n",
       "66405  Actor Irrfan Khan has worn skirts in a photosh...   \n",
       "65883  The Election Commission on Thursday said that ...   \n",
       "35722  Tennis player Sania Mirza slammed a Twitter us...   \n",
       "63980  A British adventurer Tom Morgan flew 8,000 fee...   \n",
       "76449  A series of emails obtained by The Guardian ha...   \n",
       "82921  Footballer Lionel Messi, who is getting marrie...   \n",
       "45139  The Taliban has accepted Afghanistan President...   \n",
       "25547  Police have booked the West Bengal unit of BJP...   \n",
       "45559  Bombay High Court recently dismissed a man's p...   \n",
       "\n",
       "                                               headlines  \n",
       "3948   AI tool found to hide data in image to 'cheat'...  \n",
       "45005  Supreme Court stays amendments in Delhi Master...  \n",
       "48594  Wanted to send envoy but dates did not suit In...  \n",
       "26347  Mid-air collision averted between two IndiGo p...  \n",
       "25724  Nagarjuna joins Ranbir and Alia for BrahmÃÂs...  \n",
       "39179  Sehwag thought eating chicken would make him f...  \n",
       "66405   Irrfan Khan wears skirts in a shoot for GQ India  \n",
       "65883  In a first, Himachal to have 136 women-managed...  \n",
       "35722  Sania Mirza slams troll for saying she is no m...  \n",
       "63980  Man flies 8,000 ft above S Africa using 100 he...  \n",
       "76449  Trump admin told federal staff to censor 'clim...  \n",
       "82921  Which celebs will attend Lionel Messi's weddin...  \n",
       "45139  Afghan Taliban accepts offer for peace talks t...  \n",
       "25547  West Bengal BJP booked as 90 injured in PM ral...  \n",
       "45559  Mumbai man seeks divorce as wife didn't cook t...  "
      ]
     },
     "execution_count": 5,
     "metadata": {},
     "output_type": "execute_result"
    }
   ],
   "source": [
    "data = data[['text','headlines']]\n",
    "data.head()\n",
    "\n",
    "#랜덤한 15개 샘플 출력\n",
    "data.sample(15)"
   ]
  },
  {
   "cell_type": "markdown",
   "id": "selected-adjustment",
   "metadata": {},
   "source": [
    "## 중복 샘플 확인"
   ]
  },
  {
   "cell_type": "code",
   "execution_count": 6,
   "id": "premium-prior",
   "metadata": {},
   "outputs": [
    {
     "name": "stdout",
     "output_type": "stream",
     "text": [
      "text 열에서 중복을 배제한 유일한 샘플의 수 : 98360\n",
      "headlines 열에서 중복을 배제한 유일한 샘플의 수 : 98280\n"
     ]
    }
   ],
   "source": [
    "print('text 열에서 중복을 배제한 유일한 샘플의 수 :', data['text'].nunique())\n",
    "print('headlines 열에서 중복을 배제한 유일한 샘플의 수 :', data['headlines'].nunique())"
   ]
  },
  {
   "cell_type": "markdown",
   "id": "sufficient-sport",
   "metadata": {},
   "source": [
    "## 중복 샘플 제거"
   ]
  },
  {
   "cell_type": "code",
   "execution_count": 7,
   "id": "amber-medline",
   "metadata": {},
   "outputs": [
    {
     "name": "stdout",
     "output_type": "stream",
     "text": [
      "전체 샘플수 : 98360\n"
     ]
    }
   ],
   "source": [
    "data.drop_duplicates(subset = ['text'], inplace = True)\n",
    "print('전체 샘플수 :',(len(data)))"
   ]
  },
  {
   "cell_type": "markdown",
   "id": "little-equality",
   "metadata": {},
   "source": [
    "## null 값 확인"
   ]
  },
  {
   "cell_type": "code",
   "execution_count": 8,
   "id": "alive-rings",
   "metadata": {},
   "outputs": [
    {
     "name": "stdout",
     "output_type": "stream",
     "text": [
      "text         0\n",
      "headlines    0\n",
      "dtype: int64\n"
     ]
    }
   ],
   "source": [
    "print(data.isnull().sum())"
   ]
  },
  {
   "cell_type": "markdown",
   "id": "recovered-amateur",
   "metadata": {},
   "source": [
    "## null 값 없음"
   ]
  },
  {
   "cell_type": "markdown",
   "id": "fundamental-straight",
   "metadata": {},
   "source": [
    "## 텍스트 정규화 can not = can't 이런 겹친 의미 통일"
   ]
  },
  {
   "cell_type": "code",
   "execution_count": 10,
   "id": "indirect-restoration",
   "metadata": {},
   "outputs": [
    {
     "name": "stdout",
     "output_type": "stream",
     "text": [
      "정규화 사전의 수:  120\n"
     ]
    }
   ],
   "source": [
    "contractions = {\"ain't\": \"is not\", \"aren't\": \"are not\",\"can't\": \"cannot\", \"'cause\": \"because\", \"could've\": \"could have\", \"couldn't\": \"could not\",\n",
    "                           \"didn't\": \"did not\",  \"doesn't\": \"does not\", \"don't\": \"do not\", \"hadn't\": \"had not\", \"hasn't\": \"has not\", \"haven't\": \"have not\",\n",
    "                           \"he'd\": \"he would\",\"he'll\": \"he will\", \"he's\": \"he is\", \"how'd\": \"how did\", \"how'd'y\": \"how do you\", \"how'll\": \"how will\", \"how's\": \"how is\",\n",
    "                           \"I'd\": \"I would\", \"I'd've\": \"I would have\", \"I'll\": \"I will\", \"I'll've\": \"I will have\",\"I'm\": \"I am\", \"I've\": \"I have\", \"i'd\": \"i would\",\n",
    "                           \"i'd've\": \"i would have\", \"i'll\": \"i will\",  \"i'll've\": \"i will have\",\"i'm\": \"i am\", \"i've\": \"i have\", \"isn't\": \"is not\", \"it'd\": \"it would\",\n",
    "                           \"it'd've\": \"it would have\", \"it'll\": \"it will\", \"it'll've\": \"it will have\",\"it's\": \"it is\", \"let's\": \"let us\", \"ma'am\": \"madam\",\n",
    "                           \"mayn't\": \"may not\", \"might've\": \"might have\",\"mightn't\": \"might not\",\"mightn't've\": \"might not have\", \"must've\": \"must have\",\n",
    "                           \"mustn't\": \"must not\", \"mustn't've\": \"must not have\", \"needn't\": \"need not\", \"needn't've\": \"need not have\",\"o'clock\": \"of the clock\",\n",
    "                           \"oughtn't\": \"ought not\", \"oughtn't've\": \"ought not have\", \"shan't\": \"shall not\", \"sha'n't\": \"shall not\", \"shan't've\": \"shall not have\",\n",
    "                           \"she'd\": \"she would\", \"she'd've\": \"she would have\", \"she'll\": \"she will\", \"she'll've\": \"she will have\", \"she's\": \"she is\",\n",
    "                           \"should've\": \"should have\", \"shouldn't\": \"should not\", \"shouldn't've\": \"should not have\", \"so've\": \"so have\",\"so's\": \"so as\",\n",
    "                           \"this's\": \"this is\",\"that'd\": \"that would\", \"that'd've\": \"that would have\", \"that's\": \"that is\", \"there'd\": \"there would\",\n",
    "                           \"there'd've\": \"there would have\", \"there's\": \"there is\", \"here's\": \"here is\",\"they'd\": \"they would\", \"they'd've\": \"they would have\",\n",
    "                           \"they'll\": \"they will\", \"they'll've\": \"they will have\", \"they're\": \"they are\", \"they've\": \"they have\", \"to've\": \"to have\",\n",
    "                           \"wasn't\": \"was not\", \"we'd\": \"we would\", \"we'd've\": \"we would have\", \"we'll\": \"we will\", \"we'll've\": \"we will have\", \"we're\": \"we are\",\n",
    "                           \"we've\": \"we have\", \"weren't\": \"were not\", \"what'll\": \"what will\", \"what'll've\": \"what will have\", \"what're\": \"what are\",\n",
    "                           \"what's\": \"what is\", \"what've\": \"what have\", \"when's\": \"when is\", \"when've\": \"when have\", \"where'd\": \"where did\", \"where's\": \"where is\",\n",
    "                           \"where've\": \"where have\", \"who'll\": \"who will\", \"who'll've\": \"who will have\", \"who's\": \"who is\", \"who've\": \"who have\",\n",
    "                           \"why's\": \"why is\", \"why've\": \"why have\", \"will've\": \"will have\", \"won't\": \"will not\", \"won't've\": \"will not have\",\n",
    "                           \"would've\": \"would have\", \"wouldn't\": \"would not\", \"wouldn't've\": \"would not have\", \"y'all\": \"you all\",\n",
    "                           \"y'all'd\": \"you all would\",\"y'all'd've\": \"you all would have\",\"y'all're\": \"you all are\",\"y'all've\": \"you all have\",\n",
    "                           \"you'd\": \"you would\", \"you'd've\": \"you would have\", \"you'll\": \"you will\", \"you'll've\": \"you will have\",\n",
    "                           \"you're\": \"you are\", \"you've\": \"you have\"}\n",
    "\n",
    "print(\"정규화 사전의 수: \",len(contractions))"
   ]
  },
  {
   "cell_type": "markdown",
   "id": "olympic-abortion",
   "metadata": {},
   "source": [
    "## 불용어 확인\n",
    "* 일반적으로 텍스트에는 자주 등장하지만 자연어 처리를 할 때 실질적으로 별 도움이 되지 않는 단어들이 존재한다. 이를 불용어(stopwords)라고 불른다. 때로는 불용어를 제거하는 것이 자연어 처리의 성능을 높이는 방법일 수 있다."
   ]
  },
  {
   "cell_type": "code",
   "execution_count": 11,
   "id": "historical-thompson",
   "metadata": {},
   "outputs": [
    {
     "name": "stdout",
     "output_type": "stream",
     "text": [
      "불용어 개수 : 179\n",
      "['i', 'me', 'my', 'myself', 'we', 'our', 'ours', 'ourselves', 'you', \"you're\", \"you've\", \"you'll\", \"you'd\", 'your', 'yours', 'yourself', 'yourselves', 'he', 'him', 'his', 'himself', 'she', \"she's\", 'her', 'hers', 'herself', 'it', \"it's\", 'its', 'itself', 'they', 'them', 'their', 'theirs', 'themselves', 'what', 'which', 'who', 'whom', 'this', 'that', \"that'll\", 'these', 'those', 'am', 'is', 'are', 'was', 'were', 'be', 'been', 'being', 'have', 'has', 'had', 'having', 'do', 'does', 'did', 'doing', 'a', 'an', 'the', 'and', 'but', 'if', 'or', 'because', 'as', 'until', 'while', 'of', 'at', 'by', 'for', 'with', 'about', 'against', 'between', 'into', 'through', 'during', 'before', 'after', 'above', 'below', 'to', 'from', 'up', 'down', 'in', 'out', 'on', 'off', 'over', 'under', 'again', 'further', 'then', 'once', 'here', 'there', 'when', 'where', 'why', 'how', 'all', 'any', 'both', 'each', 'few', 'more', 'most', 'other', 'some', 'such', 'no', 'nor', 'not', 'only', 'own', 'same', 'so', 'than', 'too', 'very', 's', 't', 'can', 'will', 'just', 'don', \"don't\", 'should', \"should've\", 'now', 'd', 'll', 'm', 'o', 're', 've', 'y', 'ain', 'aren', \"aren't\", 'couldn', \"couldn't\", 'didn', \"didn't\", 'doesn', \"doesn't\", 'hadn', \"hadn't\", 'hasn', \"hasn't\", 'haven', \"haven't\", 'isn', \"isn't\", 'ma', 'mightn', \"mightn't\", 'mustn', \"mustn't\", 'needn', \"needn't\", 'shan', \"shan't\", 'shouldn', \"shouldn't\", 'wasn', \"wasn't\", 'weren', \"weren't\", 'won', \"won't\", 'wouldn', \"wouldn't\"]\n"
     ]
    }
   ],
   "source": [
    "print('불용어 개수 :', len(stopwords.words('english') ))\n",
    "print(stopwords.words('english'))"
   ]
  },
  {
   "cell_type": "markdown",
   "id": "cardiac-phase",
   "metadata": {},
   "source": [
    "## 불용어 제거"
   ]
  },
  {
   "cell_type": "code",
   "execution_count": 12,
   "id": "solid-guatemala",
   "metadata": {},
   "outputs": [],
   "source": [
    "#데이터 전처리 함수\n",
    "def preprocess_sentence(sentence, remove_stopwords=True):\n",
    "    sentence = sentence.lower() # 텍스트 소문자화\n",
    "    sentence = BeautifulSoup(sentence, \"lxml\").text # <br />, <a href = ...> 등의 html 태그 제거\n",
    "    sentence = re.sub(r'\\([^)]*\\)', '', sentence) # 괄호로 닫힌 문자열 (...) 제거 Ex) my husband (and myself!) for => my husband for\n",
    "    sentence = re.sub('\"','', sentence) # 쌍따옴표 \" 제거\n",
    "    sentence = ' '.join([contractions[t] if t in contractions else t for t in sentence.split(\" \")]) # 약어 정규화\n",
    "    sentence = re.sub(r\"'s\\b\",\"\",sentence) # 소유격 제거. Ex) roland's -> roland\n",
    "    sentence = re.sub(\"[^a-zA-Z]\", \" \", sentence) # 영어 외 문자(숫자, 특수문자 등) 공백으로 변환\n",
    "    sentence = re.sub('[m]{2,}', 'mm', sentence) # m이 3개 이상이면 2개로 변경. Ex) ummmmmmm yeah -> umm yeah\n",
    "    \n",
    "    # 불용어 제거 (Text)\n",
    "    if remove_stopwords:\n",
    "        tokens = ' '.join(word for word in sentence.split() if not word in stopwords.words('english') if len(word) > 1)\n",
    "    # 불용어 미제거 (headlines)\n",
    "    else:\n",
    "        tokens = ' '.join(word for word in sentence.split() if len(word) > 1)\n",
    "    return tokens"
   ]
  },
  {
   "cell_type": "markdown",
   "id": "muslim-bronze",
   "metadata": {},
   "source": [
    "## 전처리 전, 후 결과 확인"
   ]
  },
  {
   "cell_type": "code",
   "execution_count": 13,
   "id": "corresponding-consequence",
   "metadata": {},
   "outputs": [
    {
     "name": "stdout",
     "output_type": "stream",
     "text": [
      "everything bought great infact ordered twice third ordered wasfor mother father\n",
      "great way to start the day\n"
     ]
    }
   ],
   "source": [
    "temp_text = 'Everything I bought was great, infact I ordered twice and the third ordered was<br />for my mother and father.'\n",
    "temp_headlines = 'Great way to start (or finish) the day!!!'\n",
    "\n",
    "print(preprocess_sentence(temp_text))\n",
    "print(preprocess_sentence(temp_headlines, False))  # 불용어를 제거하지 않습니다."
   ]
  },
  {
   "cell_type": "markdown",
   "id": "responsible-implement",
   "metadata": {},
   "source": [
    "* 결과를 보면 기본적으로 모든 알파벳이 소문자로 변환되고,과 같은 html 태그가 제거되었다. 또한 (or finish)와 같은 괄호로 묶였던 단어 시퀀스가 제거된 것도 확인할 수 있다. 그리고 특수문자가 제거되면서 영어만 남았다."
   ]
  },
  {
   "cell_type": "markdown",
   "id": "peaceful-package",
   "metadata": {},
   "source": [
    "## 전체 텍스트 전처리"
   ]
  },
  {
   "cell_type": "code",
   "execution_count": 14,
   "id": "blocked-inspiration",
   "metadata": {},
   "outputs": [
    {
     "data": {
      "text/plain": [
       "['saurav kant alumnus upgrad iiit pg program machine learning artificial intelligence sr systems engineer infosys almost years work experience program upgrad degree career support helped transition data scientist tech mahindra salary hike upgrad online power learning powered lakh careers',\n",
       " 'kunal shah credit card bill payment platform cred gave users chance win free food swiggy one year pranav kaushik delhi techie bagged reward spending cred coins users get one cred coin per rupee bill paid used avail rewards brands like ixigo bookmyshow ubereats cult fit',\n",
       " 'new zealand defeated india wickets fourth odi hamilton thursday win first match five match odi series india lost international match rohit sharma captaincy consecutive victories dating back march match witnessed india getting seventh lowest total odi cricket history',\n",
       " 'aegon life iterm insurance plan customers enjoy tax benefits premiums paid save taxes plan provides life cover age years also customers options insure critical illnesses disability accidental death benefit rider life cover age years',\n",
       " 'speaking sexual harassment allegations rajkumar hirani sonam kapoor said known hirani many years true metoo movement get derailed metoo movement always believe woman case need reserve judgment added hirani accused assistant worked sanju']"
      ]
     },
     "execution_count": 14,
     "metadata": {},
     "output_type": "execute_result"
    }
   ],
   "source": [
    "clean_text = []\n",
    "\n",
    "# 전체 Text 데이터에 대한 전처리 : 10분 이상 시간이 걸릴 수 있습니다. \n",
    "for s in data['text']:\n",
    "    clean_text.append(preprocess_sentence(s))\n",
    "\n",
    "# 전처리 후 출력\n",
    "clean_text[:5]"
   ]
  },
  {
   "cell_type": "markdown",
   "id": "advisory-minority",
   "metadata": {},
   "source": [
    "## 전체 headlines 전처리"
   ]
  },
  {
   "cell_type": "code",
   "execution_count": 15,
   "id": "constitutional-elder",
   "metadata": {},
   "outputs": [
    {
     "data": {
      "text/plain": [
       "['upgrad learner switches to career in ml al with salary hike',\n",
       " 'delhi techie wins free food from swiggy for one year on cred',\n",
       " 'new zealand end rohit sharma led india match winning streak',\n",
       " 'aegon life iterm insurance plan helps customers save tax',\n",
       " 'have known hirani for yrs what if metoo claims are not true sonam']"
      ]
     },
     "execution_count": 15,
     "metadata": {},
     "output_type": "execute_result"
    }
   ],
   "source": [
    "clean_headlines = []\n",
    "\n",
    "# 전체 Summary 데이터에 대한 전처리 : 5분 이상 시간이 걸릴 수 있습니다. \n",
    "for s in data['headlines']:\n",
    "    clean_headlines.append(preprocess_sentence(s, False))\n",
    "\n",
    "clean_headlines[:5]"
   ]
  },
  {
   "cell_type": "code",
   "execution_count": 16,
   "id": "loving-manchester",
   "metadata": {},
   "outputs": [],
   "source": [
    "data['text'] = clean_text\n",
    "data['headlines'] = clean_headlines\n",
    "\n",
    "# 빈 값을 Null 값으로 변환\n",
    "data.replace('', np.nan, inplace=True)"
   ]
  },
  {
   "cell_type": "code",
   "execution_count": 17,
   "id": "diagnostic-broadcasting",
   "metadata": {},
   "outputs": [
    {
     "data": {
      "text/plain": [
       "text         0\n",
       "headlines    0\n",
       "dtype: int64"
      ]
     },
     "execution_count": 17,
     "metadata": {},
     "output_type": "execute_result"
    }
   ],
   "source": [
    "data.isnull().sum()"
   ]
  },
  {
   "cell_type": "code",
   "execution_count": 18,
   "id": "earned-lying",
   "metadata": {},
   "outputs": [
    {
     "name": "stdout",
     "output_type": "stream",
     "text": [
      "전체 샘플수 : 98360\n"
     ]
    }
   ],
   "source": [
    "data.dropna(axis=0, inplace=True)\n",
    "print('전체 샘플수 :',(len(data)))#데이터 전처리 함수"
   ]
  },
  {
   "cell_type": "code",
   "execution_count": 21,
   "id": "outdoor-smooth",
   "metadata": {},
   "outputs": [
    {
     "name": "stdout",
     "output_type": "stream",
     "text": [
      "텍스트의 최소 길이 : 1\n",
      "텍스트의 최대 길이 : 60\n",
      "텍스트의 평균 길이 : 35.09968483123221\n",
      "요약의 최소 길이 : 1\n",
      "요약의 최대 길이 : 16\n",
      "요약의 평균 길이 : 9.299532330215534\n"
     ]
    },
    {
     "data": {
      "image/png": "[encoded data removed]",
      "text/plain": [
       "<Figure size 432x288 with 2 Axes>"
      ]
     },
     "metadata": {
      "needs_background": "light"
     },
     "output_type": "display_data"
    },
    {
     "data": {
      "image/png": "[encoded data removed]",
      "text/plain": [
       "<Figure size 432x288 with 1 Axes>"
      ]
     },
     "metadata": {
      "needs_background": "light"
     },
     "output_type": "display_data"
    },
    {
     "data": {
      "image/png": "[encoded data removed]",
      "text/plain": [
       "<Figure size 432x288 with 1 Axes>"
      ]
     },
     "metadata": {
      "needs_background": "light"
     },
     "output_type": "display_data"
    }
   ],
   "source": [
    "# 길이 분포 출력\n",
    "import matplotlib.pyplot as plt\n",
    "\n",
    "text_len = [len(s.split()) for s in data['text']]\n",
    "headlines_len = [len(s.split()) for s in data['headlines']]\n",
    "\n",
    "print('텍스트의 최소 길이 : {}'.format(np.min(text_len)))\n",
    "print('텍스트의 최대 길이 : {}'.format(np.max(text_len)))\n",
    "print('텍스트의 평균 길이 : {}'.format(np.mean(text_len)))\n",
    "print('요약의 최소 길이 : {}'.format(np.min(headlines_len)))\n",
    "print('요약의 최대 길이 : {}'.format(np.max(headlines_len)))\n",
    "print('요약의 평균 길이 : {}'.format(np.mean(headlines_len)))\n",
    "\n",
    "plt.subplot(1,2,1)\n",
    "plt.boxplot(headlines_len)\n",
    "plt.title('Headlines')\n",
    "plt.subplot(1,2,2)\n",
    "plt.boxplot(text_len)\n",
    "plt.title('Text')\n",
    "plt.tight_layout()\n",
    "plt.show()\n",
    "\n",
    "plt.title('Headlines')\n",
    "plt.hist(headlines_len, bins = 40)\n",
    "plt.xlabel('length of samples')\n",
    "plt.ylabel('number of samples')\n",
    "plt.show()\n",
    "\n",
    "plt.title('Text')\n",
    "plt.hist(text_len, bins = 40)\n",
    "plt.xlabel('length of samples')\n",
    "plt.ylabel('number of samples')\n",
    "plt.show()"
   ]
  },
  {
   "cell_type": "markdown",
   "id": "phantom-mileage",
   "metadata": {},
   "source": [
    "## 최대길이 제한할 경우 샘플 비율 확인"
   ]
  },
  {
   "cell_type": "code",
   "execution_count": 25,
   "id": "committed-reward",
   "metadata": {},
   "outputs": [],
   "source": [
    "text_max_len = 50\n",
    "headlines_max_len = 14"
   ]
  },
  {
   "cell_type": "code",
   "execution_count": 26,
   "id": "pleasant-vietnamese",
   "metadata": {},
   "outputs": [],
   "source": [
    "def below_threshold_len(max_len, nested_list):\n",
    "  cnt = 0\n",
    "  for s in nested_list:\n",
    "    if(len(s.split()) <= max_len):\n",
    "        cnt = cnt + 1\n",
    "  print('전체 샘플 중 길이가 %s 이하인 샘플의 비율: %s'%(max_len, (cnt / len(nested_list))))"
   ]
  },
  {
   "cell_type": "markdown",
   "id": "swedish-alabama",
   "metadata": {},
   "source": [
    "## 정해진 길이보다 길면 제외"
   ]
  },
  {
   "cell_type": "code",
   "execution_count": 27,
   "id": "talented-montreal",
   "metadata": {},
   "outputs": [
    {
     "name": "stdout",
     "output_type": "stream",
     "text": [
      "전체 샘플수 : 98264\n"
     ]
    }
   ],
   "source": [
    "data = data[data['text'].apply(lambda x: len(x.split()) <= text_max_len)]\n",
    "data = data[data['headlines'].apply(lambda x: len(x.split()) <= headlines_max_len)]\n",
    "print('전체 샘플수 :',(len(data)))"
   ]
  },
  {
   "cell_type": "markdown",
   "id": "political-vessel",
   "metadata": {},
   "source": [
    "## 시작 종료 토큰 추가하기"
   ]
  },
  {
   "cell_type": "code",
   "execution_count": 28,
   "id": "thousand-tuesday",
   "metadata": {},
   "outputs": [
    {
     "data": {
      "text/html": [
       "<div>\n",
       "<style scoped>\n",
       "    .dataframe tbody tr th:only-of-type {\n",
       "        vertical-align: middle;\n",
       "    }\n",
       "\n",
       "    .dataframe tbody tr th {\n",
       "        vertical-align: top;\n",
       "    }\n",
       "\n",
       "    .dataframe thead th {\n",
       "        text-align: right;\n",
       "    }\n",
       "</style>\n",
       "<table border=\"1\" class=\"dataframe\">\n",
       "  <thead>\n",
       "    <tr style=\"text-align: right;\">\n",
       "      <th></th>\n",
       "      <th>text</th>\n",
       "      <th>headlines</th>\n",
       "      <th>decoder_input</th>\n",
       "      <th>decoder_target</th>\n",
       "    </tr>\n",
       "  </thead>\n",
       "  <tbody>\n",
       "    <tr>\n",
       "      <th>0</th>\n",
       "      <td>saurav kant alumnus upgrad iiit pg program mac...</td>\n",
       "      <td>upgrad learner switches to career in ml al wit...</td>\n",
       "      <td>sostoken upgrad learner switches to career in ...</td>\n",
       "      <td>upgrad learner switches to career in ml al wit...</td>\n",
       "    </tr>\n",
       "    <tr>\n",
       "      <th>1</th>\n",
       "      <td>kunal shah credit card bill payment platform c...</td>\n",
       "      <td>delhi techie wins free food from swiggy for on...</td>\n",
       "      <td>sostoken delhi techie wins free food from swig...</td>\n",
       "      <td>delhi techie wins free food from swiggy for on...</td>\n",
       "    </tr>\n",
       "    <tr>\n",
       "      <th>2</th>\n",
       "      <td>new zealand defeated india wickets fourth odi ...</td>\n",
       "      <td>new zealand end rohit sharma led india match w...</td>\n",
       "      <td>sostoken new zealand end rohit sharma led indi...</td>\n",
       "      <td>new zealand end rohit sharma led india match w...</td>\n",
       "    </tr>\n",
       "    <tr>\n",
       "      <th>3</th>\n",
       "      <td>aegon life iterm insurance plan customers enjo...</td>\n",
       "      <td>aegon life iterm insurance plan helps customer...</td>\n",
       "      <td>sostoken aegon life iterm insurance plan helps...</td>\n",
       "      <td>aegon life iterm insurance plan helps customer...</td>\n",
       "    </tr>\n",
       "    <tr>\n",
       "      <th>4</th>\n",
       "      <td>speaking sexual harassment allegations rajkuma...</td>\n",
       "      <td>have known hirani for yrs what if metoo claims...</td>\n",
       "      <td>sostoken have known hirani for yrs what if met...</td>\n",
       "      <td>have known hirani for yrs what if metoo claims...</td>\n",
       "    </tr>\n",
       "  </tbody>\n",
       "</table>\n",
       "</div>"
      ],
      "text/plain": [
       "                                                text  \\\n",
       "0  saurav kant alumnus upgrad iiit pg program mac...   \n",
       "1  kunal shah credit card bill payment platform c...   \n",
       "2  new zealand defeated india wickets fourth odi ...   \n",
       "3  aegon life iterm insurance plan customers enjo...   \n",
       "4  speaking sexual harassment allegations rajkuma...   \n",
       "\n",
       "                                           headlines  \\\n",
       "0  upgrad learner switches to career in ml al wit...   \n",
       "1  delhi techie wins free food from swiggy for on...   \n",
       "2  new zealand end rohit sharma led india match w...   \n",
       "3  aegon life iterm insurance plan helps customer...   \n",
       "4  have known hirani for yrs what if metoo claims...   \n",
       "\n",
       "                                       decoder_input  \\\n",
       "0  sostoken upgrad learner switches to career in ...   \n",
       "1  sostoken delhi techie wins free food from swig...   \n",
       "2  sostoken new zealand end rohit sharma led indi...   \n",
       "3  sostoken aegon life iterm insurance plan helps...   \n",
       "4  sostoken have known hirani for yrs what if met...   \n",
       "\n",
       "                                      decoder_target  \n",
       "0  upgrad learner switches to career in ml al wit...  \n",
       "1  delhi techie wins free food from swiggy for on...  \n",
       "2  new zealand end rohit sharma led india match w...  \n",
       "3  aegon life iterm insurance plan helps customer...  \n",
       "4  have known hirani for yrs what if metoo claims...  "
      ]
     },
     "execution_count": 28,
     "metadata": {},
     "output_type": "execute_result"
    }
   ],
   "source": [
    "#요약 데이터에는 시작 토큰과 종료 토큰을 추가한다.\n",
    "data['decoder_input'] = data['headlines'].apply(lambda x : 'sostoken '+ x)\n",
    "data['decoder_target'] = data['headlines'].apply(lambda x : x + ' eostoken')\n",
    "data.head()"
   ]
  },
  {
   "cell_type": "markdown",
   "id": "later-brass",
   "metadata": {},
   "source": [
    "## 다시 numpy 타입으로 저장"
   ]
  },
  {
   "cell_type": "code",
   "execution_count": 29,
   "id": "thermal-bulgarian",
   "metadata": {},
   "outputs": [],
   "source": [
    "encoder_input = np.array(data['text']) # 인코더의 입력\n",
    "decoder_input = np.array(data['decoder_input']) # 디코더의 입력\n",
    "decoder_target = np.array(data['decoder_target']) # 디코더의 레이블"
   ]
  },
  {
   "cell_type": "markdown",
   "id": "electric-comparative",
   "metadata": {},
   "source": [
    "# 훈련셋 테스트셋 분리\n",
    "## encoder_input과 크기와 형태가 같은 순서가 섞인 정수 시퀀스를 만들기"
   ]
  },
  {
   "cell_type": "code",
   "execution_count": 30,
   "id": "subtle-viking",
   "metadata": {},
   "outputs": [
    {
     "name": "stdout",
     "output_type": "stream",
     "text": [
      "[44519 18190 42649 ... 73081 13330 86507]\n"
     ]
    }
   ],
   "source": [
    "indices = np.arange(encoder_input.shape[0])\n",
    "np.random.shuffle(indices)\n",
    "print(indices)"
   ]
  },
  {
   "cell_type": "markdown",
   "id": "constant-heritage",
   "metadata": {},
   "source": [
    "## 정수 시퀀스를 이용해 데이터 셈플 순서 정의"
   ]
  },
  {
   "cell_type": "code",
   "execution_count": 31,
   "id": "tested-machinery",
   "metadata": {},
   "outputs": [],
   "source": [
    "encoder_input = encoder_input[indices]\n",
    "decoder_input = decoder_input[indices]\n",
    "decoder_target = decoder_target[indices]"
   ]
  },
  {
   "cell_type": "code",
   "execution_count": 32,
   "id": "consolidated-staff",
   "metadata": {},
   "outputs": [
    {
     "data": {
      "text/plain": [
       "array(['bjp mp gopal shetty proposed private member bill lok sabha demanding age bar girls marriage extended marriage parents consent adding girls attain maturity shetty said age bar girls could marriage consent parents',\n",
       "       'actress priyanka chopra fianc singer nick jonas recently appeared tonight show revealed priyanka likes prick couple possible celebrity nickname likes prick like one added jonas talking couple roka ceremony india jonas said parents blown away love shared among people',\n",
       "       'russian astronomers discovered black hole observing gamma ray burst march two days stephen hawking demise burst captured spain based master telescope followed stellar explosion led formation black hole master devoted optical discovery stephen hawking lord black holes researchers wrote astronomer telegram journal',\n",
       "       'users reported forward message circulated whatsapp causing app hang stop working android phones forward reads hang whatsapp touch message message reads touch however whatsapp messenger ios web unaffected bug',\n",
       "       'actress jennifer lawrence called friendship reality tv star kim kardashian one sided added know would call friend jennifer said found going interviewing like oh god whole life building moment',\n",
       "       'least five people killed us state florida monday mass shooting industrial estate orlando reports said shooter killed reportedly treated terrorist incident shooting comes week first anniversary city deadliest mass shooting claimed lives',\n",
       "       'astronomers witnessed birth neutron star binary system death massive star first time observed dying star mass stolen unseen companion completely exploded explosion left neutron star eventually collide unseen entity astronomers said',\n",
       "       'four iit kharagpur dropouts among nine persons arrested cyberabad police connection floating fraudulent multi level marketing company hyderabad collecting crore past two years accused enrolled distributors andhra pradesh telangana distributors paid minimum enrolment targeted unemployed youth elderly people',\n",
       "       'actor benedict cumberbatch played lead role superhero film doctor strange said would love go back role added bits dust moment far understand really ask kevin feige',\n",
       "       'prernaa arora kriarj entertainment lost legal battle john abraham parmanu said best wishes called heroes entertainment industry abused trust prernaa also made step producer films batti gul meter chalu fanne khan issues including non payment dues'],\n",
       "      dtype=object)"
      ]
     },
     "execution_count": 32,
     "metadata": {},
     "output_type": "execute_result"
    }
   ],
   "source": [
    "encoder_input[:10]"
   ]
  },
  {
   "cell_type": "markdown",
   "id": "heard-virgin",
   "metadata": {},
   "source": [
    "## 섞인 데이터를 8:2의 비율로 훈련 데이터와 테스트 데이터로 분리"
   ]
  },
  {
   "cell_type": "code",
   "execution_count": 33,
   "id": "floppy-basic",
   "metadata": {},
   "outputs": [
    {
     "name": "stdout",
     "output_type": "stream",
     "text": [
      "테스트 데이터의 수 : 19652\n"
     ]
    }
   ],
   "source": [
    "n_of_val = int(len(encoder_input)*0.2)\n",
    "print('테스트 데이터의 수 :',n_of_val)"
   ]
  },
  {
   "cell_type": "code",
   "execution_count": 34,
   "id": "revolutionary-paraguay",
   "metadata": {},
   "outputs": [
    {
     "name": "stdout",
     "output_type": "stream",
     "text": [
      "훈련 데이터의 개수 : 78612\n",
      "훈련 레이블의 개수 : 78612\n",
      "테스트 데이터의 개수 : 19652\n",
      "테스트 레이블의 개수 : 19652\n"
     ]
    }
   ],
   "source": [
    "encoder_input_train = encoder_input[:-n_of_val]\n",
    "decoder_input_train = decoder_input[:-n_of_val]\n",
    "decoder_target_train = decoder_target[:-n_of_val]\n",
    "\n",
    "encoder_input_test = encoder_input[-n_of_val:]\n",
    "decoder_input_test = decoder_input[-n_of_val:]\n",
    "decoder_target_test = decoder_target[-n_of_val:]\n",
    "\n",
    "print('훈련 데이터의 개수 :', len(encoder_input_train))\n",
    "print('훈련 레이블의 개수 :',len(decoder_input_train))\n",
    "print('테스트 데이터의 개수 :',len(encoder_input_test))\n",
    "print('테스트 레이블의 개수 :',len(decoder_input_test))"
   ]
  },
  {
   "cell_type": "markdown",
   "id": "likely-automation",
   "metadata": {},
   "source": [
    "## 단어 집합(vocaburary) 만들기 및 정수 인코딩\n",
    "## text 데이터"
   ]
  },
  {
   "cell_type": "code",
   "execution_count": 35,
   "id": "graduate-business",
   "metadata": {},
   "outputs": [],
   "source": [
    "src_tokenizer = Tokenizer() # 토크나이저 정의\n",
    "src_tokenizer.fit_on_texts(encoder_input_train) # 입력된 데이터로부터 단어 집합 생성"
   ]
  },
  {
   "cell_type": "markdown",
   "id": "cathedral-ancient",
   "metadata": {},
   "source": [
    "* 빈도수가 낮은 단어들은 훈련 데이터에서 제외\n",
    "* 등장 빈도수가 7회 미만인 단어들이 이 데이터에서 얼만큼의 비중을 차지하는지 확인"
   ]
  },
  {
   "cell_type": "code",
   "execution_count": 36,
   "id": "agreed-aruba",
   "metadata": {},
   "outputs": [
    {
     "name": "stdout",
     "output_type": "stream",
     "text": [
      "단어 집합(vocabulary)의 크기 : 69413\n",
      "등장 빈도가 6번 이하인 희귀 단어의 수: 47315\n",
      "단어 집합에서 희귀 단어를 제외시킬 경우의 단어 집합의 크기 22098\n",
      "단어 집합에서 희귀 단어의 비율: 68.16446486969299\n",
      "전체 등장 빈도에서 희귀 단어 등장 빈도 비율: 3.4834003659487847\n"
     ]
    }
   ],
   "source": [
    "threshold = 7\n",
    "total_cnt = len(src_tokenizer.word_index) # 단어의 수\n",
    "rare_cnt = 0 # 등장 빈도수가 threshold보다 작은 단어의 개수를 카운트\n",
    "total_freq = 0 # 훈련 데이터의 전체 단어 빈도수 총 합\n",
    "rare_freq = 0 # 등장 빈도수가 threshold보다 작은 단어의 등장 빈도수의 총 합\n",
    "\n",
    "# 단어와 빈도수의 쌍(pair)을 key와 value로 받는다.\n",
    "for key, value in src_tokenizer.word_counts.items():\n",
    "    total_freq = total_freq + value\n",
    "\n",
    "    # 단어의 등장 빈도수가 threshold보다 작으면\n",
    "    if(value < threshold):\n",
    "        rare_cnt = rare_cnt + 1\n",
    "        rare_freq = rare_freq + value\n",
    "\n",
    "print('단어 집합(vocabulary)의 크기 :',total_cnt)\n",
    "print('등장 빈도가 %s번 이하인 희귀 단어의 수: %s'%(threshold - 1, rare_cnt))\n",
    "print('단어 집합에서 희귀 단어를 제외시킬 경우의 단어 집합의 크기 %s'%(total_cnt - rare_cnt))\n",
    "print(\"단어 집합에서 희귀 단어의 비율:\", (rare_cnt / total_cnt)*100)\n",
    "print(\"전체 등장 빈도에서 희귀 단어 등장 빈도 비율:\", (rare_freq / total_freq)*100)"
   ]
  },
  {
   "cell_type": "code",
   "execution_count": 37,
   "id": "expected-population",
   "metadata": {},
   "outputs": [],
   "source": [
    "src_vocab = 22000\n",
    "src_tokenizer = Tokenizer(num_words = src_vocab) # 단어 집합의 크기를 22,000으로 제한\n",
    "src_tokenizer.fit_on_texts(encoder_input_train) # 단어 집합 재생성."
   ]
  },
  {
   "cell_type": "markdown",
   "id": "binary-guard",
   "metadata": {},
   "source": [
    "## text 데이터 토크나이저로 정수형으로 변환\n",
    "* texts_to_sequences()로 생성된 단어 집합에 기반하여 입력으로 주어진 텍스트 데이터의 단어들을 모두 정수로 변환하는 정수 인코딩을 수행"
   ]
  },
  {
   "cell_type": "code",
   "execution_count": 38,
   "id": "placed-celtic",
   "metadata": {},
   "outputs": [
    {
     "name": "stdout",
     "output_type": "stream",
     "text": [
      "[[38, 483, 3934, 2222, 743, 366, 466, 494, 635, 407, 1166, 444, 1903, 690, 797, 1512, 797, 565, 2770, 124, 690, 11564, 10263, 2222, 1, 444, 1903, 690, 84, 797, 2770, 565], [79, 506, 641, 4308, 448, 1878, 2840, 198, 1610, 7777, 164, 80, 506, 3274, 478, 1101, 3558, 9138, 3274, 33, 17, 4, 2840, 183, 478, 11887, 896, 2, 2840, 1, 565, 9139, 221, 426, 196, 185, 10], [357, 3176, 805, 597, 2881, 6075, 12227, 3905, 5438, 375, 12, 123, 3314, 4665, 2841, 5438, 2212, 1794, 34, 5172, 3210, 929, 9855, 2526, 122, 3389, 597, 2881, 5172, 12925, 7079, 2325, 3314, 4665, 1200, 597, 4845, 228, 93, 9469, 9470, 6127]]\n"
     ]
    }
   ],
   "source": [
    "# 텍스트 시퀀스를 정수 시퀀스로 변환\n",
    "encoder_input_train = src_tokenizer.texts_to_sequences(encoder_input_train) \n",
    "encoder_input_test = src_tokenizer.texts_to_sequences(encoder_input_test)\n",
    "\n",
    "#잘 진행되었는지 샘플 출력\n",
    "print(encoder_input_train[:3])"
   ]
  },
  {
   "cell_type": "markdown",
   "id": "eastern-titanium",
   "metadata": {},
   "source": [
    "## headlines 데이터 토크나이저로 정수형으로 변환"
   ]
  },
  {
   "cell_type": "code",
   "execution_count": 39,
   "id": "double-tumor",
   "metadata": {},
   "outputs": [],
   "source": [
    "tar_tokenizer = Tokenizer()\n",
    "tar_tokenizer.fit_on_texts(decoder_input_train)"
   ]
  },
  {
   "cell_type": "code",
   "execution_count": 40,
   "id": "legal-trick",
   "metadata": {},
   "outputs": [
    {
     "name": "stdout",
     "output_type": "stream",
     "text": [
      "단어 집합(vocabulary)의 크기 : 29940\n",
      "등장 빈도가 5번 이하인 희귀 단어의 수: 19527\n",
      "단어 집합에서 희귀 단어를 제외시킬 경우의 단어 집합의 크기 10413\n",
      "단어 집합에서 희귀 단어의 비율: 65.22044088176354\n",
      "전체 등장 빈도에서 희귀 단어 등장 빈도 비율: 4.628641843603839\n"
     ]
    }
   ],
   "source": [
    "threshold = 6\n",
    "total_cnt = len(tar_tokenizer.word_index) # 단어의 수\n",
    "rare_cnt = 0 # 등장 빈도수가 threshold보다 작은 단어의 개수를 카운트\n",
    "total_freq = 0 # 훈련 데이터의 전체 단어 빈도수 총 합\n",
    "rare_freq = 0 # 등장 빈도수가 threshold보다 작은 단어의 등장 빈도수의 총 합\n",
    "\n",
    "# 단어와 빈도수의 쌍(pair)을 key와 value로 받는다.\n",
    "for key, value in tar_tokenizer.word_counts.items():\n",
    "    total_freq = total_freq + value\n",
    "\n",
    "    # 단어의 등장 빈도수가 threshold보다 작으면\n",
    "    if(value < threshold):\n",
    "        rare_cnt = rare_cnt + 1\n",
    "        rare_freq = rare_freq + value\n",
    "\n",
    "print('단어 집합(vocabulary)의 크기 :',total_cnt)\n",
    "print('등장 빈도가 %s번 이하인 희귀 단어의 수: %s'%(threshold - 1, rare_cnt))\n",
    "print('단어 집합에서 희귀 단어를 제외시킬 경우의 단어 집합의 크기 %s'%(total_cnt - rare_cnt))\n",
    "print(\"단어 집합에서 희귀 단어의 비율:\", (rare_cnt / total_cnt)*100)\n",
    "print(\"전체 등장 빈도에서 희귀 단어 등장 빈도 비율:\", (rare_freq / total_freq)*100)"
   ]
  },
  {
   "cell_type": "code",
   "execution_count": 41,
   "id": "bored-chance",
   "metadata": {},
   "outputs": [
    {
     "name": "stdout",
     "output_type": "stream",
     "text": [
      "input\n",
      "input  [[1, 527, 528, 985, 148, 21, 81, 45, 697, 3189, 99], [1, 207, 4301, 16, 298, 4044, 7676, 1197, 4045], [1, 2489, 38, 97, 453, 1765, 3, 3334, 2490], [1, 150, 555, 398, 4046, 2969, 254, 3, 648, 7, 1102], [1, 50, 3905, 9, 644, 19, 6488, 118, 2970]]\n",
      "target\n",
      "decoder  [[527, 528, 985, 148, 21, 81, 45, 697, 3189, 99, 2], [207, 4301, 16, 298, 4044, 7676, 1197, 4045, 2], [2489, 38, 97, 453, 1765, 3, 3334, 2490, 2], [150, 555, 398, 4046, 2969, 254, 3, 648, 7, 1102, 2], [50, 3905, 9, 644, 19, 6488, 118, 2970, 2]]\n"
     ]
    }
   ],
   "source": [
    "tar_vocab = 10000\n",
    "tar_tokenizer = Tokenizer(num_words = tar_vocab) \n",
    "tar_tokenizer.fit_on_texts(decoder_input_train)\n",
    "tar_tokenizer.fit_on_texts(decoder_target_train)\n",
    "\n",
    "# 텍스트 시퀀스를 정수 시퀀스로 변환\n",
    "decoder_input_train = tar_tokenizer.texts_to_sequences(decoder_input_train) \n",
    "decoder_target_train = tar_tokenizer.texts_to_sequences(decoder_target_train)\n",
    "decoder_input_test = tar_tokenizer.texts_to_sequences(decoder_input_test)\n",
    "decoder_target_test = tar_tokenizer.texts_to_sequences(decoder_target_test)\n",
    "\n",
    "#잘 변환되었는지 확인\n",
    "print('input')\n",
    "print('input ',decoder_input_train[:5])\n",
    "print('target')\n",
    "print('decoder ',decoder_target_train[:5])"
   ]
  },
  {
   "cell_type": "markdown",
   "id": "sweet-science",
   "metadata": {},
   "source": [
    "* 훈련 데이터와 테스트 데이터에 대해서 요약문의 길이가 1인 경우의 인덱스를 각각 drop_train과 drop_test에 라는 변수에 저장 후 삭제"
   ]
  },
  {
   "cell_type": "code",
   "execution_count": 42,
   "id": "first-mention",
   "metadata": {
    "scrolled": false
   },
   "outputs": [
    {
     "name": "stdout",
     "output_type": "stream",
     "text": [
      "삭제할 훈련 데이터의 개수 : 0\n",
      "삭제할 테스트 데이터의 개수 : 0\n",
      "훈련 데이터의 개수 : 78612\n",
      "훈련 레이블의 개수 : 78612\n",
      "테스트 데이터의 개수 : 19652\n",
      "테스트 레이블의 개수 : 19652\n"
     ]
    },
    {
     "name": "stderr",
     "output_type": "stream",
     "text": [
      "/home/aiffel-dj17/anaconda3/envs/aiffel/lib/python3.7/site-packages/numpy/core/_asarray.py:83: VisibleDeprecationWarning: Creating an ndarray from ragged nested sequences (which is a list-or-tuple of lists-or-tuples-or ndarrays with different lengths or shapes) is deprecated. If you meant to do this, you must specify 'dtype=object' when creating the ndarray\n",
      "  return array(a, dtype, copy=False, order=order)\n"
     ]
    }
   ],
   "source": [
    "drop_train = [index for index, sentence in enumerate(decoder_input_train) if len(sentence) == 1]\n",
    "drop_test = [index for index, sentence in enumerate(decoder_input_test) if len(sentence) == 1]\n",
    "\n",
    "print('삭제할 훈련 데이터의 개수 :',len(drop_train))\n",
    "print('삭제할 테스트 데이터의 개수 :',len(drop_test))\n",
    "\n",
    "encoder_input_train = np.delete(encoder_input_train, drop_train, axis=0)\n",
    "decoder_input_train = np.delete(decoder_input_train, drop_train, axis=0)\n",
    "decoder_target_train = np.delete(decoder_target_train, drop_train, axis=0)\n",
    "\n",
    "encoder_input_test = np.delete(encoder_input_test, drop_test, axis=0)\n",
    "decoder_input_test = np.delete(decoder_input_test, drop_test, axis=0)\n",
    "decoder_target_test = np.delete(decoder_target_test, drop_test, axis=0)\n",
    "\n",
    "print('훈련 데이터의 개수 :', len(encoder_input_train))\n",
    "print('훈련 레이블의 개수 :',len(decoder_input_train))\n",
    "print('테스트 데이터의 개수 :',len(encoder_input_test))\n",
    "print('테스트 레이블의 개수 :',len(decoder_input_test))"
   ]
  },
  {
   "cell_type": "markdown",
   "id": "increasing-dealer",
   "metadata": {},
   "source": [
    "## 패딩하기"
   ]
  },
  {
   "cell_type": "code",
   "execution_count": 44,
   "id": "abroad-messenger",
   "metadata": {},
   "outputs": [],
   "source": [
    "encoder_input_train = pad_sequences(encoder_input_train, maxlen = text_max_len, padding='post')\n",
    "encoder_input_test = pad_sequences(encoder_input_test, maxlen = text_max_len, padding='post')\n",
    "decoder_input_train = pad_sequences(decoder_input_train, maxlen = headlines_max_len, padding='post')\n",
    "decoder_target_train = pad_sequences(decoder_target_train, maxlen = headlines_max_len, padding='post')\n",
    "decoder_input_test = pad_sequences(decoder_input_test, maxlen = headlines_max_len, padding='post')\n",
    "decoder_target_test = pad_sequences(decoder_target_test, maxlen = headlines_max_len, padding='post')"
   ]
  },
  {
   "cell_type": "markdown",
   "id": "labeled-barcelona",
   "metadata": {},
   "source": [
    "## 모델 설계하기"
   ]
  },
  {
   "cell_type": "code",
   "execution_count": 45,
   "id": "classified-occurrence",
   "metadata": {},
   "outputs": [
    {
     "name": "stdout",
     "output_type": "stream",
     "text": [
      "WARNING:tensorflow:Layer lstm will not use cuDNN kernel since it doesn't meet the cuDNN kernel criteria. It will use generic GPU kernel as fallback when running on GPU\n",
      "WARNING:tensorflow:Layer lstm_1 will not use cuDNN kernel since it doesn't meet the cuDNN kernel criteria. It will use generic GPU kernel as fallback when running on GPU\n",
      "WARNING:tensorflow:Layer lstm_2 will not use cuDNN kernel since it doesn't meet the cuDNN kernel criteria. It will use generic GPU kernel as fallback when running on GPU\n"
     ]
    }
   ],
   "source": [
    "from tensorflow.keras.layers import Input, LSTM, Embedding, Dense, Concatenate\n",
    "from tensorflow.keras.models import Model\n",
    "from tensorflow.keras.callbacks import EarlyStopping, ModelCheckpoint\n",
    "\n",
    "\n",
    "# 인코더 설계 시작\n",
    "embedding_dim = 128\n",
    "hidden_size = 256\n",
    "\n",
    "# 인코더\n",
    "encoder_inputs = Input(shape=(text_max_len,))\n",
    "\n",
    "# 인코더의 임베딩 층\n",
    "enc_emb = Embedding(src_vocab, embedding_dim)(encoder_inputs)\n",
    "\n",
    "# 인코더의 LSTM 1\n",
    "encoder_lstm1 = LSTM(hidden_size, return_sequences=True, return_state=True ,dropout = 0.4, recurrent_dropout = 0.4)\n",
    "encoder_output1, state_h1, state_c1 = encoder_lstm1(enc_emb)\n",
    "\n",
    "# 인코더의 LSTM 2\n",
    "encoder_lstm2 = LSTM(hidden_size, return_sequences=True, return_state=True, dropout=0.4, recurrent_dropout=0.4)\n",
    "encoder_output2, state_h2, state_c2 = encoder_lstm2(encoder_output1)\n",
    "\n",
    "# 인코더의 LSTM 3\n",
    "encoder_lstm3 = LSTM(hidden_size, return_state=True, return_sequences=True, dropout=0.4, recurrent_dropout=0.4)\n",
    "encoder_outputs, state_h, state_c= encoder_lstm3(encoder_output2)"
   ]
  },
  {
   "cell_type": "code",
   "execution_count": 46,
   "id": "competitive-lighting",
   "metadata": {},
   "outputs": [
    {
     "name": "stdout",
     "output_type": "stream",
     "text": [
      "WARNING:tensorflow:Layer lstm_3 will not use cuDNN kernel since it doesn't meet the cuDNN kernel criteria. It will use generic GPU kernel as fallback when running on GPU\n"
     ]
    }
   ],
   "source": [
    "# 디코더 설계\n",
    "\n",
    "decoder_inputs = Input(shape=(None,))\n",
    "\n",
    "# 디코더의 임베딩 층\n",
    "dec_emb_layer = Embedding(tar_vocab, embedding_dim)\n",
    "dec_emb = dec_emb_layer(decoder_inputs)\n",
    "\n",
    "# 디코더의 LSTM\n",
    "decoder_lstm = LSTM(hidden_size, return_sequences = True, return_state = True, dropout = 0.4, recurrent_dropout=0.2)\n",
    "decoder_outputs, _, _ = decoder_lstm(dec_emb, initial_state = [state_h, state_c])"
   ]
  },
  {
   "cell_type": "code",
   "execution_count": 47,
   "id": "reduced-treatment",
   "metadata": {},
   "outputs": [
    {
     "name": "stdout",
     "output_type": "stream",
     "text": [
      "Model: \"model\"\n",
      "__________________________________________________________________________________________________\n",
      "Layer (type)                    Output Shape         Param #     Connected to                     \n",
      "==================================================================================================\n",
      "input_1 (InputLayer)            [(None, 50)]         0                                            \n",
      "__________________________________________________________________________________________________\n",
      "embedding (Embedding)           (None, 50, 128)      2816000     input_1[0][0]                    \n",
      "__________________________________________________________________________________________________\n",
      "lstm (LSTM)                     [(None, 50, 256), (N 394240      embedding[0][0]                  \n",
      "__________________________________________________________________________________________________\n",
      "input_2 (InputLayer)            [(None, None)]       0                                            \n",
      "__________________________________________________________________________________________________\n",
      "lstm_1 (LSTM)                   [(None, 50, 256), (N 525312      lstm[0][0]                       \n",
      "__________________________________________________________________________________________________\n",
      "embedding_1 (Embedding)         (None, None, 128)    1280000     input_2[0][0]                    \n",
      "__________________________________________________________________________________________________\n",
      "lstm_2 (LSTM)                   [(None, 50, 256), (N 525312      lstm_1[0][0]                     \n",
      "__________________________________________________________________________________________________\n",
      "lstm_3 (LSTM)                   [(None, None, 256),  394240      embedding_1[0][0]                \n",
      "                                                                 lstm_2[0][1]                     \n",
      "                                                                 lstm_2[0][2]                     \n",
      "__________________________________________________________________________________________________\n",
      "dense (Dense)                   (None, None, 10000)  2570000     lstm_3[0][0]                     \n",
      "==================================================================================================\n",
      "Total params: 8,505,104\n",
      "Trainable params: 8,505,104\n",
      "Non-trainable params: 0\n",
      "__________________________________________________________________________________________________\n"
     ]
    }
   ],
   "source": [
    "# 디코더의 출력층\n",
    "decoder_softmax_layer = Dense(tar_vocab, activation = 'softmax')\n",
    "decoder_softmax_outputs = decoder_softmax_layer(decoder_outputs) \n",
    "\n",
    "# 모델 정의\n",
    "model = Model([encoder_inputs, decoder_inputs], decoder_softmax_outputs)\n",
    "model.summary()"
   ]
  },
  {
   "cell_type": "code",
   "execution_count": 48,
   "id": "included-portal",
   "metadata": {},
   "outputs": [],
   "source": [
    "urllib.request.urlretrieve(\"https://raw.githubusercontent.com/thushv89/attention_keras/master/src/layers/attention.py\", filename=\"attention.py\")\n",
    "from attention import AttentionLayer"
   ]
  },
  {
   "cell_type": "markdown",
   "id": "absolute-mailman",
   "metadata": {},
   "source": [
    "### 어텐션 : 문장의 단어마다 포커스를 다르게 하여 해석."
   ]
  },
  {
   "cell_type": "code",
   "execution_count": 49,
   "id": "abroad-explorer",
   "metadata": {},
   "outputs": [
    {
     "name": "stdout",
     "output_type": "stream",
     "text": [
      "Model: \"model_1\"\n",
      "__________________________________________________________________________________________________\n",
      "Layer (type)                    Output Shape         Param #     Connected to                     \n",
      "==================================================================================================\n",
      "input_1 (InputLayer)            [(None, 50)]         0                                            \n",
      "__________________________________________________________________________________________________\n",
      "embedding (Embedding)           (None, 50, 128)      2816000     input_1[0][0]                    \n",
      "__________________________________________________________________________________________________\n",
      "lstm (LSTM)                     [(None, 50, 256), (N 394240      embedding[0][0]                  \n",
      "__________________________________________________________________________________________________\n",
      "input_2 (InputLayer)            [(None, None)]       0                                            \n",
      "__________________________________________________________________________________________________\n",
      "lstm_1 (LSTM)                   [(None, 50, 256), (N 525312      lstm[0][0]                       \n",
      "__________________________________________________________________________________________________\n",
      "embedding_1 (Embedding)         (None, None, 128)    1280000     input_2[0][0]                    \n",
      "__________________________________________________________________________________________________\n",
      "lstm_2 (LSTM)                   [(None, 50, 256), (N 525312      lstm_1[0][0]                     \n",
      "__________________________________________________________________________________________________\n",
      "lstm_3 (LSTM)                   [(None, None, 256),  394240      embedding_1[0][0]                \n",
      "                                                                 lstm_2[0][1]                     \n",
      "                                                                 lstm_2[0][2]                     \n",
      "__________________________________________________________________________________________________\n",
      "attention_layer (AttentionLayer ((None, None, 256),  131328      lstm_2[0][0]                     \n",
      "                                                                 lstm_3[0][0]                     \n",
      "__________________________________________________________________________________________________\n",
      "concat_layer (Concatenate)      (None, None, 512)    0           lstm_3[0][0]                     \n",
      "                                                                 attention_layer[0][0]            \n",
      "__________________________________________________________________________________________________\n",
      "dense_1 (Dense)                 (None, None, 10000)  5130000     concat_layer[0][0]               \n",
      "==================================================================================================\n",
      "Total params: 11,196,432\n",
      "Trainable params: 11,196,432\n",
      "Non-trainable params: 0\n",
      "__________________________________________________________________________________________________\n"
     ]
    }
   ],
   "source": [
    "# 어텐션 층(어텐션 함수)\n",
    "attn_layer = AttentionLayer(name='attention_layer')\n",
    "# 인코더와 디코더의 모든 time step의 hidden state를 어텐션 층에 전달하고 결과를 리턴\n",
    "attn_out, attn_states = attn_layer([encoder_outputs, decoder_outputs])\n",
    "\n",
    "# 어텐션의 결과와 디코더의 hidden state들을 연결\n",
    "decoder_concat_input = Concatenate(axis = -1, name='concat_layer')([decoder_outputs, attn_out])\n",
    "\n",
    "# 디코더의 출력층\n",
    "decoder_softmax_layer = Dense(tar_vocab, activation='softmax')\n",
    "decoder_softmax_outputs = decoder_softmax_layer(decoder_concat_input)\n",
    "\n",
    "# 모델 정의\n",
    "model = Model([encoder_inputs, decoder_inputs], decoder_softmax_outputs)\n",
    "model.summary()"
   ]
  },
  {
   "cell_type": "markdown",
   "id": "interesting-collection",
   "metadata": {},
   "source": [
    "## 모델 훈련하기"
   ]
  },
  {
   "cell_type": "code",
   "execution_count": 50,
   "id": "opened-bubble",
   "metadata": {},
   "outputs": [
    {
     "name": "stdout",
     "output_type": "stream",
     "text": [
      "Epoch 1/50\n",
      "308/308 [==============================] - 132s 430ms/step - loss: 4.8762 - val_loss: 4.5323\n",
      "Epoch 2/50\n",
      "308/308 [==============================] - 131s 424ms/step - loss: 4.3638 - val_loss: 4.1773\n",
      "Epoch 3/50\n",
      "308/308 [==============================] - 128s 415ms/step - loss: 4.0584 - val_loss: 3.9477\n",
      "Epoch 4/50\n",
      "308/308 [==============================] - 125s 407ms/step - loss: 3.8222 - val_loss: 3.7638\n",
      "Epoch 5/50\n",
      "308/308 [==============================] - 125s 405ms/step - loss: 3.6397 - val_loss: 3.6509\n",
      "Epoch 6/50\n",
      "308/308 [==============================] - 125s 404ms/step - loss: 3.4908 - val_loss: 3.5343\n",
      "Epoch 7/50\n",
      "308/308 [==============================] - 125s 404ms/step - loss: 3.3660 - val_loss: 3.4780\n",
      "Epoch 8/50\n",
      "308/308 [==============================] - 125s 405ms/step - loss: 3.2565 - val_loss: 3.3912\n",
      "Epoch 9/50\n",
      "308/308 [==============================] - 125s 405ms/step - loss: 3.1586 - val_loss: 3.3384\n",
      "Epoch 10/50\n",
      "308/308 [==============================] - 125s 405ms/step - loss: 3.0733 - val_loss: 3.2867\n",
      "Epoch 11/50\n",
      "308/308 [==============================] - 125s 405ms/step - loss: 2.9975 - val_loss: 3.2439\n",
      "Epoch 12/50\n",
      "308/308 [==============================] - 125s 405ms/step - loss: 2.9280 - val_loss: 3.2220\n",
      "Epoch 13/50\n",
      "308/308 [==============================] - 125s 404ms/step - loss: 2.8654 - val_loss: 3.2035\n",
      "Epoch 14/50\n",
      "308/308 [==============================] - 125s 404ms/step - loss: 2.8094 - val_loss: 3.1710\n",
      "Epoch 15/50\n",
      "308/308 [==============================] - 125s 405ms/step - loss: 2.7565 - val_loss: 3.1422\n",
      "Epoch 16/50\n",
      "308/308 [==============================] - 125s 405ms/step - loss: 2.7067 - val_loss: 3.1239\n",
      "Epoch 17/50\n",
      "308/308 [==============================] - 124s 404ms/step - loss: 2.6605 - val_loss: 3.1196\n",
      "Epoch 18/50\n",
      "308/308 [==============================] - 125s 405ms/step - loss: 2.6180 - val_loss: 3.1005\n",
      "Epoch 19/50\n",
      "308/308 [==============================] - 125s 405ms/step - loss: 2.5795 - val_loss: 3.0746\n",
      "Epoch 20/50\n",
      "308/308 [==============================] - 125s 405ms/step - loss: 2.5421 - val_loss: 3.0801\n",
      "Epoch 21/50\n",
      "308/308 [==============================] - 125s 405ms/step - loss: 2.5039 - val_loss: 3.0818\n",
      "Epoch 00021: early stopping\n"
     ]
    }
   ],
   "source": [
    "model.compile(optimizer='rmsprop', loss='sparse_categorical_crossentropy')\n",
    "es = EarlyStopping(monitor='val_loss', mode='min', verbose=1, patience = 2)\n",
    "history = model.fit(x = [encoder_input_train, decoder_input_train], y = decoder_target_train, \\\n",
    "          validation_data = ([encoder_input_test, decoder_input_test], decoder_target_test),\n",
    "          batch_size = 256, callbacks=[es], epochs = 50)"
   ]
  },
  {
   "cell_type": "code",
   "execution_count": 51,
   "id": "palestinian-alpha",
   "metadata": {},
   "outputs": [
    {
     "data": {
      "image/png": "[encoded data removed]",
      "text/plain": [
       "<Figure size 432x288 with 1 Axes>"
      ]
     },
     "metadata": {
      "needs_background": "light"
     },
     "output_type": "display_data"
    }
   ],
   "source": [
    "plt.plot(history.history['loss'], label='train')\n",
    "plt.plot(history.history['val_loss'], label='test')\n",
    "plt.legend()\n",
    "plt.show()"
   ]
  },
  {
   "cell_type": "markdown",
   "id": "mathematical-insertion",
   "metadata": {},
   "source": [
    "## 인퍼런스 모델 구현하기"
   ]
  },
  {
   "cell_type": "code",
   "execution_count": 52,
   "id": "metropolitan-status",
   "metadata": {},
   "outputs": [],
   "source": [
    "src_index_to_word = src_tokenizer.index_word # 원문 단어 집합에서 정수 -> 단어를 얻음\n",
    "tar_word_to_index = tar_tokenizer.word_index # 요약 단어 집합에서 단어 -> 정수를 얻음\n",
    "tar_index_to_word = tar_tokenizer.index_word # 요약 단어 집합에서 정수 -> 단어를 얻음"
   ]
  },
  {
   "cell_type": "code",
   "execution_count": 53,
   "id": "conscious-future",
   "metadata": {},
   "outputs": [],
   "source": [
    "# 인코더 설계\n",
    "encoder_model = Model(inputs=encoder_inputs, outputs=[encoder_outputs, state_h, state_c])\n",
    "\n",
    "# 이전 시점의 상태들을 저장하는 텐서\n",
    "decoder_state_input_h = Input(shape=(hidden_size,))\n",
    "decoder_state_input_c = Input(shape=(hidden_size,))\n",
    "\n",
    "dec_emb2 = dec_emb_layer(decoder_inputs)\n",
    "# 문장의 다음 단어를 예측하기 위해서 초기 상태(initial_state)를 이전 시점의 상태로 사용. 이는 뒤의 함수 decode_sequence()에 구현\n",
    "# 훈련 과정에서와 달리 LSTM의 리턴하는 은닉 상태와 셀 상태인 state_h와 state_c를 버리지 않음.\n",
    "decoder_outputs2, state_h2, state_c2 = decoder_lstm(dec_emb2, initial_state=[decoder_state_input_h, decoder_state_input_c])"
   ]
  },
  {
   "cell_type": "code",
   "execution_count": 54,
   "id": "documented-jacob",
   "metadata": {},
   "outputs": [],
   "source": [
    "# 어텐션 함수\n",
    "decoder_hidden_state_input = Input(shape=(text_max_len, hidden_size))\n",
    "attn_out_inf, attn_states_inf = attn_layer([decoder_hidden_state_input, decoder_outputs2])\n",
    "decoder_inf_concat = Concatenate(axis=-1, name='concat')([decoder_outputs2, attn_out_inf])\n",
    "\n",
    "# 디코더의 출력층\n",
    "decoder_outputs2 = decoder_softmax_layer(decoder_inf_concat) \n",
    "\n",
    "# 최종 디코더 모델\n",
    "decoder_model = Model(\n",
    "    [decoder_inputs] + [decoder_hidden_state_input,decoder_state_input_h, decoder_state_input_c],\n",
    "    [decoder_outputs2] + [state_h2, state_c2])"
   ]
  },
  {
   "cell_type": "code",
   "execution_count": 55,
   "id": "guilty-lawrence",
   "metadata": {},
   "outputs": [],
   "source": [
    "def decode_sequence(input_seq):\n",
    "    # 입력으로부터 인코더의 상태를 얻음\n",
    "    e_out, e_h, e_c = encoder_model.predict(input_seq)\n",
    "\n",
    "     # <SOS>에 해당하는 토큰 생성\n",
    "    target_seq = np.zeros((1,1))\n",
    "    target_seq[0, 0] = tar_word_to_index['sostoken']\n",
    "\n",
    "    stop_condition = False\n",
    "    decoded_sentence = ''\n",
    "    while not stop_condition: # stop_condition이 True가 될 때까지 루프 반복\n",
    "\n",
    "        output_tokens, h, c = decoder_model.predict([target_seq] + [e_out, e_h, e_c])\n",
    "        sampled_token_index = np.argmax(output_tokens[0, -1, :])\n",
    "        sampled_token = tar_index_to_word[sampled_token_index]\n",
    "\n",
    "        if(sampled_token!='eostoken'):\n",
    "            decoded_sentence += ' '+sampled_token\n",
    "\n",
    "        #  <eos>에 도달하거나 최대 길이를 넘으면 중단.\n",
    "        if (sampled_token == 'eostoken'  or len(decoded_sentence.split()) >= (headlines_max_len-1)):\n",
    "            stop_condition = True\n",
    "\n",
    "        # 길이가 1인 타겟 시퀀스를 업데이트\n",
    "        target_seq = np.zeros((1,1))\n",
    "        target_seq[0, 0] = sampled_token_index\n",
    "\n",
    "        # 상태를 업데이트 합니다.\n",
    "        e_h, e_c = h, c\n",
    "\n",
    "    return decoded_sentence"
   ]
  },
  {
   "cell_type": "markdown",
   "id": "altered-blast",
   "metadata": {},
   "source": [
    "## 모델 테스트"
   ]
  },
  {
   "cell_type": "code",
   "execution_count": 56,
   "id": "floating-deadline",
   "metadata": {},
   "outputs": [],
   "source": [
    "# 원문의 정수 시퀀스를 텍스트 시퀀스로 변환\n",
    "def seq2text(input_seq):\n",
    "    temp=''\n",
    "    for i in input_seq:\n",
    "        if(i!=0):\n",
    "            temp = temp + src_index_to_word[i]+' '\n",
    "    return temp\n",
    "\n",
    "# 요약문의 정수 시퀀스를 텍스트 시퀀스로 변환\n",
    "def seq2headlines(input_seq):\n",
    "    temp=''\n",
    "    for i in input_seq:\n",
    "        if((i!=0 and i!=tar_word_to_index['sostoken']) and i!=tar_word_to_index['eostoken']):\n",
    "            temp = temp + tar_index_to_word[i] + ' '\n",
    "    return temp"
   ]
  },
  {
   "cell_type": "code",
   "execution_count": 57,
   "id": "round-blast",
   "metadata": {},
   "outputs": [
    {
     "name": "stdout",
     "output_type": "stream",
     "text": [
      "원문 : flipkart co founder binny bansal said flipkart look investing less startups time probably cash commerce startup needed flipkart backing local startups non series rounds added may consider companies prove strategic flipkart business bansal said nn \n",
      "실제 요약 : flipkart will look at investing less in startups binny bansal \n",
      "예측 요약 :  flipkart flipkart is the best in flipkart binny bansal\n",
      "\n",
      "\n",
      "원문 : video passenger grabbed microphone sang song told flight delay us airport gone viral staff check counter also participated fellow travellers cheered along reportedly incident occurred southwest airlines staff said passengers questions regarding delay must sing first \n",
      "실제 요약 : man sings no during flight delay video goes viral \n",
      "예측 요약 :  video shows man with airport mid air airport\n",
      "\n",
      "\n",
      "원문 : video showing actress alia bhatt dancing song hawa hawa film mubarakan emerged online video wedding function friend mehta alia seen wearing pink lehenga floral details designed fashion designer kr bajaj \n",
      "실제 요약 : alia dances to hawa hawa at friend wedding function \n",
      "예측 요약 :  jacqueline sings for sonam starrer wedding in\n",
      "\n",
      "\n",
      "원문 : indian fast bowler ishant sharma scored maiden fifty balls th professional cricket match saturday year old achieved feat playing sussex leicestershire county cricket match ishant previous highest score professional cricket scored sri lanka test match \n",
      "실제 요약 : ishant sharma hits first in his th professional match \n",
      "예측 요약 :  ishant sharma hits his th odi fifty in an odi\n",
      "\n",
      "\n",
      "원문 : video shows four legged robot made boston dynamics opening door despite obstruction man first robot stick pushes door prevent opening finally tries pull robot back robot however managed open door even one body parts fell \n",
      "실제 요약 : video shows robot opening door despite human stopping it \n",
      "예측 요약 :  video shows robot that crashes into door in us\n",
      "\n",
      "\n",
      "원문 : comedian kunal revealed facebook post asked mumbai move house due political issues shared conversation whatsapp wherein gave one month notice post wrote consequences making fun people power \n",
      "실제 요약 : comedian asked to vacate house over political views \n",
      "예측 요약 :  if you do not know it is not facebook to get news of\n",
      "\n",
      "\n",
      "원문 : akshay kumar salman khan surpassed ranking avengers actor chris evans portrays captain america indians feature forbes list world highest paid actors earnings crore akshay ranked th salman earnings crore ranked th evans rounds list tenth spot \n",
      "실제 요약 : akshay salman beat avengers actor in highest paid actors list \n",
      "예측 요약 :  salman beats salman to become most powerful people in forbes\n",
      "\n",
      "\n",
      "원문 : british man reportedly turned volkswagen pick truck rolls royce jet powered vehicle jet engine allows truck travel kmph man already holds guinness world record world smallest road legal car expects volkswagen truck recognised world powerful road registered car \n",
      "실제 요약 : man adds rolls royce jet engine to volkswagen truck \n",
      "예측 요약 :  chinese man unveils drone powered plane with km landing\n",
      "\n",
      "\n",
      "원문 : monkeys died last week uttar pradesh amroha district due suspected poisoning meanwhile local residents claimed died due bodies monkeys sent post mortem actual cause death yet ascertained \n",
      "실제 요약 : over monkeys die in up locals blame \n",
      "예측 요약 :  dead after being hit by lightning in uttarakhand\n",
      "\n",
      "\n",
      "원문 : television anchor gaurav kapur slammed news channel interview indian cricket team captain virat kohli claiming exclusive channel aired footage kapur show breakfast champions along news kohli wedding actor anushka sharma video shows kohli talking girlfriend anushka \n",
      "실제 요약 : anchor slams tv channel over exclusive claim \n",
      "예측 요약 :  video shows virat anushka virat kohli\n",
      "\n",
      "\n",
      "원문 : pm narendra modi pakistani origin rakhi sister qamar mohsin shaikh tying rakhi years sunday said difference behaviour known since time rss worker got busy get less time added \n",
      "실제 요약 : no difference in his behaviour pm modi pakistani rakhi sister \n",
      "예측 요약 :  was in pak for yrs of pm modi on vajpayee demise\n",
      "\n",
      "\n",
      "원문 : many ten states account way bills generated last three weeks gst network said crore bills generated way portal till april maximum way bills generated gujarat lakh followed lakh generated karnataka lakh maharashtra \n",
      "실제 요약 : ten states account for of way bill generation gstn \n",
      "예측 요약 :  gst collection of lakh in days in days\n",
      "\n",
      "\n",
      "원문 : trump administration temporary travel ban cannot stop grandparents relatives us citizens entering country judge ruled thursday supreme court earlier said ban could apply people fide relationships americans us interpreted allow spouses parents children fianc siblings barred grandparents relatives \n",
      "실제 요약 : trump travel ban cannot stop us judge rules \n",
      "예측 요약 :  us bans travel ban on travel ban on sc ban\n",
      "\n",
      "\n",
      "원문 : nasa funded study uncovered origins sun swirling grass like plasma jets go upto km sun surface scientists simulated short lived jets found formed charged particles bound magnetic fields hit neutral particles scientists believe responsible heating sun atmosphere propelling solar wind \n",
      "실제 요약 : scientists uncover origin of sun like plasma jets \n",
      "예측 요약 :  astronomers find solar eclipse of solar eclipse\n",
      "\n",
      "\n",
      "원문 : sixteen year old saurabh chaudhary india first shooting gold asian games tuesday revealed likes farming saurabh son farmer based village meerut competing first senior event get much time training whenever go back village help father saurabh said \n",
      "실제 요약 : like farming year old saurabh after winning asiad gold \n",
      "예측 요약 :  indian shooter wins silver at cwg youth in india\n",
      "\n",
      "\n",
      "원문 : maharashtra state commission women decided install sanitary pad vending machines nine prisons state machines burn used napkins help disposal also installed jail authorities bear maintenance cost decide whether give pads nominal cost free inmates \n",
      "실제 요약 : maharashtra to get sanitary pad vending machines \n",
      "예측 요약 :  maharashtra to install sanitary pad vending machines\n",
      "\n",
      "\n",
      "원문 : first interview flipkart raised billion announced acquiring ebay india operations flipkart group ceo binny bansal said previously myntra jabong want repeat ebay added ebay business roll flipkart ceo kalyan krishnamurthy managed different team altogether \n",
      "실제 요약 : we want to with ebay what we did with myntra binny \n",
      "예측 요약 :  flipkart flipkart may become india largest flipkart binny\n",
      "\n",
      "\n",
      "원문 : bjp karnataka cm candidate bs yeddyurappa saturday said get seats going make government may people fed siddaramaiah government urge people come vote bjp assure people karnataka going give good governance added \n",
      "실제 요약 : bjp will get over seats in taka party cm candidate \n",
      "예측 요약 :  will ensure majority reservation if taka cm to taka cm\n",
      "\n",
      "\n",
      "원문 : actress yami gautam star along shahid kapoor upcoming film batti gul meter chalu announcing twitter tagging shahid shraddha kapoor also said starring film yami wrote super happy commence special journey film directed toilet ek prem katha director shree narayan singh \n",
      "실제 요약 : yami gautam to star with shahid in batti gul meter chalu \n",
      "예측 요약 :  jacqueline to star in batti gul meter chalu reports\n",
      "\n",
      "\n",
      "원문 : former students bengaluru institute technology developed cement less bricks using new technology environment friendly founded startup around idea cement less brick patented mixture nearly half price regular brick takes half time greater strength one students said \n",
      "실제 요약 : bengaluru team makes environment friendly cement less bricks \n",
      "예측 요약 :  iit students to get electric electric market\n",
      "\n",
      "\n",
      "원문 : us president donald trump said russian counterpart vladimir putin felt insulted allegations russian interference us elections trump said believed putin adding russian president denial every time investigations russia alleged collusion campaign could destroy relations two countries said \n",
      "실제 요약 : putin by allegations of election meddling trump \n",
      "예측 요약 :  putin putin election meddling in russia putin\n",
      "\n",
      "\n",
      "원문 : google suspended fact check feature search news results algorithm reportedly linked washington post fact check another article google spokesperson confirmed company ending reviewed claims section knowledge panel feature google launched feature last year highlight articles search results fact checked \n",
      "실제 요약 : google suspends faulty fact check feature in search results \n",
      "예측 요약 :  google to allow users to remove ads from its own ads\n",
      "\n",
      "\n",
      "원문 : us president donald trump wednesday called end us green card lottery programme saying allowed new york terror attack suspect enter us instead called merit based programme replace lottery system officially known diversity visa lottery programme grants permanent us residency around immigrants every year \n",
      "실제 요약 : us president trump calls to end green card lottery programme \n"
     ]
    },
    {
     "name": "stdout",
     "output_type": "stream",
     "text": [
      "예측 요약 :  trump signs plan to us govt for terror attacks\n",
      "\n",
      "\n",
      "원문 : viral video canada shows sea lion grabbing young girl dress pulling underwater onlookers screamed man thought relative jumped water rescued sea lion seemed drawn dock visitors throwing bread water \n",
      "실제 요약 : video sea lion grabs girl pulls her underwater \n",
      "예측 요약 :  video shows baby girl survives after falling into lake\n",
      "\n",
      "\n",
      "원문 : kg gold worth crore seized pakistani truck punjab attari border following driver interrogated gold meant delhi based traders smuggled apple consignment coming afghanistan via pakistan seizure among biggest indian agency along india pakistan border years customs said \n",
      "실제 요약 : gold worth crore seized from pak truck at border \n",
      "예측 요약 :  gold worth lakh stolen from pak airport in pak\n",
      "\n",
      "\n",
      "원문 : west indies player celebrated second test century scored england birmingham june holding note read viv talk scored century three years held note response sir viv richards criticism batting later fined protest \n",
      "실제 요약 : wi player once celebrated ton with viv talk note \n",
      "예측 요약 :  bradman celebrates day ton on day after st day in test\n",
      "\n",
      "\n",
      "원문 : international olympic committee announced creation new panel cyber security months leak confidential document investigation russian doping scandal member panel called digital technology commission help guide international committee strategy information security provide cyber security \n",
      "실제 요약 : ioc creates advisory panel for cyber security after hacking \n",
      "예측 요약 :  new zealand to probe mn in south africa report\n",
      "\n",
      "\n",
      "원문 : government raised basic customs duty several electronic items communication devices bid narrow current account deficit customs duty items like smart watches voice internet protocol equipment among others hiked last month government raised import tax items including refrigerators \n",
      "실제 요약 : govt raises import tax on electronic communication items \n",
      "예측 요약 :  govt to use electric vehicles to buy electric vehicles\n",
      "\n",
      "\n",
      "원문 : google vp diversity integrity governance danielle brown responded page anti diversity memo reportedly written one employees said document viewpoint company endorsed promoted however brown also added google culture alternative views feel safe sharing opinions \n",
      "실제 요약 : google responds to page anti diversity memo by employee \n",
      "예측 요약 :  google co founder quits after being denied leave\n",
      "\n",
      "\n",
      "원문 : commenting kerala nun allegedly raped roman catholic bishop franco mulakkal independent mla pc george kerala constituency said twelve times enjoyed time rape calling nun prostitute added complain first time nun family reportedly initiate legal action george \n",
      "실제 요약 : times she enjoyed it th time it is rape mla on nun rape case \n",
      "예측 요약 :  kerala nun rape accused bishop kerala mla\n",
      "\n",
      "\n",
      "원문 : mizo national front candidate seat mizoram assembly elections margin three votes received total votes beating congress received votes assembly elections contested aizawl north iii constituency lost congress lal votes \n",
      "실제 요약 : an mnf candidate won seat in mizoram elections by just votes \n",
      "예측 요약 :  wins seats in gujarat polls in gujarat polls\n",
      "\n",
      "\n",
      "원문 : volvo trucks new model volvo achieved guinness world record largest object packed inside standard box made cardboard completely truck needed opened manually truck removed box without destroying box process \n",
      "실제 요약 : truck becomes world largest object \n",
      "예측 요약 :  world most powerful car catches in china\n",
      "\n",
      "\n",
      "원문 : video congress president rahul gandhi facing chants modi modi bjp supporters visit temple gujarat emerged online supporters gathered outside temple gandhi leaving temple premises visit came day first phase gujarat assembly elections \n",
      "실제 요약 : video rahul faces modi chants during gujarat temple visit \n",
      "예측 요약 :  rahul gandhi visits temple in temple in bihar\n",
      "\n",
      "\n",
      "원문 : conor mcgregor reportedly earned around million floyd mayweather bout shared pictures alongside one world expensive mcgregor called million sailing yacht owned russian billionaire andrey truly motivating added starting think wealth belly yet rich fat \n",
      "실제 요약 : do not have wealth just yet mcgregor on mn yacht \n",
      "예측 요약 :  mcgregor mayweather mcgregor mayweather mayweather mayweather to mayweather in mcgregor\n",
      "\n",
      "\n",
      "원문 : cricket australia threatened stop pay men women cricketers fail agree new compensation model june threats players including shane watson mitch starc pat cummins threatened go strike boycott ashes interesting game cricket without players tweeted watson \n",
      "실제 요약 : cricket aus threatens to stop pay players threaten strike \n",
      "예측 요약 :  australia australia team fined for failing to pay for australia\n",
      "\n",
      "\n",
      "원문 : google awarded nearly lakh researcher finding bugs pixel devices exploit chain consisted two bugs together could inject arbitrary code system server accessing malicious url chrome around lakh reward given google android security rewards program highest program history \n",
      "실제 요약 : google awards man lakh for finding bugs in pixel phone \n",
      "예측 요약 :  google parent bug to malware in finding bugs\n",
      "\n",
      "\n",
      "원문 : slamming centre decision privatise air india bjp leader rajya sabha mp subramanian swamy said potentially another scam making selling family silver divestment watching added said would file private criminal law complaint finds \n",
      "실제 요약 : air india disinvestment scam in making swamy \n",
      "예측 요약 :  subramanian swamy is subramanian swamy\n",
      "\n",
      "\n",
      "원문 : seventeen time grand slam champion rafael nadal tie knot longtime girlfriend autumn ceremony hometown according spanish magazine nadal dating since reportedly got engaged trip rome may last year couple kept engagement private recently \n",
      "실제 요약 : nadal to marry girlfriend this year after years of dating report \n",
      "예측 요약 :  serena williams marries his own boyfriend\n",
      "\n",
      "\n",
      "원문 : international space station first component launched space russian proton rocket kazakhstan november first long duration stay billion space station november march following always uninterrupted human presence iss \n",
      "실제 요약 : st ever space station was launched by russian rocket \n",
      "예측 요약 :  space station astronauts to be made by astronauts in\n",
      "\n",
      "\n",
      "원문 : speaking protests sanjay leela bhansali directorial padmavati producer photographer atul said become religious god vulnerable mine problem subject film watch added atul said padmavati essentially fictitious character \n",
      "실제 요약 : is your god so vulnerable mine on padmavati row \n",
      "예측 요약 :  god is god of god padmaavat not god sanjay\n",
      "\n",
      "\n",
      "원문 : andhra pradesh police conducted searches reddy led ysr congress party headquarters hyderabad facebook posts made man reportedly works opposition party social media team reports also suggest government likely set social media regulatory authority control social media platforms \n",
      "실제 요약 : andhra police raid ysr cong office over offensive fb post \n",
      "예측 요약 :  andhra police arrest facebook for anti social media\n",
      "\n",
      "\n",
      "원문 : congress leader sandeep dikshit sunday said indian army chief bipin rawat talks like sadak ka dikshit added expected pakistan like mafia chief make slammed remarks social media dikshit apologised saying genuinely believe said wrong \n",
      "실제 요약 : indian army chief talks like sadak ka congress leader \n",
      "예측 요약 :  army chief calls army chief over remark on kashmir\n",
      "\n",
      "\n",
      "원문 : shiv sena mp ravindra gaikwad reportedly booked ticket air india flight revoked ban parliamentarian travelled rajdhani express instead gaikwad private secretary krishna said travelled mumbai delhi train found convenient complexity issue \n",
      "실제 요약 : gaikwad books flight ticket travels by train instead \n",
      "예측 요약 :  shiv sena mp gaikwad gaikwad with india flight\n",
      "\n",
      "\n",
      "원문 : china us based researchers captured oldest ice core ever drilled outside polar regions dating back lakh years modern humans appeared found tibet ice cap foot sample nearly long eiffel tower height studied assemble one longest ever records earth climate history \n",
      "실제 요약 : scientists drill out oldest ever non polar ice core \n",
      "예측 요약 :  world oldest dinosaur fossil to be oldest dinosaur\n",
      "\n",
      "\n",
      "원문 : chatbot lawyer called created stanford university student joshua reportedly saved clients nearly crore defeating lakh parking tickets two years artificial intelligence powered bot available us uk lets users search queries like got unfair parking ticket generates appeal letters case case basis \n",
      "실제 요약 : robot lawyer saves clients crore in parking ticket fines \n"
     ]
    },
    {
     "name": "stdout",
     "output_type": "stream",
     "text": [
      "예측 요약 :  lakh stolen from crore in bengaluru\n",
      "\n",
      "\n",
      "원문 : shah rukh khan salman khan rumoured girlfriend iulia vantur among attendees politician baba iftar party saturday tubelight child actor matin rey preity zinta also attended party iftar party shah rukh salman interacted hugged talking terms five years \n",
      "실제 요약 : srk salman iulia attend baba iftar party \n",
      "예측 요약 :  srk dances with salman khan party party party party\n",
      "\n",
      "\n",
      "원문 : ahead india pakistan tie icc women world cup today bollywood actress richa chadha posted video instagram asking fans show support indian women cricket team actress said support shown teams irrespective gender come show support team india part video caption read \n",
      "실제 요약 : richa chadha urges fans to show support for women team \n",
      "예측 요약 :  pak team trolls pak for women on women in tweet\n",
      "\n",
      "\n",
      "원문 : following australia th consecutive away odi loss indian spinner harbhajan singh said current australian team like sri lankan team playing yellow jersey think australia anyone finch warner steve smith take team forward added earlier harbhajan asked michael clarke come retirement rescue australia \n",
      "실제 요약 : harbhajan calls australia cricket team sri lanka in yellow \n",
      "예측 요약 :  aus odi series will not be aus captain ganguly\n",
      "\n",
      "\n",
      "원문 : actress kriti slamming hina khan remark south indian film industry prefers women said mean hi someone asked put weight probably needed character added kriti said rather unfortunate actor talking like \n",
      "실제 요약 : do kriti on hina actress remark \n",
      "예측 요약 :  women should be called women to be actress on women\n",
      "\n",
      "\n",
      "원문 : researchers uncovered mechanism allowing bacteria survive human immune system identified dna binding bacterial protein plays key role bacterium resistance oxide produced response infection structural changes observed protein showed switched dna binding non binding forms regulating genes combating immune system \n",
      "실제 요약 : scientists uncover how bacteria survive human system \n",
      "예측 요약 :  scientists print grow in mice\n",
      "\n",
      "\n"
     ]
    }
   ],
   "source": [
    "for i in range(50, 100):\n",
    "    print(\"원문 :\", seq2text(encoder_input_test[i]))\n",
    "    print(\"실제 요약 :\", seq2headlines(decoder_input_test[i]))\n",
    "    print(\"예측 요약 :\", decode_sequence(encoder_input_test[i].reshape(1, text_max_len)))\n",
    "    print(\"\\n\")"
   ]
  },
  {
   "cell_type": "code",
   "execution_count": null,
   "id": "conventional-boston",
   "metadata": {},
   "outputs": [],
   "source": []
  }
 ],
 "metadata": {
  "kernelspec": {
   "display_name": "aiffel",
   "language": "python",
   "name": "aiffel"
  },
  "language_info": {
   "codemirror_mode": {
    "name": "ipython",
    "version": 3
   },
   "file_extension": ".py",
   "mimetype": "text/x-python",
   "name": "python",
   "nbconvert_exporter": "python",
   "pygments_lexer": "ipython3",
   "version": "3.7.9"
  }
 },
 "nbformat": 4,
 "nbformat_minor": 5
}
