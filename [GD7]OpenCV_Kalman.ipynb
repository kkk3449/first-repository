{
 "cells": [
  {
   "cell_type": "code",
   "execution_count": 1,
   "id": "8d2d39e0",
   "metadata": {},
   "outputs": [],
   "source": [
    "from moviepy.editor import VideoClip, VideoFileClip\n",
    "from moviepy.editor import ipython_display\n",
    "import cv2\n",
    "import numpy as np\n",
    "import os"
   ]
  },
  {
   "cell_type": "markdown",
   "id": "9db43736",
   "metadata": {},
   "source": [
    "샘플로 제공된 video2.mp4를 moviepy로 읽어서 width=640으로 축소하여 화면에 플레이해 보고, 플레이한 내용을 mvpyresult.mp4라는 파일로 저장  \n",
    "저장이 완료되면 샘플 원본과 새롭게 저장된 동영상 파일을 열어서 두 영상의 화면크기나 파일 사이즈를 비교"
   ]
  },
  {
   "cell_type": "code",
   "execution_count": 2,
   "id": "33b83ef2",
   "metadata": {},
   "outputs": [
    {
     "name": "stderr",
     "output_type": "stream",
     "text": [
      "t:   0%|          | 0/404 [00:00<?, ?it/s, now=None]                "
     ]
    },
    {
     "name": "stdout",
     "output_type": "stream",
     "text": [
      "Moviepy - Building video /home/aiffel-dj17/aiffel/video_sticker_app/images/mvpyresult.mp4.\n",
      "MoviePy - Writing audio in mvpyresultTEMP_MPY_wvf_snd.mp3\n",
      "MoviePy - Done.\n",
      "Moviepy - Writing video /home/aiffel-dj17/aiffel/video_sticker_app/images/mvpyresult.mp4\n",
      "\n"
     ]
    },
    {
     "name": "stderr",
     "output_type": "stream",
     "text": [
      "                                                               \r"
     ]
    },
    {
     "name": "stdout",
     "output_type": "stream",
     "text": [
      "Moviepy - Done !\n",
      "Moviepy - video ready /home/aiffel-dj17/aiffel/video_sticker_app/images/mvpyresult.mp4\n"
     ]
    }
   ],
   "source": [
    "# 읽기\n",
    "video_path = os.getenv('HOME')+'/aiffel/video_sticker_app/images/video2.mp4'\n",
    "clip = VideoFileClip(video_path)\n",
    "clip = clip.resize(width=640)\n",
    "clip.ipython_display(fps=30, loop=True, autoplay=True, rd_kwargs=dict(logger=None))\n",
    "\n",
    "# 쓰기\n",
    "result_video_path = os.getenv('HOME')+'/aiffel/video_sticker_app/images/mvpyresult.mp4'\n",
    "clip.write_videofile(result_video_path)"
   ]
  },
  {
   "cell_type": "markdown",
   "id": "d4758d6b",
   "metadata": {},
   "source": [
    "moviepy 로 읽은 동영상을 numpy 형태로 변환하고 영상 밝기를 50% 어둡게 만든 후에 저장"
   ]
  },
  {
   "cell_type": "code",
   "execution_count": 3,
   "id": "f1c17b38",
   "metadata": {},
   "outputs": [
    {
     "name": "stderr",
     "output_type": "stream",
     "text": [
      "t:  12%|█▏        | 48/403 [00:00<00:00, 413.50it/s, now=None]"
     ]
    },
    {
     "name": "stdout",
     "output_type": "stream",
     "text": [
      "Moviepy - Building video /home/aiffel-dj17/aiffel/video_sticker_app/images/mvpyresult2.mp4.\n",
      "Moviepy - Writing video /home/aiffel-dj17/aiffel/video_sticker_app/images/mvpyresult2.mp4\n",
      "\n"
     ]
    },
    {
     "name": "stderr",
     "output_type": "stream",
     "text": [
      "                                                               \r"
     ]
    },
    {
     "name": "stdout",
     "output_type": "stream",
     "text": [
      "Moviepy - Done !\n",
      "Moviepy - video ready /home/aiffel-dj17/aiffel/video_sticker_app/images/mvpyresult2.mp4\n"
     ]
    }
   ],
   "source": [
    "# 읽기\n",
    "video_path = os.getenv('HOME')+'/aiffel/video_sticker_app/images/video2.mp4'\n",
    "clip = VideoFileClip(video_path)\n",
    "clip = clip.resize(width=640)\n",
    "clip.ipython_display(fps=30, loop=True, autoplay=True, rd_kwargs=dict(logger=None))\n",
    "\n",
    "# clip 에서 numpy 로 데이터 추출\n",
    "vlen = int(clip.duration*clip.fps)\n",
    "video_container = np.zeros((vlen, clip.size[1], clip.size[0], 3), dtype=np.uint8)\n",
    "for i in range(vlen):\n",
    "    img = clip.get_frame(i/clip.fps)\n",
    "    video_container[i] = (img * 0.5).astype(np.uint8)\n",
    "\n",
    "# 새 clip 만들기\n",
    "dur = vlen / clip.fps\n",
    "outclip = VideoClip(lambda t: video_container[int(round(t*clip.fps))], duration=dur)\n",
    "\n",
    "# 쓰기\n",
    "result_video_path2 = os.getenv('HOME')+'/aiffel/video_sticker_app/images/mvpyresult2.mp4'\n",
    "outclip.write_videofile(result_video_path2, fps=30)"
   ]
  },
  {
   "cell_type": "markdown",
   "id": "584eaec9",
   "metadata": {},
   "source": [
    "3. 영상을 읽고 쓰는 시간을 측정. OpenCV를 사용할 때와 차이를 측정"
   ]
  },
  {
   "cell_type": "code",
   "execution_count": 4,
   "id": "5b04f9ab",
   "metadata": {},
   "outputs": [
    {
     "name": "stderr",
     "output_type": "stream",
     "text": [
      "t:  12%|█▏        | 48/403 [00:00<00:01, 334.69it/s, now=None]"
     ]
    },
    {
     "name": "stdout",
     "output_type": "stream",
     "text": [
      "Moviepy - Building video /home/aiffel-dj17/aiffel/video_sticker_app/images/mvpyresult.mp4.\n",
      "Moviepy - Writing video /home/aiffel-dj17/aiffel/video_sticker_app/images/mvpyresult.mp4\n",
      "\n"
     ]
    },
    {
     "name": "stderr",
     "output_type": "stream",
     "text": [
      "                                                               "
     ]
    },
    {
     "name": "stdout",
     "output_type": "stream",
     "text": [
      "Moviepy - Done !\n",
      "Moviepy - video ready /home/aiffel-dj17/aiffel/video_sticker_app/images/mvpyresult.mp4\n",
      "[INFO] moviepy time : 3.40ms\n"
     ]
    },
    {
     "name": "stderr",
     "output_type": "stream",
     "text": [
      "\r"
     ]
    }
   ],
   "source": [
    "# CASE 1 : moviepy 사용\n",
    "start = cv2.getTickCount()\n",
    "clip = VideoFileClip(video_path)\n",
    "clip = clip.resize(width=640)\n",
    "\n",
    "vlen = int(clip.duration*clip.fps)\n",
    "video_container = np.zeros((vlen, clip.size[1], clip.size[0], 3), dtype=np.uint8)\n",
    "\n",
    "for i in range(vlen):\n",
    "    img = clip.get_frame(i/clip.fps)\n",
    "    video_container[i] = (img * 0.5).astype(np.uint8)\n",
    "\n",
    "dur = vlen / clip.fps\n",
    "outclip = VideoClip(lambda t: video_container[int(round(t*clip.fps))], duration=dur)\n",
    "\n",
    "mvpy_video_path = os.getenv('HOME')+'/aiffel/video_sticker_app/images/mvpyresult.mp4'\n",
    "outclip.write_videofile(mvpy_video_path, fps=30)\n",
    "\n",
    "time = (cv2.getTickCount() - start) / cv2.getTickFrequency()\n",
    "print (f'[INFO] moviepy time : {time:.2f}ms')"
   ]
  },
  {
   "cell_type": "code",
   "execution_count": 5,
   "id": "90efd665",
   "metadata": {},
   "outputs": [
    {
     "name": "stdout",
     "output_type": "stream",
     "text": [
      "[INFO] cv time : 1.74ms\n"
     ]
    }
   ],
   "source": [
    "# CASE 2 : OpenCV 사용\n",
    "start = cv2.getTickCount()\n",
    "vc = cv2.VideoCapture(video_path)\n",
    "\n",
    "cv_video_path = os.getenv('HOME')+'/aiffel/video_sticker_app/images/cvresult.mp4'\n",
    "fourcc = cv2.VideoWriter_fourcc(*'mp4v')\n",
    "vw = cv2.VideoWriter(cv_video_path, fourcc, 30, (640,360))\n",
    "\n",
    "vlen = int(vc.get(cv2.CAP_PROP_FRAME_COUNT))\n",
    "\n",
    "for i in range(vlen):\n",
    "    ret, img = vc.read()\n",
    "    if ret == False: break\n",
    "    \n",
    "    img_result = cv2.resize(img, (640, 360)) * 0.5\n",
    "    vw.write(img_result.astype(np.uint8))\n",
    "    \n",
    "time = (cv2.getTickCount() - start) / cv2.getTickFrequency()\n",
    "print (f'[INFO] cv time : {time:.2f}ms')"
   ]
  },
  {
   "cell_type": "markdown",
   "id": "54e420dc",
   "metadata": {},
   "source": [
    "# moviepy 를 이용할 때의 장단점을 분석\n",
    "- moviepy의 장점은 opencv보다 약 2배 빠르다는 것이다. 단점은 범용성이 적다. opencv는 python 말고도 c,c++, 자바, 매트랩, OCTAVE에서도 쓸수 있지만 moviepy는 파이썬에서만 사용가능하다."
   ]
  },
  {
   "cell_type": "markdown",
   "id": "57327bdd",
   "metadata": {},
   "source": [
    "## (4) 스티커앱 분석 - 거리, 인원 수, 각도, 시계열 안정성\n",
    "- 문제 : 인원이 2명 이상일 때 제대로 작동하지 않는다\n",
    "![ezgif com-gif-maker](https://user-images.githubusercontent.com/60597598/117774729-c2422f80-b274-11eb-85fb-9bf27da56b49.gif)\n",
    "- mp4 : https://drive.google.com/file/d/1gwg36FzlDtkOf1Dhp8bzccI_u3RGrlc9/view?usp=sharing"
   ]
  },
  {
   "cell_type": "markdown",
   "id": "5744ffd4",
   "metadata": {},
   "source": [
    "## 칼만필터 적용하기\n",
    "```\n",
    "cd ~/aiffel/video_sticker_app && python webcam_sticker_kf.py\n",
    "```"
   ]
  },
  {
   "cell_type": "code",
   "execution_count": null,
   "id": "d4c3d016",
   "metadata": {},
   "outputs": [],
   "source": [
    "import numpy as np\n",
    "import cv2\n",
    "import dlib\n",
    "\n",
    "from kfaddsticker import img2sticker_kf\n",
    "\n",
    "detector_hog = dlib.get_frontal_face_detector()\n",
    "landmark_predictor = dlib.shape_predictor('./models/shape_predictor_68_face_landmarks.dat')\n",
    "\n",
    "def main():\n",
    "    cv2.namedWindow('show', 0)\n",
    "    cv2.resizeWindow('show', 640, 360)\n",
    "\n",
    "    #vc = cv2.VideoCapture(0)\n",
    "    vc = cv2.VideoCapture('./images/video2.mp4')\n",
    "    img_sticker = cv2.imread('./images/king.png')\n",
    "\n",
    "    vlen = int(vc.get(cv2.CAP_PROP_FRAME_COUNT))\n",
    "    print (vlen) # 웹캠은 video length 가 0 입니다.\n",
    "     # writer 초기화\n",
    "    fourcc = cv2.VideoWriter_fourcc(*'mp4v')\n",
    "    vw = cv2.VideoWriter('./images/result123.mp4', fourcc, 30, (1280, 720)) \n",
    "    \n",
    "    # 정해진 길이가 없기 때문에 while 을 주로 사용합니다.\n",
    "    for i in range(vlen):\n",
    "    #while True:\n",
    "        ret, img = vc.read()\n",
    "        if ret == False:\n",
    "            break\n",
    "        start = cv2.getTickCount()\n",
    "        img = cv2.flip(img, 1)  # 보통 웹캠은 좌우 반전\n",
    "\n",
    "        # 스티커 메소드를 사용\n",
    "        img_result = img2sticker_kf(img, img_sticker.copy(), detector_hog, landmark_predictor)   \n",
    "\n",
    "        time = (cv2.getTickCount() - start) / cv2.getTickFrequency() * 1000\n",
    "        print ('[INFO] time: %.2fms'%time)\n",
    "        \n",
    "        vw.write(cv2.resize(img_result, (1280,720))) # save\n",
    "        \n",
    "        cv2.imshow('show', img_result)\n",
    "        key = cv2.waitKey(1)\n",
    "        if key == 27:\n",
    "            break\n",
    "            \n",
    "    vw.release()\n",
    "    cv2.destroyAllWindows()\n",
    "\n",
    "if __name__ == '__main__':\n",
    "    main()"
   ]
  },
  {
   "cell_type": "markdown",
   "id": "96f2f77a",
   "metadata": {},
   "source": [
    "## 칼만필터 gif\n",
    "- 용량이 커서 해상도를 줄이는 과정에 조금 깨진것 처럼 보입니다.\n",
    "- 칼만필터 gif 원본 mp4 : https://drive.google.com/file/d/1ZSadtwi6jTPjd224-KUti1N3ONjgcFSC/view?usp=sharing"
   ]
  },
  {
   "cell_type": "markdown",
   "id": "10f97584",
   "metadata": {},
   "source": [
    "![result123 (1)](https://user-images.githubusercontent.com/60597598/117763973-b3548080-b266-11eb-92c4-16361fe09531.gif)"
   ]
  },
  {
   "cell_type": "markdown",
   "id": "e79268f8",
   "metadata": {},
   "source": [
    "## 코드 수정 사항\n",
    "- 왕관 잘릴 때 오류 나는 문제 해결을 위해 코드 추가"
   ]
  },
  {
   "cell_type": "markdown",
   "id": "b2c87411",
   "metadata": {},
   "source": [
    "- Out bound 오류 해결 \n",
    "```\n",
    "if refined_x < 0: \n",
    "elif refined_x + img_sticker.shape[1] >= img_orig.shape[1]: \n",
    "```\n",
    "조건문으로 해결\n",
    "![Screenshot from 2021-05-11 17-08-17](https://user-images.githubusercontent.com/60597598/117781370-8b234c80-b27b-11eb-9e9b-42204d5e6b8d.png)"
   ]
  },
  {
   "cell_type": "markdown",
   "id": "02c5436b",
   "metadata": {},
   "source": [
    "- img2sticker 메소드 detector_hog 피라미드 수 0에서 1로 변경\n",
    "![Screenshot from 2021-05-11 17-12-06](https://user-images.githubusercontent.com/60597598/117782690-d38f3a00-b27c-11eb-8edb-47162a036e9b.png)\n"
   ]
  },
  {
   "cell_type": "markdown",
   "id": "394d85be",
   "metadata": {},
   "source": [
    "## 루브릭\n",
    "1. 웹캠을 통한 스티커앱을 실행하고 다각도로 문제점을 분석하여 보았다.\n",
    "- 거리, 인원수, 각도 등 다양한 측면에서의 문제점과 기술적 대안을 정리하였다.  \n",
    "- moviepy의 장점은 opencv보다 약 2배 빠르다는 것이다. 단점은 범용성이 적다. opencv는 python 말고도 c,c++, 자바, 매트랩, OCTAVE에서도 쓸수 있지만 moviepy는 파이썬에서만 사용가능하다.\n",
    "---\n",
    "2. 스티커앱 초기버전이 가진 예외사항들을 분석하여 수정하였다.\n",
    "- 프레임 좌표범위 예외처리 관련 오류를 수정하였다.\n",
    "  \n",
    "\n",
    "---\n",
    "3. 칼만 필터를 웹캠 스티커앱에 적용하여 스티커의 안정성을 높여 보았다.  \n",
    "- 칼만 필터를 적용한 스티커앱을 작성하여 실행해 보고 안정성 여부를 확인하였다."
   ]
  },
  {
   "cell_type": "code",
   "execution_count": null,
   "id": "93546349",
   "metadata": {},
   "outputs": [],
   "source": []
  }
 ],
 "metadata": {
  "kernelspec": {
   "display_name": "aiffel",
   "language": "python",
   "name": "aiffel"
  },
  "language_info": {
   "codemirror_mode": {
    "name": "ipython",
    "version": 3
   },
   "file_extension": ".py",
   "mimetype": "text/x-python",
   "name": "python",
   "nbconvert_exporter": "python",
   "pygments_lexer": "ipython3",
   "version": "3.7.9"
  }
 },
 "nbformat": 4,
 "nbformat_minor": 5
}
