{
 "cells": [
  {
   "cell_type": "markdown",
   "metadata": {},
   "source": [
    "# [E1]rock_scissor_paper_classifier_sangmin   \n",
    "이 classifier는 사람 손으로 가위바위보 모양을 만든 28x28x3 size 컬러이미지를 가위바위보 중에 무엇인지 분류한다. data_set은 가위 이미지 2400장, 바위 이미지 2400장, 보 이미지 2400장, 총 7200장 이다. train_set은 가위 이미지 200장, 바위 이미지 200장, 보 이미지 200장 총 600장 이다.   \n",
    "이미지 데이터 수집 및 분리는 aiffel_slack에서 다운받은 뒤 각각 이름을 바꿔주고 resize했다. 그리고 전체 이미지 7800장 모두 섞여있다."
   ]
  },
  {
   "cell_type": "markdown",
   "metadata": {},
   "source": [
    "1. 라이브러리 import"
   ]
  },
  {
   "cell_type": "code",
   "execution_count": 3,
   "metadata": {},
   "outputs": [],
   "source": [
    "#딥러닝 라이브러리\n",
    "import tensorflow as tf\n",
    "from tensorflow import keras\n",
    "#행렬\n",
    "import numpy as np\n",
    "#파일 업로드\n",
    "import os, glob\n",
    "#그래프, 이미지 보기\n",
    "import matplotlib.pyplot as plt\n",
    "from PIL import Image"
   ]
  },
  {
   "cell_type": "markdown",
   "metadata": {},
   "source": [
    "2. train_dataset과 test_dataset을 불러오기 및 라벨링 함수 설계 \n",
    "총 *7200*개의 train_dataset과 *600*개의 test_dataset을 폴더에서 불러와서 numpy 행렬에 저장한다. 이미지 사이즈는 28x28x3 이다. 그리고 가위는 0, 바위는 1, 보는 2로 라벨링한다."
   ]
  },
  {
   "cell_type": "code",
   "execution_count": 7,
   "metadata": {},
   "outputs": [],
   "source": [
    "def load_data(img_path):\n",
    "    # 가위 : 0, 바위 : 1, 보 : 2\n",
    "    number_of_data=7200   # 가위바위보 이미지 개수 총합에 주의하세요.\n",
    "    img_size=28\n",
    "    color=3\n",
    "    #이미지 데이터와 라벨(가위 : 0, 바위 : 1, 보 : 2) 데이터를 담을 행렬(matrix) 영역을 생성합니다.\n",
    "    imgs=np.zeros(number_of_data*img_size*img_size*color,dtype=np.int32).reshape(number_of_data,img_size,img_size,color)\n",
    "    labels=np.zeros(number_of_data,dtype=np.int32)\n",
    "\n",
    "    idx=0\n",
    "    for file in glob.iglob(img_path+'/scissor/*.jpg'):\n",
    "        img = np.array(Image.open(file),dtype=np.int32)\n",
    "        imgs[idx,:,:,:]=img    # 데이터 영역에 이미지 행렬을 복사\n",
    "        labels[idx]=0   # 가위 : 0\n",
    "        idx=idx+1\n",
    "\n",
    "    for file in glob.iglob(img_path+'/rock/*.jpg'):\n",
    "        img = np.array(Image.open(file),dtype=np.int32)\n",
    "        imgs[idx,:,:,:]=img    # 데이터 영역에 이미지 행렬을 복사\n",
    "        labels[idx]=1   # 바위 : 1\n",
    "        idx=idx+1       \n",
    "    \n",
    "    for file in glob.iglob(img_path+'/paper/*.jpg'):\n",
    "        img = np.array(Image.open(file),dtype=np.int32)\n",
    "        imgs[idx,:,:,:]=img    # 데이터 영역에 이미지 행렬을 복사\n",
    "        labels[idx]=2   # 보 : 2\n",
    "        idx=idx+1\n",
    "        \n",
    "    print(\"학습데이터(x_train)의 이미지 개수는\",idx,\"입니다.\")\n",
    "    return imgs, labels\n",
    "\n",
    "def test_load_data(img_path):\n",
    "    # 가위 : 0, 바위 : 1, 보 : 2\n",
    "    number_of_data=600   # 가위바위보 이미지 개수 총합에 주의하세요.\n",
    "    img_size=28\n",
    "    color=3\n",
    "    #이미지 데이터와 라벨(가위 : 0, 바위 : 1, 보 : 2) 데이터를 담을 행렬(matrix) 영역을 생성합니다.\n",
    "    imgs=np.zeros(number_of_data*img_size*img_size*color,dtype=np.int32).reshape(number_of_data,img_size,img_size,color)\n",
    "    labels=np.zeros(number_of_data,dtype=np.int32)\n",
    "\n",
    "    idx=0\n",
    "    for file in glob.iglob(img_path+'/scissor/*.jpg'):\n",
    "        img = np.array(Image.open(file),dtype=np.int32)\n",
    "        imgs[idx,:,:,:]=img    # 데이터 영역에 이미지 행렬을 복사\n",
    "        labels[idx]=0   # 가위 : 0\n",
    "        idx=idx+1\n",
    "\n",
    "    for file in glob.iglob(img_path+'/rock/*.jpg'):\n",
    "        img = np.array(Image.open(file),dtype=np.int32)\n",
    "        imgs[idx,:,:,:]=img    # 데이터 영역에 이미지 행렬을 복사\n",
    "        labels[idx]=1   # 바위 : 1\n",
    "        idx=idx+1       \n",
    "    \n",
    "    for file in glob.iglob(img_path+'/paper/*.jpg'):\n",
    "        img = np.array(Image.open(file),dtype=np.int32)\n",
    "        imgs[idx,:,:,:]=img    # 데이터 영역에 이미지 행렬을 복사\n",
    "        labels[idx]=2   # 보 : 2\n",
    "        idx=idx+1\n",
    "        \n",
    "    print(\"학습데이터(x_test)의 이미지 개수는\",idx,\"입니다.\")\n",
    "    return imgs, labels"
   ]
  },
  {
   "cell_type": "markdown",
   "metadata": {},
   "source": [
    "3. 이미지 확인   \n",
    "train_dataset 라벨링 함수를 실행하고 이미지를 잘 가져왔는지 plt라이브러리를 활용하여 확인한다."
   ]
  },
  {
   "cell_type": "code",
   "execution_count": 10,
   "metadata": {},
   "outputs": [
    {
     "name": "stdout",
     "output_type": "stream",
     "text": [
      "학습데이터(x_train)의 이미지 개수는 7200 입니다.\n",
      "label = 1\n"
     ]
    },
    {
     "data": {
      "image/png": "[encoded data removed]",
      "text/plain": [
       "<Figure size 432x288 with 1 Axes>"
      ]
     },
     "metadata": {
      "needs_background": "light"
     },
     "output_type": "display_data"
    }
   ],
   "source": [
    "image_dir_path = os.getenv(\"HOME\") + \"/aiffel/rock_scissor_paper\"\n",
    "(x_train, y_train)=load_data(image_dir_path)\n",
    "\n",
    "plt.imshow(x_train[2400])\n",
    "print(\"label =\", y_train[2400])"
   ]
  },
  {
   "cell_type": "markdown",
   "metadata": {},
   "source": [
    "4. 정규화   \n",
    "test_dataset 라벨링 함수를 실행하고 train_dataset과 test_dataset 데이터 값을 255로 전부 나누어 정규화한다"
   ]
  },
  {
   "cell_type": "code",
   "execution_count": 11,
   "metadata": {},
   "outputs": [
    {
     "name": "stdout",
     "output_type": "stream",
     "text": [
      "학습데이터(x_test)의 이미지 개수는 600 입니다.\n"
     ]
    }
   ],
   "source": [
    "x_train_norm = x_train/255.0   # 입력은 0~1 사이의 값으로 정규화\n",
    "\n",
    "\n",
    "test_image_dir_path = os.getenv(\"HOME\") + \"/aiffel/rock_scissor_paper_test\"\n",
    "(x_test, y_test)=test_load_data(test_image_dir_path)\n",
    "x_test_norm = x_test/255.0   # 입력은 0~1 사이의 값으로 정규화"
   ]
  },
  {
   "cell_type": "markdown",
   "metadata": {},
   "source": [
    "5. 모델 설계   \n",
    "구글링 해보니 channel을 3개 써서 점차 증가하는 수를 넣어 주는 것이 보편적이였다. channel을 2개 쓰는 것보다 3개 쓰는 것이 결과가 좋았다. 그리고 dense 값은 20 ~ 512 사이의 값을 바꿔가며 줘봤지만 30일 때 결과가 좋았다. n_train_epoch은 20,30,50으로 해봤는데 50은 너무 오버피팅 되는 느낌이고 30이 적당했다. batch_size는 원래 기본 32로 돼있는데 이를 8로 낮추어 한번에 많이 넣었다. train_dataset이 좀 적다고 느껴져 8로 낮추었다. softmax dense 값은 가위, 바위, 보 3가지를 분류하는 것이기때문에 3을 넣어줘야 한다."
   ]
  },
  {
   "cell_type": "code",
   "execution_count": 12,
   "metadata": {},
   "outputs": [
    {
     "name": "stdout",
     "output_type": "stream",
     "text": [
      "Model: \"sequential\"\n",
      "_________________________________________________________________\n",
      "Layer (type)                 Output Shape              Param #   \n",
      "=================================================================\n",
      "conv2d (Conv2D)              (None, 26, 26, 32)        896       \n",
      "_________________________________________________________________\n",
      "max_pooling2d (MaxPooling2D) (None, 13, 13, 32)        0         \n",
      "_________________________________________________________________\n",
      "conv2d_1 (Conv2D)            (None, 11, 11, 64)        18496     \n",
      "_________________________________________________________________\n",
      "max_pooling2d_1 (MaxPooling2 (None, 5, 5, 64)          0         \n",
      "_________________________________________________________________\n",
      "conv2d_2 (Conv2D)            (None, 3, 3, 128)         73856     \n",
      "_________________________________________________________________\n",
      "max_pooling2d_2 (MaxPooling2 (None, 1, 1, 128)         0         \n",
      "_________________________________________________________________\n",
      "flatten (Flatten)            (None, 128)               0         \n",
      "_________________________________________________________________\n",
      "dense (Dense)                (None, 30)                3870      \n",
      "_________________________________________________________________\n",
      "dense_1 (Dense)              (None, 3)                 93        \n",
      "=================================================================\n",
      "Total params: 97,211\n",
      "Trainable params: 97,211\n",
      "Non-trainable params: 0\n",
      "_________________________________________________________________\n"
     ]
    }
   ],
   "source": [
    "#바꿔 볼 수 있는 하이퍼파라미터들\n",
    "n_channel_1 = 32\n",
    "n_channel_2 = 64\n",
    "n_channel_3 = 128\n",
    "n_dense = 30\n",
    "n_train_epoch = 30\n",
    "n_train_batch_size = 8\n",
    "\n",
    "model=keras.models.Sequential()\n",
    "model.add(keras.layers.Conv2D(n_channel_1, (3,3), activation='relu', input_shape=(28,28,3)))\n",
    "model.add(keras.layers.MaxPool2D(2,2))\n",
    "model.add(keras.layers.Conv2D(n_channel_2, (3,3), activation='relu'))\n",
    "model.add(keras.layers.MaxPooling2D((2,2)))\n",
    "model.add(keras.layers.Conv2D(n_channel_3, (3,3), activation='relu'))\n",
    "model.add(keras.layers.MaxPooling2D((2,2)))\n",
    "model.add(keras.layers.Flatten())\n",
    "model.add(keras.layers.Dense(n_dense, activation='relu'))\n",
    "model.add(keras.layers.Dense(3, activation='softmax'))\n",
    "\n",
    "model.summary()"
   ]
  },
  {
   "cell_type": "markdown",
   "metadata": {},
   "source": [
    "6. 모델 학습   \n",
    "epochs 30, batch_size 8 로 지정해주고 학습 시켰다."
   ]
  },
  {
   "cell_type": "code",
   "execution_count": 14,
   "metadata": {},
   "outputs": [
    {
     "name": "stdout",
     "output_type": "stream",
     "text": [
      "Epoch 1/30\n",
      "900/900 [==============================] - 3s 3ms/step - loss: 0.9806 - accuracy: 0.4687\n",
      "Epoch 2/30\n",
      "900/900 [==============================] - 3s 3ms/step - loss: 0.4656 - accuracy: 0.8149\n",
      "Epoch 3/30\n",
      "900/900 [==============================] - 3s 3ms/step - loss: 0.2278 - accuracy: 0.9176\n",
      "Epoch 4/30\n",
      "900/900 [==============================] - 3s 3ms/step - loss: 0.1333 - accuracy: 0.9550\n",
      "Epoch 5/30\n",
      "900/900 [==============================] - 3s 3ms/step - loss: 0.1079 - accuracy: 0.9631\n",
      "Epoch 6/30\n",
      "900/900 [==============================] - 3s 3ms/step - loss: 0.0798 - accuracy: 0.9715\n",
      "Epoch 7/30\n",
      "900/900 [==============================] - 3s 3ms/step - loss: 0.0513 - accuracy: 0.9822\n",
      "Epoch 8/30\n",
      "900/900 [==============================] - 3s 3ms/step - loss: 0.0595 - accuracy: 0.9808\n",
      "Epoch 9/30\n",
      "900/900 [==============================] - 3s 3ms/step - loss: 0.0536 - accuracy: 0.9834\n",
      "Epoch 10/30\n",
      "900/900 [==============================] - 3s 3ms/step - loss: 0.0262 - accuracy: 0.9906\n",
      "Epoch 11/30\n",
      "900/900 [==============================] - 3s 3ms/step - loss: 0.0189 - accuracy: 0.9937\n",
      "Epoch 12/30\n",
      "900/900 [==============================] - 3s 3ms/step - loss: 0.0753 - accuracy: 0.9762\n",
      "Epoch 13/30\n",
      "900/900 [==============================] - 3s 3ms/step - loss: 0.0308 - accuracy: 0.9915\n",
      "Epoch 14/30\n",
      "900/900 [==============================] - 3s 3ms/step - loss: 0.0161 - accuracy: 0.9955\n",
      "Epoch 15/30\n",
      "900/900 [==============================] - 3s 3ms/step - loss: 0.0087 - accuracy: 0.9972\n",
      "Epoch 16/30\n",
      "900/900 [==============================] - 3s 3ms/step - loss: 0.0539 - accuracy: 0.9821\n",
      "Epoch 17/30\n",
      "900/900 [==============================] - 3s 3ms/step - loss: 0.0206 - accuracy: 0.9938\n",
      "Epoch 18/30\n",
      "900/900 [==============================] - 3s 3ms/step - loss: 0.0126 - accuracy: 0.9949\n",
      "Epoch 19/30\n",
      "900/900 [==============================] - 3s 3ms/step - loss: 0.0366 - accuracy: 0.9903\n",
      "Epoch 20/30\n",
      "900/900 [==============================] - 3s 3ms/step - loss: 0.0064 - accuracy: 0.9984\n",
      "Epoch 21/30\n",
      "900/900 [==============================] - 3s 3ms/step - loss: 0.0325 - accuracy: 0.9892\n",
      "Epoch 22/30\n",
      "900/900 [==============================] - 3s 3ms/step - loss: 0.0042 - accuracy: 0.9991\n",
      "Epoch 23/30\n",
      "900/900 [==============================] - 3s 3ms/step - loss: 0.0313 - accuracy: 0.9897\n",
      "Epoch 24/30\n",
      "900/900 [==============================] - 3s 3ms/step - loss: 0.0081 - accuracy: 0.9982\n",
      "Epoch 25/30\n",
      "900/900 [==============================] - 3s 3ms/step - loss: 0.0154 - accuracy: 0.9951\n",
      "Epoch 26/30\n",
      "900/900 [==============================] - 3s 3ms/step - loss: 0.0248 - accuracy: 0.9918\n",
      "Epoch 27/30\n",
      "900/900 [==============================] - 3s 3ms/step - loss: 0.0065 - accuracy: 0.9987\n",
      "Epoch 28/30\n",
      "900/900 [==============================] - 3s 3ms/step - loss: 0.0302 - accuracy: 0.9909\n",
      "Epoch 29/30\n",
      "900/900 [==============================] - 3s 3ms/step - loss: 0.0014 - accuracy: 0.9997\n",
      "Epoch 30/30\n",
      "900/900 [==============================] - 3s 3ms/step - loss: 5.8460e-04 - accuracy: 0.9999\n"
     ]
    },
    {
     "data": {
      "text/plain": [
       "<tensorflow.python.keras.callbacks.History at 0x7f3e41329250>"
      ]
     },
     "execution_count": 14,
     "metadata": {},
     "output_type": "execute_result"
    }
   ],
   "source": [
    "model.compile(optimizer='adam',\n",
    "             loss='sparse_categorical_crossentropy',\n",
    "             metrics=['accuracy'])\n",
    "model.fit(x_train_norm, y_train, epochs = n_train_epoch, batch_size = n_train_batch_size)"
   ]
  },
  {
   "cell_type": "markdown",
   "metadata": {},
   "source": [
    "7. 모델 테스트   \n",
    "모델 테스트를 하고 결과 값을 출력했다."
   ]
  },
  {
   "cell_type": "code",
   "execution_count": 15,
   "metadata": {},
   "outputs": [
    {
     "name": "stdout",
     "output_type": "stream",
     "text": [
      "19/19 - 0s - loss: 0.5789 - accuracy: 0.9100\n",
      "test_loss: 0.5788967609405518 \n",
      "test_accuracy: 0.9100000262260437\n",
      "x_train shape: (7200, 28, 28, 3)\n"
     ]
    }
   ],
   "source": [
    "test_loss, test_accuracy = model.evaluate(x_test_norm,y_test, verbose=2)\n",
    "print(\"test_loss: {} \".format(test_loss))\n",
    "print(\"test_accuracy: {}\".format(test_accuracy))\n",
    "print(\"x_train shape: {}\".format(x_train.shape))"
   ]
  },
  {
   "cell_type": "markdown",
   "metadata": {},
   "source": [
    "8. 결론 : 정확도 91%, 손실함수 0.5789"
   ]
  },
  {
   "cell_type": "markdown",
   "metadata": {},
   "source": [
    "# 후기   \n",
    "처음에 코드를 실행했을 때, 정확도는 50%는 정도였는데 loss값이 보통 300을 넘고 최소 88이였다.그래서 이미지도 더 다운받고 라벨링하고, n_channel_1, n_channel_2, n_channel_3, n_dense, n_train_epoch, n_train_batch_size 값만 주구장창 바꾸다가 soft max값이 10으로 돼어있다는 것을 5시간 만에 알고 3으로 바꿨다. 그래도 인식률만 10%정도 오르고 그대로였다. 그래서 포기하고 숙제 제출하려고 글쓰는 와중에, test_loss, test_accuracy = model.evaluate(x_test_norm,y_test, verbose=2) 이부분에 정규화 값을 안넣고 정규화 안된 값ㅠ 넣엏다는 것을 알아차렸다. 결국 다 고치고 나니 결과값이 매우 좋아서 만족했다ㅠㅠ"
   ]
  },
  {
   "cell_type": "code",
   "execution_count": null,
   "metadata": {},
   "outputs": [],
   "source": []
  }
 ],
 "metadata": {
  "kernelspec": {
   "display_name": "Python 3",
   "language": "python",
   "name": "python3"
  },
  "language_info": {
   "codemirror_mode": {
    "name": "ipython",
    "version": 3
   },
   "file_extension": ".py",
   "mimetype": "text/x-python",
   "name": "python",
   "nbconvert_exporter": "python",
   "pygments_lexer": "ipython3",
   "version": "3.7.6"
  }
 },
 "nbformat": 4,
 "nbformat_minor": 4
}
